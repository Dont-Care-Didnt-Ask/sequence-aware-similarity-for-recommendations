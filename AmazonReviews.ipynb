{
 "cells": [
  {
   "cell_type": "code",
   "execution_count": 1,
   "id": "d5045670-984e-4278-b461-35722dc083ad",
   "metadata": {},
   "outputs": [],
   "source": [
    "%load_ext autoreload\n",
    "%autoreload 2\n",
    "\n",
    "import numpy as np\n",
    "import pandas as pd\n",
    "import matplotlib.pyplot as plt\n",
    "\n",
    "from data_preprocessing import timepoint_split, transform_indices, reindex_data, generate_ranks\n",
    "from pure_svd import build_svd_model, svd_scoring, svd_gridsearch\n",
    "from knn import uknn_scoring, uknn_gridsearch, build_uknn_model\n",
    "from evaluation import model_evaluate, topn_recommendations\n",
    "\n",
    "%config InlineBackend.figure_format = \"svg\"\n",
    "plt.rcParams[\"figure.figsize\"] = 10, 6"
   ]
  },
  {
   "cell_type": "markdown",
   "id": "35f98071-4f36-4afc-961e-80a2a32f91a6",
   "metadata": {},
   "source": [
    "## Amazon-reviews"
   ]
  },
  {
   "cell_type": "code",
   "execution_count": 2,
   "id": "6c4e7fc7-37a5-440d-97cf-701c863bacc5",
   "metadata": {},
   "outputs": [],
   "source": [
    "# !mkdir -p data/amazon_reviews\n",
    "# !wget https://jmcauley.ucsd.edu/data/amazon_v2/categoryFilesSmall/Grocery_and_Gourmet_Food.csv --no-check-certificate\n",
    "# !mv Grocery_and_Gourmet_Food.csv data/amazon_reviews"
   ]
  },
  {
   "cell_type": "code",
   "execution_count": 3,
   "id": "eaa53ec9-b7de-4a38-968f-50223d5a2037",
   "metadata": {},
   "outputs": [],
   "source": [
    "reviews = pd.read_csv(\"data/amazon_reviews/Grocery_and_Gourmet_Food.csv\", names=[\"userid\", \"itemid\", \"rating\", \"timestamp\"])"
   ]
  },
  {
   "cell_type": "code",
   "execution_count": 4,
   "id": "1f853d1a-1c27-4fab-9f62-bd9f0b8cf830",
   "metadata": {},
   "outputs": [
    {
     "data": {
      "text/plain": [
       "5074160"
      ]
     },
     "execution_count": 4,
     "metadata": {},
     "output_type": "execute_result"
    }
   ],
   "source": [
    "len(reviews)"
   ]
  },
  {
   "cell_type": "code",
   "execution_count": 5,
   "id": "e99fb8b6-6baa-4800-a6dd-828a057eb545",
   "metadata": {},
   "outputs": [
    {
     "data": {
      "text/plain": [
       "userid        283507\n",
       "itemid       2695974\n",
       "rating             5\n",
       "timestamp       5221\n",
       "dtype: int64"
      ]
     },
     "execution_count": 5,
     "metadata": {},
     "output_type": "execute_result"
    }
   ],
   "source": [
    "reviews.nunique()"
   ]
  },
  {
   "cell_type": "code",
   "execution_count": 6,
   "id": "4f83d1e3-5b7d-4752-a752-ce020f115f42",
   "metadata": {},
   "outputs": [],
   "source": [
    "# K-core filtering\n",
    "\n",
    "k_filter = 20\n",
    "\n",
    "n_interactions = reviews.groupby(\"userid\").size()\n",
    "enough = n_interactions[n_interactions > k_filter].index\n",
    "reviews = reviews[reviews.userid.isin(enough)]\n",
    "\n",
    "n_interactions = reviews.groupby(\"itemid\").size()\n",
    "enough = n_interactions[n_interactions > k_filter].index\n",
    "reviews = reviews[reviews.itemid.isin(enough)]"
   ]
  },
  {
   "cell_type": "code",
   "execution_count": 7,
   "id": "45a3f316-33c4-4245-8cdb-0d3f5b5d2c27",
   "metadata": {},
   "outputs": [
    {
     "data": {
      "text/plain": [
       "0.193212"
      ]
     },
     "execution_count": 7,
     "metadata": {},
     "output_type": "execute_result"
    }
   ],
   "source": [
    "len(reviews) / 1e6"
   ]
  },
  {
   "cell_type": "code",
   "execution_count": 8,
   "id": "be255472-b315-4d0b-a391-d4e23b56f101",
   "metadata": {},
   "outputs": [
    {
     "data": {
      "image/svg+xml": "<?xml version=\"1.0\" encoding=\"utf-8\" standalone=\"no\"?>\n<!DOCTYPE svg PUBLIC \"-//W3C//DTD SVG 1.1//EN\"\n  \"http://www.w3.org/Graphics/SVG/1.1/DTD/svg11.dtd\">\n<svg xmlns:xlink=\"http://www.w3.org/1999/xlink\" width=\"597pt\" height=\"378.83625pt\" viewBox=\"0 0 597 378.83625\" xmlns=\"http://www.w3.org/2000/svg\" version=\"1.1\">\n <metadata>\n  <rdf:RDF xmlns:dc=\"http://purl.org/dc/elements/1.1/\" xmlns:cc=\"http://creativecommons.org/ns#\" xmlns:rdf=\"http://www.w3.org/1999/02/22-rdf-syntax-ns#\">\n   <cc:Work>\n    <dc:type rdf:resource=\"http://purl.org/dc/dcmitype/StillImage\"/>\n    <dc:date>2023-03-25T11:36:28.309168</dc:date>\n    <dc:format>image/svg+xml</dc:format>\n    <dc:creator>\n     <cc:Agent>\n      <dc:title>Matplotlib v3.7.0, https://matplotlib.org/</dc:title>\n     </cc:Agent>\n    </dc:creator>\n   </cc:Work>\n  </rdf:RDF>\n </metadata>\n <defs>\n  <style type=\"text/css\">*{stroke-linejoin: round; stroke-linecap: butt}</style>\n </defs>\n <g id=\"figure_1\">\n  <g id=\"patch_1\">\n   <path d=\"M 0 378.83625 \nL 597 378.83625 \nL 597 0 \nL 0 0 \nz\n\" style=\"fill: #ffffff\"/>\n  </g>\n  <g id=\"axes_1\">\n   <g id=\"patch_2\">\n    <path d=\"M 31.8 354.958125 \nL 589.8 354.958125 \nL 589.8 22.318125 \nL 31.8 22.318125 \nz\n\" style=\"fill: #ffffff\"/>\n   </g>\n   <g id=\"patch_3\">\n    <path d=\"M 57.163636 68907.578778 \nL 67.309091 68907.578778 \nL 67.309091 37.438125 \nL 57.163636 37.438125 \nz\n\" clip-path=\"url(#p8b373afe5c)\" style=\"fill: #1f77b4\"/>\n   </g>\n   <g id=\"patch_4\">\n    <path d=\"M 67.309091 68907.578778 \nL 77.454545 68907.578778 \nL 77.454545 123.338448 \nL 67.309091 123.338448 \nz\n\" clip-path=\"url(#p8b373afe5c)\" style=\"fill: #1f77b4\"/>\n   </g>\n   <g id=\"patch_5\">\n    <path d=\"M 77.454545 68907.578778 \nL 87.6 68907.578778 \nL 87.6 157.649808 \nL 77.454545 157.649808 \nz\n\" clip-path=\"url(#p8b373afe5c)\" style=\"fill: #1f77b4\"/>\n   </g>\n   <g id=\"patch_6\">\n    <path d=\"M 87.6 68907.578778 \nL 97.745455 68907.578778 \nL 97.745455 177.13291 \nL 87.6 177.13291 \nz\n\" clip-path=\"url(#p8b373afe5c)\" style=\"fill: #1f77b4\"/>\n   </g>\n   <g id=\"patch_7\">\n    <path d=\"M 97.745455 68907.578778 \nL 107.890909 68907.578778 \nL 107.890909 202.112949 \nL 97.745455 202.112949 \nz\n\" clip-path=\"url(#p8b373afe5c)\" style=\"fill: #1f77b4\"/>\n   </g>\n   <g id=\"patch_8\">\n    <path d=\"M 107.890909 68907.578778 \nL 118.036364 68907.578778 \nL 118.036364 208.612233 \nL 107.890909 208.612233 \nz\n\" clip-path=\"url(#p8b373afe5c)\" style=\"fill: #1f77b4\"/>\n   </g>\n   <g id=\"patch_9\">\n    <path d=\"M 118.036364 68907.578778 \nL 128.181818 68907.578778 \nL 128.181818 237.578823 \nL 118.036364 237.578823 \nz\n\" clip-path=\"url(#p8b373afe5c)\" style=\"fill: #1f77b4\"/>\n   </g>\n   <g id=\"patch_10\">\n    <path d=\"M 128.181818 68907.578778 \nL 138.327273 68907.578778 \nL 138.327273 243.984537 \nL 128.181818 243.984537 \nz\n\" clip-path=\"url(#p8b373afe5c)\" style=\"fill: #1f77b4\"/>\n   </g>\n   <g id=\"patch_11\">\n    <path d=\"M 138.327273 68907.578778 \nL 148.472727 68907.578778 \nL 148.472727 241.692746 \nL 138.327273 241.692746 \nz\n\" clip-path=\"url(#p8b373afe5c)\" style=\"fill: #1f77b4\"/>\n   </g>\n   <g id=\"patch_12\">\n    <path d=\"M 148.472727 68907.578778 \nL 158.618182 68907.578778 \nL 158.618182 255.469022 \nL 148.472727 255.469022 \nz\n\" clip-path=\"url(#p8b373afe5c)\" style=\"fill: #1f77b4\"/>\n   </g>\n   <g id=\"patch_13\">\n    <path d=\"M 158.618182 68907.578778 \nL 168.763636 68907.578778 \nL 168.763636 268.432181 \nL 158.618182 268.432181 \nz\n\" clip-path=\"url(#p8b373afe5c)\" style=\"fill: #1f77b4\"/>\n   </g>\n   <g id=\"patch_14\">\n    <path d=\"M 168.763636 68907.578778 \nL 178.909091 68907.578778 \nL 178.909091 268.432181 \nL 168.763636 268.432181 \nz\n\" clip-path=\"url(#p8b373afe5c)\" style=\"fill: #1f77b4\"/>\n   </g>\n   <g id=\"patch_15\">\n    <path d=\"M 178.909091 68907.578778 \nL 189.054545 68907.578778 \nL 189.054545 291.911331 \nL 178.909091 291.911331 \nz\n\" clip-path=\"url(#p8b373afe5c)\" style=\"fill: #1f77b4\"/>\n   </g>\n   <g id=\"patch_16\">\n    <path d=\"M 189.054545 68907.578778 \nL 199.2 68907.578778 \nL 199.2 291.911331 \nL 189.054545 291.911331 \nz\n\" clip-path=\"url(#p8b373afe5c)\" style=\"fill: #1f77b4\"/>\n   </g>\n   <g id=\"patch_17\">\n    <path d=\"M 199.2 68907.578778 \nL 209.345455 68907.578778 \nL 209.345455 298.556232 \nL 199.2 298.556232 \nz\n\" clip-path=\"url(#p8b373afe5c)\" style=\"fill: #1f77b4\"/>\n   </g>\n   <g id=\"patch_18\">\n    <path d=\"M 209.345455 68907.578778 \nL 219.490909 68907.578778 \nL 219.490909 298.556232 \nL 209.345455 298.556232 \nz\n\" clip-path=\"url(#p8b373afe5c)\" style=\"fill: #1f77b4\"/>\n   </g>\n   <g id=\"patch_19\">\n    <path d=\"M 219.490909 68907.578778 \nL 229.636364 68907.578778 \nL 229.636364 307.122999 \nL 219.490909 307.122999 \nz\n\" clip-path=\"url(#p8b373afe5c)\" style=\"fill: #1f77b4\"/>\n   </g>\n   <g id=\"patch_20\">\n    <path d=\"M 229.636364 68907.578778 \nL 239.781818 68907.578778 \nL 239.781818 339.838125 \nL 229.636364 339.838125 \nz\n\" clip-path=\"url(#p8b373afe5c)\" style=\"fill: #1f77b4\"/>\n   </g>\n   <g id=\"patch_21\">\n    <path d=\"M 239.781818 68907.578778 \nL 249.927273 68907.578778 \nL 249.927273 68907.578778 \nL 239.781818 68907.578778 \nz\n\" clip-path=\"url(#p8b373afe5c)\" style=\"fill: #1f77b4\"/>\n   </g>\n   <g id=\"patch_22\">\n    <path d=\"M 249.927273 68907.578778 \nL 260.072727 68907.578778 \nL 260.072727 339.838125 \nL 249.927273 339.838125 \nz\n\" clip-path=\"url(#p8b373afe5c)\" style=\"fill: #1f77b4\"/>\n   </g>\n   <g id=\"patch_23\">\n    <path d=\"M 260.072727 68907.578778 \nL 270.218182 68907.578778 \nL 270.218182 319.197178 \nL 260.072727 319.197178 \nz\n\" clip-path=\"url(#p8b373afe5c)\" style=\"fill: #1f77b4\"/>\n   </g>\n   <g id=\"patch_24\">\n    <path d=\"M 270.218182 68907.578778 \nL 280.363636 68907.578778 \nL 280.363636 68907.578778 \nL 270.218182 68907.578778 \nz\n\" clip-path=\"url(#p8b373afe5c)\" style=\"fill: #1f77b4\"/>\n   </g>\n   <g id=\"patch_25\">\n    <path d=\"M 280.363636 68907.578778 \nL 290.509091 68907.578778 \nL 290.509091 339.838125 \nL 280.363636 339.838125 \nz\n\" clip-path=\"url(#p8b373afe5c)\" style=\"fill: #1f77b4\"/>\n   </g>\n   <g id=\"patch_26\">\n    <path d=\"M 290.509091 68907.578778 \nL 300.654545 68907.578778 \nL 300.654545 319.197178 \nL 290.509091 319.197178 \nz\n\" clip-path=\"url(#p8b373afe5c)\" style=\"fill: #1f77b4\"/>\n   </g>\n   <g id=\"patch_27\">\n    <path d=\"M 300.654545 68907.578778 \nL 310.8 68907.578778 \nL 310.8 68907.578778 \nL 300.654545 68907.578778 \nz\n\" clip-path=\"url(#p8b373afe5c)\" style=\"fill: #1f77b4\"/>\n   </g>\n   <g id=\"patch_28\">\n    <path d=\"M 310.8 68907.578778 \nL 320.945455 68907.578778 \nL 320.945455 339.838125 \nL 310.8 339.838125 \nz\n\" clip-path=\"url(#p8b373afe5c)\" style=\"fill: #1f77b4\"/>\n   </g>\n   <g id=\"patch_29\">\n    <path d=\"M 320.945455 68907.578778 \nL 331.090909 68907.578778 \nL 331.090909 319.197178 \nL 320.945455 319.197178 \nz\n\" clip-path=\"url(#p8b373afe5c)\" style=\"fill: #1f77b4\"/>\n   </g>\n   <g id=\"patch_30\">\n    <path d=\"M 331.090909 68907.578778 \nL 341.236364 68907.578778 \nL 341.236364 68907.578778 \nL 331.090909 68907.578778 \nz\n\" clip-path=\"url(#p8b373afe5c)\" style=\"fill: #1f77b4\"/>\n   </g>\n   <g id=\"patch_31\">\n    <path d=\"M 341.236364 68907.578778 \nL 351.381818 68907.578778 \nL 351.381818 68907.578778 \nL 341.236364 68907.578778 \nz\n\" clip-path=\"url(#p8b373afe5c)\" style=\"fill: #1f77b4\"/>\n   </g>\n   <g id=\"patch_32\">\n    <path d=\"M 351.381818 68907.578778 \nL 361.527273 68907.578778 \nL 361.527273 68907.578778 \nL 351.381818 68907.578778 \nz\n\" clip-path=\"url(#p8b373afe5c)\" style=\"fill: #1f77b4\"/>\n   </g>\n   <g id=\"patch_33\">\n    <path d=\"M 361.527273 68907.578778 \nL 371.672727 68907.578778 \nL 371.672727 68907.578778 \nL 361.527273 68907.578778 \nz\n\" clip-path=\"url(#p8b373afe5c)\" style=\"fill: #1f77b4\"/>\n   </g>\n   <g id=\"patch_34\">\n    <path d=\"M 371.672727 68907.578778 \nL 381.818182 68907.578778 \nL 381.818182 68907.578778 \nL 371.672727 68907.578778 \nz\n\" clip-path=\"url(#p8b373afe5c)\" style=\"fill: #1f77b4\"/>\n   </g>\n   <g id=\"patch_35\">\n    <path d=\"M 381.818182 68907.578778 \nL 391.963636 68907.578778 \nL 391.963636 68907.578778 \nL 381.818182 68907.578778 \nz\n\" clip-path=\"url(#p8b373afe5c)\" style=\"fill: #1f77b4\"/>\n   </g>\n   <g id=\"patch_36\">\n    <path d=\"M 391.963636 68907.578778 \nL 402.109091 68907.578778 \nL 402.109091 319.197178 \nL 391.963636 319.197178 \nz\n\" clip-path=\"url(#p8b373afe5c)\" style=\"fill: #1f77b4\"/>\n   </g>\n   <g id=\"patch_37\">\n    <path d=\"M 402.109091 68907.578778 \nL 412.254545 68907.578778 \nL 412.254545 68907.578778 \nL 402.109091 68907.578778 \nz\n\" clip-path=\"url(#p8b373afe5c)\" style=\"fill: #1f77b4\"/>\n   </g>\n   <g id=\"patch_38\">\n    <path d=\"M 412.254545 68907.578778 \nL 422.4 68907.578778 \nL 422.4 68907.578778 \nL 412.254545 68907.578778 \nz\n\" clip-path=\"url(#p8b373afe5c)\" style=\"fill: #1f77b4\"/>\n   </g>\n   <g id=\"patch_39\">\n    <path d=\"M 422.4 68907.578778 \nL 432.545455 68907.578778 \nL 432.545455 68907.578778 \nL 422.4 68907.578778 \nz\n\" clip-path=\"url(#p8b373afe5c)\" style=\"fill: #1f77b4\"/>\n   </g>\n   <g id=\"patch_40\">\n    <path d=\"M 432.545455 68907.578778 \nL 442.690909 68907.578778 \nL 442.690909 68907.578778 \nL 432.545455 68907.578778 \nz\n\" clip-path=\"url(#p8b373afe5c)\" style=\"fill: #1f77b4\"/>\n   </g>\n   <g id=\"patch_41\">\n    <path d=\"M 442.690909 68907.578778 \nL 452.836364 68907.578778 \nL 452.836364 319.197178 \nL 442.690909 319.197178 \nz\n\" clip-path=\"url(#p8b373afe5c)\" style=\"fill: #1f77b4\"/>\n   </g>\n   <g id=\"patch_42\">\n    <path d=\"M 452.836364 68907.578778 \nL 462.981818 68907.578778 \nL 462.981818 68907.578778 \nL 452.836364 68907.578778 \nz\n\" clip-path=\"url(#p8b373afe5c)\" style=\"fill: #1f77b4\"/>\n   </g>\n   <g id=\"patch_43\">\n    <path d=\"M 462.981818 68907.578778 \nL 473.127273 68907.578778 \nL 473.127273 68907.578778 \nL 462.981818 68907.578778 \nz\n\" clip-path=\"url(#p8b373afe5c)\" style=\"fill: #1f77b4\"/>\n   </g>\n   <g id=\"patch_44\">\n    <path d=\"M 473.127273 68907.578778 \nL 483.272727 68907.578778 \nL 483.272727 68907.578778 \nL 473.127273 68907.578778 \nz\n\" clip-path=\"url(#p8b373afe5c)\" style=\"fill: #1f77b4\"/>\n   </g>\n   <g id=\"patch_45\">\n    <path d=\"M 483.272727 68907.578778 \nL 493.418182 68907.578778 \nL 493.418182 68907.578778 \nL 483.272727 68907.578778 \nz\n\" clip-path=\"url(#p8b373afe5c)\" style=\"fill: #1f77b4\"/>\n   </g>\n   <g id=\"patch_46\">\n    <path d=\"M 493.418182 68907.578778 \nL 503.563636 68907.578778 \nL 503.563636 68907.578778 \nL 493.418182 68907.578778 \nz\n\" clip-path=\"url(#p8b373afe5c)\" style=\"fill: #1f77b4\"/>\n   </g>\n   <g id=\"patch_47\">\n    <path d=\"M 503.563636 68907.578778 \nL 513.709091 68907.578778 \nL 513.709091 68907.578778 \nL 503.563636 68907.578778 \nz\n\" clip-path=\"url(#p8b373afe5c)\" style=\"fill: #1f77b4\"/>\n   </g>\n   <g id=\"patch_48\">\n    <path d=\"M 513.709091 68907.578778 \nL 523.854545 68907.578778 \nL 523.854545 68907.578778 \nL 513.709091 68907.578778 \nz\n\" clip-path=\"url(#p8b373afe5c)\" style=\"fill: #1f77b4\"/>\n   </g>\n   <g id=\"patch_49\">\n    <path d=\"M 523.854545 68907.578778 \nL 534 68907.578778 \nL 534 68907.578778 \nL 523.854545 68907.578778 \nz\n\" clip-path=\"url(#p8b373afe5c)\" style=\"fill: #1f77b4\"/>\n   </g>\n   <g id=\"patch_50\">\n    <path d=\"M 534 68907.578778 \nL 544.145455 68907.578778 \nL 544.145455 68907.578778 \nL 534 68907.578778 \nz\n\" clip-path=\"url(#p8b373afe5c)\" style=\"fill: #1f77b4\"/>\n   </g>\n   <g id=\"patch_51\">\n    <path d=\"M 544.145455 68907.578778 \nL 554.290909 68907.578778 \nL 554.290909 68907.578778 \nL 544.145455 68907.578778 \nz\n\" clip-path=\"url(#p8b373afe5c)\" style=\"fill: #1f77b4\"/>\n   </g>\n   <g id=\"patch_52\">\n    <path d=\"M 554.290909 68907.578778 \nL 564.436364 68907.578778 \nL 564.436364 339.838125 \nL 554.290909 339.838125 \nz\n\" clip-path=\"url(#p8b373afe5c)\" style=\"fill: #1f77b4\"/>\n   </g>\n   <g id=\"matplotlib.axis_1\">\n    <g id=\"xtick_1\">\n     <g id=\"line2d_1\">\n      <defs>\n       <path id=\"mb49a430923\" d=\"M 0 0 \nL 0 3.5 \n\" style=\"stroke: #000000; stroke-width: 0.8\"/>\n      </defs>\n      <g>\n       <use xlink:href=\"#mb49a430923\" x=\"56.465875\" y=\"354.958125\" style=\"stroke: #000000; stroke-width: 0.8\"/>\n      </g>\n     </g>\n     <g id=\"text_1\">\n      <!-- 0 -->\n      <g transform=\"translate(53.284625 369.556562) scale(0.1 -0.1)\">\n       <defs>\n        <path id=\"DejaVuSans-30\" d=\"M 2034 4250 \nQ 1547 4250 1301 3770 \nQ 1056 3291 1056 2328 \nQ 1056 1369 1301 889 \nQ 1547 409 2034 409 \nQ 2525 409 2770 889 \nQ 3016 1369 3016 2328 \nQ 3016 3291 2770 3770 \nQ 2525 4250 2034 4250 \nz\nM 2034 4750 \nQ 2819 4750 3233 4129 \nQ 3647 3509 3647 2328 \nQ 3647 1150 3233 529 \nQ 2819 -91 2034 -91 \nQ 1250 -91 836 529 \nQ 422 1150 422 2328 \nQ 422 3509 836 4129 \nQ 1250 4750 2034 4750 \nz\n\" transform=\"scale(0.015625)\"/>\n       </defs>\n       <use xlink:href=\"#DejaVuSans-30\"/>\n      </g>\n     </g>\n    </g>\n    <g id=\"xtick_2\">\n     <g id=\"line2d_2\">\n      <g>\n       <use xlink:href=\"#mb49a430923\" x=\"126.242041\" y=\"354.958125\" style=\"stroke: #000000; stroke-width: 0.8\"/>\n      </g>\n     </g>\n     <g id=\"text_2\">\n      <!-- 100 -->\n      <g transform=\"translate(116.698291 369.556562) scale(0.1 -0.1)\">\n       <defs>\n        <path id=\"DejaVuSans-31\" d=\"M 794 531 \nL 1825 531 \nL 1825 4091 \nL 703 3866 \nL 703 4441 \nL 1819 4666 \nL 2450 4666 \nL 2450 531 \nL 3481 531 \nL 3481 0 \nL 794 0 \nL 794 531 \nz\n\" transform=\"scale(0.015625)\"/>\n       </defs>\n       <use xlink:href=\"#DejaVuSans-31\"/>\n       <use xlink:href=\"#DejaVuSans-30\" x=\"63.623047\"/>\n       <use xlink:href=\"#DejaVuSans-30\" x=\"127.246094\"/>\n      </g>\n     </g>\n    </g>\n    <g id=\"xtick_3\">\n     <g id=\"line2d_3\">\n      <g>\n       <use xlink:href=\"#mb49a430923\" x=\"196.018207\" y=\"354.958125\" style=\"stroke: #000000; stroke-width: 0.8\"/>\n      </g>\n     </g>\n     <g id=\"text_3\">\n      <!-- 200 -->\n      <g transform=\"translate(186.474457 369.556562) scale(0.1 -0.1)\">\n       <defs>\n        <path id=\"DejaVuSans-32\" d=\"M 1228 531 \nL 3431 531 \nL 3431 0 \nL 469 0 \nL 469 531 \nQ 828 903 1448 1529 \nQ 2069 2156 2228 2338 \nQ 2531 2678 2651 2914 \nQ 2772 3150 2772 3378 \nQ 2772 3750 2511 3984 \nQ 2250 4219 1831 4219 \nQ 1534 4219 1204 4116 \nQ 875 4013 500 3803 \nL 500 4441 \nQ 881 4594 1212 4672 \nQ 1544 4750 1819 4750 \nQ 2544 4750 2975 4387 \nQ 3406 4025 3406 3419 \nQ 3406 3131 3298 2873 \nQ 3191 2616 2906 2266 \nQ 2828 2175 2409 1742 \nQ 1991 1309 1228 531 \nz\n\" transform=\"scale(0.015625)\"/>\n       </defs>\n       <use xlink:href=\"#DejaVuSans-32\"/>\n       <use xlink:href=\"#DejaVuSans-30\" x=\"63.623047\"/>\n       <use xlink:href=\"#DejaVuSans-30\" x=\"127.246094\"/>\n      </g>\n     </g>\n    </g>\n    <g id=\"xtick_4\">\n     <g id=\"line2d_4\">\n      <g>\n       <use xlink:href=\"#mb49a430923\" x=\"265.794373\" y=\"354.958125\" style=\"stroke: #000000; stroke-width: 0.8\"/>\n      </g>\n     </g>\n     <g id=\"text_4\">\n      <!-- 300 -->\n      <g transform=\"translate(256.250623 369.556562) scale(0.1 -0.1)\">\n       <defs>\n        <path id=\"DejaVuSans-33\" d=\"M 2597 2516 \nQ 3050 2419 3304 2112 \nQ 3559 1806 3559 1356 \nQ 3559 666 3084 287 \nQ 2609 -91 1734 -91 \nQ 1441 -91 1130 -33 \nQ 819 25 488 141 \nL 488 750 \nQ 750 597 1062 519 \nQ 1375 441 1716 441 \nQ 2309 441 2620 675 \nQ 2931 909 2931 1356 \nQ 2931 1769 2642 2001 \nQ 2353 2234 1838 2234 \nL 1294 2234 \nL 1294 2753 \nL 1863 2753 \nQ 2328 2753 2575 2939 \nQ 2822 3125 2822 3475 \nQ 2822 3834 2567 4026 \nQ 2313 4219 1838 4219 \nQ 1578 4219 1281 4162 \nQ 984 4106 628 3988 \nL 628 4550 \nQ 988 4650 1302 4700 \nQ 1616 4750 1894 4750 \nQ 2613 4750 3031 4423 \nQ 3450 4097 3450 3541 \nQ 3450 3153 3228 2886 \nQ 3006 2619 2597 2516 \nz\n\" transform=\"scale(0.015625)\"/>\n       </defs>\n       <use xlink:href=\"#DejaVuSans-33\"/>\n       <use xlink:href=\"#DejaVuSans-30\" x=\"63.623047\"/>\n       <use xlink:href=\"#DejaVuSans-30\" x=\"127.246094\"/>\n      </g>\n     </g>\n    </g>\n    <g id=\"xtick_5\">\n     <g id=\"line2d_5\">\n      <g>\n       <use xlink:href=\"#mb49a430923\" x=\"335.570539\" y=\"354.958125\" style=\"stroke: #000000; stroke-width: 0.8\"/>\n      </g>\n     </g>\n     <g id=\"text_5\">\n      <!-- 400 -->\n      <g transform=\"translate(326.026789 369.556562) scale(0.1 -0.1)\">\n       <defs>\n        <path id=\"DejaVuSans-34\" d=\"M 2419 4116 \nL 825 1625 \nL 2419 1625 \nL 2419 4116 \nz\nM 2253 4666 \nL 3047 4666 \nL 3047 1625 \nL 3713 1625 \nL 3713 1100 \nL 3047 1100 \nL 3047 0 \nL 2419 0 \nL 2419 1100 \nL 313 1100 \nL 313 1709 \nL 2253 4666 \nz\n\" transform=\"scale(0.015625)\"/>\n       </defs>\n       <use xlink:href=\"#DejaVuSans-34\"/>\n       <use xlink:href=\"#DejaVuSans-30\" x=\"63.623047\"/>\n       <use xlink:href=\"#DejaVuSans-30\" x=\"127.246094\"/>\n      </g>\n     </g>\n    </g>\n    <g id=\"xtick_6\">\n     <g id=\"line2d_6\">\n      <g>\n       <use xlink:href=\"#mb49a430923\" x=\"405.346705\" y=\"354.958125\" style=\"stroke: #000000; stroke-width: 0.8\"/>\n      </g>\n     </g>\n     <g id=\"text_6\">\n      <!-- 500 -->\n      <g transform=\"translate(395.802955 369.556562) scale(0.1 -0.1)\">\n       <defs>\n        <path id=\"DejaVuSans-35\" d=\"M 691 4666 \nL 3169 4666 \nL 3169 4134 \nL 1269 4134 \nL 1269 2991 \nQ 1406 3038 1543 3061 \nQ 1681 3084 1819 3084 \nQ 2600 3084 3056 2656 \nQ 3513 2228 3513 1497 \nQ 3513 744 3044 326 \nQ 2575 -91 1722 -91 \nQ 1428 -91 1123 -41 \nQ 819 9 494 109 \nL 494 744 \nQ 775 591 1075 516 \nQ 1375 441 1709 441 \nQ 2250 441 2565 725 \nQ 2881 1009 2881 1497 \nQ 2881 1984 2565 2268 \nQ 2250 2553 1709 2553 \nQ 1456 2553 1204 2497 \nQ 953 2441 691 2322 \nL 691 4666 \nz\n\" transform=\"scale(0.015625)\"/>\n       </defs>\n       <use xlink:href=\"#DejaVuSans-35\"/>\n       <use xlink:href=\"#DejaVuSans-30\" x=\"63.623047\"/>\n       <use xlink:href=\"#DejaVuSans-30\" x=\"127.246094\"/>\n      </g>\n     </g>\n    </g>\n    <g id=\"xtick_7\">\n     <g id=\"line2d_7\">\n      <g>\n       <use xlink:href=\"#mb49a430923\" x=\"475.122871\" y=\"354.958125\" style=\"stroke: #000000; stroke-width: 0.8\"/>\n      </g>\n     </g>\n     <g id=\"text_7\">\n      <!-- 600 -->\n      <g transform=\"translate(465.579121 369.556562) scale(0.1 -0.1)\">\n       <defs>\n        <path id=\"DejaVuSans-36\" d=\"M 2113 2584 \nQ 1688 2584 1439 2293 \nQ 1191 2003 1191 1497 \nQ 1191 994 1439 701 \nQ 1688 409 2113 409 \nQ 2538 409 2786 701 \nQ 3034 994 3034 1497 \nQ 3034 2003 2786 2293 \nQ 2538 2584 2113 2584 \nz\nM 3366 4563 \nL 3366 3988 \nQ 3128 4100 2886 4159 \nQ 2644 4219 2406 4219 \nQ 1781 4219 1451 3797 \nQ 1122 3375 1075 2522 \nQ 1259 2794 1537 2939 \nQ 1816 3084 2150 3084 \nQ 2853 3084 3261 2657 \nQ 3669 2231 3669 1497 \nQ 3669 778 3244 343 \nQ 2819 -91 2113 -91 \nQ 1303 -91 875 529 \nQ 447 1150 447 2328 \nQ 447 3434 972 4092 \nQ 1497 4750 2381 4750 \nQ 2619 4750 2861 4703 \nQ 3103 4656 3366 4563 \nz\n\" transform=\"scale(0.015625)\"/>\n       </defs>\n       <use xlink:href=\"#DejaVuSans-36\"/>\n       <use xlink:href=\"#DejaVuSans-30\" x=\"63.623047\"/>\n       <use xlink:href=\"#DejaVuSans-30\" x=\"127.246094\"/>\n      </g>\n     </g>\n    </g>\n    <g id=\"xtick_8\">\n     <g id=\"line2d_8\">\n      <g>\n       <use xlink:href=\"#mb49a430923\" x=\"544.899037\" y=\"354.958125\" style=\"stroke: #000000; stroke-width: 0.8\"/>\n      </g>\n     </g>\n     <g id=\"text_8\">\n      <!-- 700 -->\n      <g transform=\"translate(535.355287 369.556562) scale(0.1 -0.1)\">\n       <defs>\n        <path id=\"DejaVuSans-37\" d=\"M 525 4666 \nL 3525 4666 \nL 3525 4397 \nL 1831 0 \nL 1172 0 \nL 2766 4134 \nL 525 4134 \nL 525 4666 \nz\n\" transform=\"scale(0.015625)\"/>\n       </defs>\n       <use xlink:href=\"#DejaVuSans-37\"/>\n       <use xlink:href=\"#DejaVuSans-30\" x=\"63.623047\"/>\n       <use xlink:href=\"#DejaVuSans-30\" x=\"127.246094\"/>\n      </g>\n     </g>\n    </g>\n   </g>\n   <g id=\"matplotlib.axis_2\">\n    <g id=\"ytick_1\">\n     <g id=\"line2d_9\">\n      <defs>\n       <path id=\"m5a98625508\" d=\"M 0 0 \nL -3.5 0 \n\" style=\"stroke: #000000; stroke-width: 0.8\"/>\n      </defs>\n      <g>\n       <use xlink:href=\"#m5a98625508\" x=\"31.8\" y=\"339.838125\" style=\"stroke: #000000; stroke-width: 0.8\"/>\n      </g>\n     </g>\n     <g id=\"text_9\">\n      <!-- $\\mathdefault{10^{0}}$ -->\n      <g transform=\"translate(7.2 343.637344) scale(0.1 -0.1)\">\n       <use xlink:href=\"#DejaVuSans-31\" transform=\"translate(0 0.765625)\"/>\n       <use xlink:href=\"#DejaVuSans-30\" transform=\"translate(63.623047 0.765625)\"/>\n       <use xlink:href=\"#DejaVuSans-30\" transform=\"translate(128.203125 39.046875) scale(0.7)\"/>\n      </g>\n     </g>\n    </g>\n    <g id=\"ytick_2\">\n     <g id=\"line2d_10\">\n      <g>\n       <use xlink:href=\"#m5a98625508\" x=\"31.8\" y=\"271.270384\" style=\"stroke: #000000; stroke-width: 0.8\"/>\n      </g>\n     </g>\n     <g id=\"text_10\">\n      <!-- $\\mathdefault{10^{1}}$ -->\n      <g transform=\"translate(7.2 275.069603) scale(0.1 -0.1)\">\n       <use xlink:href=\"#DejaVuSans-31\" transform=\"translate(0 0.684375)\"/>\n       <use xlink:href=\"#DejaVuSans-30\" transform=\"translate(63.623047 0.684375)\"/>\n       <use xlink:href=\"#DejaVuSans-31\" transform=\"translate(128.203125 38.965625) scale(0.7)\"/>\n      </g>\n     </g>\n    </g>\n    <g id=\"ytick_3\">\n     <g id=\"line2d_11\">\n      <g>\n       <use xlink:href=\"#m5a98625508\" x=\"31.8\" y=\"202.702644\" style=\"stroke: #000000; stroke-width: 0.8\"/>\n      </g>\n     </g>\n     <g id=\"text_11\">\n      <!-- $\\mathdefault{10^{2}}$ -->\n      <g transform=\"translate(7.2 206.501862) scale(0.1 -0.1)\">\n       <use xlink:href=\"#DejaVuSans-31\" transform=\"translate(0 0.765625)\"/>\n       <use xlink:href=\"#DejaVuSans-30\" transform=\"translate(63.623047 0.765625)\"/>\n       <use xlink:href=\"#DejaVuSans-32\" transform=\"translate(128.203125 39.046875) scale(0.7)\"/>\n      </g>\n     </g>\n    </g>\n    <g id=\"ytick_4\">\n     <g id=\"line2d_12\">\n      <g>\n       <use xlink:href=\"#m5a98625508\" x=\"31.8\" y=\"134.134903\" style=\"stroke: #000000; stroke-width: 0.8\"/>\n      </g>\n     </g>\n     <g id=\"text_12\">\n      <!-- $\\mathdefault{10^{3}}$ -->\n      <g transform=\"translate(7.2 137.934122) scale(0.1 -0.1)\">\n       <use xlink:href=\"#DejaVuSans-31\" transform=\"translate(0 0.765625)\"/>\n       <use xlink:href=\"#DejaVuSans-30\" transform=\"translate(63.623047 0.765625)\"/>\n       <use xlink:href=\"#DejaVuSans-33\" transform=\"translate(128.203125 39.046875) scale(0.7)\"/>\n      </g>\n     </g>\n    </g>\n    <g id=\"ytick_5\">\n     <g id=\"line2d_13\">\n      <g>\n       <use xlink:href=\"#m5a98625508\" x=\"31.8\" y=\"65.567162\" style=\"stroke: #000000; stroke-width: 0.8\"/>\n      </g>\n     </g>\n     <g id=\"text_13\">\n      <!-- $\\mathdefault{10^{4}}$ -->\n      <g transform=\"translate(7.2 69.366381) scale(0.1 -0.1)\">\n       <use xlink:href=\"#DejaVuSans-31\" transform=\"translate(0 0.684375)\"/>\n       <use xlink:href=\"#DejaVuSans-30\" transform=\"translate(63.623047 0.684375)\"/>\n       <use xlink:href=\"#DejaVuSans-34\" transform=\"translate(128.203125 38.965625) scale(0.7)\"/>\n      </g>\n     </g>\n    </g>\n    <g id=\"ytick_6\">\n     <g id=\"line2d_14\">\n      <defs>\n       <path id=\"m5e57d09c76\" d=\"M 0 0 \nL -2 0 \n\" style=\"stroke: #000000; stroke-width: 0.6\"/>\n      </defs>\n      <g>\n       <use xlink:href=\"#m5e57d09c76\" x=\"31.8\" y=\"350.459402\" style=\"stroke: #000000; stroke-width: 0.6\"/>\n      </g>\n     </g>\n    </g>\n    <g id=\"ytick_7\">\n     <g id=\"line2d_15\">\n      <g>\n       <use xlink:href=\"#m5e57d09c76\" x=\"31.8\" y=\"346.483026\" style=\"stroke: #000000; stroke-width: 0.6\"/>\n      </g>\n     </g>\n    </g>\n    <g id=\"ytick_8\">\n     <g id=\"line2d_16\">\n      <g>\n       <use xlink:href=\"#m5e57d09c76\" x=\"31.8\" y=\"342.975613\" style=\"stroke: #000000; stroke-width: 0.6\"/>\n      </g>\n     </g>\n    </g>\n    <g id=\"ytick_9\">\n     <g id=\"line2d_17\">\n      <g>\n       <use xlink:href=\"#m5e57d09c76\" x=\"31.8\" y=\"319.197178\" style=\"stroke: #000000; stroke-width: 0.6\"/>\n      </g>\n     </g>\n    </g>\n    <g id=\"ytick_10\">\n     <g id=\"line2d_18\">\n      <g>\n       <use xlink:href=\"#m5e57d09c76\" x=\"31.8\" y=\"307.122999\" style=\"stroke: #000000; stroke-width: 0.6\"/>\n      </g>\n     </g>\n    </g>\n    <g id=\"ytick_11\">\n     <g id=\"line2d_19\">\n      <g>\n       <use xlink:href=\"#m5e57d09c76\" x=\"31.8\" y=\"298.556232\" style=\"stroke: #000000; stroke-width: 0.6\"/>\n      </g>\n     </g>\n    </g>\n    <g id=\"ytick_12\">\n     <g id=\"line2d_20\">\n      <g>\n       <use xlink:href=\"#m5e57d09c76\" x=\"31.8\" y=\"291.911331\" style=\"stroke: #000000; stroke-width: 0.6\"/>\n      </g>\n     </g>\n    </g>\n    <g id=\"ytick_13\">\n     <g id=\"line2d_21\">\n      <g>\n       <use xlink:href=\"#m5e57d09c76\" x=\"31.8\" y=\"286.482052\" style=\"stroke: #000000; stroke-width: 0.6\"/>\n      </g>\n     </g>\n    </g>\n    <g id=\"ytick_14\">\n     <g id=\"line2d_22\">\n      <g>\n       <use xlink:href=\"#m5e57d09c76\" x=\"31.8\" y=\"281.891662\" style=\"stroke: #000000; stroke-width: 0.6\"/>\n      </g>\n     </g>\n    </g>\n    <g id=\"ytick_15\">\n     <g id=\"line2d_23\">\n      <g>\n       <use xlink:href=\"#m5e57d09c76\" x=\"31.8\" y=\"277.915285\" style=\"stroke: #000000; stroke-width: 0.6\"/>\n      </g>\n     </g>\n    </g>\n    <g id=\"ytick_16\">\n     <g id=\"line2d_24\">\n      <g>\n       <use xlink:href=\"#m5e57d09c76\" x=\"31.8\" y=\"274.407872\" style=\"stroke: #000000; stroke-width: 0.6\"/>\n      </g>\n     </g>\n    </g>\n    <g id=\"ytick_17\">\n     <g id=\"line2d_25\">\n      <g>\n       <use xlink:href=\"#m5e57d09c76\" x=\"31.8\" y=\"250.629438\" style=\"stroke: #000000; stroke-width: 0.6\"/>\n      </g>\n     </g>\n    </g>\n    <g id=\"ytick_18\">\n     <g id=\"line2d_26\">\n      <g>\n       <use xlink:href=\"#m5e57d09c76\" x=\"31.8\" y=\"238.555258\" style=\"stroke: #000000; stroke-width: 0.6\"/>\n      </g>\n     </g>\n    </g>\n    <g id=\"ytick_19\">\n     <g id=\"line2d_27\">\n      <g>\n       <use xlink:href=\"#m5e57d09c76\" x=\"31.8\" y=\"229.988491\" style=\"stroke: #000000; stroke-width: 0.6\"/>\n      </g>\n     </g>\n    </g>\n    <g id=\"ytick_20\">\n     <g id=\"line2d_28\">\n      <g>\n       <use xlink:href=\"#m5e57d09c76\" x=\"31.8\" y=\"223.34359\" style=\"stroke: #000000; stroke-width: 0.6\"/>\n      </g>\n     </g>\n    </g>\n    <g id=\"ytick_21\">\n     <g id=\"line2d_29\">\n      <g>\n       <use xlink:href=\"#m5e57d09c76\" x=\"31.8\" y=\"217.914311\" style=\"stroke: #000000; stroke-width: 0.6\"/>\n      </g>\n     </g>\n    </g>\n    <g id=\"ytick_22\">\n     <g id=\"line2d_30\">\n      <g>\n       <use xlink:href=\"#m5e57d09c76\" x=\"31.8\" y=\"213.323921\" style=\"stroke: #000000; stroke-width: 0.6\"/>\n      </g>\n     </g>\n    </g>\n    <g id=\"ytick_23\">\n     <g id=\"line2d_31\">\n      <g>\n       <use xlink:href=\"#m5e57d09c76\" x=\"31.8\" y=\"209.347544\" style=\"stroke: #000000; stroke-width: 0.6\"/>\n      </g>\n     </g>\n    </g>\n    <g id=\"ytick_24\">\n     <g id=\"line2d_32\">\n      <g>\n       <use xlink:href=\"#m5e57d09c76\" x=\"31.8\" y=\"205.840131\" style=\"stroke: #000000; stroke-width: 0.6\"/>\n      </g>\n     </g>\n    </g>\n    <g id=\"ytick_25\">\n     <g id=\"line2d_33\">\n      <g>\n       <use xlink:href=\"#m5e57d09c76\" x=\"31.8\" y=\"182.061697\" style=\"stroke: #000000; stroke-width: 0.6\"/>\n      </g>\n     </g>\n    </g>\n    <g id=\"ytick_26\">\n     <g id=\"line2d_34\">\n      <g>\n       <use xlink:href=\"#m5e57d09c76\" x=\"31.8\" y=\"169.987517\" style=\"stroke: #000000; stroke-width: 0.6\"/>\n      </g>\n     </g>\n    </g>\n    <g id=\"ytick_27\">\n     <g id=\"line2d_35\">\n      <g>\n       <use xlink:href=\"#m5e57d09c76\" x=\"31.8\" y=\"161.42075\" style=\"stroke: #000000; stroke-width: 0.6\"/>\n      </g>\n     </g>\n    </g>\n    <g id=\"ytick_28\">\n     <g id=\"line2d_36\">\n      <g>\n       <use xlink:href=\"#m5e57d09c76\" x=\"31.8\" y=\"154.77585\" style=\"stroke: #000000; stroke-width: 0.6\"/>\n      </g>\n     </g>\n    </g>\n    <g id=\"ytick_29\">\n     <g id=\"line2d_37\">\n      <g>\n       <use xlink:href=\"#m5e57d09c76\" x=\"31.8\" y=\"149.346571\" style=\"stroke: #000000; stroke-width: 0.6\"/>\n      </g>\n     </g>\n    </g>\n    <g id=\"ytick_30\">\n     <g id=\"line2d_38\">\n      <g>\n       <use xlink:href=\"#m5e57d09c76\" x=\"31.8\" y=\"144.75618\" style=\"stroke: #000000; stroke-width: 0.6\"/>\n      </g>\n     </g>\n    </g>\n    <g id=\"ytick_31\">\n     <g id=\"line2d_39\">\n      <g>\n       <use xlink:href=\"#m5e57d09c76\" x=\"31.8\" y=\"140.779804\" style=\"stroke: #000000; stroke-width: 0.6\"/>\n      </g>\n     </g>\n    </g>\n    <g id=\"ytick_32\">\n     <g id=\"line2d_40\">\n      <g>\n       <use xlink:href=\"#m5e57d09c76\" x=\"31.8\" y=\"137.272391\" style=\"stroke: #000000; stroke-width: 0.6\"/>\n      </g>\n     </g>\n    </g>\n    <g id=\"ytick_33\">\n     <g id=\"line2d_41\">\n      <g>\n       <use xlink:href=\"#m5e57d09c76\" x=\"31.8\" y=\"113.493956\" style=\"stroke: #000000; stroke-width: 0.6\"/>\n      </g>\n     </g>\n    </g>\n    <g id=\"ytick_34\">\n     <g id=\"line2d_42\">\n      <g>\n       <use xlink:href=\"#m5e57d09c76\" x=\"31.8\" y=\"101.419777\" style=\"stroke: #000000; stroke-width: 0.6\"/>\n      </g>\n     </g>\n    </g>\n    <g id=\"ytick_35\">\n     <g id=\"line2d_43\">\n      <g>\n       <use xlink:href=\"#m5e57d09c76\" x=\"31.8\" y=\"92.85301\" style=\"stroke: #000000; stroke-width: 0.6\"/>\n      </g>\n     </g>\n    </g>\n    <g id=\"ytick_36\">\n     <g id=\"line2d_44\">\n      <g>\n       <use xlink:href=\"#m5e57d09c76\" x=\"31.8\" y=\"86.208109\" style=\"stroke: #000000; stroke-width: 0.6\"/>\n      </g>\n     </g>\n    </g>\n    <g id=\"ytick_37\">\n     <g id=\"line2d_45\">\n      <g>\n       <use xlink:href=\"#m5e57d09c76\" x=\"31.8\" y=\"80.77883\" style=\"stroke: #000000; stroke-width: 0.6\"/>\n      </g>\n     </g>\n    </g>\n    <g id=\"ytick_38\">\n     <g id=\"line2d_46\">\n      <g>\n       <use xlink:href=\"#m5e57d09c76\" x=\"31.8\" y=\"76.18844\" style=\"stroke: #000000; stroke-width: 0.6\"/>\n      </g>\n     </g>\n    </g>\n    <g id=\"ytick_39\">\n     <g id=\"line2d_47\">\n      <g>\n       <use xlink:href=\"#m5e57d09c76\" x=\"31.8\" y=\"72.212063\" style=\"stroke: #000000; stroke-width: 0.6\"/>\n      </g>\n     </g>\n    </g>\n    <g id=\"ytick_40\">\n     <g id=\"line2d_48\">\n      <g>\n       <use xlink:href=\"#m5e57d09c76\" x=\"31.8\" y=\"68.70465\" style=\"stroke: #000000; stroke-width: 0.6\"/>\n      </g>\n     </g>\n    </g>\n    <g id=\"ytick_41\">\n     <g id=\"line2d_49\">\n      <g>\n       <use xlink:href=\"#m5e57d09c76\" x=\"31.8\" y=\"44.926216\" style=\"stroke: #000000; stroke-width: 0.6\"/>\n      </g>\n     </g>\n    </g>\n    <g id=\"ytick_42\">\n     <g id=\"line2d_50\">\n      <g>\n       <use xlink:href=\"#m5e57d09c76\" x=\"31.8\" y=\"32.852036\" style=\"stroke: #000000; stroke-width: 0.6\"/>\n      </g>\n     </g>\n    </g>\n    <g id=\"ytick_43\">\n     <g id=\"line2d_51\">\n      <g>\n       <use xlink:href=\"#m5e57d09c76\" x=\"31.8\" y=\"24.285269\" style=\"stroke: #000000; stroke-width: 0.6\"/>\n      </g>\n     </g>\n    </g>\n   </g>\n   <g id=\"patch_53\">\n    <path d=\"M 31.8 354.958125 \nL 31.8 22.318125 \n\" style=\"fill: none; stroke: #000000; stroke-width: 0.8; stroke-linejoin: miter; stroke-linecap: square\"/>\n   </g>\n   <g id=\"patch_54\">\n    <path d=\"M 589.8 354.958125 \nL 589.8 22.318125 \n\" style=\"fill: none; stroke: #000000; stroke-width: 0.8; stroke-linejoin: miter; stroke-linecap: square\"/>\n   </g>\n   <g id=\"patch_55\">\n    <path d=\"M 31.8 354.958125 \nL 589.8 354.958125 \n\" style=\"fill: none; stroke: #000000; stroke-width: 0.8; stroke-linejoin: miter; stroke-linecap: square\"/>\n   </g>\n   <g id=\"patch_56\">\n    <path d=\"M 31.8 22.318125 \nL 589.8 22.318125 \n\" style=\"fill: none; stroke: #000000; stroke-width: 0.8; stroke-linejoin: miter; stroke-linecap: square\"/>\n   </g>\n   <g id=\"text_14\">\n    <!-- Amount of reviews per user -->\n    <g transform=\"translate(227.791875 16.318125) scale(0.12 -0.12)\">\n     <defs>\n      <path id=\"DejaVuSans-41\" d=\"M 2188 4044 \nL 1331 1722 \nL 3047 1722 \nL 2188 4044 \nz\nM 1831 4666 \nL 2547 4666 \nL 4325 0 \nL 3669 0 \nL 3244 1197 \nL 1141 1197 \nL 716 0 \nL 50 0 \nL 1831 4666 \nz\n\" transform=\"scale(0.015625)\"/>\n      <path id=\"DejaVuSans-6d\" d=\"M 3328 2828 \nQ 3544 3216 3844 3400 \nQ 4144 3584 4550 3584 \nQ 5097 3584 5394 3201 \nQ 5691 2819 5691 2113 \nL 5691 0 \nL 5113 0 \nL 5113 2094 \nQ 5113 2597 4934 2840 \nQ 4756 3084 4391 3084 \nQ 3944 3084 3684 2787 \nQ 3425 2491 3425 1978 \nL 3425 0 \nL 2847 0 \nL 2847 2094 \nQ 2847 2600 2669 2842 \nQ 2491 3084 2119 3084 \nQ 1678 3084 1418 2786 \nQ 1159 2488 1159 1978 \nL 1159 0 \nL 581 0 \nL 581 3500 \nL 1159 3500 \nL 1159 2956 \nQ 1356 3278 1631 3431 \nQ 1906 3584 2284 3584 \nQ 2666 3584 2933 3390 \nQ 3200 3197 3328 2828 \nz\n\" transform=\"scale(0.015625)\"/>\n      <path id=\"DejaVuSans-6f\" d=\"M 1959 3097 \nQ 1497 3097 1228 2736 \nQ 959 2375 959 1747 \nQ 959 1119 1226 758 \nQ 1494 397 1959 397 \nQ 2419 397 2687 759 \nQ 2956 1122 2956 1747 \nQ 2956 2369 2687 2733 \nQ 2419 3097 1959 3097 \nz\nM 1959 3584 \nQ 2709 3584 3137 3096 \nQ 3566 2609 3566 1747 \nQ 3566 888 3137 398 \nQ 2709 -91 1959 -91 \nQ 1206 -91 779 398 \nQ 353 888 353 1747 \nQ 353 2609 779 3096 \nQ 1206 3584 1959 3584 \nz\n\" transform=\"scale(0.015625)\"/>\n      <path id=\"DejaVuSans-75\" d=\"M 544 1381 \nL 544 3500 \nL 1119 3500 \nL 1119 1403 \nQ 1119 906 1312 657 \nQ 1506 409 1894 409 \nQ 2359 409 2629 706 \nQ 2900 1003 2900 1516 \nL 2900 3500 \nL 3475 3500 \nL 3475 0 \nL 2900 0 \nL 2900 538 \nQ 2691 219 2414 64 \nQ 2138 -91 1772 -91 \nQ 1169 -91 856 284 \nQ 544 659 544 1381 \nz\nM 1991 3584 \nL 1991 3584 \nz\n\" transform=\"scale(0.015625)\"/>\n      <path id=\"DejaVuSans-6e\" d=\"M 3513 2113 \nL 3513 0 \nL 2938 0 \nL 2938 2094 \nQ 2938 2591 2744 2837 \nQ 2550 3084 2163 3084 \nQ 1697 3084 1428 2787 \nQ 1159 2491 1159 1978 \nL 1159 0 \nL 581 0 \nL 581 3500 \nL 1159 3500 \nL 1159 2956 \nQ 1366 3272 1645 3428 \nQ 1925 3584 2291 3584 \nQ 2894 3584 3203 3211 \nQ 3513 2838 3513 2113 \nz\n\" transform=\"scale(0.015625)\"/>\n      <path id=\"DejaVuSans-74\" d=\"M 1172 4494 \nL 1172 3500 \nL 2356 3500 \nL 2356 3053 \nL 1172 3053 \nL 1172 1153 \nQ 1172 725 1289 603 \nQ 1406 481 1766 481 \nL 2356 481 \nL 2356 0 \nL 1766 0 \nQ 1100 0 847 248 \nQ 594 497 594 1153 \nL 594 3053 \nL 172 3053 \nL 172 3500 \nL 594 3500 \nL 594 4494 \nL 1172 4494 \nz\n\" transform=\"scale(0.015625)\"/>\n      <path id=\"DejaVuSans-20\" transform=\"scale(0.015625)\"/>\n      <path id=\"DejaVuSans-66\" d=\"M 2375 4863 \nL 2375 4384 \nL 1825 4384 \nQ 1516 4384 1395 4259 \nQ 1275 4134 1275 3809 \nL 1275 3500 \nL 2222 3500 \nL 2222 3053 \nL 1275 3053 \nL 1275 0 \nL 697 0 \nL 697 3053 \nL 147 3053 \nL 147 3500 \nL 697 3500 \nL 697 3744 \nQ 697 4328 969 4595 \nQ 1241 4863 1831 4863 \nL 2375 4863 \nz\n\" transform=\"scale(0.015625)\"/>\n      <path id=\"DejaVuSans-72\" d=\"M 2631 2963 \nQ 2534 3019 2420 3045 \nQ 2306 3072 2169 3072 \nQ 1681 3072 1420 2755 \nQ 1159 2438 1159 1844 \nL 1159 0 \nL 581 0 \nL 581 3500 \nL 1159 3500 \nL 1159 2956 \nQ 1341 3275 1631 3429 \nQ 1922 3584 2338 3584 \nQ 2397 3584 2469 3576 \nQ 2541 3569 2628 3553 \nL 2631 2963 \nz\n\" transform=\"scale(0.015625)\"/>\n      <path id=\"DejaVuSans-65\" d=\"M 3597 1894 \nL 3597 1613 \nL 953 1613 \nQ 991 1019 1311 708 \nQ 1631 397 2203 397 \nQ 2534 397 2845 478 \nQ 3156 559 3463 722 \nL 3463 178 \nQ 3153 47 2828 -22 \nQ 2503 -91 2169 -91 \nQ 1331 -91 842 396 \nQ 353 884 353 1716 \nQ 353 2575 817 3079 \nQ 1281 3584 2069 3584 \nQ 2775 3584 3186 3129 \nQ 3597 2675 3597 1894 \nz\nM 3022 2063 \nQ 3016 2534 2758 2815 \nQ 2500 3097 2075 3097 \nQ 1594 3097 1305 2825 \nQ 1016 2553 972 2059 \nL 3022 2063 \nz\n\" transform=\"scale(0.015625)\"/>\n      <path id=\"DejaVuSans-76\" d=\"M 191 3500 \nL 800 3500 \nL 1894 563 \nL 2988 3500 \nL 3597 3500 \nL 2284 0 \nL 1503 0 \nL 191 3500 \nz\n\" transform=\"scale(0.015625)\"/>\n      <path id=\"DejaVuSans-69\" d=\"M 603 3500 \nL 1178 3500 \nL 1178 0 \nL 603 0 \nL 603 3500 \nz\nM 603 4863 \nL 1178 4863 \nL 1178 4134 \nL 603 4134 \nL 603 4863 \nz\n\" transform=\"scale(0.015625)\"/>\n      <path id=\"DejaVuSans-77\" d=\"M 269 3500 \nL 844 3500 \nL 1563 769 \nL 2278 3500 \nL 2956 3500 \nL 3675 769 \nL 4391 3500 \nL 4966 3500 \nL 4050 0 \nL 3372 0 \nL 2619 2869 \nL 1863 0 \nL 1184 0 \nL 269 3500 \nz\n\" transform=\"scale(0.015625)\"/>\n      <path id=\"DejaVuSans-73\" d=\"M 2834 3397 \nL 2834 2853 \nQ 2591 2978 2328 3040 \nQ 2066 3103 1784 3103 \nQ 1356 3103 1142 2972 \nQ 928 2841 928 2578 \nQ 928 2378 1081 2264 \nQ 1234 2150 1697 2047 \nL 1894 2003 \nQ 2506 1872 2764 1633 \nQ 3022 1394 3022 966 \nQ 3022 478 2636 193 \nQ 2250 -91 1575 -91 \nQ 1294 -91 989 -36 \nQ 684 19 347 128 \nL 347 722 \nQ 666 556 975 473 \nQ 1284 391 1588 391 \nQ 1994 391 2212 530 \nQ 2431 669 2431 922 \nQ 2431 1156 2273 1281 \nQ 2116 1406 1581 1522 \nL 1381 1569 \nQ 847 1681 609 1914 \nQ 372 2147 372 2553 \nQ 372 3047 722 3315 \nQ 1072 3584 1716 3584 \nQ 2034 3584 2315 3537 \nQ 2597 3491 2834 3397 \nz\n\" transform=\"scale(0.015625)\"/>\n      <path id=\"DejaVuSans-70\" d=\"M 1159 525 \nL 1159 -1331 \nL 581 -1331 \nL 581 3500 \nL 1159 3500 \nL 1159 2969 \nQ 1341 3281 1617 3432 \nQ 1894 3584 2278 3584 \nQ 2916 3584 3314 3078 \nQ 3713 2572 3713 1747 \nQ 3713 922 3314 415 \nQ 2916 -91 2278 -91 \nQ 1894 -91 1617 61 \nQ 1341 213 1159 525 \nz\nM 3116 1747 \nQ 3116 2381 2855 2742 \nQ 2594 3103 2138 3103 \nQ 1681 3103 1420 2742 \nQ 1159 2381 1159 1747 \nQ 1159 1113 1420 752 \nQ 1681 391 2138 391 \nQ 2594 391 2855 752 \nQ 3116 1113 3116 1747 \nz\n\" transform=\"scale(0.015625)\"/>\n     </defs>\n     <use xlink:href=\"#DejaVuSans-41\"/>\n     <use xlink:href=\"#DejaVuSans-6d\" x=\"68.408203\"/>\n     <use xlink:href=\"#DejaVuSans-6f\" x=\"165.820312\"/>\n     <use xlink:href=\"#DejaVuSans-75\" x=\"227.001953\"/>\n     <use xlink:href=\"#DejaVuSans-6e\" x=\"290.380859\"/>\n     <use xlink:href=\"#DejaVuSans-74\" x=\"353.759766\"/>\n     <use xlink:href=\"#DejaVuSans-20\" x=\"392.96875\"/>\n     <use xlink:href=\"#DejaVuSans-6f\" x=\"424.755859\"/>\n     <use xlink:href=\"#DejaVuSans-66\" x=\"485.9375\"/>\n     <use xlink:href=\"#DejaVuSans-20\" x=\"521.142578\"/>\n     <use xlink:href=\"#DejaVuSans-72\" x=\"552.929688\"/>\n     <use xlink:href=\"#DejaVuSans-65\" x=\"591.792969\"/>\n     <use xlink:href=\"#DejaVuSans-76\" x=\"653.316406\"/>\n     <use xlink:href=\"#DejaVuSans-69\" x=\"712.496094\"/>\n     <use xlink:href=\"#DejaVuSans-65\" x=\"740.279297\"/>\n     <use xlink:href=\"#DejaVuSans-77\" x=\"801.802734\"/>\n     <use xlink:href=\"#DejaVuSans-73\" x=\"883.589844\"/>\n     <use xlink:href=\"#DejaVuSans-20\" x=\"935.689453\"/>\n     <use xlink:href=\"#DejaVuSans-70\" x=\"967.476562\"/>\n     <use xlink:href=\"#DejaVuSans-65\" x=\"1030.953125\"/>\n     <use xlink:href=\"#DejaVuSans-72\" x=\"1092.476562\"/>\n     <use xlink:href=\"#DejaVuSans-20\" x=\"1133.589844\"/>\n     <use xlink:href=\"#DejaVuSans-75\" x=\"1165.376953\"/>\n     <use xlink:href=\"#DejaVuSans-73\" x=\"1228.755859\"/>\n     <use xlink:href=\"#DejaVuSans-65\" x=\"1280.855469\"/>\n     <use xlink:href=\"#DejaVuSans-72\" x=\"1342.378906\"/>\n    </g>\n   </g>\n  </g>\n </g>\n <defs>\n  <clipPath id=\"p8b373afe5c\">\n   <rect x=\"31.8\" y=\"22.318125\" width=\"558\" height=\"332.64\"/>\n  </clipPath>\n </defs>\n</svg>\n",
      "text/plain": [
       "<Figure size 1000x600 with 1 Axes>"
      ]
     },
     "metadata": {},
     "output_type": "display_data"
    }
   ],
   "source": [
    "plt.hist(reviews.groupby(\"userid\").size(), bins=50)\n",
    "plt.yscale(\"log\")\n",
    "plt.title(\"Amount of reviews per user\")\n",
    "plt.show()"
   ]
  },
  {
   "cell_type": "code",
   "execution_count": 9,
   "id": "b968e822-d62f-4993-beb7-16df6f062845",
   "metadata": {},
   "outputs": [
    {
     "data": {
      "text/plain": [
       "(107153, 74000, 4421)"
      ]
     },
     "execution_count": 9,
     "metadata": {},
     "output_type": "execute_result"
    }
   ],
   "source": [
    "# Split for final evaluation\n",
    "_train, _test, _holdout = timepoint_split(reviews, time_split_q=0.95)\n",
    "\n",
    "len(_train), len(_test), len(_holdout)"
   ]
  },
  {
   "cell_type": "code",
   "execution_count": 10,
   "id": "1950ede2-eeb6-49af-b0ae-ac7331583ed7",
   "metadata": {},
   "outputs": [
    {
     "data": {
      "text/plain": [
       "(76578, 23575, 2965)"
      ]
     },
     "execution_count": 10,
     "metadata": {},
     "output_type": "execute_result"
    }
   ],
   "source": [
    "# Additional split for hyperparameter tuning\n",
    "_trainval, _testval, _holdoutval = timepoint_split(_train, time_split_q=0.95)\n",
    "\n",
    "len(_trainval), len(_testval), len(_holdoutval)"
   ]
  },
  {
   "cell_type": "code",
   "execution_count": 11,
   "id": "5c2d5493-4772-4025-ac7e-f69f7965543f",
   "metadata": {},
   "outputs": [],
   "source": [
    "def reindex_all(train, test, holdout=None, userid='userid', itemid='itemid'):\n",
    "    train_new, data_index = transform_indices(train, userid, itemid)\n",
    "    test_new = reindex_data(test, data_index, fields='items')\n",
    "    \n",
    "    if holdout is None:\n",
    "        return train_new, test_new, data_index\n",
    "    \n",
    "    holdout_new = reindex_data(holdout, data_index, fields='items')\n",
    "    return train_new, test_new, holdout_new, data_index\n",
    "\n",
    "\n",
    "trainval, testval, holdoutval, data_index_val = reindex_all(_trainval, _testval, _holdoutval)"
   ]
  },
  {
   "cell_type": "markdown",
   "id": "7b4c71d6-5039-4b12-ad8d-1f8a2dcf5007",
   "metadata": {},
   "source": [
    "## Popular"
   ]
  },
  {
   "cell_type": "code",
   "execution_count": 12,
   "id": "ab988e86-8da0-449a-97a7-4604ae866731",
   "metadata": {
    "tags": []
   },
   "outputs": [],
   "source": [
    "data_description = {\n",
    "    \"n_users\": trainval.userid.nunique(),\n",
    "    \"n_items\": trainval.itemid.nunique(),\n",
    "    \"feedback\": \"rating\",\n",
    "    \"items\": \"itemid\",\n",
    "    \"users\": \"userid\",\n",
    "}"
   ]
  },
  {
   "cell_type": "code",
   "execution_count": 13,
   "id": "3a4f6279-294b-4758-8e05-be83839d298c",
   "metadata": {},
   "outputs": [],
   "source": [
    "topn = 20"
   ]
  },
  {
   "cell_type": "code",
   "execution_count": 53,
   "id": "11182814-2ed0-4cb0-99c4-a1d9e6946299",
   "metadata": {},
   "outputs": [],
   "source": [
    "alphas = [2 ** p for p in range(12)]\n",
    "\n",
    "popular_results = []\n",
    "\n",
    "for a in alphas:\n",
    "    def damped_mean(ratings):\n",
    "        return sum(ratings) / (len(ratings) + a)\n",
    "    \n",
    "    item2rating = trainval.groupby('itemid')[\"rating\"].apply(damped_mean)\n",
    "    best_items = item2rating.nlargest(topn).index.values\n",
    "    popular_recs = np.ones((len(holdoutval), topn)) * best_items\n",
    "    metric = model_evaluate(popular_recs, holdoutval, data_description, topn)    \n",
    "    \n",
    "    popular_results.append({\n",
    "        \"alpha\": a, \"metric\": metric\n",
    "    })\n",
    "\n",
    "popular_results = pd.DataFrame(popular_results)"
   ]
  },
  {
   "cell_type": "code",
   "execution_count": 15,
   "id": "ab75e283-6ec9-4258-a5be-d27231e179ea",
   "metadata": {},
   "outputs": [
    {
     "data": {
      "image/svg+xml": "<?xml version=\"1.0\" encoding=\"utf-8\" standalone=\"no\"?>\n<!DOCTYPE svg PUBLIC \"-//W3C//DTD SVG 1.1//EN\"\n  \"http://www.w3.org/Graphics/SVG/1.1/DTD/svg11.dtd\">\n<svg xmlns:xlink=\"http://www.w3.org/1999/xlink\" width=\"608.028125pt\" height=\"392.514375pt\" viewBox=\"0 0 608.028125 392.514375\" xmlns=\"http://www.w3.org/2000/svg\" version=\"1.1\">\n <metadata>\n  <rdf:RDF xmlns:dc=\"http://purl.org/dc/elements/1.1/\" xmlns:cc=\"http://creativecommons.org/ns#\" xmlns:rdf=\"http://www.w3.org/1999/02/22-rdf-syntax-ns#\">\n   <cc:Work>\n    <dc:type rdf:resource=\"http://purl.org/dc/dcmitype/StillImage\"/>\n    <dc:date>2023-03-24T06:05:25.377794</dc:date>\n    <dc:format>image/svg+xml</dc:format>\n    <dc:creator>\n     <cc:Agent>\n      <dc:title>Matplotlib v3.7.1, https://matplotlib.org/</dc:title>\n     </cc:Agent>\n    </dc:creator>\n   </cc:Work>\n  </rdf:RDF>\n </metadata>\n <defs>\n  <style type=\"text/css\">*{stroke-linejoin: round; stroke-linecap: butt}</style>\n </defs>\n <g id=\"figure_1\">\n  <g id=\"patch_1\">\n   <path d=\"M 0 392.514375 \nL 608.028125 392.514375 \nL 608.028125 0 \nL 0 0 \nz\n\" style=\"fill: #ffffff\"/>\n  </g>\n  <g id=\"axes_1\">\n   <g id=\"patch_2\">\n    <path d=\"M 42.828125 354.958125 \nL 600.828125 354.958125 \nL 600.828125 22.318125 \nL 42.828125 22.318125 \nz\n\" style=\"fill: #ffffff\"/>\n   </g>\n   <g id=\"matplotlib.axis_1\">\n    <g id=\"xtick_1\">\n     <g id=\"line2d_1\">\n      <defs>\n       <path id=\"m5c7a29c9cf\" d=\"M 0 0 \nL 0 3.5 \n\" style=\"stroke: #000000; stroke-width: 0.8\"/>\n      </defs>\n      <g>\n       <use xlink:href=\"#m5c7a29c9cf\" x=\"68.191761\" y=\"354.958125\" style=\"stroke: #000000; stroke-width: 0.8\"/>\n      </g>\n     </g>\n     <g id=\"text_1\">\n      <!-- 1 -->\n      <g transform=\"translate(65.010511 369.556562) scale(0.1 -0.1)\">\n       <defs>\n        <path id=\"DejaVuSans-31\" d=\"M 794 531 \nL 1825 531 \nL 1825 4091 \nL 703 3866 \nL 703 4441 \nL 1819 4666 \nL 2450 4666 \nL 2450 531 \nL 3481 531 \nL 3481 0 \nL 794 0 \nL 794 531 \nz\n\" transform=\"scale(0.015625)\"/>\n       </defs>\n       <use xlink:href=\"#DejaVuSans-31\"/>\n      </g>\n     </g>\n    </g>\n    <g id=\"xtick_2\">\n     <g id=\"line2d_2\">\n      <g>\n       <use xlink:href=\"#m5c7a29c9cf\" x=\"114.307464\" y=\"354.958125\" style=\"stroke: #000000; stroke-width: 0.8\"/>\n      </g>\n     </g>\n     <g id=\"text_2\">\n      <!-- 2 -->\n      <g transform=\"translate(111.126214 369.556562) scale(0.1 -0.1)\">\n       <defs>\n        <path id=\"DejaVuSans-32\" d=\"M 1228 531 \nL 3431 531 \nL 3431 0 \nL 469 0 \nL 469 531 \nQ 828 903 1448 1529 \nQ 2069 2156 2228 2338 \nQ 2531 2678 2651 2914 \nQ 2772 3150 2772 3378 \nQ 2772 3750 2511 3984 \nQ 2250 4219 1831 4219 \nQ 1534 4219 1204 4116 \nQ 875 4013 500 3803 \nL 500 4441 \nQ 881 4594 1212 4672 \nQ 1544 4750 1819 4750 \nQ 2544 4750 2975 4387 \nQ 3406 4025 3406 3419 \nQ 3406 3131 3298 2873 \nQ 3191 2616 2906 2266 \nQ 2828 2175 2409 1742 \nQ 1991 1309 1228 531 \nz\n\" transform=\"scale(0.015625)\"/>\n       </defs>\n       <use xlink:href=\"#DejaVuSans-32\"/>\n      </g>\n     </g>\n    </g>\n    <g id=\"xtick_3\">\n     <g id=\"line2d_3\">\n      <g>\n       <use xlink:href=\"#m5c7a29c9cf\" x=\"160.423166\" y=\"354.958125\" style=\"stroke: #000000; stroke-width: 0.8\"/>\n      </g>\n     </g>\n     <g id=\"text_3\">\n      <!-- 4 -->\n      <g transform=\"translate(157.241916 369.556562) scale(0.1 -0.1)\">\n       <defs>\n        <path id=\"DejaVuSans-34\" d=\"M 2419 4116 \nL 825 1625 \nL 2419 1625 \nL 2419 4116 \nz\nM 2253 4666 \nL 3047 4666 \nL 3047 1625 \nL 3713 1625 \nL 3713 1100 \nL 3047 1100 \nL 3047 0 \nL 2419 0 \nL 2419 1100 \nL 313 1100 \nL 313 1709 \nL 2253 4666 \nz\n\" transform=\"scale(0.015625)\"/>\n       </defs>\n       <use xlink:href=\"#DejaVuSans-34\"/>\n      </g>\n     </g>\n    </g>\n    <g id=\"xtick_4\">\n     <g id=\"line2d_4\">\n      <g>\n       <use xlink:href=\"#m5c7a29c9cf\" x=\"206.538869\" y=\"354.958125\" style=\"stroke: #000000; stroke-width: 0.8\"/>\n      </g>\n     </g>\n     <g id=\"text_4\">\n      <!-- 8 -->\n      <g transform=\"translate(203.357619 369.556562) scale(0.1 -0.1)\">\n       <defs>\n        <path id=\"DejaVuSans-38\" d=\"M 2034 2216 \nQ 1584 2216 1326 1975 \nQ 1069 1734 1069 1313 \nQ 1069 891 1326 650 \nQ 1584 409 2034 409 \nQ 2484 409 2743 651 \nQ 3003 894 3003 1313 \nQ 3003 1734 2745 1975 \nQ 2488 2216 2034 2216 \nz\nM 1403 2484 \nQ 997 2584 770 2862 \nQ 544 3141 544 3541 \nQ 544 4100 942 4425 \nQ 1341 4750 2034 4750 \nQ 2731 4750 3128 4425 \nQ 3525 4100 3525 3541 \nQ 3525 3141 3298 2862 \nQ 3072 2584 2669 2484 \nQ 3125 2378 3379 2068 \nQ 3634 1759 3634 1313 \nQ 3634 634 3220 271 \nQ 2806 -91 2034 -91 \nQ 1263 -91 848 271 \nQ 434 634 434 1313 \nQ 434 1759 690 2068 \nQ 947 2378 1403 2484 \nz\nM 1172 3481 \nQ 1172 3119 1398 2916 \nQ 1625 2713 2034 2713 \nQ 2441 2713 2670 2916 \nQ 2900 3119 2900 3481 \nQ 2900 3844 2670 4047 \nQ 2441 4250 2034 4250 \nQ 1625 4250 1398 4047 \nQ 1172 3844 1172 3481 \nz\n\" transform=\"scale(0.015625)\"/>\n       </defs>\n       <use xlink:href=\"#DejaVuSans-38\"/>\n      </g>\n     </g>\n    </g>\n    <g id=\"xtick_5\">\n     <g id=\"line2d_5\">\n      <g>\n       <use xlink:href=\"#m5c7a29c9cf\" x=\"252.654571\" y=\"354.958125\" style=\"stroke: #000000; stroke-width: 0.8\"/>\n      </g>\n     </g>\n     <g id=\"text_5\">\n      <!-- 16 -->\n      <g transform=\"translate(246.292071 369.556562) scale(0.1 -0.1)\">\n       <defs>\n        <path id=\"DejaVuSans-36\" d=\"M 2113 2584 \nQ 1688 2584 1439 2293 \nQ 1191 2003 1191 1497 \nQ 1191 994 1439 701 \nQ 1688 409 2113 409 \nQ 2538 409 2786 701 \nQ 3034 994 3034 1497 \nQ 3034 2003 2786 2293 \nQ 2538 2584 2113 2584 \nz\nM 3366 4563 \nL 3366 3988 \nQ 3128 4100 2886 4159 \nQ 2644 4219 2406 4219 \nQ 1781 4219 1451 3797 \nQ 1122 3375 1075 2522 \nQ 1259 2794 1537 2939 \nQ 1816 3084 2150 3084 \nQ 2853 3084 3261 2657 \nQ 3669 2231 3669 1497 \nQ 3669 778 3244 343 \nQ 2819 -91 2113 -91 \nQ 1303 -91 875 529 \nQ 447 1150 447 2328 \nQ 447 3434 972 4092 \nQ 1497 4750 2381 4750 \nQ 2619 4750 2861 4703 \nQ 3103 4656 3366 4563 \nz\n\" transform=\"scale(0.015625)\"/>\n       </defs>\n       <use xlink:href=\"#DejaVuSans-31\"/>\n       <use xlink:href=\"#DejaVuSans-36\" x=\"63.623047\"/>\n      </g>\n     </g>\n    </g>\n    <g id=\"xtick_6\">\n     <g id=\"line2d_6\">\n      <g>\n       <use xlink:href=\"#m5c7a29c9cf\" x=\"298.770274\" y=\"354.958125\" style=\"stroke: #000000; stroke-width: 0.8\"/>\n      </g>\n     </g>\n     <g id=\"text_6\">\n      <!-- 32 -->\n      <g transform=\"translate(292.407774 369.556562) scale(0.1 -0.1)\">\n       <defs>\n        <path id=\"DejaVuSans-33\" d=\"M 2597 2516 \nQ 3050 2419 3304 2112 \nQ 3559 1806 3559 1356 \nQ 3559 666 3084 287 \nQ 2609 -91 1734 -91 \nQ 1441 -91 1130 -33 \nQ 819 25 488 141 \nL 488 750 \nQ 750 597 1062 519 \nQ 1375 441 1716 441 \nQ 2309 441 2620 675 \nQ 2931 909 2931 1356 \nQ 2931 1769 2642 2001 \nQ 2353 2234 1838 2234 \nL 1294 2234 \nL 1294 2753 \nL 1863 2753 \nQ 2328 2753 2575 2939 \nQ 2822 3125 2822 3475 \nQ 2822 3834 2567 4026 \nQ 2313 4219 1838 4219 \nQ 1578 4219 1281 4162 \nQ 984 4106 628 3988 \nL 628 4550 \nQ 988 4650 1302 4700 \nQ 1616 4750 1894 4750 \nQ 2613 4750 3031 4423 \nQ 3450 4097 3450 3541 \nQ 3450 3153 3228 2886 \nQ 3006 2619 2597 2516 \nz\n\" transform=\"scale(0.015625)\"/>\n       </defs>\n       <use xlink:href=\"#DejaVuSans-33\"/>\n       <use xlink:href=\"#DejaVuSans-32\" x=\"63.623047\"/>\n      </g>\n     </g>\n    </g>\n    <g id=\"xtick_7\">\n     <g id=\"line2d_7\">\n      <g>\n       <use xlink:href=\"#m5c7a29c9cf\" x=\"344.885976\" y=\"354.958125\" style=\"stroke: #000000; stroke-width: 0.8\"/>\n      </g>\n     </g>\n     <g id=\"text_7\">\n      <!-- 64 -->\n      <g transform=\"translate(338.523476 369.556562) scale(0.1 -0.1)\">\n       <use xlink:href=\"#DejaVuSans-36\"/>\n       <use xlink:href=\"#DejaVuSans-34\" x=\"63.623047\"/>\n      </g>\n     </g>\n    </g>\n    <g id=\"xtick_8\">\n     <g id=\"line2d_8\">\n      <g>\n       <use xlink:href=\"#m5c7a29c9cf\" x=\"391.001679\" y=\"354.958125\" style=\"stroke: #000000; stroke-width: 0.8\"/>\n      </g>\n     </g>\n     <g id=\"text_8\">\n      <!-- 128 -->\n      <g transform=\"translate(381.457929 369.556562) scale(0.1 -0.1)\">\n       <use xlink:href=\"#DejaVuSans-31\"/>\n       <use xlink:href=\"#DejaVuSans-32\" x=\"63.623047\"/>\n       <use xlink:href=\"#DejaVuSans-38\" x=\"127.246094\"/>\n      </g>\n     </g>\n    </g>\n    <g id=\"xtick_9\">\n     <g id=\"line2d_9\">\n      <g>\n       <use xlink:href=\"#m5c7a29c9cf\" x=\"437.117381\" y=\"354.958125\" style=\"stroke: #000000; stroke-width: 0.8\"/>\n      </g>\n     </g>\n     <g id=\"text_9\">\n      <!-- 256 -->\n      <g transform=\"translate(427.573631 369.556562) scale(0.1 -0.1)\">\n       <defs>\n        <path id=\"DejaVuSans-35\" d=\"M 691 4666 \nL 3169 4666 \nL 3169 4134 \nL 1269 4134 \nL 1269 2991 \nQ 1406 3038 1543 3061 \nQ 1681 3084 1819 3084 \nQ 2600 3084 3056 2656 \nQ 3513 2228 3513 1497 \nQ 3513 744 3044 326 \nQ 2575 -91 1722 -91 \nQ 1428 -91 1123 -41 \nQ 819 9 494 109 \nL 494 744 \nQ 775 591 1075 516 \nQ 1375 441 1709 441 \nQ 2250 441 2565 725 \nQ 2881 1009 2881 1497 \nQ 2881 1984 2565 2268 \nQ 2250 2553 1709 2553 \nQ 1456 2553 1204 2497 \nQ 953 2441 691 2322 \nL 691 4666 \nz\n\" transform=\"scale(0.015625)\"/>\n       </defs>\n       <use xlink:href=\"#DejaVuSans-32\"/>\n       <use xlink:href=\"#DejaVuSans-35\" x=\"63.623047\"/>\n       <use xlink:href=\"#DejaVuSans-36\" x=\"127.246094\"/>\n      </g>\n     </g>\n    </g>\n    <g id=\"xtick_10\">\n     <g id=\"line2d_10\">\n      <g>\n       <use xlink:href=\"#m5c7a29c9cf\" x=\"483.233084\" y=\"354.958125\" style=\"stroke: #000000; stroke-width: 0.8\"/>\n      </g>\n     </g>\n     <g id=\"text_10\">\n      <!-- 512 -->\n      <g transform=\"translate(473.689334 369.556562) scale(0.1 -0.1)\">\n       <use xlink:href=\"#DejaVuSans-35\"/>\n       <use xlink:href=\"#DejaVuSans-31\" x=\"63.623047\"/>\n       <use xlink:href=\"#DejaVuSans-32\" x=\"127.246094\"/>\n      </g>\n     </g>\n    </g>\n    <g id=\"xtick_11\">\n     <g id=\"line2d_11\">\n      <g>\n       <use xlink:href=\"#m5c7a29c9cf\" x=\"529.348786\" y=\"354.958125\" style=\"stroke: #000000; stroke-width: 0.8\"/>\n      </g>\n     </g>\n     <g id=\"text_11\">\n      <!-- 1024 -->\n      <g transform=\"translate(516.623786 369.556562) scale(0.1 -0.1)\">\n       <defs>\n        <path id=\"DejaVuSans-30\" d=\"M 2034 4250 \nQ 1547 4250 1301 3770 \nQ 1056 3291 1056 2328 \nQ 1056 1369 1301 889 \nQ 1547 409 2034 409 \nQ 2525 409 2770 889 \nQ 3016 1369 3016 2328 \nQ 3016 3291 2770 3770 \nQ 2525 4250 2034 4250 \nz\nM 2034 4750 \nQ 2819 4750 3233 4129 \nQ 3647 3509 3647 2328 \nQ 3647 1150 3233 529 \nQ 2819 -91 2034 -91 \nQ 1250 -91 836 529 \nQ 422 1150 422 2328 \nQ 422 3509 836 4129 \nQ 1250 4750 2034 4750 \nz\n\" transform=\"scale(0.015625)\"/>\n       </defs>\n       <use xlink:href=\"#DejaVuSans-31\"/>\n       <use xlink:href=\"#DejaVuSans-30\" x=\"63.623047\"/>\n       <use xlink:href=\"#DejaVuSans-32\" x=\"127.246094\"/>\n       <use xlink:href=\"#DejaVuSans-34\" x=\"190.869141\"/>\n      </g>\n     </g>\n    </g>\n    <g id=\"xtick_12\">\n     <g id=\"line2d_12\">\n      <g>\n       <use xlink:href=\"#m5c7a29c9cf\" x=\"575.464489\" y=\"354.958125\" style=\"stroke: #000000; stroke-width: 0.8\"/>\n      </g>\n     </g>\n     <g id=\"text_12\">\n      <!-- 2048 -->\n      <g transform=\"translate(562.739489 369.556562) scale(0.1 -0.1)\">\n       <use xlink:href=\"#DejaVuSans-32\"/>\n       <use xlink:href=\"#DejaVuSans-30\" x=\"63.623047\"/>\n       <use xlink:href=\"#DejaVuSans-34\" x=\"127.246094\"/>\n       <use xlink:href=\"#DejaVuSans-38\" x=\"190.869141\"/>\n      </g>\n     </g>\n    </g>\n    <g id=\"xtick_13\">\n     <g id=\"line2d_13\"/>\n    </g>\n    <g id=\"xtick_14\">\n     <g id=\"line2d_14\"/>\n    </g>\n    <g id=\"xtick_15\">\n     <g id=\"line2d_15\"/>\n    </g>\n    <g id=\"xtick_16\">\n     <g id=\"line2d_16\"/>\n    </g>\n    <g id=\"xtick_17\">\n     <g id=\"line2d_17\"/>\n    </g>\n    <g id=\"xtick_18\">\n     <g id=\"line2d_18\"/>\n    </g>\n    <g id=\"xtick_19\">\n     <g id=\"line2d_19\"/>\n    </g>\n    <g id=\"xtick_20\">\n     <g id=\"line2d_20\"/>\n    </g>\n    <g id=\"xtick_21\">\n     <g id=\"line2d_21\"/>\n    </g>\n    <g id=\"xtick_22\">\n     <g id=\"line2d_22\"/>\n    </g>\n    <g id=\"xtick_23\">\n     <g id=\"line2d_23\"/>\n    </g>\n    <g id=\"xtick_24\">\n     <g id=\"line2d_24\"/>\n    </g>\n    <g id=\"xtick_25\">\n     <g id=\"line2d_25\"/>\n    </g>\n    <g id=\"xtick_26\">\n     <g id=\"line2d_26\"/>\n    </g>\n    <g id=\"xtick_27\">\n     <g id=\"line2d_27\"/>\n    </g>\n    <g id=\"xtick_28\">\n     <g id=\"line2d_28\"/>\n    </g>\n    <g id=\"xtick_29\">\n     <g id=\"line2d_29\"/>\n    </g>\n    <g id=\"xtick_30\">\n     <g id=\"line2d_30\"/>\n    </g>\n    <g id=\"xtick_31\">\n     <g id=\"line2d_31\"/>\n    </g>\n    <g id=\"xtick_32\">\n     <g id=\"line2d_32\"/>\n    </g>\n    <g id=\"xtick_33\">\n     <g id=\"line2d_33\"/>\n    </g>\n    <g id=\"xtick_34\">\n     <g id=\"line2d_34\"/>\n    </g>\n    <g id=\"xtick_35\">\n     <g id=\"line2d_35\"/>\n    </g>\n    <g id=\"xtick_36\">\n     <g id=\"line2d_36\"/>\n    </g>\n    <g id=\"xtick_37\">\n     <g id=\"line2d_37\"/>\n    </g>\n    <g id=\"text_13\">\n     <!-- Alpha -->\n     <g transform=\"translate(307.611719 383.234687) scale(0.1 -0.1)\">\n      <defs>\n       <path id=\"DejaVuSans-41\" d=\"M 2188 4044 \nL 1331 1722 \nL 3047 1722 \nL 2188 4044 \nz\nM 1831 4666 \nL 2547 4666 \nL 4325 0 \nL 3669 0 \nL 3244 1197 \nL 1141 1197 \nL 716 0 \nL 50 0 \nL 1831 4666 \nz\n\" transform=\"scale(0.015625)\"/>\n       <path id=\"DejaVuSans-6c\" d=\"M 603 4863 \nL 1178 4863 \nL 1178 0 \nL 603 0 \nL 603 4863 \nz\n\" transform=\"scale(0.015625)\"/>\n       <path id=\"DejaVuSans-70\" d=\"M 1159 525 \nL 1159 -1331 \nL 581 -1331 \nL 581 3500 \nL 1159 3500 \nL 1159 2969 \nQ 1341 3281 1617 3432 \nQ 1894 3584 2278 3584 \nQ 2916 3584 3314 3078 \nQ 3713 2572 3713 1747 \nQ 3713 922 3314 415 \nQ 2916 -91 2278 -91 \nQ 1894 -91 1617 61 \nQ 1341 213 1159 525 \nz\nM 3116 1747 \nQ 3116 2381 2855 2742 \nQ 2594 3103 2138 3103 \nQ 1681 3103 1420 2742 \nQ 1159 2381 1159 1747 \nQ 1159 1113 1420 752 \nQ 1681 391 2138 391 \nQ 2594 391 2855 752 \nQ 3116 1113 3116 1747 \nz\n\" transform=\"scale(0.015625)\"/>\n       <path id=\"DejaVuSans-68\" d=\"M 3513 2113 \nL 3513 0 \nL 2938 0 \nL 2938 2094 \nQ 2938 2591 2744 2837 \nQ 2550 3084 2163 3084 \nQ 1697 3084 1428 2787 \nQ 1159 2491 1159 1978 \nL 1159 0 \nL 581 0 \nL 581 4863 \nL 1159 4863 \nL 1159 2956 \nQ 1366 3272 1645 3428 \nQ 1925 3584 2291 3584 \nQ 2894 3584 3203 3211 \nQ 3513 2838 3513 2113 \nz\n\" transform=\"scale(0.015625)\"/>\n       <path id=\"DejaVuSans-61\" d=\"M 2194 1759 \nQ 1497 1759 1228 1600 \nQ 959 1441 959 1056 \nQ 959 750 1161 570 \nQ 1363 391 1709 391 \nQ 2188 391 2477 730 \nQ 2766 1069 2766 1631 \nL 2766 1759 \nL 2194 1759 \nz\nM 3341 1997 \nL 3341 0 \nL 2766 0 \nL 2766 531 \nQ 2569 213 2275 61 \nQ 1981 -91 1556 -91 \nQ 1019 -91 701 211 \nQ 384 513 384 1019 \nQ 384 1609 779 1909 \nQ 1175 2209 1959 2209 \nL 2766 2209 \nL 2766 2266 \nQ 2766 2663 2505 2880 \nQ 2244 3097 1772 3097 \nQ 1472 3097 1187 3025 \nQ 903 2953 641 2809 \nL 641 3341 \nQ 956 3463 1253 3523 \nQ 1550 3584 1831 3584 \nQ 2591 3584 2966 3190 \nQ 3341 2797 3341 1997 \nz\n\" transform=\"scale(0.015625)\"/>\n      </defs>\n      <use xlink:href=\"#DejaVuSans-41\"/>\n      <use xlink:href=\"#DejaVuSans-6c\" x=\"68.408203\"/>\n      <use xlink:href=\"#DejaVuSans-70\" x=\"96.191406\"/>\n      <use xlink:href=\"#DejaVuSans-68\" x=\"159.667969\"/>\n      <use xlink:href=\"#DejaVuSans-61\" x=\"223.046875\"/>\n     </g>\n    </g>\n   </g>\n   <g id=\"matplotlib.axis_2\">\n    <g id=\"ytick_1\">\n     <g id=\"line2d_38\">\n      <defs>\n       <path id=\"md092aa4b66\" d=\"M 0 0 \nL -3.5 0 \n\" style=\"stroke: #000000; stroke-width: 0.8\"/>\n      </defs>\n      <g>\n       <use xlink:href=\"#md092aa4b66\" x=\"42.828125\" y=\"326.950125\" style=\"stroke: #000000; stroke-width: 0.8\"/>\n      </g>\n     </g>\n     <g id=\"text_14\">\n      <!-- 0.003 -->\n      <g transform=\"translate(7.2 330.749344) scale(0.1 -0.1)\">\n       <defs>\n        <path id=\"DejaVuSans-2e\" d=\"M 684 794 \nL 1344 794 \nL 1344 0 \nL 684 0 \nL 684 794 \nz\n\" transform=\"scale(0.015625)\"/>\n       </defs>\n       <use xlink:href=\"#DejaVuSans-30\"/>\n       <use xlink:href=\"#DejaVuSans-2e\" x=\"63.623047\"/>\n       <use xlink:href=\"#DejaVuSans-30\" x=\"95.410156\"/>\n       <use xlink:href=\"#DejaVuSans-30\" x=\"159.033203\"/>\n       <use xlink:href=\"#DejaVuSans-33\" x=\"222.65625\"/>\n      </g>\n     </g>\n    </g>\n    <g id=\"ytick_2\">\n     <g id=\"line2d_39\">\n      <g>\n       <use xlink:href=\"#md092aa4b66\" x=\"42.828125\" y=\"284.254125\" style=\"stroke: #000000; stroke-width: 0.8\"/>\n      </g>\n     </g>\n     <g id=\"text_15\">\n      <!-- 0.004 -->\n      <g transform=\"translate(7.2 288.053344) scale(0.1 -0.1)\">\n       <use xlink:href=\"#DejaVuSans-30\"/>\n       <use xlink:href=\"#DejaVuSans-2e\" x=\"63.623047\"/>\n       <use xlink:href=\"#DejaVuSans-30\" x=\"95.410156\"/>\n       <use xlink:href=\"#DejaVuSans-30\" x=\"159.033203\"/>\n       <use xlink:href=\"#DejaVuSans-34\" x=\"222.65625\"/>\n      </g>\n     </g>\n    </g>\n    <g id=\"ytick_3\">\n     <g id=\"line2d_40\">\n      <g>\n       <use xlink:href=\"#md092aa4b66\" x=\"42.828125\" y=\"241.558125\" style=\"stroke: #000000; stroke-width: 0.8\"/>\n      </g>\n     </g>\n     <g id=\"text_16\">\n      <!-- 0.005 -->\n      <g transform=\"translate(7.2 245.357344) scale(0.1 -0.1)\">\n       <use xlink:href=\"#DejaVuSans-30\"/>\n       <use xlink:href=\"#DejaVuSans-2e\" x=\"63.623047\"/>\n       <use xlink:href=\"#DejaVuSans-30\" x=\"95.410156\"/>\n       <use xlink:href=\"#DejaVuSans-30\" x=\"159.033203\"/>\n       <use xlink:href=\"#DejaVuSans-35\" x=\"222.65625\"/>\n      </g>\n     </g>\n    </g>\n    <g id=\"ytick_4\">\n     <g id=\"line2d_41\">\n      <g>\n       <use xlink:href=\"#md092aa4b66\" x=\"42.828125\" y=\"198.862125\" style=\"stroke: #000000; stroke-width: 0.8\"/>\n      </g>\n     </g>\n     <g id=\"text_17\">\n      <!-- 0.006 -->\n      <g transform=\"translate(7.2 202.661344) scale(0.1 -0.1)\">\n       <use xlink:href=\"#DejaVuSans-30\"/>\n       <use xlink:href=\"#DejaVuSans-2e\" x=\"63.623047\"/>\n       <use xlink:href=\"#DejaVuSans-30\" x=\"95.410156\"/>\n       <use xlink:href=\"#DejaVuSans-30\" x=\"159.033203\"/>\n       <use xlink:href=\"#DejaVuSans-36\" x=\"222.65625\"/>\n      </g>\n     </g>\n    </g>\n    <g id=\"ytick_5\">\n     <g id=\"line2d_42\">\n      <g>\n       <use xlink:href=\"#md092aa4b66\" x=\"42.828125\" y=\"156.166125\" style=\"stroke: #000000; stroke-width: 0.8\"/>\n      </g>\n     </g>\n     <g id=\"text_18\">\n      <!-- 0.007 -->\n      <g transform=\"translate(7.2 159.965344) scale(0.1 -0.1)\">\n       <defs>\n        <path id=\"DejaVuSans-37\" d=\"M 525 4666 \nL 3525 4666 \nL 3525 4397 \nL 1831 0 \nL 1172 0 \nL 2766 4134 \nL 525 4134 \nL 525 4666 \nz\n\" transform=\"scale(0.015625)\"/>\n       </defs>\n       <use xlink:href=\"#DejaVuSans-30\"/>\n       <use xlink:href=\"#DejaVuSans-2e\" x=\"63.623047\"/>\n       <use xlink:href=\"#DejaVuSans-30\" x=\"95.410156\"/>\n       <use xlink:href=\"#DejaVuSans-30\" x=\"159.033203\"/>\n       <use xlink:href=\"#DejaVuSans-37\" x=\"222.65625\"/>\n      </g>\n     </g>\n    </g>\n    <g id=\"ytick_6\">\n     <g id=\"line2d_43\">\n      <g>\n       <use xlink:href=\"#md092aa4b66\" x=\"42.828125\" y=\"113.470125\" style=\"stroke: #000000; stroke-width: 0.8\"/>\n      </g>\n     </g>\n     <g id=\"text_19\">\n      <!-- 0.008 -->\n      <g transform=\"translate(7.2 117.269344) scale(0.1 -0.1)\">\n       <use xlink:href=\"#DejaVuSans-30\"/>\n       <use xlink:href=\"#DejaVuSans-2e\" x=\"63.623047\"/>\n       <use xlink:href=\"#DejaVuSans-30\" x=\"95.410156\"/>\n       <use xlink:href=\"#DejaVuSans-30\" x=\"159.033203\"/>\n       <use xlink:href=\"#DejaVuSans-38\" x=\"222.65625\"/>\n      </g>\n     </g>\n    </g>\n    <g id=\"ytick_7\">\n     <g id=\"line2d_44\">\n      <g>\n       <use xlink:href=\"#md092aa4b66\" x=\"42.828125\" y=\"70.774125\" style=\"stroke: #000000; stroke-width: 0.8\"/>\n      </g>\n     </g>\n     <g id=\"text_20\">\n      <!-- 0.009 -->\n      <g transform=\"translate(7.2 74.573344) scale(0.1 -0.1)\">\n       <defs>\n        <path id=\"DejaVuSans-39\" d=\"M 703 97 \nL 703 672 \nQ 941 559 1184 500 \nQ 1428 441 1663 441 \nQ 2288 441 2617 861 \nQ 2947 1281 2994 2138 \nQ 2813 1869 2534 1725 \nQ 2256 1581 1919 1581 \nQ 1219 1581 811 2004 \nQ 403 2428 403 3163 \nQ 403 3881 828 4315 \nQ 1253 4750 1959 4750 \nQ 2769 4750 3195 4129 \nQ 3622 3509 3622 2328 \nQ 3622 1225 3098 567 \nQ 2575 -91 1691 -91 \nQ 1453 -91 1209 -44 \nQ 966 3 703 97 \nz\nM 1959 2075 \nQ 2384 2075 2632 2365 \nQ 2881 2656 2881 3163 \nQ 2881 3666 2632 3958 \nQ 2384 4250 1959 4250 \nQ 1534 4250 1286 3958 \nQ 1038 3666 1038 3163 \nQ 1038 2656 1286 2365 \nQ 1534 2075 1959 2075 \nz\n\" transform=\"scale(0.015625)\"/>\n       </defs>\n       <use xlink:href=\"#DejaVuSans-30\"/>\n       <use xlink:href=\"#DejaVuSans-2e\" x=\"63.623047\"/>\n       <use xlink:href=\"#DejaVuSans-30\" x=\"95.410156\"/>\n       <use xlink:href=\"#DejaVuSans-30\" x=\"159.033203\"/>\n       <use xlink:href=\"#DejaVuSans-39\" x=\"222.65625\"/>\n      </g>\n     </g>\n    </g>\n    <g id=\"ytick_8\">\n     <g id=\"line2d_45\">\n      <g>\n       <use xlink:href=\"#md092aa4b66\" x=\"42.828125\" y=\"28.078125\" style=\"stroke: #000000; stroke-width: 0.8\"/>\n      </g>\n     </g>\n     <g id=\"text_21\">\n      <!-- 0.010 -->\n      <g transform=\"translate(7.2 31.877344) scale(0.1 -0.1)\">\n       <use xlink:href=\"#DejaVuSans-30\"/>\n       <use xlink:href=\"#DejaVuSans-2e\" x=\"63.623047\"/>\n       <use xlink:href=\"#DejaVuSans-30\" x=\"95.410156\"/>\n       <use xlink:href=\"#DejaVuSans-31\" x=\"159.033203\"/>\n       <use xlink:href=\"#DejaVuSans-30\" x=\"222.65625\"/>\n      </g>\n     </g>\n    </g>\n   </g>\n   <g id=\"line2d_46\">\n    <path d=\"M 68.191761 339.838125 \nL 114.307464 253.438125 \nL 160.423166 210.238125 \nL 206.538869 167.038125 \nL 252.654571 80.638125 \nL 298.770274 80.638125 \nL 344.885976 80.638125 \nL 391.001679 66.238125 \nL 437.117381 37.438125 \nL 483.233084 37.438125 \nL 529.348786 37.438125 \nL 575.464489 37.438125 \n\" clip-path=\"url(#pe89ee78ca2)\" style=\"fill: none; stroke: #1f77b4; stroke-width: 1.5; stroke-linecap: square\"/>\n   </g>\n   <g id=\"patch_3\">\n    <path d=\"M 42.828125 354.958125 \nL 42.828125 22.318125 \n\" style=\"fill: none; stroke: #000000; stroke-width: 0.8; stroke-linejoin: miter; stroke-linecap: square\"/>\n   </g>\n   <g id=\"patch_4\">\n    <path d=\"M 600.828125 354.958125 \nL 600.828125 22.318125 \n\" style=\"fill: none; stroke: #000000; stroke-width: 0.8; stroke-linejoin: miter; stroke-linecap: square\"/>\n   </g>\n   <g id=\"patch_5\">\n    <path d=\"M 42.828125 354.958125 \nL 600.828125 354.958125 \n\" style=\"fill: none; stroke: #000000; stroke-width: 0.8; stroke-linejoin: miter; stroke-linecap: square\"/>\n   </g>\n   <g id=\"patch_6\">\n    <path d=\"M 42.828125 22.318125 \nL 600.828125 22.318125 \n\" style=\"fill: none; stroke: #000000; stroke-width: 0.8; stroke-linejoin: miter; stroke-linecap: square\"/>\n   </g>\n   <g id=\"text_22\">\n    <!-- HitRate -->\n    <g transform=\"translate(299.541875 16.318125) scale(0.12 -0.12)\">\n     <defs>\n      <path id=\"DejaVuSans-48\" d=\"M 628 4666 \nL 1259 4666 \nL 1259 2753 \nL 3553 2753 \nL 3553 4666 \nL 4184 4666 \nL 4184 0 \nL 3553 0 \nL 3553 2222 \nL 1259 2222 \nL 1259 0 \nL 628 0 \nL 628 4666 \nz\n\" transform=\"scale(0.015625)\"/>\n      <path id=\"DejaVuSans-69\" d=\"M 603 3500 \nL 1178 3500 \nL 1178 0 \nL 603 0 \nL 603 3500 \nz\nM 603 4863 \nL 1178 4863 \nL 1178 4134 \nL 603 4134 \nL 603 4863 \nz\n\" transform=\"scale(0.015625)\"/>\n      <path id=\"DejaVuSans-74\" d=\"M 1172 4494 \nL 1172 3500 \nL 2356 3500 \nL 2356 3053 \nL 1172 3053 \nL 1172 1153 \nQ 1172 725 1289 603 \nQ 1406 481 1766 481 \nL 2356 481 \nL 2356 0 \nL 1766 0 \nQ 1100 0 847 248 \nQ 594 497 594 1153 \nL 594 3053 \nL 172 3053 \nL 172 3500 \nL 594 3500 \nL 594 4494 \nL 1172 4494 \nz\n\" transform=\"scale(0.015625)\"/>\n      <path id=\"DejaVuSans-52\" d=\"M 2841 2188 \nQ 3044 2119 3236 1894 \nQ 3428 1669 3622 1275 \nL 4263 0 \nL 3584 0 \nL 2988 1197 \nQ 2756 1666 2539 1819 \nQ 2322 1972 1947 1972 \nL 1259 1972 \nL 1259 0 \nL 628 0 \nL 628 4666 \nL 2053 4666 \nQ 2853 4666 3247 4331 \nQ 3641 3997 3641 3322 \nQ 3641 2881 3436 2590 \nQ 3231 2300 2841 2188 \nz\nM 1259 4147 \nL 1259 2491 \nL 2053 2491 \nQ 2509 2491 2742 2702 \nQ 2975 2913 2975 3322 \nQ 2975 3731 2742 3939 \nQ 2509 4147 2053 4147 \nL 1259 4147 \nz\n\" transform=\"scale(0.015625)\"/>\n      <path id=\"DejaVuSans-65\" d=\"M 3597 1894 \nL 3597 1613 \nL 953 1613 \nQ 991 1019 1311 708 \nQ 1631 397 2203 397 \nQ 2534 397 2845 478 \nQ 3156 559 3463 722 \nL 3463 178 \nQ 3153 47 2828 -22 \nQ 2503 -91 2169 -91 \nQ 1331 -91 842 396 \nQ 353 884 353 1716 \nQ 353 2575 817 3079 \nQ 1281 3584 2069 3584 \nQ 2775 3584 3186 3129 \nQ 3597 2675 3597 1894 \nz\nM 3022 2063 \nQ 3016 2534 2758 2815 \nQ 2500 3097 2075 3097 \nQ 1594 3097 1305 2825 \nQ 1016 2553 972 2059 \nL 3022 2063 \nz\n\" transform=\"scale(0.015625)\"/>\n     </defs>\n     <use xlink:href=\"#DejaVuSans-48\"/>\n     <use xlink:href=\"#DejaVuSans-69\" x=\"75.195312\"/>\n     <use xlink:href=\"#DejaVuSans-74\" x=\"102.978516\"/>\n     <use xlink:href=\"#DejaVuSans-52\" x=\"142.1875\"/>\n     <use xlink:href=\"#DejaVuSans-61\" x=\"209.419922\"/>\n     <use xlink:href=\"#DejaVuSans-74\" x=\"270.699219\"/>\n     <use xlink:href=\"#DejaVuSans-65\" x=\"309.908203\"/>\n    </g>\n   </g>\n  </g>\n </g>\n <defs>\n  <clipPath id=\"pe89ee78ca2\">\n   <rect x=\"42.828125\" y=\"22.318125\" width=\"558\" height=\"332.64\"/>\n  </clipPath>\n </defs>\n</svg>\n",
      "text/plain": [
       "<Figure size 1000x600 with 1 Axes>"
      ]
     },
     "metadata": {},
     "output_type": "display_data"
    }
   ],
   "source": [
    "plt.plot(popular_results[\"alpha\"], popular_results[\"metric\"])\n",
    "plt.xscale(\"log\")\n",
    "plt.xticks(popular_results[\"alpha\"], popular_results[\"alpha\"])\n",
    "plt.tick_params(which=\"minor\", size=0)\n",
    "plt.title(\"HitRate\")\n",
    "plt.xlabel(\"Alpha\")\n",
    "\n",
    "plt.show()"
   ]
  },
  {
   "cell_type": "code",
   "execution_count": 16,
   "id": "e365900a-e565-4fcf-b339-9da3cbc24703",
   "metadata": {},
   "outputs": [
    {
     "data": {
      "text/html": [
       "<div>\n",
       "<style scoped>\n",
       "    .dataframe tbody tr th:only-of-type {\n",
       "        vertical-align: middle;\n",
       "    }\n",
       "\n",
       "    .dataframe tbody tr th {\n",
       "        vertical-align: top;\n",
       "    }\n",
       "\n",
       "    .dataframe thead th {\n",
       "        text-align: right;\n",
       "    }\n",
       "</style>\n",
       "<table border=\"1\" class=\"dataframe\">\n",
       "  <thead>\n",
       "    <tr style=\"text-align: right;\">\n",
       "      <th></th>\n",
       "      <th>alpha</th>\n",
       "      <th>metric</th>\n",
       "    </tr>\n",
       "  </thead>\n",
       "  <tbody>\n",
       "    <tr>\n",
       "      <th>8</th>\n",
       "      <td>256</td>\n",
       "      <td>0.009781</td>\n",
       "    </tr>\n",
       "    <tr>\n",
       "      <th>9</th>\n",
       "      <td>512</td>\n",
       "      <td>0.009781</td>\n",
       "    </tr>\n",
       "    <tr>\n",
       "      <th>10</th>\n",
       "      <td>1024</td>\n",
       "      <td>0.009781</td>\n",
       "    </tr>\n",
       "    <tr>\n",
       "      <th>11</th>\n",
       "      <td>2048</td>\n",
       "      <td>0.009781</td>\n",
       "    </tr>\n",
       "    <tr>\n",
       "      <th>7</th>\n",
       "      <td>128</td>\n",
       "      <td>0.009106</td>\n",
       "    </tr>\n",
       "  </tbody>\n",
       "</table>\n",
       "</div>"
      ],
      "text/plain": [
       "    alpha    metric\n",
       "8     256  0.009781\n",
       "9     512  0.009781\n",
       "10   1024  0.009781\n",
       "11   2048  0.009781\n",
       "7     128  0.009106"
      ]
     },
     "execution_count": 16,
     "metadata": {},
     "output_type": "execute_result"
    }
   ],
   "source": [
    "popular_results = popular_results.sort_values(\"metric\", ascending=False)\n",
    "\n",
    "popular_results.head()"
   ]
  },
  {
   "cell_type": "markdown",
   "id": "1320c36e-b66e-492b-a8e4-074c778a79e2",
   "metadata": {},
   "source": [
    "## Pure SVD"
   ]
  },
  {
   "cell_type": "code",
   "execution_count": 17,
   "id": "c8d48a3a-4b29-49d4-9e18-f33146c0d656",
   "metadata": {},
   "outputs": [],
   "source": [
    "data_description = {\n",
    "    \"n_users\": trainval.userid.nunique(),\n",
    "    \"n_items\": trainval.itemid.nunique(),\n",
    "    \"feedback\": \"rating\",\n",
    "    \"items\": \"itemid\",\n",
    "    \"users\": \"userid\",\n",
    "}"
   ]
  },
  {
   "cell_type": "code",
   "execution_count": 18,
   "id": "6a53bdc0-9f85-4107-80da-ecf2e49a6ed2",
   "metadata": {},
   "outputs": [
    {
     "data": {
      "text/plain": [
       "[2, 3, 4, 6, 8, 12, 16, 24, 32, 48, 64, 96, 128, 192, 256, 384, 512, 768]"
      ]
     },
     "execution_count": 18,
     "metadata": {},
     "output_type": "execute_result"
    }
   ],
   "source": [
    "ranks = [b * 2 ** p for p in range(0, 9) for b in [2, 3]]\n",
    "ranks"
   ]
  },
  {
   "cell_type": "code",
   "execution_count": 19,
   "id": "a3714f42-5b5d-4395-abf4-bcbdccc8394e",
   "metadata": {},
   "outputs": [
    {
     "name": "stdout",
     "output_type": "stream",
     "text": [
      "Interaction matrix shape: (19038, 5548)\n",
      "Matrix density: 0.0006782151554667767\n",
      "CPU times: user 1min 5s, sys: 4.64 s, total: 1min 9s\n",
      "Wall time: 22.1 s\n"
     ]
    }
   ],
   "source": [
    "%%time\n",
    "svd_results = svd_gridsearch(ranks, trainval, testval, holdoutval, data_description, topn=20)"
   ]
  },
  {
   "cell_type": "code",
   "execution_count": 20,
   "id": "7c0aabfe-7bc9-4ea6-84c3-27ef71919460",
   "metadata": {},
   "outputs": [],
   "source": [
    "svd_results = pd.DataFrame(svd_results)"
   ]
  },
  {
   "cell_type": "code",
   "execution_count": 21,
   "id": "162af01d-d769-491c-9cf8-97e91aa1dec1",
   "metadata": {},
   "outputs": [
    {
     "data": {
      "image/svg+xml": "<?xml version=\"1.0\" encoding=\"utf-8\" standalone=\"no\"?>\n<!DOCTYPE svg PUBLIC \"-//W3C//DTD SVG 1.1//EN\"\n  \"http://www.w3.org/Graphics/SVG/1.1/DTD/svg11.dtd\">\n<svg xmlns:xlink=\"http://www.w3.org/1999/xlink\" width=\"608.028125pt\" height=\"392.514375pt\" viewBox=\"0 0 608.028125 392.514375\" xmlns=\"http://www.w3.org/2000/svg\" version=\"1.1\">\n <metadata>\n  <rdf:RDF xmlns:dc=\"http://purl.org/dc/elements/1.1/\" xmlns:cc=\"http://creativecommons.org/ns#\" xmlns:rdf=\"http://www.w3.org/1999/02/22-rdf-syntax-ns#\">\n   <cc:Work>\n    <dc:type rdf:resource=\"http://purl.org/dc/dcmitype/StillImage\"/>\n    <dc:date>2023-03-24T06:05:48.839872</dc:date>\n    <dc:format>image/svg+xml</dc:format>\n    <dc:creator>\n     <cc:Agent>\n      <dc:title>Matplotlib v3.7.1, https://matplotlib.org/</dc:title>\n     </cc:Agent>\n    </dc:creator>\n   </cc:Work>\n  </rdf:RDF>\n </metadata>\n <defs>\n  <style type=\"text/css\">*{stroke-linejoin: round; stroke-linecap: butt}</style>\n </defs>\n <g id=\"figure_1\">\n  <g id=\"patch_1\">\n   <path d=\"M 0 392.514375 \nL 608.028125 392.514375 \nL 608.028125 0 \nL 0 0 \nz\n\" style=\"fill: #ffffff\"/>\n  </g>\n  <g id=\"axes_1\">\n   <g id=\"patch_2\">\n    <path d=\"M 42.828125 354.958125 \nL 600.828125 354.958125 \nL 600.828125 22.318125 \nL 42.828125 22.318125 \nz\n\" style=\"fill: #ffffff\"/>\n   </g>\n   <g id=\"matplotlib.axis_1\">\n    <g id=\"xtick_1\">\n     <g id=\"line2d_1\">\n      <defs>\n       <path id=\"m132c0cdbe9\" d=\"M 0 0 \nL 0 3.5 \n\" style=\"stroke: #000000; stroke-width: 0.8\"/>\n      </defs>\n      <g>\n       <use xlink:href=\"#m132c0cdbe9\" x=\"68.191761\" y=\"354.958125\" style=\"stroke: #000000; stroke-width: 0.8\"/>\n      </g>\n     </g>\n     <g id=\"text_1\">\n      <!-- 2 -->\n      <g transform=\"translate(65.010511 369.556562) scale(0.1 -0.1)\">\n       <defs>\n        <path id=\"DejaVuSans-32\" d=\"M 1228 531 \nL 3431 531 \nL 3431 0 \nL 469 0 \nL 469 531 \nQ 828 903 1448 1529 \nQ 2069 2156 2228 2338 \nQ 2531 2678 2651 2914 \nQ 2772 3150 2772 3378 \nQ 2772 3750 2511 3984 \nQ 2250 4219 1831 4219 \nQ 1534 4219 1204 4116 \nQ 875 4013 500 3803 \nL 500 4441 \nQ 881 4594 1212 4672 \nQ 1544 4750 1819 4750 \nQ 2544 4750 2975 4387 \nQ 3406 4025 3406 3419 \nQ 3406 3131 3298 2873 \nQ 3191 2616 2906 2266 \nQ 2828 2175 2409 1742 \nQ 1991 1309 1228 531 \nz\n\" transform=\"scale(0.015625)\"/>\n       </defs>\n       <use xlink:href=\"#DejaVuSans-32\"/>\n      </g>\n     </g>\n    </g>\n    <g id=\"xtick_2\">\n     <g id=\"line2d_2\">\n      <g>\n       <use xlink:href=\"#m132c0cdbe9\" x=\"102.75633\" y=\"354.958125\" style=\"stroke: #000000; stroke-width: 0.8\"/>\n      </g>\n     </g>\n     <g id=\"text_2\">\n      <!-- 3 -->\n      <g transform=\"translate(99.57508 369.556562) scale(0.1 -0.1)\">\n       <defs>\n        <path id=\"DejaVuSans-33\" d=\"M 2597 2516 \nQ 3050 2419 3304 2112 \nQ 3559 1806 3559 1356 \nQ 3559 666 3084 287 \nQ 2609 -91 1734 -91 \nQ 1441 -91 1130 -33 \nQ 819 25 488 141 \nL 488 750 \nQ 750 597 1062 519 \nQ 1375 441 1716 441 \nQ 2309 441 2620 675 \nQ 2931 909 2931 1356 \nQ 2931 1769 2642 2001 \nQ 2353 2234 1838 2234 \nL 1294 2234 \nL 1294 2753 \nL 1863 2753 \nQ 2328 2753 2575 2939 \nQ 2822 3125 2822 3475 \nQ 2822 3834 2567 4026 \nQ 2313 4219 1838 4219 \nQ 1578 4219 1281 4162 \nQ 984 4106 628 3988 \nL 628 4550 \nQ 988 4650 1302 4700 \nQ 1616 4750 1894 4750 \nQ 2613 4750 3031 4423 \nQ 3450 4097 3450 3541 \nQ 3450 3153 3228 2886 \nQ 3006 2619 2597 2516 \nz\n\" transform=\"scale(0.015625)\"/>\n       </defs>\n       <use xlink:href=\"#DejaVuSans-33\"/>\n      </g>\n     </g>\n    </g>\n    <g id=\"xtick_3\">\n     <g id=\"line2d_3\">\n      <g>\n       <use xlink:href=\"#m132c0cdbe9\" x=\"127.280281\" y=\"354.958125\" style=\"stroke: #000000; stroke-width: 0.8\"/>\n      </g>\n     </g>\n     <g id=\"text_3\">\n      <!-- 4 -->\n      <g transform=\"translate(124.099031 369.556562) scale(0.1 -0.1)\">\n       <defs>\n        <path id=\"DejaVuSans-34\" d=\"M 2419 4116 \nL 825 1625 \nL 2419 1625 \nL 2419 4116 \nz\nM 2253 4666 \nL 3047 4666 \nL 3047 1625 \nL 3713 1625 \nL 3713 1100 \nL 3047 1100 \nL 3047 0 \nL 2419 0 \nL 2419 1100 \nL 313 1100 \nL 313 1709 \nL 2253 4666 \nz\n\" transform=\"scale(0.015625)\"/>\n       </defs>\n       <use xlink:href=\"#DejaVuSans-34\"/>\n      </g>\n     </g>\n    </g>\n    <g id=\"xtick_4\">\n     <g id=\"line2d_4\">\n      <g>\n       <use xlink:href=\"#m132c0cdbe9\" x=\"161.84485\" y=\"354.958125\" style=\"stroke: #000000; stroke-width: 0.8\"/>\n      </g>\n     </g>\n     <g id=\"text_4\">\n      <!-- 6 -->\n      <g transform=\"translate(158.6636 369.556562) scale(0.1 -0.1)\">\n       <defs>\n        <path id=\"DejaVuSans-36\" d=\"M 2113 2584 \nQ 1688 2584 1439 2293 \nQ 1191 2003 1191 1497 \nQ 1191 994 1439 701 \nQ 1688 409 2113 409 \nQ 2538 409 2786 701 \nQ 3034 994 3034 1497 \nQ 3034 2003 2786 2293 \nQ 2538 2584 2113 2584 \nz\nM 3366 4563 \nL 3366 3988 \nQ 3128 4100 2886 4159 \nQ 2644 4219 2406 4219 \nQ 1781 4219 1451 3797 \nQ 1122 3375 1075 2522 \nQ 1259 2794 1537 2939 \nQ 1816 3084 2150 3084 \nQ 2853 3084 3261 2657 \nQ 3669 2231 3669 1497 \nQ 3669 778 3244 343 \nQ 2819 -91 2113 -91 \nQ 1303 -91 875 529 \nQ 447 1150 447 2328 \nQ 447 3434 972 4092 \nQ 1497 4750 2381 4750 \nQ 2619 4750 2861 4703 \nQ 3103 4656 3366 4563 \nz\n\" transform=\"scale(0.015625)\"/>\n       </defs>\n       <use xlink:href=\"#DejaVuSans-36\"/>\n      </g>\n     </g>\n    </g>\n    <g id=\"xtick_5\">\n     <g id=\"line2d_5\">\n      <g>\n       <use xlink:href=\"#m132c0cdbe9\" x=\"186.368801\" y=\"354.958125\" style=\"stroke: #000000; stroke-width: 0.8\"/>\n      </g>\n     </g>\n     <g id=\"text_5\">\n      <!-- 8 -->\n      <g transform=\"translate(183.187551 369.556562) scale(0.1 -0.1)\">\n       <defs>\n        <path id=\"DejaVuSans-38\" d=\"M 2034 2216 \nQ 1584 2216 1326 1975 \nQ 1069 1734 1069 1313 \nQ 1069 891 1326 650 \nQ 1584 409 2034 409 \nQ 2484 409 2743 651 \nQ 3003 894 3003 1313 \nQ 3003 1734 2745 1975 \nQ 2488 2216 2034 2216 \nz\nM 1403 2484 \nQ 997 2584 770 2862 \nQ 544 3141 544 3541 \nQ 544 4100 942 4425 \nQ 1341 4750 2034 4750 \nQ 2731 4750 3128 4425 \nQ 3525 4100 3525 3541 \nQ 3525 3141 3298 2862 \nQ 3072 2584 2669 2484 \nQ 3125 2378 3379 2068 \nQ 3634 1759 3634 1313 \nQ 3634 634 3220 271 \nQ 2806 -91 2034 -91 \nQ 1263 -91 848 271 \nQ 434 634 434 1313 \nQ 434 1759 690 2068 \nQ 947 2378 1403 2484 \nz\nM 1172 3481 \nQ 1172 3119 1398 2916 \nQ 1625 2713 2034 2713 \nQ 2441 2713 2670 2916 \nQ 2900 3119 2900 3481 \nQ 2900 3844 2670 4047 \nQ 2441 4250 2034 4250 \nQ 1625 4250 1398 4047 \nQ 1172 3844 1172 3481 \nz\n\" transform=\"scale(0.015625)\"/>\n       </defs>\n       <use xlink:href=\"#DejaVuSans-38\"/>\n      </g>\n     </g>\n    </g>\n    <g id=\"xtick_6\">\n     <g id=\"line2d_6\">\n      <g>\n       <use xlink:href=\"#m132c0cdbe9\" x=\"220.933369\" y=\"354.958125\" style=\"stroke: #000000; stroke-width: 0.8\"/>\n      </g>\n     </g>\n     <g id=\"text_6\">\n      <!-- 12 -->\n      <g transform=\"translate(214.570869 369.556562) scale(0.1 -0.1)\">\n       <defs>\n        <path id=\"DejaVuSans-31\" d=\"M 794 531 \nL 1825 531 \nL 1825 4091 \nL 703 3866 \nL 703 4441 \nL 1819 4666 \nL 2450 4666 \nL 2450 531 \nL 3481 531 \nL 3481 0 \nL 794 0 \nL 794 531 \nz\n\" transform=\"scale(0.015625)\"/>\n       </defs>\n       <use xlink:href=\"#DejaVuSans-31\"/>\n       <use xlink:href=\"#DejaVuSans-32\" x=\"63.623047\"/>\n      </g>\n     </g>\n    </g>\n    <g id=\"xtick_7\">\n     <g id=\"line2d_7\">\n      <g>\n       <use xlink:href=\"#m132c0cdbe9\" x=\"245.457321\" y=\"354.958125\" style=\"stroke: #000000; stroke-width: 0.8\"/>\n      </g>\n     </g>\n     <g id=\"text_7\">\n      <!-- 16 -->\n      <g transform=\"translate(239.094821 369.556562) scale(0.1 -0.1)\">\n       <use xlink:href=\"#DejaVuSans-31\"/>\n       <use xlink:href=\"#DejaVuSans-36\" x=\"63.623047\"/>\n      </g>\n     </g>\n    </g>\n    <g id=\"xtick_8\">\n     <g id=\"line2d_8\">\n      <g>\n       <use xlink:href=\"#m132c0cdbe9\" x=\"280.021889\" y=\"354.958125\" style=\"stroke: #000000; stroke-width: 0.8\"/>\n      </g>\n     </g>\n     <g id=\"text_8\">\n      <!-- 24 -->\n      <g transform=\"translate(273.659389 369.556562) scale(0.1 -0.1)\">\n       <use xlink:href=\"#DejaVuSans-32\"/>\n       <use xlink:href=\"#DejaVuSans-34\" x=\"63.623047\"/>\n      </g>\n     </g>\n    </g>\n    <g id=\"xtick_9\">\n     <g id=\"line2d_9\">\n      <g>\n       <use xlink:href=\"#m132c0cdbe9\" x=\"304.545841\" y=\"354.958125\" style=\"stroke: #000000; stroke-width: 0.8\"/>\n      </g>\n     </g>\n     <g id=\"text_9\">\n      <!-- 32 -->\n      <g transform=\"translate(298.183341 369.556562) scale(0.1 -0.1)\">\n       <use xlink:href=\"#DejaVuSans-33\"/>\n       <use xlink:href=\"#DejaVuSans-32\" x=\"63.623047\"/>\n      </g>\n     </g>\n    </g>\n    <g id=\"xtick_10\">\n     <g id=\"line2d_10\">\n      <g>\n       <use xlink:href=\"#m132c0cdbe9\" x=\"339.110409\" y=\"354.958125\" style=\"stroke: #000000; stroke-width: 0.8\"/>\n      </g>\n     </g>\n     <g id=\"text_10\">\n      <!-- 48 -->\n      <g transform=\"translate(332.747909 369.556562) scale(0.1 -0.1)\">\n       <use xlink:href=\"#DejaVuSans-34\"/>\n       <use xlink:href=\"#DejaVuSans-38\" x=\"63.623047\"/>\n      </g>\n     </g>\n    </g>\n    <g id=\"xtick_11\">\n     <g id=\"line2d_11\">\n      <g>\n       <use xlink:href=\"#m132c0cdbe9\" x=\"363.634361\" y=\"354.958125\" style=\"stroke: #000000; stroke-width: 0.8\"/>\n      </g>\n     </g>\n     <g id=\"text_11\">\n      <!-- 64 -->\n      <g transform=\"translate(357.271861 369.556562) scale(0.1 -0.1)\">\n       <use xlink:href=\"#DejaVuSans-36\"/>\n       <use xlink:href=\"#DejaVuSans-34\" x=\"63.623047\"/>\n      </g>\n     </g>\n    </g>\n    <g id=\"xtick_12\">\n     <g id=\"line2d_12\">\n      <g>\n       <use xlink:href=\"#m132c0cdbe9\" x=\"398.198929\" y=\"354.958125\" style=\"stroke: #000000; stroke-width: 0.8\"/>\n      </g>\n     </g>\n     <g id=\"text_12\">\n      <!-- 96 -->\n      <g transform=\"translate(391.836429 369.556562) scale(0.1 -0.1)\">\n       <defs>\n        <path id=\"DejaVuSans-39\" d=\"M 703 97 \nL 703 672 \nQ 941 559 1184 500 \nQ 1428 441 1663 441 \nQ 2288 441 2617 861 \nQ 2947 1281 2994 2138 \nQ 2813 1869 2534 1725 \nQ 2256 1581 1919 1581 \nQ 1219 1581 811 2004 \nQ 403 2428 403 3163 \nQ 403 3881 828 4315 \nQ 1253 4750 1959 4750 \nQ 2769 4750 3195 4129 \nQ 3622 3509 3622 2328 \nQ 3622 1225 3098 567 \nQ 2575 -91 1691 -91 \nQ 1453 -91 1209 -44 \nQ 966 3 703 97 \nz\nM 1959 2075 \nQ 2384 2075 2632 2365 \nQ 2881 2656 2881 3163 \nQ 2881 3666 2632 3958 \nQ 2384 4250 1959 4250 \nQ 1534 4250 1286 3958 \nQ 1038 3666 1038 3163 \nQ 1038 2656 1286 2365 \nQ 1534 2075 1959 2075 \nz\n\" transform=\"scale(0.015625)\"/>\n       </defs>\n       <use xlink:href=\"#DejaVuSans-39\"/>\n       <use xlink:href=\"#DejaVuSans-36\" x=\"63.623047\"/>\n      </g>\n     </g>\n    </g>\n    <g id=\"xtick_13\">\n     <g id=\"line2d_13\">\n      <g>\n       <use xlink:href=\"#m132c0cdbe9\" x=\"422.722881\" y=\"354.958125\" style=\"stroke: #000000; stroke-width: 0.8\"/>\n      </g>\n     </g>\n     <g id=\"text_13\">\n      <!-- 128 -->\n      <g transform=\"translate(413.179131 369.556562) scale(0.1 -0.1)\">\n       <use xlink:href=\"#DejaVuSans-31\"/>\n       <use xlink:href=\"#DejaVuSans-32\" x=\"63.623047\"/>\n       <use xlink:href=\"#DejaVuSans-38\" x=\"127.246094\"/>\n      </g>\n     </g>\n    </g>\n    <g id=\"xtick_14\">\n     <g id=\"line2d_14\">\n      <g>\n       <use xlink:href=\"#m132c0cdbe9\" x=\"457.287449\" y=\"354.958125\" style=\"stroke: #000000; stroke-width: 0.8\"/>\n      </g>\n     </g>\n     <g id=\"text_14\">\n      <!-- 192 -->\n      <g transform=\"translate(447.743699 369.556562) scale(0.1 -0.1)\">\n       <use xlink:href=\"#DejaVuSans-31\"/>\n       <use xlink:href=\"#DejaVuSans-39\" x=\"63.623047\"/>\n       <use xlink:href=\"#DejaVuSans-32\" x=\"127.246094\"/>\n      </g>\n     </g>\n    </g>\n    <g id=\"xtick_15\">\n     <g id=\"line2d_15\">\n      <g>\n       <use xlink:href=\"#m132c0cdbe9\" x=\"481.8114\" y=\"354.958125\" style=\"stroke: #000000; stroke-width: 0.8\"/>\n      </g>\n     </g>\n     <g id=\"text_15\">\n      <!-- 256 -->\n      <g transform=\"translate(472.26765 369.556562) scale(0.1 -0.1)\">\n       <defs>\n        <path id=\"DejaVuSans-35\" d=\"M 691 4666 \nL 3169 4666 \nL 3169 4134 \nL 1269 4134 \nL 1269 2991 \nQ 1406 3038 1543 3061 \nQ 1681 3084 1819 3084 \nQ 2600 3084 3056 2656 \nQ 3513 2228 3513 1497 \nQ 3513 744 3044 326 \nQ 2575 -91 1722 -91 \nQ 1428 -91 1123 -41 \nQ 819 9 494 109 \nL 494 744 \nQ 775 591 1075 516 \nQ 1375 441 1709 441 \nQ 2250 441 2565 725 \nQ 2881 1009 2881 1497 \nQ 2881 1984 2565 2268 \nQ 2250 2553 1709 2553 \nQ 1456 2553 1204 2497 \nQ 953 2441 691 2322 \nL 691 4666 \nz\n\" transform=\"scale(0.015625)\"/>\n       </defs>\n       <use xlink:href=\"#DejaVuSans-32\"/>\n       <use xlink:href=\"#DejaVuSans-35\" x=\"63.623047\"/>\n       <use xlink:href=\"#DejaVuSans-36\" x=\"127.246094\"/>\n      </g>\n     </g>\n    </g>\n    <g id=\"xtick_16\">\n     <g id=\"line2d_16\">\n      <g>\n       <use xlink:href=\"#m132c0cdbe9\" x=\"516.375969\" y=\"354.958125\" style=\"stroke: #000000; stroke-width: 0.8\"/>\n      </g>\n     </g>\n     <g id=\"text_16\">\n      <!-- 384 -->\n      <g transform=\"translate(506.832219 369.556562) scale(0.1 -0.1)\">\n       <use xlink:href=\"#DejaVuSans-33\"/>\n       <use xlink:href=\"#DejaVuSans-38\" x=\"63.623047\"/>\n       <use xlink:href=\"#DejaVuSans-34\" x=\"127.246094\"/>\n      </g>\n     </g>\n    </g>\n    <g id=\"xtick_17\">\n     <g id=\"line2d_17\">\n      <g>\n       <use xlink:href=\"#m132c0cdbe9\" x=\"540.89992\" y=\"354.958125\" style=\"stroke: #000000; stroke-width: 0.8\"/>\n      </g>\n     </g>\n     <g id=\"text_17\">\n      <!-- 512 -->\n      <g transform=\"translate(531.35617 369.556562) scale(0.1 -0.1)\">\n       <use xlink:href=\"#DejaVuSans-35\"/>\n       <use xlink:href=\"#DejaVuSans-31\" x=\"63.623047\"/>\n       <use xlink:href=\"#DejaVuSans-32\" x=\"127.246094\"/>\n      </g>\n     </g>\n    </g>\n    <g id=\"xtick_18\">\n     <g id=\"line2d_18\">\n      <g>\n       <use xlink:href=\"#m132c0cdbe9\" x=\"575.464489\" y=\"354.958125\" style=\"stroke: #000000; stroke-width: 0.8\"/>\n      </g>\n     </g>\n     <g id=\"text_18\">\n      <!-- 768 -->\n      <g transform=\"translate(565.920739 369.556562) scale(0.1 -0.1)\">\n       <defs>\n        <path id=\"DejaVuSans-37\" d=\"M 525 4666 \nL 3525 4666 \nL 3525 4397 \nL 1831 0 \nL 1172 0 \nL 2766 4134 \nL 525 4134 \nL 525 4666 \nz\n\" transform=\"scale(0.015625)\"/>\n       </defs>\n       <use xlink:href=\"#DejaVuSans-37\"/>\n       <use xlink:href=\"#DejaVuSans-36\" x=\"63.623047\"/>\n       <use xlink:href=\"#DejaVuSans-38\" x=\"127.246094\"/>\n      </g>\n     </g>\n    </g>\n    <g id=\"xtick_19\">\n     <g id=\"line2d_19\"/>\n    </g>\n    <g id=\"xtick_20\">\n     <g id=\"line2d_20\"/>\n    </g>\n    <g id=\"xtick_21\">\n     <g id=\"line2d_21\"/>\n    </g>\n    <g id=\"xtick_22\">\n     <g id=\"line2d_22\"/>\n    </g>\n    <g id=\"xtick_23\">\n     <g id=\"line2d_23\"/>\n    </g>\n    <g id=\"xtick_24\">\n     <g id=\"line2d_24\"/>\n    </g>\n    <g id=\"xtick_25\">\n     <g id=\"line2d_25\"/>\n    </g>\n    <g id=\"xtick_26\">\n     <g id=\"line2d_26\"/>\n    </g>\n    <g id=\"xtick_27\">\n     <g id=\"line2d_27\"/>\n    </g>\n    <g id=\"xtick_28\">\n     <g id=\"line2d_28\"/>\n    </g>\n    <g id=\"xtick_29\">\n     <g id=\"line2d_29\"/>\n    </g>\n    <g id=\"xtick_30\">\n     <g id=\"line2d_30\"/>\n    </g>\n    <g id=\"xtick_31\">\n     <g id=\"line2d_31\"/>\n    </g>\n    <g id=\"xtick_32\">\n     <g id=\"line2d_32\"/>\n    </g>\n    <g id=\"xtick_33\">\n     <g id=\"line2d_33\"/>\n    </g>\n    <g id=\"xtick_34\">\n     <g id=\"line2d_34\"/>\n    </g>\n    <g id=\"xtick_35\">\n     <g id=\"line2d_35\"/>\n    </g>\n    <g id=\"xtick_36\">\n     <g id=\"line2d_36\"/>\n    </g>\n    <g id=\"xtick_37\">\n     <g id=\"line2d_37\"/>\n    </g>\n    <g id=\"text_19\">\n     <!-- Rank -->\n     <g transform=\"translate(309.338281 383.234687) scale(0.1 -0.1)\">\n      <defs>\n       <path id=\"DejaVuSans-52\" d=\"M 2841 2188 \nQ 3044 2119 3236 1894 \nQ 3428 1669 3622 1275 \nL 4263 0 \nL 3584 0 \nL 2988 1197 \nQ 2756 1666 2539 1819 \nQ 2322 1972 1947 1972 \nL 1259 1972 \nL 1259 0 \nL 628 0 \nL 628 4666 \nL 2053 4666 \nQ 2853 4666 3247 4331 \nQ 3641 3997 3641 3322 \nQ 3641 2881 3436 2590 \nQ 3231 2300 2841 2188 \nz\nM 1259 4147 \nL 1259 2491 \nL 2053 2491 \nQ 2509 2491 2742 2702 \nQ 2975 2913 2975 3322 \nQ 2975 3731 2742 3939 \nQ 2509 4147 2053 4147 \nL 1259 4147 \nz\n\" transform=\"scale(0.015625)\"/>\n       <path id=\"DejaVuSans-61\" d=\"M 2194 1759 \nQ 1497 1759 1228 1600 \nQ 959 1441 959 1056 \nQ 959 750 1161 570 \nQ 1363 391 1709 391 \nQ 2188 391 2477 730 \nQ 2766 1069 2766 1631 \nL 2766 1759 \nL 2194 1759 \nz\nM 3341 1997 \nL 3341 0 \nL 2766 0 \nL 2766 531 \nQ 2569 213 2275 61 \nQ 1981 -91 1556 -91 \nQ 1019 -91 701 211 \nQ 384 513 384 1019 \nQ 384 1609 779 1909 \nQ 1175 2209 1959 2209 \nL 2766 2209 \nL 2766 2266 \nQ 2766 2663 2505 2880 \nQ 2244 3097 1772 3097 \nQ 1472 3097 1187 3025 \nQ 903 2953 641 2809 \nL 641 3341 \nQ 956 3463 1253 3523 \nQ 1550 3584 1831 3584 \nQ 2591 3584 2966 3190 \nQ 3341 2797 3341 1997 \nz\n\" transform=\"scale(0.015625)\"/>\n       <path id=\"DejaVuSans-6e\" d=\"M 3513 2113 \nL 3513 0 \nL 2938 0 \nL 2938 2094 \nQ 2938 2591 2744 2837 \nQ 2550 3084 2163 3084 \nQ 1697 3084 1428 2787 \nQ 1159 2491 1159 1978 \nL 1159 0 \nL 581 0 \nL 581 3500 \nL 1159 3500 \nL 1159 2956 \nQ 1366 3272 1645 3428 \nQ 1925 3584 2291 3584 \nQ 2894 3584 3203 3211 \nQ 3513 2838 3513 2113 \nz\n\" transform=\"scale(0.015625)\"/>\n       <path id=\"DejaVuSans-6b\" d=\"M 581 4863 \nL 1159 4863 \nL 1159 1991 \nL 2875 3500 \nL 3609 3500 \nL 1753 1863 \nL 3688 0 \nL 2938 0 \nL 1159 1709 \nL 1159 0 \nL 581 0 \nL 581 4863 \nz\n\" transform=\"scale(0.015625)\"/>\n      </defs>\n      <use xlink:href=\"#DejaVuSans-52\"/>\n      <use xlink:href=\"#DejaVuSans-61\" x=\"67.232422\"/>\n      <use xlink:href=\"#DejaVuSans-6e\" x=\"128.511719\"/>\n      <use xlink:href=\"#DejaVuSans-6b\" x=\"191.890625\"/>\n     </g>\n    </g>\n   </g>\n   <g id=\"matplotlib.axis_2\">\n    <g id=\"ytick_1\">\n     <g id=\"line2d_38\">\n      <defs>\n       <path id=\"m363dbed904\" d=\"M 0 0 \nL -3.5 0 \n\" style=\"stroke: #000000; stroke-width: 0.8\"/>\n      </defs>\n      <g>\n       <use xlink:href=\"#m363dbed904\" x=\"42.828125\" y=\"301.501609\" style=\"stroke: #000000; stroke-width: 0.8\"/>\n      </g>\n     </g>\n     <g id=\"text_20\">\n      <!-- 0.002 -->\n      <g transform=\"translate(7.2 305.300828) scale(0.1 -0.1)\">\n       <defs>\n        <path id=\"DejaVuSans-30\" d=\"M 2034 4250 \nQ 1547 4250 1301 3770 \nQ 1056 3291 1056 2328 \nQ 1056 1369 1301 889 \nQ 1547 409 2034 409 \nQ 2525 409 2770 889 \nQ 3016 1369 3016 2328 \nQ 3016 3291 2770 3770 \nQ 2525 4250 2034 4250 \nz\nM 2034 4750 \nQ 2819 4750 3233 4129 \nQ 3647 3509 3647 2328 \nQ 3647 1150 3233 529 \nQ 2819 -91 2034 -91 \nQ 1250 -91 836 529 \nQ 422 1150 422 2328 \nQ 422 3509 836 4129 \nQ 1250 4750 2034 4750 \nz\n\" transform=\"scale(0.015625)\"/>\n        <path id=\"DejaVuSans-2e\" d=\"M 684 794 \nL 1344 794 \nL 1344 0 \nL 684 0 \nL 684 794 \nz\n\" transform=\"scale(0.015625)\"/>\n       </defs>\n       <use xlink:href=\"#DejaVuSans-30\"/>\n       <use xlink:href=\"#DejaVuSans-2e\" x=\"63.623047\"/>\n       <use xlink:href=\"#DejaVuSans-30\" x=\"95.410156\"/>\n       <use xlink:href=\"#DejaVuSans-30\" x=\"159.033203\"/>\n       <use xlink:href=\"#DejaVuSans-32\" x=\"222.65625\"/>\n      </g>\n     </g>\n    </g>\n    <g id=\"ytick_2\">\n     <g id=\"line2d_39\">\n      <g>\n       <use xlink:href=\"#m363dbed904\" x=\"42.828125\" y=\"243.655415\" style=\"stroke: #000000; stroke-width: 0.8\"/>\n      </g>\n     </g>\n     <g id=\"text_21\">\n      <!-- 0.004 -->\n      <g transform=\"translate(7.2 247.454634) scale(0.1 -0.1)\">\n       <use xlink:href=\"#DejaVuSans-30\"/>\n       <use xlink:href=\"#DejaVuSans-2e\" x=\"63.623047\"/>\n       <use xlink:href=\"#DejaVuSans-30\" x=\"95.410156\"/>\n       <use xlink:href=\"#DejaVuSans-30\" x=\"159.033203\"/>\n       <use xlink:href=\"#DejaVuSans-34\" x=\"222.65625\"/>\n      </g>\n     </g>\n    </g>\n    <g id=\"ytick_3\">\n     <g id=\"line2d_40\">\n      <g>\n       <use xlink:href=\"#m363dbed904\" x=\"42.828125\" y=\"185.809222\" style=\"stroke: #000000; stroke-width: 0.8\"/>\n      </g>\n     </g>\n     <g id=\"text_22\">\n      <!-- 0.006 -->\n      <g transform=\"translate(7.2 189.608441) scale(0.1 -0.1)\">\n       <use xlink:href=\"#DejaVuSans-30\"/>\n       <use xlink:href=\"#DejaVuSans-2e\" x=\"63.623047\"/>\n       <use xlink:href=\"#DejaVuSans-30\" x=\"95.410156\"/>\n       <use xlink:href=\"#DejaVuSans-30\" x=\"159.033203\"/>\n       <use xlink:href=\"#DejaVuSans-36\" x=\"222.65625\"/>\n      </g>\n     </g>\n    </g>\n    <g id=\"ytick_4\">\n     <g id=\"line2d_41\">\n      <g>\n       <use xlink:href=\"#m363dbed904\" x=\"42.828125\" y=\"127.963028\" style=\"stroke: #000000; stroke-width: 0.8\"/>\n      </g>\n     </g>\n     <g id=\"text_23\">\n      <!-- 0.008 -->\n      <g transform=\"translate(7.2 131.762247) scale(0.1 -0.1)\">\n       <use xlink:href=\"#DejaVuSans-30\"/>\n       <use xlink:href=\"#DejaVuSans-2e\" x=\"63.623047\"/>\n       <use xlink:href=\"#DejaVuSans-30\" x=\"95.410156\"/>\n       <use xlink:href=\"#DejaVuSans-30\" x=\"159.033203\"/>\n       <use xlink:href=\"#DejaVuSans-38\" x=\"222.65625\"/>\n      </g>\n     </g>\n    </g>\n    <g id=\"ytick_5\">\n     <g id=\"line2d_42\">\n      <g>\n       <use xlink:href=\"#m363dbed904\" x=\"42.828125\" y=\"70.116835\" style=\"stroke: #000000; stroke-width: 0.8\"/>\n      </g>\n     </g>\n     <g id=\"text_24\">\n      <!-- 0.010 -->\n      <g transform=\"translate(7.2 73.916053) scale(0.1 -0.1)\">\n       <use xlink:href=\"#DejaVuSans-30\"/>\n       <use xlink:href=\"#DejaVuSans-2e\" x=\"63.623047\"/>\n       <use xlink:href=\"#DejaVuSans-30\" x=\"95.410156\"/>\n       <use xlink:href=\"#DejaVuSans-31\" x=\"159.033203\"/>\n       <use xlink:href=\"#DejaVuSans-30\" x=\"222.65625\"/>\n      </g>\n     </g>\n    </g>\n   </g>\n   <g id=\"line2d_43\">\n    <path d=\"M 68.191761 339.838125 \nL 102.75633 174.005867 \nL 127.280281 242.289738 \nL 161.84485 174.005867 \nL 186.368801 154.49619 \nL 220.933369 222.78006 \nL 245.457321 261.799415 \nL 280.021889 213.025222 \nL 304.545841 154.49619 \nL 339.110409 144.741351 \nL 363.634361 86.212319 \nL 398.198929 86.212319 \nL 422.722881 37.438125 \nL 457.287449 86.212319 \nL 481.8114 134.986512 \nL 516.375969 86.212319 \nL 540.89992 115.476835 \nL 575.464489 47.192964 \n\" clip-path=\"url(#p9b35a1e15d)\" style=\"fill: none; stroke: #1f77b4; stroke-width: 1.5; stroke-linecap: square\"/>\n   </g>\n   <g id=\"patch_3\">\n    <path d=\"M 42.828125 354.958125 \nL 42.828125 22.318125 \n\" style=\"fill: none; stroke: #000000; stroke-width: 0.8; stroke-linejoin: miter; stroke-linecap: square\"/>\n   </g>\n   <g id=\"patch_4\">\n    <path d=\"M 600.828125 354.958125 \nL 600.828125 22.318125 \n\" style=\"fill: none; stroke: #000000; stroke-width: 0.8; stroke-linejoin: miter; stroke-linecap: square\"/>\n   </g>\n   <g id=\"patch_5\">\n    <path d=\"M 42.828125 354.958125 \nL 600.828125 354.958125 \n\" style=\"fill: none; stroke: #000000; stroke-width: 0.8; stroke-linejoin: miter; stroke-linecap: square\"/>\n   </g>\n   <g id=\"patch_6\">\n    <path d=\"M 42.828125 22.318125 \nL 600.828125 22.318125 \n\" style=\"fill: none; stroke: #000000; stroke-width: 0.8; stroke-linejoin: miter; stroke-linecap: square\"/>\n   </g>\n   <g id=\"text_25\">\n    <!-- HitRate -->\n    <g transform=\"translate(299.541875 16.318125) scale(0.12 -0.12)\">\n     <defs>\n      <path id=\"DejaVuSans-48\" d=\"M 628 4666 \nL 1259 4666 \nL 1259 2753 \nL 3553 2753 \nL 3553 4666 \nL 4184 4666 \nL 4184 0 \nL 3553 0 \nL 3553 2222 \nL 1259 2222 \nL 1259 0 \nL 628 0 \nL 628 4666 \nz\n\" transform=\"scale(0.015625)\"/>\n      <path id=\"DejaVuSans-69\" d=\"M 603 3500 \nL 1178 3500 \nL 1178 0 \nL 603 0 \nL 603 3500 \nz\nM 603 4863 \nL 1178 4863 \nL 1178 4134 \nL 603 4134 \nL 603 4863 \nz\n\" transform=\"scale(0.015625)\"/>\n      <path id=\"DejaVuSans-74\" d=\"M 1172 4494 \nL 1172 3500 \nL 2356 3500 \nL 2356 3053 \nL 1172 3053 \nL 1172 1153 \nQ 1172 725 1289 603 \nQ 1406 481 1766 481 \nL 2356 481 \nL 2356 0 \nL 1766 0 \nQ 1100 0 847 248 \nQ 594 497 594 1153 \nL 594 3053 \nL 172 3053 \nL 172 3500 \nL 594 3500 \nL 594 4494 \nL 1172 4494 \nz\n\" transform=\"scale(0.015625)\"/>\n      <path id=\"DejaVuSans-65\" d=\"M 3597 1894 \nL 3597 1613 \nL 953 1613 \nQ 991 1019 1311 708 \nQ 1631 397 2203 397 \nQ 2534 397 2845 478 \nQ 3156 559 3463 722 \nL 3463 178 \nQ 3153 47 2828 -22 \nQ 2503 -91 2169 -91 \nQ 1331 -91 842 396 \nQ 353 884 353 1716 \nQ 353 2575 817 3079 \nQ 1281 3584 2069 3584 \nQ 2775 3584 3186 3129 \nQ 3597 2675 3597 1894 \nz\nM 3022 2063 \nQ 3016 2534 2758 2815 \nQ 2500 3097 2075 3097 \nQ 1594 3097 1305 2825 \nQ 1016 2553 972 2059 \nL 3022 2063 \nz\n\" transform=\"scale(0.015625)\"/>\n     </defs>\n     <use xlink:href=\"#DejaVuSans-48\"/>\n     <use xlink:href=\"#DejaVuSans-69\" x=\"75.195312\"/>\n     <use xlink:href=\"#DejaVuSans-74\" x=\"102.978516\"/>\n     <use xlink:href=\"#DejaVuSans-52\" x=\"142.1875\"/>\n     <use xlink:href=\"#DejaVuSans-61\" x=\"209.419922\"/>\n     <use xlink:href=\"#DejaVuSans-74\" x=\"270.699219\"/>\n     <use xlink:href=\"#DejaVuSans-65\" x=\"309.908203\"/>\n    </g>\n   </g>\n  </g>\n </g>\n <defs>\n  <clipPath id=\"p9b35a1e15d\">\n   <rect x=\"42.828125\" y=\"22.318125\" width=\"558\" height=\"332.64\"/>\n  </clipPath>\n </defs>\n</svg>\n",
      "text/plain": [
       "<Figure size 1000x600 with 1 Axes>"
      ]
     },
     "metadata": {},
     "output_type": "display_data"
    }
   ],
   "source": [
    "plt.plot(svd_results[\"rank\"], svd_results[\"metric\"])\n",
    "plt.xscale(\"log\")\n",
    "plt.xticks(svd_results[\"rank\"], svd_results[\"rank\"])\n",
    "plt.tick_params(which=\"minor\", size=0)\n",
    "plt.title(\"HitRate\")\n",
    "plt.xlabel(\"Rank\")\n",
    "\n",
    "plt.show()"
   ]
  },
  {
   "cell_type": "code",
   "execution_count": 22,
   "id": "dd2bb9fd-6672-4aba-848d-1656610b40b0",
   "metadata": {},
   "outputs": [
    {
     "data": {
      "text/html": [
       "<div>\n",
       "<style scoped>\n",
       "    .dataframe tbody tr th:only-of-type {\n",
       "        vertical-align: middle;\n",
       "    }\n",
       "\n",
       "    .dataframe tbody tr th {\n",
       "        vertical-align: top;\n",
       "    }\n",
       "\n",
       "    .dataframe thead th {\n",
       "        text-align: right;\n",
       "    }\n",
       "</style>\n",
       "<table border=\"1\" class=\"dataframe\">\n",
       "  <thead>\n",
       "    <tr style=\"text-align: right;\">\n",
       "      <th></th>\n",
       "      <th>rank</th>\n",
       "      <th>metric</th>\n",
       "    </tr>\n",
       "  </thead>\n",
       "  <tbody>\n",
       "    <tr>\n",
       "      <th>12</th>\n",
       "      <td>128</td>\n",
       "      <td>0.011130</td>\n",
       "    </tr>\n",
       "    <tr>\n",
       "      <th>17</th>\n",
       "      <td>768</td>\n",
       "      <td>0.010793</td>\n",
       "    </tr>\n",
       "    <tr>\n",
       "      <th>10</th>\n",
       "      <td>64</td>\n",
       "      <td>0.009444</td>\n",
       "    </tr>\n",
       "    <tr>\n",
       "      <th>15</th>\n",
       "      <td>384</td>\n",
       "      <td>0.009444</td>\n",
       "    </tr>\n",
       "    <tr>\n",
       "      <th>13</th>\n",
       "      <td>192</td>\n",
       "      <td>0.009444</td>\n",
       "    </tr>\n",
       "  </tbody>\n",
       "</table>\n",
       "</div>"
      ],
      "text/plain": [
       "    rank    metric\n",
       "12   128  0.011130\n",
       "17   768  0.010793\n",
       "10    64  0.009444\n",
       "15   384  0.009444\n",
       "13   192  0.009444"
      ]
     },
     "execution_count": 22,
     "metadata": {},
     "output_type": "execute_result"
    }
   ],
   "source": [
    "svd_results = svd_results.sort_values(\"metric\", ascending=False)\n",
    "\n",
    "svd_results.head()"
   ]
  },
  {
   "cell_type": "markdown",
   "id": "042f9329-1f9b-438a-87e9-14334f1e3235",
   "metadata": {},
   "source": [
    "## Scaled SVD"
   ]
  },
  {
   "cell_type": "code",
   "execution_count": 23,
   "id": "ceaca7a6-6042-4f24-9bbb-c4154f9dd175",
   "metadata": {},
   "outputs": [],
   "source": [
    "from scaled_svd import build_scaled_svd_model, scaled_svd_gridsearch"
   ]
  },
  {
   "cell_type": "code",
   "execution_count": 24,
   "id": "179d63e4-4b38-4418-b97d-079431f2168d",
   "metadata": {},
   "outputs": [
    {
     "data": {
      "text/plain": [
       "[2, 3, 4, 6, 8, 12, 16, 24, 32, 48, 64, 96, 128, 192, 256, 384, 512, 768]"
      ]
     },
     "execution_count": 24,
     "metadata": {},
     "output_type": "execute_result"
    }
   ],
   "source": [
    "ranks = [b * 2 ** p for p in range(0, 9) for b in [2, 3]]\n",
    "ranks"
   ]
  },
  {
   "cell_type": "code",
   "execution_count": 25,
   "id": "6324550d-5dcb-4d80-a9bb-f9ef128aa101",
   "metadata": {},
   "outputs": [
    {
     "data": {
      "text/plain": [
       "array([0.1, 0.3, 0.5, 0.7, 0.9])"
      ]
     },
     "execution_count": 25,
     "metadata": {},
     "output_type": "execute_result"
    }
   ],
   "source": [
    "scalings = np.arange(1, 10, 2) / 10\n",
    "scalings"
   ]
  },
  {
   "cell_type": "code",
   "execution_count": 26,
   "id": "bff6e532-6e43-4933-99d9-1d188c42c6b4",
   "metadata": {},
   "outputs": [
    {
     "name": "stdout",
     "output_type": "stream",
     "text": [
      "Scaling 0.1\n",
      "Scaling 0.3\n",
      "Scaling 0.5\n",
      "Scaling 0.7\n",
      "Scaling 0.9\n",
      "CPU times: user 11min 47s, sys: 27.5 s, total: 12min 14s\n",
      "Wall time: 3min 58s\n"
     ]
    }
   ],
   "source": [
    "%%time\n",
    "scaled_svd_results = scaled_svd_gridsearch(ranks, scalings, trainval, testval, holdoutval, data_description, topn)"
   ]
  },
  {
   "cell_type": "code",
   "execution_count": 27,
   "id": "c097986e-d4af-4ab3-8c1a-45b8e0e28493",
   "metadata": {},
   "outputs": [
    {
     "data": {
      "text/html": [
       "<div>\n",
       "<style scoped>\n",
       "    .dataframe tbody tr th:only-of-type {\n",
       "        vertical-align: middle;\n",
       "    }\n",
       "\n",
       "    .dataframe tbody tr th {\n",
       "        vertical-align: top;\n",
       "    }\n",
       "\n",
       "    .dataframe thead th {\n",
       "        text-align: right;\n",
       "    }\n",
       "</style>\n",
       "<table border=\"1\" class=\"dataframe\">\n",
       "  <thead>\n",
       "    <tr style=\"text-align: right;\">\n",
       "      <th></th>\n",
       "      <th>rank</th>\n",
       "      <th>scaling</th>\n",
       "      <th>metric</th>\n",
       "    </tr>\n",
       "  </thead>\n",
       "  <tbody>\n",
       "    <tr>\n",
       "      <th>48</th>\n",
       "      <td>128</td>\n",
       "      <td>0.5</td>\n",
       "      <td>0.011804</td>\n",
       "    </tr>\n",
       "    <tr>\n",
       "      <th>71</th>\n",
       "      <td>768</td>\n",
       "      <td>0.7</td>\n",
       "      <td>0.011804</td>\n",
       "    </tr>\n",
       "    <tr>\n",
       "      <th>89</th>\n",
       "      <td>768</td>\n",
       "      <td>0.9</td>\n",
       "      <td>0.011467</td>\n",
       "    </tr>\n",
       "    <tr>\n",
       "      <th>53</th>\n",
       "      <td>768</td>\n",
       "      <td>0.5</td>\n",
       "      <td>0.011130</td>\n",
       "    </tr>\n",
       "    <tr>\n",
       "      <th>17</th>\n",
       "      <td>768</td>\n",
       "      <td>0.1</td>\n",
       "      <td>0.011130</td>\n",
       "    </tr>\n",
       "  </tbody>\n",
       "</table>\n",
       "</div>"
      ],
      "text/plain": [
       "    rank  scaling    metric\n",
       "48   128      0.5  0.011804\n",
       "71   768      0.7  0.011804\n",
       "89   768      0.9  0.011467\n",
       "53   768      0.5  0.011130\n",
       "17   768      0.1  0.011130"
      ]
     },
     "execution_count": 27,
     "metadata": {},
     "output_type": "execute_result"
    }
   ],
   "source": [
    "scaled_svd_results = pd.DataFrame(scaled_svd_results)\n",
    "\n",
    "scaled_svd_results = scaled_svd_results.sort_values(\"metric\", ascending=False)\n",
    "\n",
    "scaled_svd_results.head()"
   ]
  },
  {
   "cell_type": "markdown",
   "id": "705ad97d-dd1a-4b0c-bff5-f18e23afc64b",
   "metadata": {},
   "source": [
    "## SeqSVD"
   ]
  },
  {
   "cell_type": "code",
   "execution_count": 47,
   "id": "9cbed9a4-6595-4cd2-bca3-8b8897c8f26e",
   "metadata": {},
   "outputs": [],
   "source": [
    "from seq_svd import full_seq_svd_gridsearch, build_seq_svd_model"
   ]
  },
  {
   "cell_type": "code",
   "execution_count": 31,
   "id": "a8763c11-676b-40c3-88a6-3523ff6f3dde",
   "metadata": {},
   "outputs": [
    {
     "data": {
      "text/plain": [
       "[2, 3, 4, 6, 8, 12, 16, 24, 32, 48, 64, 96, 128, 192]"
      ]
     },
     "execution_count": 31,
     "metadata": {},
     "output_type": "execute_result"
    }
   ],
   "source": [
    "ranks = [b * 2 ** p for p in range(0, 7) for b in [2, 3]]\n",
    "ranks"
   ]
  },
  {
   "cell_type": "code",
   "execution_count": 32,
   "id": "8eab076d-5949-42f7-8d14-1bb973ae2b16",
   "metadata": {},
   "outputs": [
    {
     "data": {
      "text/plain": [
       "array([0.1, 0.3, 0.5, 0.7, 0.9])"
      ]
     },
     "execution_count": 32,
     "metadata": {},
     "output_type": "execute_result"
    }
   ],
   "source": [
    "coefs = [0.25, 0.5, 0.75]\n",
    "thresholds = [0.003, 0.03] \n",
    "powers = [1, 0.75]\n",
    "sim_types = [\"cosine\"]\n",
    "scalings = np.arange(1, 10, 2) / 10\n",
    "scalings"
   ]
  },
  {
   "cell_type": "code",
   "execution_count": 33,
   "id": "536d50bc-1fb6-4b10-a52a-9211202549d1",
   "metadata": {
    "collapsed": true,
    "jupyter": {
     "outputs_hidden": true
    },
    "tags": []
   },
   "outputs": [
    {
     "name": "stdout",
     "output_type": "stream",
     "text": [
      "Sequence similarity coef: 0.25, power: 1, threshold: 0.003, similarity type: cosine, scaling: 0.1\n",
      "Sequence similarity coef: 0.25, power: 1, threshold: 0.003, similarity type: cosine, scaling: 0.3\n",
      "Sequence similarity coef: 0.25, power: 1, threshold: 0.003, similarity type: cosine, scaling: 0.5\n",
      "Sequence similarity coef: 0.25, power: 1, threshold: 0.003, similarity type: cosine, scaling: 0.7\n",
      "Sequence similarity coef: 0.25, power: 1, threshold: 0.003, similarity type: cosine, scaling: 0.9\n",
      "Sequence similarity coef: 0.25, power: 1, threshold: 0.03, similarity type: cosine, scaling: 0.1\n",
      "Sequence similarity coef: 0.25, power: 1, threshold: 0.03, similarity type: cosine, scaling: 0.3\n",
      "Sequence similarity coef: 0.25, power: 1, threshold: 0.03, similarity type: cosine, scaling: 0.5\n",
      "Sequence similarity coef: 0.25, power: 1, threshold: 0.03, similarity type: cosine, scaling: 0.7\n",
      "Sequence similarity coef: 0.25, power: 1, threshold: 0.03, similarity type: cosine, scaling: 0.9\n",
      "Sequence similarity coef: 0.25, power: 0.75, threshold: 0.003, similarity type: cosine, scaling: 0.1\n",
      "Sequence similarity coef: 0.25, power: 0.75, threshold: 0.003, similarity type: cosine, scaling: 0.3\n",
      "Sequence similarity coef: 0.25, power: 0.75, threshold: 0.003, similarity type: cosine, scaling: 0.5\n",
      "Sequence similarity coef: 0.25, power: 0.75, threshold: 0.003, similarity type: cosine, scaling: 0.7\n",
      "Sequence similarity coef: 0.25, power: 0.75, threshold: 0.003, similarity type: cosine, scaling: 0.9\n",
      "Sequence similarity coef: 0.25, power: 0.75, threshold: 0.03, similarity type: cosine, scaling: 0.1\n",
      "Sequence similarity coef: 0.25, power: 0.75, threshold: 0.03, similarity type: cosine, scaling: 0.3\n",
      "Sequence similarity coef: 0.25, power: 0.75, threshold: 0.03, similarity type: cosine, scaling: 0.5\n",
      "Sequence similarity coef: 0.25, power: 0.75, threshold: 0.03, similarity type: cosine, scaling: 0.7\n",
      "Sequence similarity coef: 0.25, power: 0.75, threshold: 0.03, similarity type: cosine, scaling: 0.9\n",
      "Sequence similarity coef: 0.5, power: 1, threshold: 0.003, similarity type: cosine, scaling: 0.1\n",
      "Sequence similarity coef: 0.5, power: 1, threshold: 0.003, similarity type: cosine, scaling: 0.3\n",
      "Sequence similarity coef: 0.5, power: 1, threshold: 0.003, similarity type: cosine, scaling: 0.5\n",
      "Sequence similarity coef: 0.5, power: 1, threshold: 0.003, similarity type: cosine, scaling: 0.7\n",
      "Sequence similarity coef: 0.5, power: 1, threshold: 0.003, similarity type: cosine, scaling: 0.9\n",
      "Sequence similarity coef: 0.5, power: 1, threshold: 0.03, similarity type: cosine, scaling: 0.1\n",
      "Sequence similarity coef: 0.5, power: 1, threshold: 0.03, similarity type: cosine, scaling: 0.3\n",
      "Sequence similarity coef: 0.5, power: 1, threshold: 0.03, similarity type: cosine, scaling: 0.5\n",
      "Sequence similarity coef: 0.5, power: 1, threshold: 0.03, similarity type: cosine, scaling: 0.7\n",
      "Sequence similarity coef: 0.5, power: 1, threshold: 0.03, similarity type: cosine, scaling: 0.9\n",
      "Sequence similarity coef: 0.5, power: 0.75, threshold: 0.003, similarity type: cosine, scaling: 0.1\n",
      "Sequence similarity coef: 0.5, power: 0.75, threshold: 0.003, similarity type: cosine, scaling: 0.3\n",
      "Sequence similarity coef: 0.5, power: 0.75, threshold: 0.003, similarity type: cosine, scaling: 0.5\n",
      "Sequence similarity coef: 0.5, power: 0.75, threshold: 0.003, similarity type: cosine, scaling: 0.7\n",
      "Sequence similarity coef: 0.5, power: 0.75, threshold: 0.003, similarity type: cosine, scaling: 0.9\n",
      "Sequence similarity coef: 0.5, power: 0.75, threshold: 0.03, similarity type: cosine, scaling: 0.1\n",
      "Sequence similarity coef: 0.5, power: 0.75, threshold: 0.03, similarity type: cosine, scaling: 0.3\n",
      "Sequence similarity coef: 0.5, power: 0.75, threshold: 0.03, similarity type: cosine, scaling: 0.5\n",
      "Sequence similarity coef: 0.5, power: 0.75, threshold: 0.03, similarity type: cosine, scaling: 0.7\n",
      "Sequence similarity coef: 0.5, power: 0.75, threshold: 0.03, similarity type: cosine, scaling: 0.9\n",
      "Sequence similarity coef: 0.75, power: 1, threshold: 0.003, similarity type: cosine, scaling: 0.1\n",
      "Sequence similarity coef: 0.75, power: 1, threshold: 0.003, similarity type: cosine, scaling: 0.3\n",
      "Sequence similarity coef: 0.75, power: 1, threshold: 0.003, similarity type: cosine, scaling: 0.5\n",
      "Sequence similarity coef: 0.75, power: 1, threshold: 0.003, similarity type: cosine, scaling: 0.7\n",
      "Sequence similarity coef: 0.75, power: 1, threshold: 0.003, similarity type: cosine, scaling: 0.9\n",
      "Sequence similarity coef: 0.75, power: 1, threshold: 0.03, similarity type: cosine, scaling: 0.1\n",
      "Sequence similarity coef: 0.75, power: 1, threshold: 0.03, similarity type: cosine, scaling: 0.3\n",
      "Sequence similarity coef: 0.75, power: 1, threshold: 0.03, similarity type: cosine, scaling: 0.5\n",
      "Sequence similarity coef: 0.75, power: 1, threshold: 0.03, similarity type: cosine, scaling: 0.7\n",
      "Sequence similarity coef: 0.75, power: 1, threshold: 0.03, similarity type: cosine, scaling: 0.9\n",
      "Sequence similarity coef: 0.75, power: 0.75, threshold: 0.003, similarity type: cosine, scaling: 0.1\n",
      "Sequence similarity coef: 0.75, power: 0.75, threshold: 0.003, similarity type: cosine, scaling: 0.3\n",
      "Sequence similarity coef: 0.75, power: 0.75, threshold: 0.003, similarity type: cosine, scaling: 0.5\n",
      "Sequence similarity coef: 0.75, power: 0.75, threshold: 0.003, similarity type: cosine, scaling: 0.7\n",
      "Sequence similarity coef: 0.75, power: 0.75, threshold: 0.003, similarity type: cosine, scaling: 0.9\n",
      "Sequence similarity coef: 0.75, power: 0.75, threshold: 0.03, similarity type: cosine, scaling: 0.1\n",
      "Sequence similarity coef: 0.75, power: 0.75, threshold: 0.03, similarity type: cosine, scaling: 0.3\n",
      "Sequence similarity coef: 0.75, power: 0.75, threshold: 0.03, similarity type: cosine, scaling: 0.5\n",
      "Sequence similarity coef: 0.75, power: 0.75, threshold: 0.03, similarity type: cosine, scaling: 0.7\n",
      "Sequence similarity coef: 0.75, power: 0.75, threshold: 0.03, similarity type: cosine, scaling: 0.9\n"
     ]
    }
   ],
   "source": [
    "seq_svd_results = full_seq_svd_gridsearch(ranks, coefs, powers, thresholds, sim_types, scalings,\n",
    "                                          trainval, testval, holdoutval, data_description, topn)"
   ]
  },
  {
   "cell_type": "code",
   "execution_count": 34,
   "id": "ee5e25e8-3b69-4f73-ba6a-80d0e703bb83",
   "metadata": {},
   "outputs": [],
   "source": [
    "seq_svd_results = pd.DataFrame(seq_svd_results)\n",
    "\n",
    "seq_svd_results = seq_svd_results.sort_values(\"metric\", ascending=False)"
   ]
  },
  {
   "cell_type": "code",
   "execution_count": 35,
   "id": "44c19e32-409f-4cb0-bb80-853f7a3ea3d2",
   "metadata": {},
   "outputs": [
    {
     "data": {
      "text/html": [
       "<div>\n",
       "<style scoped>\n",
       "    .dataframe tbody tr th:only-of-type {\n",
       "        vertical-align: middle;\n",
       "    }\n",
       "\n",
       "    .dataframe tbody tr th {\n",
       "        vertical-align: top;\n",
       "    }\n",
       "\n",
       "    .dataframe thead th {\n",
       "        text-align: right;\n",
       "    }\n",
       "</style>\n",
       "<table border=\"1\" class=\"dataframe\">\n",
       "  <thead>\n",
       "    <tr style=\"text-align: right;\">\n",
       "      <th></th>\n",
       "      <th>rank</th>\n",
       "      <th>incomplete_cholesky_threshold</th>\n",
       "      <th>sequence_similarity_coef</th>\n",
       "      <th>similarity_type</th>\n",
       "      <th>power</th>\n",
       "      <th>scaling</th>\n",
       "      <th>metric</th>\n",
       "    </tr>\n",
       "  </thead>\n",
       "  <tbody>\n",
       "    <tr>\n",
       "      <th>482</th>\n",
       "      <td>16</td>\n",
       "      <td>0.003</td>\n",
       "      <td>0.50</td>\n",
       "      <td>cosine</td>\n",
       "      <td>0.75</td>\n",
       "      <td>0.9</td>\n",
       "      <td>0.015177</td>\n",
       "    </tr>\n",
       "    <tr>\n",
       "      <th>766</th>\n",
       "      <td>64</td>\n",
       "      <td>0.003</td>\n",
       "      <td>0.75</td>\n",
       "      <td>cosine</td>\n",
       "      <td>0.75</td>\n",
       "      <td>0.9</td>\n",
       "      <td>0.014503</td>\n",
       "    </tr>\n",
       "    <tr>\n",
       "      <th>719</th>\n",
       "      <td>12</td>\n",
       "      <td>0.003</td>\n",
       "      <td>0.75</td>\n",
       "      <td>cosine</td>\n",
       "      <td>0.75</td>\n",
       "      <td>0.3</td>\n",
       "      <td>0.014165</td>\n",
       "    </tr>\n",
       "    <tr>\n",
       "      <th>762</th>\n",
       "      <td>16</td>\n",
       "      <td>0.003</td>\n",
       "      <td>0.75</td>\n",
       "      <td>cosine</td>\n",
       "      <td>0.75</td>\n",
       "      <td>0.9</td>\n",
       "      <td>0.014165</td>\n",
       "    </tr>\n",
       "    <tr>\n",
       "      <th>468</th>\n",
       "      <td>16</td>\n",
       "      <td>0.003</td>\n",
       "      <td>0.50</td>\n",
       "      <td>cosine</td>\n",
       "      <td>0.75</td>\n",
       "      <td>0.7</td>\n",
       "      <td>0.013828</td>\n",
       "    </tr>\n",
       "  </tbody>\n",
       "</table>\n",
       "</div>"
      ],
      "text/plain": [
       "     rank  incomplete_cholesky_threshold  sequence_similarity_coef  \\\n",
       "482    16                          0.003                      0.50   \n",
       "766    64                          0.003                      0.75   \n",
       "719    12                          0.003                      0.75   \n",
       "762    16                          0.003                      0.75   \n",
       "468    16                          0.003                      0.50   \n",
       "\n",
       "    similarity_type  power  scaling    metric  \n",
       "482          cosine   0.75      0.9  0.015177  \n",
       "766          cosine   0.75      0.9  0.014503  \n",
       "719          cosine   0.75      0.3  0.014165  \n",
       "762          cosine   0.75      0.9  0.014165  \n",
       "468          cosine   0.75      0.7  0.013828  "
      ]
     },
     "execution_count": 35,
     "metadata": {},
     "output_type": "execute_result"
    }
   ],
   "source": [
    "seq_svd_results.head()"
   ]
  },
  {
   "cell_type": "code",
   "execution_count": null,
   "id": "ee7ac60e-702f-4f7e-a824-13b2d222516a",
   "metadata": {},
   "outputs": [],
   "source": [
    "seq_svd_results.to_csv(\"seq_svd_tuning_amazon_grocery.csv\")"
   ]
  },
  {
   "cell_type": "markdown",
   "id": "266829fc",
   "metadata": {},
   "source": [
    "## UserKNN"
   ]
  },
  {
   "cell_type": "code",
   "execution_count": 23,
   "id": "c0b11139",
   "metadata": {},
   "outputs": [],
   "source": [
    "data_description = {\n",
    "    \"n_users\": trainval.userid.nunique(),\n",
    "    \"n_items\": trainval.itemid.nunique(),\n",
    "    \"feedback\": \"rating\",\n",
    "    \"weights\": \"weights\",\n",
    "    \"items\": \"itemid\",\n",
    "    \"users\": \"userid\",\n",
    "}\n",
    "\n",
    "trainval, testval = generate_ranks(trainval, data_description), generate_ranks(testval, data_description)"
   ]
  },
  {
   "cell_type": "code",
   "execution_count": 81,
   "id": "f08568e2",
   "metadata": {},
   "outputs": [],
   "source": [
    "k_vals = [10, 25, 50, 100, 200, 250, 500, 1000, None]\n",
    "p_vals = [0] # np.linspace(0, 1, 21)\n",
    "\n",
    "config = {\n",
    "    \"similarity_A\": \"cosine\", \n",
    "    \"similarity_T\": None,\n",
    "}"
   ]
  },
  {
   "cell_type": "code",
   "execution_count": 82,
   "id": "cf8781d4",
   "metadata": {},
   "outputs": [
    {
     "name": "stdout",
     "output_type": "stream",
     "text": [
      "CPU times: total: 1.69 s\n",
      "Wall time: 1.69 s\n"
     ]
    }
   ],
   "source": [
    "%%time\n",
    "results = uknn_gridsearch(k_vals, p_vals, config, trainval, testval, holdoutval, data_description, topn)"
   ]
  },
  {
   "cell_type": "code",
   "execution_count": 83,
   "id": "33f0db98-4d76-40b8-a219-b7f589819db0",
   "metadata": {},
   "outputs": [],
   "source": [
    "knn_results = pd.DataFrame(results)"
   ]
  },
  {
   "cell_type": "code",
   "execution_count": 84,
   "id": "55a15288",
   "metadata": {},
   "outputs": [
    {
     "data": {
      "text/html": [
       "<div>\n",
       "<style scoped>\n",
       "    .dataframe tbody tr th:only-of-type {\n",
       "        vertical-align: middle;\n",
       "    }\n",
       "\n",
       "    .dataframe tbody tr th {\n",
       "        vertical-align: top;\n",
       "    }\n",
       "\n",
       "    .dataframe thead th {\n",
       "        text-align: right;\n",
       "    }\n",
       "</style>\n",
       "<table border=\"1\" class=\"dataframe\">\n",
       "  <thead>\n",
       "    <tr style=\"text-align: right;\">\n",
       "      <th></th>\n",
       "      <th>k</th>\n",
       "      <th>metric</th>\n",
       "    </tr>\n",
       "  </thead>\n",
       "  <tbody>\n",
       "    <tr>\n",
       "      <th>3</th>\n",
       "      <td>100.0</td>\n",
       "      <td>0.018212</td>\n",
       "    </tr>\n",
       "    <tr>\n",
       "      <th>4</th>\n",
       "      <td>200.0</td>\n",
       "      <td>0.017875</td>\n",
       "    </tr>\n",
       "    <tr>\n",
       "      <th>5</th>\n",
       "      <td>250.0</td>\n",
       "      <td>0.017875</td>\n",
       "    </tr>\n",
       "    <tr>\n",
       "      <th>1</th>\n",
       "      <td>25.0</td>\n",
       "      <td>0.017538</td>\n",
       "    </tr>\n",
       "    <tr>\n",
       "      <th>2</th>\n",
       "      <td>50.0</td>\n",
       "      <td>0.017201</td>\n",
       "    </tr>\n",
       "  </tbody>\n",
       "</table>\n",
       "</div>"
      ],
      "text/plain": [
       "       k    metric\n",
       "3  100.0  0.018212\n",
       "4  200.0  0.017875\n",
       "5  250.0  0.017875\n",
       "1   25.0  0.017538\n",
       "2   50.0  0.017201"
      ]
     },
     "execution_count": 84,
     "metadata": {},
     "output_type": "execute_result"
    }
   ],
   "source": [
    "knn_results.drop(\"power\", axis=1).sort_values('metric', ascending=False).head()"
   ]
  },
  {
   "cell_type": "code",
   "execution_count": 85,
   "id": "5f49dc32",
   "metadata": {},
   "outputs": [
    {
     "data": {
      "image/svg+xml": "<?xml version=\"1.0\" encoding=\"utf-8\" standalone=\"no\"?>\n<!DOCTYPE svg PUBLIC \"-//W3C//DTD SVG 1.1//EN\"\n  \"http://www.w3.org/Graphics/SVG/1.1/DTD/svg11.dtd\">\n<svg xmlns:xlink=\"http://www.w3.org/1999/xlink\" width=\"608.028125pt\" height=\"392.514375pt\" viewBox=\"0 0 608.028125 392.514375\" xmlns=\"http://www.w3.org/2000/svg\" version=\"1.1\">\n <metadata>\n  <rdf:RDF xmlns:dc=\"http://purl.org/dc/elements/1.1/\" xmlns:cc=\"http://creativecommons.org/ns#\" xmlns:rdf=\"http://www.w3.org/1999/02/22-rdf-syntax-ns#\">\n   <cc:Work>\n    <dc:type rdf:resource=\"http://purl.org/dc/dcmitype/StillImage\"/>\n    <dc:date>2023-03-25T12:24:02.755040</dc:date>\n    <dc:format>image/svg+xml</dc:format>\n    <dc:creator>\n     <cc:Agent>\n      <dc:title>Matplotlib v3.7.0, https://matplotlib.org/</dc:title>\n     </cc:Agent>\n    </dc:creator>\n   </cc:Work>\n  </rdf:RDF>\n </metadata>\n <defs>\n  <style type=\"text/css\">*{stroke-linejoin: round; stroke-linecap: butt}</style>\n </defs>\n <g id=\"figure_1\">\n  <g id=\"patch_1\">\n   <path d=\"M 0 392.514375 \nL 608.028125 392.514375 \nL 608.028125 0 \nL 0 0 \nz\n\" style=\"fill: #ffffff\"/>\n  </g>\n  <g id=\"axes_1\">\n   <g id=\"patch_2\">\n    <path d=\"M 42.828125 354.958125 \nL 600.828125 354.958125 \nL 600.828125 22.318125 \nL 42.828125 22.318125 \nz\n\" style=\"fill: #ffffff\"/>\n   </g>\n   <g id=\"matplotlib.axis_1\">\n    <g id=\"xtick_1\">\n     <g id=\"line2d_1\">\n      <defs>\n       <path id=\"ma870bdbfb4\" d=\"M 0 0 \nL 0 3.5 \n\" style=\"stroke: #000000; stroke-width: 0.8\"/>\n      </defs>\n      <g>\n       <use xlink:href=\"#ma870bdbfb4\" x=\"63.067794\" y=\"354.958125\" style=\"stroke: #000000; stroke-width: 0.8\"/>\n      </g>\n     </g>\n     <g id=\"text_1\">\n      <!-- 0 -->\n      <g transform=\"translate(59.886544 369.556562) scale(0.1 -0.1)\">\n       <defs>\n        <path id=\"DejaVuSans-30\" d=\"M 2034 4250 \nQ 1547 4250 1301 3770 \nQ 1056 3291 1056 2328 \nQ 1056 1369 1301 889 \nQ 1547 409 2034 409 \nQ 2525 409 2770 889 \nQ 3016 1369 3016 2328 \nQ 3016 3291 2770 3770 \nQ 2525 4250 2034 4250 \nz\nM 2034 4750 \nQ 2819 4750 3233 4129 \nQ 3647 3509 3647 2328 \nQ 3647 1150 3233 529 \nQ 2819 -91 2034 -91 \nQ 1250 -91 836 529 \nQ 422 1150 422 2328 \nQ 422 3509 836 4129 \nQ 1250 4750 2034 4750 \nz\n\" transform=\"scale(0.015625)\"/>\n       </defs>\n       <use xlink:href=\"#DejaVuSans-30\"/>\n      </g>\n     </g>\n    </g>\n    <g id=\"xtick_2\">\n     <g id=\"line2d_2\">\n      <g>\n       <use xlink:href=\"#ma870bdbfb4\" x=\"165.547133\" y=\"354.958125\" style=\"stroke: #000000; stroke-width: 0.8\"/>\n      </g>\n     </g>\n     <g id=\"text_2\">\n      <!-- 200 -->\n      <g transform=\"translate(156.003383 369.556562) scale(0.1 -0.1)\">\n       <defs>\n        <path id=\"DejaVuSans-32\" d=\"M 1228 531 \nL 3431 531 \nL 3431 0 \nL 469 0 \nL 469 531 \nQ 828 903 1448 1529 \nQ 2069 2156 2228 2338 \nQ 2531 2678 2651 2914 \nQ 2772 3150 2772 3378 \nQ 2772 3750 2511 3984 \nQ 2250 4219 1831 4219 \nQ 1534 4219 1204 4116 \nQ 875 4013 500 3803 \nL 500 4441 \nQ 881 4594 1212 4672 \nQ 1544 4750 1819 4750 \nQ 2544 4750 2975 4387 \nQ 3406 4025 3406 3419 \nQ 3406 3131 3298 2873 \nQ 3191 2616 2906 2266 \nQ 2828 2175 2409 1742 \nQ 1991 1309 1228 531 \nz\n\" transform=\"scale(0.015625)\"/>\n       </defs>\n       <use xlink:href=\"#DejaVuSans-32\"/>\n       <use xlink:href=\"#DejaVuSans-30\" x=\"63.623047\"/>\n       <use xlink:href=\"#DejaVuSans-30\" x=\"127.246094\"/>\n      </g>\n     </g>\n    </g>\n    <g id=\"xtick_3\">\n     <g id=\"line2d_3\">\n      <g>\n       <use xlink:href=\"#ma870bdbfb4\" x=\"268.026472\" y=\"354.958125\" style=\"stroke: #000000; stroke-width: 0.8\"/>\n      </g>\n     </g>\n     <g id=\"text_3\">\n      <!-- 400 -->\n      <g transform=\"translate(258.482722 369.556562) scale(0.1 -0.1)\">\n       <defs>\n        <path id=\"DejaVuSans-34\" d=\"M 2419 4116 \nL 825 1625 \nL 2419 1625 \nL 2419 4116 \nz\nM 2253 4666 \nL 3047 4666 \nL 3047 1625 \nL 3713 1625 \nL 3713 1100 \nL 3047 1100 \nL 3047 0 \nL 2419 0 \nL 2419 1100 \nL 313 1100 \nL 313 1709 \nL 2253 4666 \nz\n\" transform=\"scale(0.015625)\"/>\n       </defs>\n       <use xlink:href=\"#DejaVuSans-34\"/>\n       <use xlink:href=\"#DejaVuSans-30\" x=\"63.623047\"/>\n       <use xlink:href=\"#DejaVuSans-30\" x=\"127.246094\"/>\n      </g>\n     </g>\n    </g>\n    <g id=\"xtick_4\">\n     <g id=\"line2d_4\">\n      <g>\n       <use xlink:href=\"#ma870bdbfb4\" x=\"370.505811\" y=\"354.958125\" style=\"stroke: #000000; stroke-width: 0.8\"/>\n      </g>\n     </g>\n     <g id=\"text_4\">\n      <!-- 600 -->\n      <g transform=\"translate(360.962061 369.556562) scale(0.1 -0.1)\">\n       <defs>\n        <path id=\"DejaVuSans-36\" d=\"M 2113 2584 \nQ 1688 2584 1439 2293 \nQ 1191 2003 1191 1497 \nQ 1191 994 1439 701 \nQ 1688 409 2113 409 \nQ 2538 409 2786 701 \nQ 3034 994 3034 1497 \nQ 3034 2003 2786 2293 \nQ 2538 2584 2113 2584 \nz\nM 3366 4563 \nL 3366 3988 \nQ 3128 4100 2886 4159 \nQ 2644 4219 2406 4219 \nQ 1781 4219 1451 3797 \nQ 1122 3375 1075 2522 \nQ 1259 2794 1537 2939 \nQ 1816 3084 2150 3084 \nQ 2853 3084 3261 2657 \nQ 3669 2231 3669 1497 \nQ 3669 778 3244 343 \nQ 2819 -91 2113 -91 \nQ 1303 -91 875 529 \nQ 447 1150 447 2328 \nQ 447 3434 972 4092 \nQ 1497 4750 2381 4750 \nQ 2619 4750 2861 4703 \nQ 3103 4656 3366 4563 \nz\n\" transform=\"scale(0.015625)\"/>\n       </defs>\n       <use xlink:href=\"#DejaVuSans-36\"/>\n       <use xlink:href=\"#DejaVuSans-30\" x=\"63.623047\"/>\n       <use xlink:href=\"#DejaVuSans-30\" x=\"127.246094\"/>\n      </g>\n     </g>\n    </g>\n    <g id=\"xtick_5\">\n     <g id=\"line2d_5\">\n      <g>\n       <use xlink:href=\"#ma870bdbfb4\" x=\"472.98515\" y=\"354.958125\" style=\"stroke: #000000; stroke-width: 0.8\"/>\n      </g>\n     </g>\n     <g id=\"text_5\">\n      <!-- 800 -->\n      <g transform=\"translate(463.4414 369.556562) scale(0.1 -0.1)\">\n       <defs>\n        <path id=\"DejaVuSans-38\" d=\"M 2034 2216 \nQ 1584 2216 1326 1975 \nQ 1069 1734 1069 1313 \nQ 1069 891 1326 650 \nQ 1584 409 2034 409 \nQ 2484 409 2743 651 \nQ 3003 894 3003 1313 \nQ 3003 1734 2745 1975 \nQ 2488 2216 2034 2216 \nz\nM 1403 2484 \nQ 997 2584 770 2862 \nQ 544 3141 544 3541 \nQ 544 4100 942 4425 \nQ 1341 4750 2034 4750 \nQ 2731 4750 3128 4425 \nQ 3525 4100 3525 3541 \nQ 3525 3141 3298 2862 \nQ 3072 2584 2669 2484 \nQ 3125 2378 3379 2068 \nQ 3634 1759 3634 1313 \nQ 3634 634 3220 271 \nQ 2806 -91 2034 -91 \nQ 1263 -91 848 271 \nQ 434 634 434 1313 \nQ 434 1759 690 2068 \nQ 947 2378 1403 2484 \nz\nM 1172 3481 \nQ 1172 3119 1398 2916 \nQ 1625 2713 2034 2713 \nQ 2441 2713 2670 2916 \nQ 2900 3119 2900 3481 \nQ 2900 3844 2670 4047 \nQ 2441 4250 2034 4250 \nQ 1625 4250 1398 4047 \nQ 1172 3844 1172 3481 \nz\n\" transform=\"scale(0.015625)\"/>\n       </defs>\n       <use xlink:href=\"#DejaVuSans-38\"/>\n       <use xlink:href=\"#DejaVuSans-30\" x=\"63.623047\"/>\n       <use xlink:href=\"#DejaVuSans-30\" x=\"127.246094\"/>\n      </g>\n     </g>\n    </g>\n    <g id=\"xtick_6\">\n     <g id=\"line2d_6\">\n      <g>\n       <use xlink:href=\"#ma870bdbfb4\" x=\"575.464489\" y=\"354.958125\" style=\"stroke: #000000; stroke-width: 0.8\"/>\n      </g>\n     </g>\n     <g id=\"text_6\">\n      <!-- 1000 -->\n      <g transform=\"translate(562.739489 369.556562) scale(0.1 -0.1)\">\n       <defs>\n        <path id=\"DejaVuSans-31\" d=\"M 794 531 \nL 1825 531 \nL 1825 4091 \nL 703 3866 \nL 703 4441 \nL 1819 4666 \nL 2450 4666 \nL 2450 531 \nL 3481 531 \nL 3481 0 \nL 794 0 \nL 794 531 \nz\n\" transform=\"scale(0.015625)\"/>\n       </defs>\n       <use xlink:href=\"#DejaVuSans-31\"/>\n       <use xlink:href=\"#DejaVuSans-30\" x=\"63.623047\"/>\n       <use xlink:href=\"#DejaVuSans-30\" x=\"127.246094\"/>\n       <use xlink:href=\"#DejaVuSans-30\" x=\"190.869141\"/>\n      </g>\n     </g>\n    </g>\n    <g id=\"text_7\">\n     <!-- K -->\n     <g transform=\"translate(318.549219 383.234687) scale(0.1 -0.1)\">\n      <defs>\n       <path id=\"DejaVuSans-4b\" d=\"M 628 4666 \nL 1259 4666 \nL 1259 2694 \nL 3353 4666 \nL 4166 4666 \nL 1850 2491 \nL 4331 0 \nL 3500 0 \nL 1259 2247 \nL 1259 0 \nL 628 0 \nL 628 4666 \nz\n\" transform=\"scale(0.015625)\"/>\n      </defs>\n      <use xlink:href=\"#DejaVuSans-4b\"/>\n     </g>\n    </g>\n   </g>\n   <g id=\"matplotlib.axis_2\">\n    <g id=\"ytick_1\">\n     <g id=\"line2d_7\">\n      <defs>\n       <path id=\"m2c738044ca\" d=\"M 0 0 \nL -3.5 0 \n\" style=\"stroke: #000000; stroke-width: 0.8\"/>\n      </defs>\n      <g>\n       <use xlink:href=\"#m2c738044ca\" x=\"42.828125\" y=\"307.222125\" style=\"stroke: #000000; stroke-width: 0.8\"/>\n      </g>\n     </g>\n     <g id=\"text_8\">\n      <!-- 0.014 -->\n      <g transform=\"translate(7.2 311.021344) scale(0.1 -0.1)\">\n       <defs>\n        <path id=\"DejaVuSans-2e\" d=\"M 684 794 \nL 1344 794 \nL 1344 0 \nL 684 0 \nL 684 794 \nz\n\" transform=\"scale(0.015625)\"/>\n       </defs>\n       <use xlink:href=\"#DejaVuSans-30\"/>\n       <use xlink:href=\"#DejaVuSans-2e\" x=\"63.623047\"/>\n       <use xlink:href=\"#DejaVuSans-30\" x=\"95.410156\"/>\n       <use xlink:href=\"#DejaVuSans-31\" x=\"159.033203\"/>\n       <use xlink:href=\"#DejaVuSans-34\" x=\"222.65625\"/>\n      </g>\n     </g>\n    </g>\n    <g id=\"ytick_2\">\n     <g id=\"line2d_8\">\n      <g>\n       <use xlink:href=\"#m2c738044ca\" x=\"42.828125\" y=\"243.178125\" style=\"stroke: #000000; stroke-width: 0.8\"/>\n      </g>\n     </g>\n     <g id=\"text_9\">\n      <!-- 0.015 -->\n      <g transform=\"translate(7.2 246.977344) scale(0.1 -0.1)\">\n       <defs>\n        <path id=\"DejaVuSans-35\" d=\"M 691 4666 \nL 3169 4666 \nL 3169 4134 \nL 1269 4134 \nL 1269 2991 \nQ 1406 3038 1543 3061 \nQ 1681 3084 1819 3084 \nQ 2600 3084 3056 2656 \nQ 3513 2228 3513 1497 \nQ 3513 744 3044 326 \nQ 2575 -91 1722 -91 \nQ 1428 -91 1123 -41 \nQ 819 9 494 109 \nL 494 744 \nQ 775 591 1075 516 \nQ 1375 441 1709 441 \nQ 2250 441 2565 725 \nQ 2881 1009 2881 1497 \nQ 2881 1984 2565 2268 \nQ 2250 2553 1709 2553 \nQ 1456 2553 1204 2497 \nQ 953 2441 691 2322 \nL 691 4666 \nz\n\" transform=\"scale(0.015625)\"/>\n       </defs>\n       <use xlink:href=\"#DejaVuSans-30\"/>\n       <use xlink:href=\"#DejaVuSans-2e\" x=\"63.623047\"/>\n       <use xlink:href=\"#DejaVuSans-30\" x=\"95.410156\"/>\n       <use xlink:href=\"#DejaVuSans-31\" x=\"159.033203\"/>\n       <use xlink:href=\"#DejaVuSans-35\" x=\"222.65625\"/>\n      </g>\n     </g>\n    </g>\n    <g id=\"ytick_3\">\n     <g id=\"line2d_9\">\n      <g>\n       <use xlink:href=\"#m2c738044ca\" x=\"42.828125\" y=\"179.134125\" style=\"stroke: #000000; stroke-width: 0.8\"/>\n      </g>\n     </g>\n     <g id=\"text_10\">\n      <!-- 0.016 -->\n      <g transform=\"translate(7.2 182.933344) scale(0.1 -0.1)\">\n       <use xlink:href=\"#DejaVuSans-30\"/>\n       <use xlink:href=\"#DejaVuSans-2e\" x=\"63.623047\"/>\n       <use xlink:href=\"#DejaVuSans-30\" x=\"95.410156\"/>\n       <use xlink:href=\"#DejaVuSans-31\" x=\"159.033203\"/>\n       <use xlink:href=\"#DejaVuSans-36\" x=\"222.65625\"/>\n      </g>\n     </g>\n    </g>\n    <g id=\"ytick_4\">\n     <g id=\"line2d_10\">\n      <g>\n       <use xlink:href=\"#m2c738044ca\" x=\"42.828125\" y=\"115.090125\" style=\"stroke: #000000; stroke-width: 0.8\"/>\n      </g>\n     </g>\n     <g id=\"text_11\">\n      <!-- 0.017 -->\n      <g transform=\"translate(7.2 118.889344) scale(0.1 -0.1)\">\n       <defs>\n        <path id=\"DejaVuSans-37\" d=\"M 525 4666 \nL 3525 4666 \nL 3525 4397 \nL 1831 0 \nL 1172 0 \nL 2766 4134 \nL 525 4134 \nL 525 4666 \nz\n\" transform=\"scale(0.015625)\"/>\n       </defs>\n       <use xlink:href=\"#DejaVuSans-30\"/>\n       <use xlink:href=\"#DejaVuSans-2e\" x=\"63.623047\"/>\n       <use xlink:href=\"#DejaVuSans-30\" x=\"95.410156\"/>\n       <use xlink:href=\"#DejaVuSans-31\" x=\"159.033203\"/>\n       <use xlink:href=\"#DejaVuSans-37\" x=\"222.65625\"/>\n      </g>\n     </g>\n    </g>\n    <g id=\"ytick_5\">\n     <g id=\"line2d_11\">\n      <g>\n       <use xlink:href=\"#m2c738044ca\" x=\"42.828125\" y=\"51.046125\" style=\"stroke: #000000; stroke-width: 0.8\"/>\n      </g>\n     </g>\n     <g id=\"text_12\">\n      <!-- 0.018 -->\n      <g transform=\"translate(7.2 54.845344) scale(0.1 -0.1)\">\n       <use xlink:href=\"#DejaVuSans-30\"/>\n       <use xlink:href=\"#DejaVuSans-2e\" x=\"63.623047\"/>\n       <use xlink:href=\"#DejaVuSans-30\" x=\"95.410156\"/>\n       <use xlink:href=\"#DejaVuSans-31\" x=\"159.033203\"/>\n       <use xlink:href=\"#DejaVuSans-38\" x=\"222.65625\"/>\n      </g>\n     </g>\n    </g>\n   </g>\n   <g id=\"line2d_12\">\n    <path d=\"M 68.191761 339.838125 \nL 75.877712 80.638125 \nL 88.687629 102.238125 \nL 114.307464 37.438125 \nL 165.547133 59.038125 \nL 191.166968 59.038125 \nL 319.266142 123.838125 \nL 575.464489 167.038125 \n\" clip-path=\"url(#p1ab4602328)\" style=\"fill: none; stroke: #1f77b4; stroke-width: 1.5; stroke-linecap: square\"/>\n   </g>\n   <g id=\"patch_3\">\n    <path d=\"M 42.828125 354.958125 \nL 42.828125 22.318125 \n\" style=\"fill: none; stroke: #000000; stroke-width: 0.8; stroke-linejoin: miter; stroke-linecap: square\"/>\n   </g>\n   <g id=\"patch_4\">\n    <path d=\"M 600.828125 354.958125 \nL 600.828125 22.318125 \n\" style=\"fill: none; stroke: #000000; stroke-width: 0.8; stroke-linejoin: miter; stroke-linecap: square\"/>\n   </g>\n   <g id=\"patch_5\">\n    <path d=\"M 42.828125 354.958125 \nL 600.828125 354.958125 \n\" style=\"fill: none; stroke: #000000; stroke-width: 0.8; stroke-linejoin: miter; stroke-linecap: square\"/>\n   </g>\n   <g id=\"patch_6\">\n    <path d=\"M 42.828125 22.318125 \nL 600.828125 22.318125 \n\" style=\"fill: none; stroke: #000000; stroke-width: 0.8; stroke-linejoin: miter; stroke-linecap: square\"/>\n   </g>\n   <g id=\"text_13\">\n    <!-- HitRate -->\n    <g transform=\"translate(299.541875 16.318125) scale(0.12 -0.12)\">\n     <defs>\n      <path id=\"DejaVuSans-48\" d=\"M 628 4666 \nL 1259 4666 \nL 1259 2753 \nL 3553 2753 \nL 3553 4666 \nL 4184 4666 \nL 4184 0 \nL 3553 0 \nL 3553 2222 \nL 1259 2222 \nL 1259 0 \nL 628 0 \nL 628 4666 \nz\n\" transform=\"scale(0.015625)\"/>\n      <path id=\"DejaVuSans-69\" d=\"M 603 3500 \nL 1178 3500 \nL 1178 0 \nL 603 0 \nL 603 3500 \nz\nM 603 4863 \nL 1178 4863 \nL 1178 4134 \nL 603 4134 \nL 603 4863 \nz\n\" transform=\"scale(0.015625)\"/>\n      <path id=\"DejaVuSans-74\" d=\"M 1172 4494 \nL 1172 3500 \nL 2356 3500 \nL 2356 3053 \nL 1172 3053 \nL 1172 1153 \nQ 1172 725 1289 603 \nQ 1406 481 1766 481 \nL 2356 481 \nL 2356 0 \nL 1766 0 \nQ 1100 0 847 248 \nQ 594 497 594 1153 \nL 594 3053 \nL 172 3053 \nL 172 3500 \nL 594 3500 \nL 594 4494 \nL 1172 4494 \nz\n\" transform=\"scale(0.015625)\"/>\n      <path id=\"DejaVuSans-52\" d=\"M 2841 2188 \nQ 3044 2119 3236 1894 \nQ 3428 1669 3622 1275 \nL 4263 0 \nL 3584 0 \nL 2988 1197 \nQ 2756 1666 2539 1819 \nQ 2322 1972 1947 1972 \nL 1259 1972 \nL 1259 0 \nL 628 0 \nL 628 4666 \nL 2053 4666 \nQ 2853 4666 3247 4331 \nQ 3641 3997 3641 3322 \nQ 3641 2881 3436 2590 \nQ 3231 2300 2841 2188 \nz\nM 1259 4147 \nL 1259 2491 \nL 2053 2491 \nQ 2509 2491 2742 2702 \nQ 2975 2913 2975 3322 \nQ 2975 3731 2742 3939 \nQ 2509 4147 2053 4147 \nL 1259 4147 \nz\n\" transform=\"scale(0.015625)\"/>\n      <path id=\"DejaVuSans-61\" d=\"M 2194 1759 \nQ 1497 1759 1228 1600 \nQ 959 1441 959 1056 \nQ 959 750 1161 570 \nQ 1363 391 1709 391 \nQ 2188 391 2477 730 \nQ 2766 1069 2766 1631 \nL 2766 1759 \nL 2194 1759 \nz\nM 3341 1997 \nL 3341 0 \nL 2766 0 \nL 2766 531 \nQ 2569 213 2275 61 \nQ 1981 -91 1556 -91 \nQ 1019 -91 701 211 \nQ 384 513 384 1019 \nQ 384 1609 779 1909 \nQ 1175 2209 1959 2209 \nL 2766 2209 \nL 2766 2266 \nQ 2766 2663 2505 2880 \nQ 2244 3097 1772 3097 \nQ 1472 3097 1187 3025 \nQ 903 2953 641 2809 \nL 641 3341 \nQ 956 3463 1253 3523 \nQ 1550 3584 1831 3584 \nQ 2591 3584 2966 3190 \nQ 3341 2797 3341 1997 \nz\n\" transform=\"scale(0.015625)\"/>\n      <path id=\"DejaVuSans-65\" d=\"M 3597 1894 \nL 3597 1613 \nL 953 1613 \nQ 991 1019 1311 708 \nQ 1631 397 2203 397 \nQ 2534 397 2845 478 \nQ 3156 559 3463 722 \nL 3463 178 \nQ 3153 47 2828 -22 \nQ 2503 -91 2169 -91 \nQ 1331 -91 842 396 \nQ 353 884 353 1716 \nQ 353 2575 817 3079 \nQ 1281 3584 2069 3584 \nQ 2775 3584 3186 3129 \nQ 3597 2675 3597 1894 \nz\nM 3022 2063 \nQ 3016 2534 2758 2815 \nQ 2500 3097 2075 3097 \nQ 1594 3097 1305 2825 \nQ 1016 2553 972 2059 \nL 3022 2063 \nz\n\" transform=\"scale(0.015625)\"/>\n     </defs>\n     <use xlink:href=\"#DejaVuSans-48\"/>\n     <use xlink:href=\"#DejaVuSans-69\" x=\"75.195312\"/>\n     <use xlink:href=\"#DejaVuSans-74\" x=\"102.978516\"/>\n     <use xlink:href=\"#DejaVuSans-52\" x=\"142.1875\"/>\n     <use xlink:href=\"#DejaVuSans-61\" x=\"209.419922\"/>\n     <use xlink:href=\"#DejaVuSans-74\" x=\"270.699219\"/>\n     <use xlink:href=\"#DejaVuSans-65\" x=\"309.908203\"/>\n    </g>\n   </g>\n  </g>\n </g>\n <defs>\n  <clipPath id=\"p1ab4602328\">\n   <rect x=\"42.828125\" y=\"22.318125\" width=\"558\" height=\"332.64\"/>\n  </clipPath>\n </defs>\n</svg>\n",
      "text/plain": [
       "<Figure size 1000x600 with 1 Axes>"
      ]
     },
     "metadata": {},
     "output_type": "display_data"
    }
   ],
   "source": [
    "plt.plot(k_vals, knn_results.sort_values(\"k\", na_position=\"last\")[\"metric\"])\n",
    "\n",
    "plt.tick_params(which=\"minor\", size=0)\n",
    "plt.title(\"HitRate\")\n",
    "plt.xlabel(\"K\")\n",
    "\n",
    "plt.show()"
   ]
  },
  {
   "attachments": {},
   "cell_type": "markdown",
   "id": "04edade7",
   "metadata": {},
   "source": [
    "## SeqUserKNN"
   ]
  },
  {
   "cell_type": "code",
   "execution_count": 86,
   "id": "01cecc8f-d17b-402f-bf2c-097e4025a2ee",
   "metadata": {},
   "outputs": [
    {
     "name": "stdout",
     "output_type": "stream",
     "text": [
      "CPU times: total: 30.6 s\n",
      "Wall time: 31.1 s\n"
     ]
    }
   ],
   "source": [
    "%%time\n",
    "k_vals = [10, 25, 50, 100, 200, 250, 500, 1000, None]\n",
    "p_vals = np.linspace(0, 1, 21)\n",
    "\n",
    "config = {\n",
    "    \"similarity_A\": \"cosine\", \n",
    "    \"similarity_T\": \"cosine\",\n",
    "}\n",
    "\n",
    "results = uknn_gridsearch(k_vals, p_vals, config, trainval, testval, holdoutval, data_description, topn)"
   ]
  },
  {
   "cell_type": "code",
   "execution_count": 91,
   "id": "edaf5f94-5554-49f8-afdf-331ff86f7296",
   "metadata": {},
   "outputs": [
    {
     "data": {
      "text/html": [
       "<div>\n",
       "<style scoped>\n",
       "    .dataframe tbody tr th:only-of-type {\n",
       "        vertical-align: middle;\n",
       "    }\n",
       "\n",
       "    .dataframe tbody tr th {\n",
       "        vertical-align: top;\n",
       "    }\n",
       "\n",
       "    .dataframe thead th {\n",
       "        text-align: right;\n",
       "    }\n",
       "</style>\n",
       "<table border=\"1\" class=\"dataframe\">\n",
       "  <thead>\n",
       "    <tr style=\"text-align: right;\">\n",
       "      <th></th>\n",
       "      <th>power</th>\n",
       "      <th>k</th>\n",
       "      <th>metric</th>\n",
       "    </tr>\n",
       "  </thead>\n",
       "  <tbody>\n",
       "    <tr>\n",
       "      <th>61</th>\n",
       "      <td>0.3</td>\n",
       "      <td>1000.0</td>\n",
       "      <td>0.021248</td>\n",
       "    </tr>\n",
       "    <tr>\n",
       "      <th>60</th>\n",
       "      <td>0.3</td>\n",
       "      <td>500.0</td>\n",
       "      <td>0.021248</td>\n",
       "    </tr>\n",
       "    <tr>\n",
       "      <th>59</th>\n",
       "      <td>0.3</td>\n",
       "      <td>250.0</td>\n",
       "      <td>0.021248</td>\n",
       "    </tr>\n",
       "    <tr>\n",
       "      <th>58</th>\n",
       "      <td>0.3</td>\n",
       "      <td>200.0</td>\n",
       "      <td>0.021248</td>\n",
       "    </tr>\n",
       "    <tr>\n",
       "      <th>62</th>\n",
       "      <td>0.3</td>\n",
       "      <td>NaN</td>\n",
       "      <td>0.021248</td>\n",
       "    </tr>\n",
       "  </tbody>\n",
       "</table>\n",
       "</div>"
      ],
      "text/plain": [
       "    power       k    metric\n",
       "61    0.3  1000.0  0.021248\n",
       "60    0.3   500.0  0.021248\n",
       "59    0.3   250.0  0.021248\n",
       "58    0.3   200.0  0.021248\n",
       "62    0.3     NaN  0.021248"
      ]
     },
     "execution_count": 91,
     "metadata": {},
     "output_type": "execute_result"
    }
   ],
   "source": [
    "seq_knn_results = pd.DataFrame(results)\n",
    "seq_knn_results.sort_values('metric', ascending=False).head()"
   ]
  },
  {
   "cell_type": "code",
   "execution_count": 92,
   "id": "179c5d8d",
   "metadata": {},
   "outputs": [
    {
     "data": {
      "text/html": [
       "<style type=\"text/css\">\n",
       "#T_4f265_row0_col0, #T_4f265_row0_col7, #T_4f265_row0_col8, #T_4f265_row1_col4, #T_4f265_row1_col6, #T_4f265_row3_col5, #T_4f265_row4_col4, #T_4f265_row7_col4, #T_4f265_row8_col4, #T_4f265_row8_col5, #T_4f265_row8_col6, #T_4f265_row10_col0, #T_4f265_row10_col4, #T_4f265_row10_col6, #T_4f265_row10_col7, #T_4f265_row10_col8 {\n",
       "  background-color: #2c89bd;\n",
       "  color: #f1f1f1;\n",
       "}\n",
       "#T_4f265_row0_col1, #T_4f265_row2_col1, #T_4f265_row17_col1, #T_4f265_row18_col1, #T_4f265_row20_col1 {\n",
       "  background-color: #f6eff7;\n",
       "  color: #000000;\n",
       "}\n",
       "#T_4f265_row0_col2, #T_4f265_row3_col2, #T_4f265_row5_col2, #T_4f265_row8_col3, #T_4f265_row11_col0, #T_4f265_row11_col5, #T_4f265_row11_col7, #T_4f265_row11_col8 {\n",
       "  background-color: #63a2cb;\n",
       "  color: #f1f1f1;\n",
       "}\n",
       "#T_4f265_row0_col3, #T_4f265_row2_col2, #T_4f265_row4_col2, #T_4f265_row11_col6 {\n",
       "  background-color: #569dc8;\n",
       "  color: #f1f1f1;\n",
       "}\n",
       "#T_4f265_row0_col4, #T_4f265_row0_col6, #T_4f265_row1_col5, #T_4f265_row2_col0, #T_4f265_row2_col4, #T_4f265_row2_col5, #T_4f265_row2_col6, #T_4f265_row2_col7, #T_4f265_row2_col8, #T_4f265_row3_col0, #T_4f265_row3_col4, #T_4f265_row3_col6, #T_4f265_row3_col7, #T_4f265_row3_col8, #T_4f265_row5_col4, #T_4f265_row7_col0, #T_4f265_row7_col5, #T_4f265_row7_col6, #T_4f265_row7_col7, #T_4f265_row7_col8, #T_4f265_row9_col0, #T_4f265_row9_col5, #T_4f265_row9_col6, #T_4f265_row9_col7, #T_4f265_row9_col8 {\n",
       "  background-color: #2081b9;\n",
       "  color: #f1f1f1;\n",
       "}\n",
       "#T_4f265_row0_col5, #T_4f265_row4_col0, #T_4f265_row4_col5, #T_4f265_row4_col6, #T_4f265_row4_col7, #T_4f265_row4_col8, #T_4f265_row5_col0, #T_4f265_row5_col5, #T_4f265_row5_col6, #T_4f265_row5_col7, #T_4f265_row5_col8, #T_4f265_row9_col4 {\n",
       "  background-color: #157ab5;\n",
       "  color: #f1f1f1;\n",
       "}\n",
       "#T_4f265_row1_col0, #T_4f265_row1_col7, #T_4f265_row1_col8, #T_4f265_row6_col3, #T_4f265_row8_col0, #T_4f265_row8_col7, #T_4f265_row8_col8, #T_4f265_row10_col5 {\n",
       "  background-color: #3790c0;\n",
       "  color: #f1f1f1;\n",
       "}\n",
       "#T_4f265_row1_col1, #T_4f265_row19_col1 {\n",
       "  background-color: #fbf3f9;\n",
       "  color: #000000;\n",
       "}\n",
       "#T_4f265_row1_col2, #T_4f265_row1_col3, #T_4f265_row3_col3, #T_4f265_row7_col3, #T_4f265_row9_col3, #T_4f265_row11_col4 {\n",
       "  background-color: #73a9cf;\n",
       "  color: #f1f1f1;\n",
       "}\n",
       "#T_4f265_row2_col3, #T_4f265_row4_col3, #T_4f265_row5_col3, #T_4f265_row6_col2 {\n",
       "  background-color: #4697c4;\n",
       "  color: #f1f1f1;\n",
       "}\n",
       "#T_4f265_row3_col1, #T_4f265_row4_col1, #T_4f265_row5_col1, #T_4f265_row8_col1, #T_4f265_row12_col1, #T_4f265_row18_col2 {\n",
       "  background-color: #f2ecf5;\n",
       "  color: #000000;\n",
       "}\n",
       "#T_4f265_row6_col0, #T_4f265_row6_col5, #T_4f265_row6_col6, #T_4f265_row6_col7, #T_4f265_row6_col8 {\n",
       "  background-color: #056dab;\n",
       "  color: #f1f1f1;\n",
       "}\n",
       "#T_4f265_row6_col1, #T_4f265_row7_col1, #T_4f265_row11_col1, #T_4f265_row13_col1 {\n",
       "  background-color: #ede8f3;\n",
       "  color: #000000;\n",
       "}\n",
       "#T_4f265_row6_col4 {\n",
       "  background-color: #0872b1;\n",
       "  color: #f1f1f1;\n",
       "}\n",
       "#T_4f265_row7_col2, #T_4f265_row13_col0, #T_4f265_row13_col6, #T_4f265_row13_col7, #T_4f265_row13_col8 {\n",
       "  background-color: #96b6d7;\n",
       "  color: #000000;\n",
       "}\n",
       "#T_4f265_row8_col2, #T_4f265_row9_col2, #T_4f265_row12_col0, #T_4f265_row12_col7, #T_4f265_row12_col8 {\n",
       "  background-color: #8bb2d4;\n",
       "  color: #000000;\n",
       "}\n",
       "#T_4f265_row9_col1, #T_4f265_row10_col1, #T_4f265_row17_col2, #T_4f265_row20_col3 {\n",
       "  background-color: #e7e3f0;\n",
       "  color: #000000;\n",
       "}\n",
       "#T_4f265_row10_col2, #T_4f265_row10_col3, #T_4f265_row12_col5, #T_4f265_row12_col6 {\n",
       "  background-color: #7eadd1;\n",
       "  color: #f1f1f1;\n",
       "}\n",
       "#T_4f265_row11_col2, #T_4f265_row12_col4, #T_4f265_row13_col4, #T_4f265_row14_col0, #T_4f265_row14_col5, #T_4f265_row14_col6, #T_4f265_row14_col7, #T_4f265_row14_col8, #T_4f265_row15_col0, #T_4f265_row15_col6, #T_4f265_row15_col7, #T_4f265_row15_col8, #T_4f265_row16_col0, #T_4f265_row16_col5, #T_4f265_row16_col7, #T_4f265_row16_col8 {\n",
       "  background-color: #adc1dd;\n",
       "  color: #000000;\n",
       "}\n",
       "#T_4f265_row11_col3, #T_4f265_row13_col5, #T_4f265_row14_col4, #T_4f265_row16_col6 {\n",
       "  background-color: #a2bcda;\n",
       "  color: #000000;\n",
       "}\n",
       "#T_4f265_row12_col2, #T_4f265_row14_col2, #T_4f265_row15_col3, #T_4f265_row18_col5, #T_4f265_row18_col6, #T_4f265_row19_col0, #T_4f265_row19_col7, #T_4f265_row19_col8, #T_4f265_row20_col0, #T_4f265_row20_col5, #T_4f265_row20_col6, #T_4f265_row20_col7, #T_4f265_row20_col8 {\n",
       "  background-color: #d3d4e7;\n",
       "  color: #000000;\n",
       "}\n",
       "#T_4f265_row12_col3, #T_4f265_row13_col3, #T_4f265_row14_col3, #T_4f265_row15_col4, #T_4f265_row16_col4 {\n",
       "  background-color: #c1cae2;\n",
       "  color: #000000;\n",
       "}\n",
       "#T_4f265_row13_col2, #T_4f265_row17_col0, #T_4f265_row17_col4, #T_4f265_row17_col6, #T_4f265_row17_col7, #T_4f265_row17_col8, #T_4f265_row18_col0, #T_4f265_row18_col3, #T_4f265_row18_col7, #T_4f265_row18_col8, #T_4f265_row19_col5, #T_4f265_row19_col6 {\n",
       "  background-color: #cacee5;\n",
       "  color: #000000;\n",
       "}\n",
       "#T_4f265_row14_col1, #T_4f265_row15_col1, #T_4f265_row16_col1 {\n",
       "  background-color: #fff7fb;\n",
       "  color: #000000;\n",
       "}\n",
       "#T_4f265_row15_col2, #T_4f265_row16_col3, #T_4f265_row18_col4, #T_4f265_row19_col2, #T_4f265_row20_col2 {\n",
       "  background-color: #e0deed;\n",
       "  color: #000000;\n",
       "}\n",
       "#T_4f265_row15_col5, #T_4f265_row17_col5 {\n",
       "  background-color: #b7c5df;\n",
       "  color: #000000;\n",
       "}\n",
       "#T_4f265_row16_col2, #T_4f265_row17_col3, #T_4f265_row19_col3, #T_4f265_row19_col4, #T_4f265_row20_col4 {\n",
       "  background-color: #d9d8ea;\n",
       "  color: #000000;\n",
       "}\n",
       "</style>\n",
       "<table id=\"T_4f265\">\n",
       "  <thead>\n",
       "    <tr>\n",
       "      <th class=\"index_name level0\" >k</th>\n",
       "      <th id=\"T_4f265_level0_col0\" class=\"col_heading level0 col0\" >nan</th>\n",
       "      <th id=\"T_4f265_level0_col1\" class=\"col_heading level0 col1\" >10.000000</th>\n",
       "      <th id=\"T_4f265_level0_col2\" class=\"col_heading level0 col2\" >25.000000</th>\n",
       "      <th id=\"T_4f265_level0_col3\" class=\"col_heading level0 col3\" >50.000000</th>\n",
       "      <th id=\"T_4f265_level0_col4\" class=\"col_heading level0 col4\" >100.000000</th>\n",
       "      <th id=\"T_4f265_level0_col5\" class=\"col_heading level0 col5\" >200.000000</th>\n",
       "      <th id=\"T_4f265_level0_col6\" class=\"col_heading level0 col6\" >250.000000</th>\n",
       "      <th id=\"T_4f265_level0_col7\" class=\"col_heading level0 col7\" >500.000000</th>\n",
       "      <th id=\"T_4f265_level0_col8\" class=\"col_heading level0 col8\" >1000.000000</th>\n",
       "    </tr>\n",
       "    <tr>\n",
       "      <th class=\"index_name level0\" >power</th>\n",
       "      <th class=\"blank col0\" >&nbsp;</th>\n",
       "      <th class=\"blank col1\" >&nbsp;</th>\n",
       "      <th class=\"blank col2\" >&nbsp;</th>\n",
       "      <th class=\"blank col3\" >&nbsp;</th>\n",
       "      <th class=\"blank col4\" >&nbsp;</th>\n",
       "      <th class=\"blank col5\" >&nbsp;</th>\n",
       "      <th class=\"blank col6\" >&nbsp;</th>\n",
       "      <th class=\"blank col7\" >&nbsp;</th>\n",
       "      <th class=\"blank col8\" >&nbsp;</th>\n",
       "    </tr>\n",
       "  </thead>\n",
       "  <tbody>\n",
       "    <tr>\n",
       "      <th id=\"T_4f265_level0_row0\" class=\"row_heading level0 row0\" >0.000000</th>\n",
       "      <td id=\"T_4f265_row0_col0\" class=\"data row0 col0\" >0.019899</td>\n",
       "      <td id=\"T_4f265_row0_col1\" class=\"data row0 col1\" >0.01315</td>\n",
       "      <td id=\"T_4f265_row0_col2\" class=\"data row0 col2\" >0.01855</td>\n",
       "      <td id=\"T_4f265_row0_col3\" class=\"data row0 col3\" >0.01889</td>\n",
       "      <td id=\"T_4f265_row0_col4\" class=\"data row0 col4\" >0.02024</td>\n",
       "      <td id=\"T_4f265_row0_col5\" class=\"data row0 col5\" >0.02057</td>\n",
       "      <td id=\"T_4f265_row0_col6\" class=\"data row0 col6\" >0.02024</td>\n",
       "      <td id=\"T_4f265_row0_col7\" class=\"data row0 col7\" >0.01990</td>\n",
       "      <td id=\"T_4f265_row0_col8\" class=\"data row0 col8\" >0.01990</td>\n",
       "    </tr>\n",
       "    <tr>\n",
       "      <th id=\"T_4f265_level0_row1\" class=\"row_heading level0 row1\" >0.050000</th>\n",
       "      <td id=\"T_4f265_row1_col0\" class=\"data row1 col0\" >0.019562</td>\n",
       "      <td id=\"T_4f265_row1_col1\" class=\"data row1 col1\" >0.01282</td>\n",
       "      <td id=\"T_4f265_row1_col2\" class=\"data row1 col2\" >0.01821</td>\n",
       "      <td id=\"T_4f265_row1_col3\" class=\"data row1 col3\" >0.01821</td>\n",
       "      <td id=\"T_4f265_row1_col4\" class=\"data row1 col4\" >0.01990</td>\n",
       "      <td id=\"T_4f265_row1_col5\" class=\"data row1 col5\" >0.02024</td>\n",
       "      <td id=\"T_4f265_row1_col6\" class=\"data row1 col6\" >0.01990</td>\n",
       "      <td id=\"T_4f265_row1_col7\" class=\"data row1 col7\" >0.01956</td>\n",
       "      <td id=\"T_4f265_row1_col8\" class=\"data row1 col8\" >0.01956</td>\n",
       "    </tr>\n",
       "    <tr>\n",
       "      <th id=\"T_4f265_level0_row2\" class=\"row_heading level0 row2\" >0.100000</th>\n",
       "      <td id=\"T_4f265_row2_col0\" class=\"data row2 col0\" >0.020236</td>\n",
       "      <td id=\"T_4f265_row2_col1\" class=\"data row2 col1\" >0.01315</td>\n",
       "      <td id=\"T_4f265_row2_col2\" class=\"data row2 col2\" >0.01889</td>\n",
       "      <td id=\"T_4f265_row2_col3\" class=\"data row2 col3\" >0.01922</td>\n",
       "      <td id=\"T_4f265_row2_col4\" class=\"data row2 col4\" >0.02024</td>\n",
       "      <td id=\"T_4f265_row2_col5\" class=\"data row2 col5\" >0.02024</td>\n",
       "      <td id=\"T_4f265_row2_col6\" class=\"data row2 col6\" >0.02024</td>\n",
       "      <td id=\"T_4f265_row2_col7\" class=\"data row2 col7\" >0.02024</td>\n",
       "      <td id=\"T_4f265_row2_col8\" class=\"data row2 col8\" >0.02024</td>\n",
       "    </tr>\n",
       "    <tr>\n",
       "      <th id=\"T_4f265_level0_row3\" class=\"row_heading level0 row3\" >0.150000</th>\n",
       "      <td id=\"T_4f265_row3_col0\" class=\"data row3 col0\" >0.020236</td>\n",
       "      <td id=\"T_4f265_row3_col1\" class=\"data row3 col1\" >0.01349</td>\n",
       "      <td id=\"T_4f265_row3_col2\" class=\"data row3 col2\" >0.01855</td>\n",
       "      <td id=\"T_4f265_row3_col3\" class=\"data row3 col3\" >0.01821</td>\n",
       "      <td id=\"T_4f265_row3_col4\" class=\"data row3 col4\" >0.02024</td>\n",
       "      <td id=\"T_4f265_row3_col5\" class=\"data row3 col5\" >0.01990</td>\n",
       "      <td id=\"T_4f265_row3_col6\" class=\"data row3 col6\" >0.02024</td>\n",
       "      <td id=\"T_4f265_row3_col7\" class=\"data row3 col7\" >0.02024</td>\n",
       "      <td id=\"T_4f265_row3_col8\" class=\"data row3 col8\" >0.02024</td>\n",
       "    </tr>\n",
       "    <tr>\n",
       "      <th id=\"T_4f265_level0_row4\" class=\"row_heading level0 row4\" >0.200000</th>\n",
       "      <td id=\"T_4f265_row4_col0\" class=\"data row4 col0\" >0.020573</td>\n",
       "      <td id=\"T_4f265_row4_col1\" class=\"data row4 col1\" >0.01349</td>\n",
       "      <td id=\"T_4f265_row4_col2\" class=\"data row4 col2\" >0.01889</td>\n",
       "      <td id=\"T_4f265_row4_col3\" class=\"data row4 col3\" >0.01922</td>\n",
       "      <td id=\"T_4f265_row4_col4\" class=\"data row4 col4\" >0.01990</td>\n",
       "      <td id=\"T_4f265_row4_col5\" class=\"data row4 col5\" >0.02057</td>\n",
       "      <td id=\"T_4f265_row4_col6\" class=\"data row4 col6\" >0.02057</td>\n",
       "      <td id=\"T_4f265_row4_col7\" class=\"data row4 col7\" >0.02057</td>\n",
       "      <td id=\"T_4f265_row4_col8\" class=\"data row4 col8\" >0.02057</td>\n",
       "    </tr>\n",
       "    <tr>\n",
       "      <th id=\"T_4f265_level0_row5\" class=\"row_heading level0 row5\" >0.250000</th>\n",
       "      <td id=\"T_4f265_row5_col0\" class=\"data row5 col0\" >0.020573</td>\n",
       "      <td id=\"T_4f265_row5_col1\" class=\"data row5 col1\" >0.01349</td>\n",
       "      <td id=\"T_4f265_row5_col2\" class=\"data row5 col2\" >0.01855</td>\n",
       "      <td id=\"T_4f265_row5_col3\" class=\"data row5 col3\" >0.01922</td>\n",
       "      <td id=\"T_4f265_row5_col4\" class=\"data row5 col4\" >0.02024</td>\n",
       "      <td id=\"T_4f265_row5_col5\" class=\"data row5 col5\" >0.02057</td>\n",
       "      <td id=\"T_4f265_row5_col6\" class=\"data row5 col6\" >0.02057</td>\n",
       "      <td id=\"T_4f265_row5_col7\" class=\"data row5 col7\" >0.02057</td>\n",
       "      <td id=\"T_4f265_row5_col8\" class=\"data row5 col8\" >0.02057</td>\n",
       "    </tr>\n",
       "    <tr>\n",
       "      <th id=\"T_4f265_level0_row6\" class=\"row_heading level0 row6\" >0.300000</th>\n",
       "      <td id=\"T_4f265_row6_col0\" class=\"data row6 col0\" >0.021248</td>\n",
       "      <td id=\"T_4f265_row6_col1\" class=\"data row6 col1\" >0.01383</td>\n",
       "      <td id=\"T_4f265_row6_col2\" class=\"data row6 col2\" >0.01922</td>\n",
       "      <td id=\"T_4f265_row6_col3\" class=\"data row6 col3\" >0.01956</td>\n",
       "      <td id=\"T_4f265_row6_col4\" class=\"data row6 col4\" >0.02091</td>\n",
       "      <td id=\"T_4f265_row6_col5\" class=\"data row6 col5\" >0.02125</td>\n",
       "      <td id=\"T_4f265_row6_col6\" class=\"data row6 col6\" >0.02125</td>\n",
       "      <td id=\"T_4f265_row6_col7\" class=\"data row6 col7\" >0.02125</td>\n",
       "      <td id=\"T_4f265_row6_col8\" class=\"data row6 col8\" >0.02125</td>\n",
       "    </tr>\n",
       "    <tr>\n",
       "      <th id=\"T_4f265_level0_row7\" class=\"row_heading level0 row7\" >0.350000</th>\n",
       "      <td id=\"T_4f265_row7_col0\" class=\"data row7 col0\" >0.020236</td>\n",
       "      <td id=\"T_4f265_row7_col1\" class=\"data row7 col1\" >0.01383</td>\n",
       "      <td id=\"T_4f265_row7_col2\" class=\"data row7 col2\" >0.01720</td>\n",
       "      <td id=\"T_4f265_row7_col3\" class=\"data row7 col3\" >0.01821</td>\n",
       "      <td id=\"T_4f265_row7_col4\" class=\"data row7 col4\" >0.01990</td>\n",
       "      <td id=\"T_4f265_row7_col5\" class=\"data row7 col5\" >0.02024</td>\n",
       "      <td id=\"T_4f265_row7_col6\" class=\"data row7 col6\" >0.02024</td>\n",
       "      <td id=\"T_4f265_row7_col7\" class=\"data row7 col7\" >0.02024</td>\n",
       "      <td id=\"T_4f265_row7_col8\" class=\"data row7 col8\" >0.02024</td>\n",
       "    </tr>\n",
       "    <tr>\n",
       "      <th id=\"T_4f265_level0_row8\" class=\"row_heading level0 row8\" >0.400000</th>\n",
       "      <td id=\"T_4f265_row8_col0\" class=\"data row8 col0\" >0.019562</td>\n",
       "      <td id=\"T_4f265_row8_col1\" class=\"data row8 col1\" >0.01349</td>\n",
       "      <td id=\"T_4f265_row8_col2\" class=\"data row8 col2\" >0.01754</td>\n",
       "      <td id=\"T_4f265_row8_col3\" class=\"data row8 col3\" >0.01855</td>\n",
       "      <td id=\"T_4f265_row8_col4\" class=\"data row8 col4\" >0.01990</td>\n",
       "      <td id=\"T_4f265_row8_col5\" class=\"data row8 col5\" >0.01990</td>\n",
       "      <td id=\"T_4f265_row8_col6\" class=\"data row8 col6\" >0.01990</td>\n",
       "      <td id=\"T_4f265_row8_col7\" class=\"data row8 col7\" >0.01956</td>\n",
       "      <td id=\"T_4f265_row8_col8\" class=\"data row8 col8\" >0.01956</td>\n",
       "    </tr>\n",
       "    <tr>\n",
       "      <th id=\"T_4f265_level0_row9\" class=\"row_heading level0 row9\" >0.450000</th>\n",
       "      <td id=\"T_4f265_row9_col0\" class=\"data row9 col0\" >0.020236</td>\n",
       "      <td id=\"T_4f265_row9_col1\" class=\"data row9 col1\" >0.01417</td>\n",
       "      <td id=\"T_4f265_row9_col2\" class=\"data row9 col2\" >0.01754</td>\n",
       "      <td id=\"T_4f265_row9_col3\" class=\"data row9 col3\" >0.01821</td>\n",
       "      <td id=\"T_4f265_row9_col4\" class=\"data row9 col4\" >0.02057</td>\n",
       "      <td id=\"T_4f265_row9_col5\" class=\"data row9 col5\" >0.02024</td>\n",
       "      <td id=\"T_4f265_row9_col6\" class=\"data row9 col6\" >0.02024</td>\n",
       "      <td id=\"T_4f265_row9_col7\" class=\"data row9 col7\" >0.02024</td>\n",
       "      <td id=\"T_4f265_row9_col8\" class=\"data row9 col8\" >0.02024</td>\n",
       "    </tr>\n",
       "    <tr>\n",
       "      <th id=\"T_4f265_level0_row10\" class=\"row_heading level0 row10\" >0.500000</th>\n",
       "      <td id=\"T_4f265_row10_col0\" class=\"data row10 col0\" >0.019899</td>\n",
       "      <td id=\"T_4f265_row10_col1\" class=\"data row10 col1\" >0.01417</td>\n",
       "      <td id=\"T_4f265_row10_col2\" class=\"data row10 col2\" >0.01788</td>\n",
       "      <td id=\"T_4f265_row10_col3\" class=\"data row10 col3\" >0.01788</td>\n",
       "      <td id=\"T_4f265_row10_col4\" class=\"data row10 col4\" >0.01990</td>\n",
       "      <td id=\"T_4f265_row10_col5\" class=\"data row10 col5\" >0.01956</td>\n",
       "      <td id=\"T_4f265_row10_col6\" class=\"data row10 col6\" >0.01990</td>\n",
       "      <td id=\"T_4f265_row10_col7\" class=\"data row10 col7\" >0.01990</td>\n",
       "      <td id=\"T_4f265_row10_col8\" class=\"data row10 col8\" >0.01990</td>\n",
       "    </tr>\n",
       "    <tr>\n",
       "      <th id=\"T_4f265_level0_row11\" class=\"row_heading level0 row11\" >0.550000</th>\n",
       "      <td id=\"T_4f265_row11_col0\" class=\"data row11 col0\" >0.018550</td>\n",
       "      <td id=\"T_4f265_row11_col1\" class=\"data row11 col1\" >0.01383</td>\n",
       "      <td id=\"T_4f265_row11_col2\" class=\"data row11 col2\" >0.01653</td>\n",
       "      <td id=\"T_4f265_row11_col3\" class=\"data row11 col3\" >0.01686</td>\n",
       "      <td id=\"T_4f265_row11_col4\" class=\"data row11 col4\" >0.01821</td>\n",
       "      <td id=\"T_4f265_row11_col5\" class=\"data row11 col5\" >0.01855</td>\n",
       "      <td id=\"T_4f265_row11_col6\" class=\"data row11 col6\" >0.01889</td>\n",
       "      <td id=\"T_4f265_row11_col7\" class=\"data row11 col7\" >0.01855</td>\n",
       "      <td id=\"T_4f265_row11_col8\" class=\"data row11 col8\" >0.01855</td>\n",
       "    </tr>\n",
       "    <tr>\n",
       "      <th id=\"T_4f265_level0_row12\" class=\"row_heading level0 row12\" >0.600000</th>\n",
       "      <td id=\"T_4f265_row12_col0\" class=\"data row12 col0\" >0.017538</td>\n",
       "      <td id=\"T_4f265_row12_col1\" class=\"data row12 col1\" >0.01349</td>\n",
       "      <td id=\"T_4f265_row12_col2\" class=\"data row12 col2\" >0.01518</td>\n",
       "      <td id=\"T_4f265_row12_col3\" class=\"data row12 col3\" >0.01585</td>\n",
       "      <td id=\"T_4f265_row12_col4\" class=\"data row12 col4\" >0.01653</td>\n",
       "      <td id=\"T_4f265_row12_col5\" class=\"data row12 col5\" >0.01788</td>\n",
       "      <td id=\"T_4f265_row12_col6\" class=\"data row12 col6\" >0.01788</td>\n",
       "      <td id=\"T_4f265_row12_col7\" class=\"data row12 col7\" >0.01754</td>\n",
       "      <td id=\"T_4f265_row12_col8\" class=\"data row12 col8\" >0.01754</td>\n",
       "    </tr>\n",
       "    <tr>\n",
       "      <th id=\"T_4f265_level0_row13\" class=\"row_heading level0 row13\" >0.650000</th>\n",
       "      <td id=\"T_4f265_row13_col0\" class=\"data row13 col0\" >0.017201</td>\n",
       "      <td id=\"T_4f265_row13_col1\" class=\"data row13 col1\" >0.01383</td>\n",
       "      <td id=\"T_4f265_row13_col2\" class=\"data row13 col2\" >0.01551</td>\n",
       "      <td id=\"T_4f265_row13_col3\" class=\"data row13 col3\" >0.01585</td>\n",
       "      <td id=\"T_4f265_row13_col4\" class=\"data row13 col4\" >0.01653</td>\n",
       "      <td id=\"T_4f265_row13_col5\" class=\"data row13 col5\" >0.01686</td>\n",
       "      <td id=\"T_4f265_row13_col6\" class=\"data row13 col6\" >0.01720</td>\n",
       "      <td id=\"T_4f265_row13_col7\" class=\"data row13 col7\" >0.01720</td>\n",
       "      <td id=\"T_4f265_row13_col8\" class=\"data row13 col8\" >0.01720</td>\n",
       "    </tr>\n",
       "    <tr>\n",
       "      <th id=\"T_4f265_level0_row14\" class=\"row_heading level0 row14\" >0.700000</th>\n",
       "      <td id=\"T_4f265_row14_col0\" class=\"data row14 col0\" >0.016526</td>\n",
       "      <td id=\"T_4f265_row14_col1\" class=\"data row14 col1\" >0.01248</td>\n",
       "      <td id=\"T_4f265_row14_col2\" class=\"data row14 col2\" >0.01518</td>\n",
       "      <td id=\"T_4f265_row14_col3\" class=\"data row14 col3\" >0.01585</td>\n",
       "      <td id=\"T_4f265_row14_col4\" class=\"data row14 col4\" >0.01686</td>\n",
       "      <td id=\"T_4f265_row14_col5\" class=\"data row14 col5\" >0.01653</td>\n",
       "      <td id=\"T_4f265_row14_col6\" class=\"data row14 col6\" >0.01653</td>\n",
       "      <td id=\"T_4f265_row14_col7\" class=\"data row14 col7\" >0.01653</td>\n",
       "      <td id=\"T_4f265_row14_col8\" class=\"data row14 col8\" >0.01653</td>\n",
       "    </tr>\n",
       "    <tr>\n",
       "      <th id=\"T_4f265_level0_row15\" class=\"row_heading level0 row15\" >0.750000</th>\n",
       "      <td id=\"T_4f265_row15_col0\" class=\"data row15 col0\" >0.016526</td>\n",
       "      <td id=\"T_4f265_row15_col1\" class=\"data row15 col1\" >0.01248</td>\n",
       "      <td id=\"T_4f265_row15_col2\" class=\"data row15 col2\" >0.01450</td>\n",
       "      <td id=\"T_4f265_row15_col3\" class=\"data row15 col3\" >0.01518</td>\n",
       "      <td id=\"T_4f265_row15_col4\" class=\"data row15 col4\" >0.01585</td>\n",
       "      <td id=\"T_4f265_row15_col5\" class=\"data row15 col5\" >0.01619</td>\n",
       "      <td id=\"T_4f265_row15_col6\" class=\"data row15 col6\" >0.01653</td>\n",
       "      <td id=\"T_4f265_row15_col7\" class=\"data row15 col7\" >0.01653</td>\n",
       "      <td id=\"T_4f265_row15_col8\" class=\"data row15 col8\" >0.01653</td>\n",
       "    </tr>\n",
       "    <tr>\n",
       "      <th id=\"T_4f265_level0_row16\" class=\"row_heading level0 row16\" >0.800000</th>\n",
       "      <td id=\"T_4f265_row16_col0\" class=\"data row16 col0\" >0.016526</td>\n",
       "      <td id=\"T_4f265_row16_col1\" class=\"data row16 col1\" >0.01248</td>\n",
       "      <td id=\"T_4f265_row16_col2\" class=\"data row16 col2\" >0.01484</td>\n",
       "      <td id=\"T_4f265_row16_col3\" class=\"data row16 col3\" >0.01450</td>\n",
       "      <td id=\"T_4f265_row16_col4\" class=\"data row16 col4\" >0.01585</td>\n",
       "      <td id=\"T_4f265_row16_col5\" class=\"data row16 col5\" >0.01653</td>\n",
       "      <td id=\"T_4f265_row16_col6\" class=\"data row16 col6\" >0.01686</td>\n",
       "      <td id=\"T_4f265_row16_col7\" class=\"data row16 col7\" >0.01653</td>\n",
       "      <td id=\"T_4f265_row16_col8\" class=\"data row16 col8\" >0.01653</td>\n",
       "    </tr>\n",
       "    <tr>\n",
       "      <th id=\"T_4f265_level0_row17\" class=\"row_heading level0 row17\" >0.850000</th>\n",
       "      <td id=\"T_4f265_row17_col0\" class=\"data row17 col0\" >0.015514</td>\n",
       "      <td id=\"T_4f265_row17_col1\" class=\"data row17 col1\" >0.01315</td>\n",
       "      <td id=\"T_4f265_row17_col2\" class=\"data row17 col2\" >0.01417</td>\n",
       "      <td id=\"T_4f265_row17_col3\" class=\"data row17 col3\" >0.01484</td>\n",
       "      <td id=\"T_4f265_row17_col4\" class=\"data row17 col4\" >0.01551</td>\n",
       "      <td id=\"T_4f265_row17_col5\" class=\"data row17 col5\" >0.01619</td>\n",
       "      <td id=\"T_4f265_row17_col6\" class=\"data row17 col6\" >0.01551</td>\n",
       "      <td id=\"T_4f265_row17_col7\" class=\"data row17 col7\" >0.01551</td>\n",
       "      <td id=\"T_4f265_row17_col8\" class=\"data row17 col8\" >0.01551</td>\n",
       "    </tr>\n",
       "    <tr>\n",
       "      <th id=\"T_4f265_level0_row18\" class=\"row_heading level0 row18\" >0.900000</th>\n",
       "      <td id=\"T_4f265_row18_col0\" class=\"data row18 col0\" >0.015514</td>\n",
       "      <td id=\"T_4f265_row18_col1\" class=\"data row18 col1\" >0.01315</td>\n",
       "      <td id=\"T_4f265_row18_col2\" class=\"data row18 col2\" >0.01349</td>\n",
       "      <td id=\"T_4f265_row18_col3\" class=\"data row18 col3\" >0.01551</td>\n",
       "      <td id=\"T_4f265_row18_col4\" class=\"data row18 col4\" >0.01450</td>\n",
       "      <td id=\"T_4f265_row18_col5\" class=\"data row18 col5\" >0.01518</td>\n",
       "      <td id=\"T_4f265_row18_col6\" class=\"data row18 col6\" >0.01518</td>\n",
       "      <td id=\"T_4f265_row18_col7\" class=\"data row18 col7\" >0.01551</td>\n",
       "      <td id=\"T_4f265_row18_col8\" class=\"data row18 col8\" >0.01551</td>\n",
       "    </tr>\n",
       "    <tr>\n",
       "      <th id=\"T_4f265_level0_row19\" class=\"row_heading level0 row19\" >0.950000</th>\n",
       "      <td id=\"T_4f265_row19_col0\" class=\"data row19 col0\" >0.015177</td>\n",
       "      <td id=\"T_4f265_row19_col1\" class=\"data row19 col1\" >0.01282</td>\n",
       "      <td id=\"T_4f265_row19_col2\" class=\"data row19 col2\" >0.01450</td>\n",
       "      <td id=\"T_4f265_row19_col3\" class=\"data row19 col3\" >0.01484</td>\n",
       "      <td id=\"T_4f265_row19_col4\" class=\"data row19 col4\" >0.01484</td>\n",
       "      <td id=\"T_4f265_row19_col5\" class=\"data row19 col5\" >0.01551</td>\n",
       "      <td id=\"T_4f265_row19_col6\" class=\"data row19 col6\" >0.01551</td>\n",
       "      <td id=\"T_4f265_row19_col7\" class=\"data row19 col7\" >0.01518</td>\n",
       "      <td id=\"T_4f265_row19_col8\" class=\"data row19 col8\" >0.01518</td>\n",
       "    </tr>\n",
       "    <tr>\n",
       "      <th id=\"T_4f265_level0_row20\" class=\"row_heading level0 row20\" >1.000000</th>\n",
       "      <td id=\"T_4f265_row20_col0\" class=\"data row20 col0\" >0.015177</td>\n",
       "      <td id=\"T_4f265_row20_col1\" class=\"data row20 col1\" >0.01315</td>\n",
       "      <td id=\"T_4f265_row20_col2\" class=\"data row20 col2\" >0.01450</td>\n",
       "      <td id=\"T_4f265_row20_col3\" class=\"data row20 col3\" >0.01417</td>\n",
       "      <td id=\"T_4f265_row20_col4\" class=\"data row20 col4\" >0.01484</td>\n",
       "      <td id=\"T_4f265_row20_col5\" class=\"data row20 col5\" >0.01518</td>\n",
       "      <td id=\"T_4f265_row20_col6\" class=\"data row20 col6\" >0.01518</td>\n",
       "      <td id=\"T_4f265_row20_col7\" class=\"data row20 col7\" >0.01518</td>\n",
       "      <td id=\"T_4f265_row20_col8\" class=\"data row20 col8\" >0.01518</td>\n",
       "    </tr>\n",
       "  </tbody>\n",
       "</table>\n"
      ],
      "text/plain": [
       "<pandas.io.formats.style.Styler at 0x1568a8103d0>"
      ]
     },
     "execution_count": 92,
     "metadata": {},
     "output_type": "execute_result"
    }
   ],
   "source": [
    "seq_knn_results.pivot(index=\"power\", columns=\"k\", values=\"metric\").style.format(\"{:.5f}\").background_gradient(high=0.3, axis = None)\n"
   ]
  },
  {
   "cell_type": "code",
   "execution_count": 104,
   "id": "d3cc6d87-6e21-4c86-bbde-aa2abc69e17f",
   "metadata": {},
   "outputs": [
    {
     "data": {
      "image/svg+xml": "<?xml version=\"1.0\" encoding=\"utf-8\" standalone=\"no\"?>\n<!DOCTYPE svg PUBLIC \"-//W3C//DTD SVG 1.1//EN\"\n  \"http://www.w3.org/Graphics/SVG/1.1/DTD/svg11.dtd\">\n<svg xmlns:xlink=\"http://www.w3.org/1999/xlink\" width=\"608.028125pt\" height=\"392.514375pt\" viewBox=\"0 0 608.028125 392.514375\" xmlns=\"http://www.w3.org/2000/svg\" version=\"1.1\">\n <metadata>\n  <rdf:RDF xmlns:dc=\"http://purl.org/dc/elements/1.1/\" xmlns:cc=\"http://creativecommons.org/ns#\" xmlns:rdf=\"http://www.w3.org/1999/02/22-rdf-syntax-ns#\">\n   <cc:Work>\n    <dc:type rdf:resource=\"http://purl.org/dc/dcmitype/StillImage\"/>\n    <dc:date>2023-03-25T12:31:39.515548</dc:date>\n    <dc:format>image/svg+xml</dc:format>\n    <dc:creator>\n     <cc:Agent>\n      <dc:title>Matplotlib v3.7.0, https://matplotlib.org/</dc:title>\n     </cc:Agent>\n    </dc:creator>\n   </cc:Work>\n  </rdf:RDF>\n </metadata>\n <defs>\n  <style type=\"text/css\">*{stroke-linejoin: round; stroke-linecap: butt}</style>\n </defs>\n <g id=\"figure_1\">\n  <g id=\"patch_1\">\n   <path d=\"M 0 392.514375 \nL 608.028125 392.514375 \nL 608.028125 0 \nL 0 0 \nz\n\" style=\"fill: #ffffff\"/>\n  </g>\n  <g id=\"axes_1\">\n   <g id=\"patch_2\">\n    <path d=\"M 42.828125 354.958125 \nL 600.828125 354.958125 \nL 600.828125 22.318125 \nL 42.828125 22.318125 \nz\n\" style=\"fill: #ffffff\"/>\n   </g>\n   <g id=\"matplotlib.axis_1\">\n    <g id=\"xtick_1\">\n     <g id=\"line2d_1\">\n      <defs>\n       <path id=\"m86027a5a8b\" d=\"M 0 0 \nL 0 3.5 \n\" style=\"stroke: #000000; stroke-width: 0.8\"/>\n      </defs>\n      <g>\n       <use xlink:href=\"#m86027a5a8b\" x=\"63.067794\" y=\"354.958125\" style=\"stroke: #000000; stroke-width: 0.8\"/>\n      </g>\n     </g>\n     <g id=\"text_1\">\n      <!-- 0 -->\n      <g transform=\"translate(59.886544 369.556562) scale(0.1 -0.1)\">\n       <defs>\n        <path id=\"DejaVuSans-30\" d=\"M 2034 4250 \nQ 1547 4250 1301 3770 \nQ 1056 3291 1056 2328 \nQ 1056 1369 1301 889 \nQ 1547 409 2034 409 \nQ 2525 409 2770 889 \nQ 3016 1369 3016 2328 \nQ 3016 3291 2770 3770 \nQ 2525 4250 2034 4250 \nz\nM 2034 4750 \nQ 2819 4750 3233 4129 \nQ 3647 3509 3647 2328 \nQ 3647 1150 3233 529 \nQ 2819 -91 2034 -91 \nQ 1250 -91 836 529 \nQ 422 1150 422 2328 \nQ 422 3509 836 4129 \nQ 1250 4750 2034 4750 \nz\n\" transform=\"scale(0.015625)\"/>\n       </defs>\n       <use xlink:href=\"#DejaVuSans-30\"/>\n      </g>\n     </g>\n    </g>\n    <g id=\"xtick_2\">\n     <g id=\"line2d_2\">\n      <g>\n       <use xlink:href=\"#m86027a5a8b\" x=\"165.547133\" y=\"354.958125\" style=\"stroke: #000000; stroke-width: 0.8\"/>\n      </g>\n     </g>\n     <g id=\"text_2\">\n      <!-- 200 -->\n      <g transform=\"translate(156.003383 369.556562) scale(0.1 -0.1)\">\n       <defs>\n        <path id=\"DejaVuSans-32\" d=\"M 1228 531 \nL 3431 531 \nL 3431 0 \nL 469 0 \nL 469 531 \nQ 828 903 1448 1529 \nQ 2069 2156 2228 2338 \nQ 2531 2678 2651 2914 \nQ 2772 3150 2772 3378 \nQ 2772 3750 2511 3984 \nQ 2250 4219 1831 4219 \nQ 1534 4219 1204 4116 \nQ 875 4013 500 3803 \nL 500 4441 \nQ 881 4594 1212 4672 \nQ 1544 4750 1819 4750 \nQ 2544 4750 2975 4387 \nQ 3406 4025 3406 3419 \nQ 3406 3131 3298 2873 \nQ 3191 2616 2906 2266 \nQ 2828 2175 2409 1742 \nQ 1991 1309 1228 531 \nz\n\" transform=\"scale(0.015625)\"/>\n       </defs>\n       <use xlink:href=\"#DejaVuSans-32\"/>\n       <use xlink:href=\"#DejaVuSans-30\" x=\"63.623047\"/>\n       <use xlink:href=\"#DejaVuSans-30\" x=\"127.246094\"/>\n      </g>\n     </g>\n    </g>\n    <g id=\"xtick_3\">\n     <g id=\"line2d_3\">\n      <g>\n       <use xlink:href=\"#m86027a5a8b\" x=\"268.026472\" y=\"354.958125\" style=\"stroke: #000000; stroke-width: 0.8\"/>\n      </g>\n     </g>\n     <g id=\"text_3\">\n      <!-- 400 -->\n      <g transform=\"translate(258.482722 369.556562) scale(0.1 -0.1)\">\n       <defs>\n        <path id=\"DejaVuSans-34\" d=\"M 2419 4116 \nL 825 1625 \nL 2419 1625 \nL 2419 4116 \nz\nM 2253 4666 \nL 3047 4666 \nL 3047 1625 \nL 3713 1625 \nL 3713 1100 \nL 3047 1100 \nL 3047 0 \nL 2419 0 \nL 2419 1100 \nL 313 1100 \nL 313 1709 \nL 2253 4666 \nz\n\" transform=\"scale(0.015625)\"/>\n       </defs>\n       <use xlink:href=\"#DejaVuSans-34\"/>\n       <use xlink:href=\"#DejaVuSans-30\" x=\"63.623047\"/>\n       <use xlink:href=\"#DejaVuSans-30\" x=\"127.246094\"/>\n      </g>\n     </g>\n    </g>\n    <g id=\"xtick_4\">\n     <g id=\"line2d_4\">\n      <g>\n       <use xlink:href=\"#m86027a5a8b\" x=\"370.505811\" y=\"354.958125\" style=\"stroke: #000000; stroke-width: 0.8\"/>\n      </g>\n     </g>\n     <g id=\"text_4\">\n      <!-- 600 -->\n      <g transform=\"translate(360.962061 369.556562) scale(0.1 -0.1)\">\n       <defs>\n        <path id=\"DejaVuSans-36\" d=\"M 2113 2584 \nQ 1688 2584 1439 2293 \nQ 1191 2003 1191 1497 \nQ 1191 994 1439 701 \nQ 1688 409 2113 409 \nQ 2538 409 2786 701 \nQ 3034 994 3034 1497 \nQ 3034 2003 2786 2293 \nQ 2538 2584 2113 2584 \nz\nM 3366 4563 \nL 3366 3988 \nQ 3128 4100 2886 4159 \nQ 2644 4219 2406 4219 \nQ 1781 4219 1451 3797 \nQ 1122 3375 1075 2522 \nQ 1259 2794 1537 2939 \nQ 1816 3084 2150 3084 \nQ 2853 3084 3261 2657 \nQ 3669 2231 3669 1497 \nQ 3669 778 3244 343 \nQ 2819 -91 2113 -91 \nQ 1303 -91 875 529 \nQ 447 1150 447 2328 \nQ 447 3434 972 4092 \nQ 1497 4750 2381 4750 \nQ 2619 4750 2861 4703 \nQ 3103 4656 3366 4563 \nz\n\" transform=\"scale(0.015625)\"/>\n       </defs>\n       <use xlink:href=\"#DejaVuSans-36\"/>\n       <use xlink:href=\"#DejaVuSans-30\" x=\"63.623047\"/>\n       <use xlink:href=\"#DejaVuSans-30\" x=\"127.246094\"/>\n      </g>\n     </g>\n    </g>\n    <g id=\"xtick_5\">\n     <g id=\"line2d_5\">\n      <g>\n       <use xlink:href=\"#m86027a5a8b\" x=\"472.98515\" y=\"354.958125\" style=\"stroke: #000000; stroke-width: 0.8\"/>\n      </g>\n     </g>\n     <g id=\"text_5\">\n      <!-- 800 -->\n      <g transform=\"translate(463.4414 369.556562) scale(0.1 -0.1)\">\n       <defs>\n        <path id=\"DejaVuSans-38\" d=\"M 2034 2216 \nQ 1584 2216 1326 1975 \nQ 1069 1734 1069 1313 \nQ 1069 891 1326 650 \nQ 1584 409 2034 409 \nQ 2484 409 2743 651 \nQ 3003 894 3003 1313 \nQ 3003 1734 2745 1975 \nQ 2488 2216 2034 2216 \nz\nM 1403 2484 \nQ 997 2584 770 2862 \nQ 544 3141 544 3541 \nQ 544 4100 942 4425 \nQ 1341 4750 2034 4750 \nQ 2731 4750 3128 4425 \nQ 3525 4100 3525 3541 \nQ 3525 3141 3298 2862 \nQ 3072 2584 2669 2484 \nQ 3125 2378 3379 2068 \nQ 3634 1759 3634 1313 \nQ 3634 634 3220 271 \nQ 2806 -91 2034 -91 \nQ 1263 -91 848 271 \nQ 434 634 434 1313 \nQ 434 1759 690 2068 \nQ 947 2378 1403 2484 \nz\nM 1172 3481 \nQ 1172 3119 1398 2916 \nQ 1625 2713 2034 2713 \nQ 2441 2713 2670 2916 \nQ 2900 3119 2900 3481 \nQ 2900 3844 2670 4047 \nQ 2441 4250 2034 4250 \nQ 1625 4250 1398 4047 \nQ 1172 3844 1172 3481 \nz\n\" transform=\"scale(0.015625)\"/>\n       </defs>\n       <use xlink:href=\"#DejaVuSans-38\"/>\n       <use xlink:href=\"#DejaVuSans-30\" x=\"63.623047\"/>\n       <use xlink:href=\"#DejaVuSans-30\" x=\"127.246094\"/>\n      </g>\n     </g>\n    </g>\n    <g id=\"xtick_6\">\n     <g id=\"line2d_6\">\n      <g>\n       <use xlink:href=\"#m86027a5a8b\" x=\"575.464489\" y=\"354.958125\" style=\"stroke: #000000; stroke-width: 0.8\"/>\n      </g>\n     </g>\n     <g id=\"text_6\">\n      <!-- 1000 -->\n      <g transform=\"translate(562.739489 369.556562) scale(0.1 -0.1)\">\n       <defs>\n        <path id=\"DejaVuSans-31\" d=\"M 794 531 \nL 1825 531 \nL 1825 4091 \nL 703 3866 \nL 703 4441 \nL 1819 4666 \nL 2450 4666 \nL 2450 531 \nL 3481 531 \nL 3481 0 \nL 794 0 \nL 794 531 \nz\n\" transform=\"scale(0.015625)\"/>\n       </defs>\n       <use xlink:href=\"#DejaVuSans-31\"/>\n       <use xlink:href=\"#DejaVuSans-30\" x=\"63.623047\"/>\n       <use xlink:href=\"#DejaVuSans-30\" x=\"127.246094\"/>\n       <use xlink:href=\"#DejaVuSans-30\" x=\"190.869141\"/>\n      </g>\n     </g>\n    </g>\n    <g id=\"text_7\">\n     <!-- K -->\n     <g transform=\"translate(318.549219 383.234687) scale(0.1 -0.1)\">\n      <defs>\n       <path id=\"DejaVuSans-4b\" d=\"M 628 4666 \nL 1259 4666 \nL 1259 2694 \nL 3353 4666 \nL 4166 4666 \nL 1850 2491 \nL 4331 0 \nL 3500 0 \nL 1259 2247 \nL 1259 0 \nL 628 0 \nL 628 4666 \nz\n\" transform=\"scale(0.015625)\"/>\n      </defs>\n      <use xlink:href=\"#DejaVuSans-4b\"/>\n     </g>\n    </g>\n   </g>\n   <g id=\"matplotlib.axis_2\">\n    <g id=\"ytick_1\">\n     <g id=\"line2d_7\">\n      <defs>\n       <path id=\"m305f45d694\" d=\"M 0 0 \nL -3.5 0 \n\" style=\"stroke: #000000; stroke-width: 0.8\"/>\n      </defs>\n      <g>\n       <use xlink:href=\"#m305f45d694\" x=\"42.828125\" y=\"319.984908\" style=\"stroke: #000000; stroke-width: 0.8\"/>\n      </g>\n     </g>\n     <g id=\"text_8\">\n      <!-- 0.014 -->\n      <g transform=\"translate(7.2 323.784126) scale(0.1 -0.1)\">\n       <defs>\n        <path id=\"DejaVuSans-2e\" d=\"M 684 794 \nL 1344 794 \nL 1344 0 \nL 684 0 \nL 684 794 \nz\n\" transform=\"scale(0.015625)\"/>\n       </defs>\n       <use xlink:href=\"#DejaVuSans-30\"/>\n       <use xlink:href=\"#DejaVuSans-2e\" x=\"63.623047\"/>\n       <use xlink:href=\"#DejaVuSans-30\" x=\"95.410156\"/>\n       <use xlink:href=\"#DejaVuSans-31\" x=\"159.033203\"/>\n       <use xlink:href=\"#DejaVuSans-34\" x=\"222.65625\"/>\n      </g>\n     </g>\n    </g>\n    <g id=\"ytick_2\">\n     <g id=\"line2d_8\">\n      <g>\n       <use xlink:href=\"#m305f45d694\" x=\"42.828125\" y=\"281.001603\" style=\"stroke: #000000; stroke-width: 0.8\"/>\n      </g>\n     </g>\n     <g id=\"text_9\">\n      <!-- 0.015 -->\n      <g transform=\"translate(7.2 284.800822) scale(0.1 -0.1)\">\n       <defs>\n        <path id=\"DejaVuSans-35\" d=\"M 691 4666 \nL 3169 4666 \nL 3169 4134 \nL 1269 4134 \nL 1269 2991 \nQ 1406 3038 1543 3061 \nQ 1681 3084 1819 3084 \nQ 2600 3084 3056 2656 \nQ 3513 2228 3513 1497 \nQ 3513 744 3044 326 \nQ 2575 -91 1722 -91 \nQ 1428 -91 1123 -41 \nQ 819 9 494 109 \nL 494 744 \nQ 775 591 1075 516 \nQ 1375 441 1709 441 \nQ 2250 441 2565 725 \nQ 2881 1009 2881 1497 \nQ 2881 1984 2565 2268 \nQ 2250 2553 1709 2553 \nQ 1456 2553 1204 2497 \nQ 953 2441 691 2322 \nL 691 4666 \nz\n\" transform=\"scale(0.015625)\"/>\n       </defs>\n       <use xlink:href=\"#DejaVuSans-30\"/>\n       <use xlink:href=\"#DejaVuSans-2e\" x=\"63.623047\"/>\n       <use xlink:href=\"#DejaVuSans-30\" x=\"95.410156\"/>\n       <use xlink:href=\"#DejaVuSans-31\" x=\"159.033203\"/>\n       <use xlink:href=\"#DejaVuSans-35\" x=\"222.65625\"/>\n      </g>\n     </g>\n    </g>\n    <g id=\"ytick_3\">\n     <g id=\"line2d_9\">\n      <g>\n       <use xlink:href=\"#m305f45d694\" x=\"42.828125\" y=\"242.018299\" style=\"stroke: #000000; stroke-width: 0.8\"/>\n      </g>\n     </g>\n     <g id=\"text_10\">\n      <!-- 0.016 -->\n      <g transform=\"translate(7.2 245.817518) scale(0.1 -0.1)\">\n       <use xlink:href=\"#DejaVuSans-30\"/>\n       <use xlink:href=\"#DejaVuSans-2e\" x=\"63.623047\"/>\n       <use xlink:href=\"#DejaVuSans-30\" x=\"95.410156\"/>\n       <use xlink:href=\"#DejaVuSans-31\" x=\"159.033203\"/>\n       <use xlink:href=\"#DejaVuSans-36\" x=\"222.65625\"/>\n      </g>\n     </g>\n    </g>\n    <g id=\"ytick_4\">\n     <g id=\"line2d_10\">\n      <g>\n       <use xlink:href=\"#m305f45d694\" x=\"42.828125\" y=\"203.034995\" style=\"stroke: #000000; stroke-width: 0.8\"/>\n      </g>\n     </g>\n     <g id=\"text_11\">\n      <!-- 0.017 -->\n      <g transform=\"translate(7.2 206.834213) scale(0.1 -0.1)\">\n       <defs>\n        <path id=\"DejaVuSans-37\" d=\"M 525 4666 \nL 3525 4666 \nL 3525 4397 \nL 1831 0 \nL 1172 0 \nL 2766 4134 \nL 525 4134 \nL 525 4666 \nz\n\" transform=\"scale(0.015625)\"/>\n       </defs>\n       <use xlink:href=\"#DejaVuSans-30\"/>\n       <use xlink:href=\"#DejaVuSans-2e\" x=\"63.623047\"/>\n       <use xlink:href=\"#DejaVuSans-30\" x=\"95.410156\"/>\n       <use xlink:href=\"#DejaVuSans-31\" x=\"159.033203\"/>\n       <use xlink:href=\"#DejaVuSans-37\" x=\"222.65625\"/>\n      </g>\n     </g>\n    </g>\n    <g id=\"ytick_5\">\n     <g id=\"line2d_11\">\n      <g>\n       <use xlink:href=\"#m305f45d694\" x=\"42.828125\" y=\"164.05169\" style=\"stroke: #000000; stroke-width: 0.8\"/>\n      </g>\n     </g>\n     <g id=\"text_12\">\n      <!-- 0.018 -->\n      <g transform=\"translate(7.2 167.850909) scale(0.1 -0.1)\">\n       <use xlink:href=\"#DejaVuSans-30\"/>\n       <use xlink:href=\"#DejaVuSans-2e\" x=\"63.623047\"/>\n       <use xlink:href=\"#DejaVuSans-30\" x=\"95.410156\"/>\n       <use xlink:href=\"#DejaVuSans-31\" x=\"159.033203\"/>\n       <use xlink:href=\"#DejaVuSans-38\" x=\"222.65625\"/>\n      </g>\n     </g>\n    </g>\n    <g id=\"ytick_6\">\n     <g id=\"line2d_12\">\n      <g>\n       <use xlink:href=\"#m305f45d694\" x=\"42.828125\" y=\"125.068386\" style=\"stroke: #000000; stroke-width: 0.8\"/>\n      </g>\n     </g>\n     <g id=\"text_13\">\n      <!-- 0.019 -->\n      <g transform=\"translate(7.2 128.867605) scale(0.1 -0.1)\">\n       <defs>\n        <path id=\"DejaVuSans-39\" d=\"M 703 97 \nL 703 672 \nQ 941 559 1184 500 \nQ 1428 441 1663 441 \nQ 2288 441 2617 861 \nQ 2947 1281 2994 2138 \nQ 2813 1869 2534 1725 \nQ 2256 1581 1919 1581 \nQ 1219 1581 811 2004 \nQ 403 2428 403 3163 \nQ 403 3881 828 4315 \nQ 1253 4750 1959 4750 \nQ 2769 4750 3195 4129 \nQ 3622 3509 3622 2328 \nQ 3622 1225 3098 567 \nQ 2575 -91 1691 -91 \nQ 1453 -91 1209 -44 \nQ 966 3 703 97 \nz\nM 1959 2075 \nQ 2384 2075 2632 2365 \nQ 2881 2656 2881 3163 \nQ 2881 3666 2632 3958 \nQ 2384 4250 1959 4250 \nQ 1534 4250 1286 3958 \nQ 1038 3666 1038 3163 \nQ 1038 2656 1286 2365 \nQ 1534 2075 1959 2075 \nz\n\" transform=\"scale(0.015625)\"/>\n       </defs>\n       <use xlink:href=\"#DejaVuSans-30\"/>\n       <use xlink:href=\"#DejaVuSans-2e\" x=\"63.623047\"/>\n       <use xlink:href=\"#DejaVuSans-30\" x=\"95.410156\"/>\n       <use xlink:href=\"#DejaVuSans-31\" x=\"159.033203\"/>\n       <use xlink:href=\"#DejaVuSans-39\" x=\"222.65625\"/>\n      </g>\n     </g>\n    </g>\n    <g id=\"ytick_7\">\n     <g id=\"line2d_13\">\n      <g>\n       <use xlink:href=\"#m305f45d694\" x=\"42.828125\" y=\"86.085082\" style=\"stroke: #000000; stroke-width: 0.8\"/>\n      </g>\n     </g>\n     <g id=\"text_14\">\n      <!-- 0.020 -->\n      <g transform=\"translate(7.2 89.8843) scale(0.1 -0.1)\">\n       <use xlink:href=\"#DejaVuSans-30\"/>\n       <use xlink:href=\"#DejaVuSans-2e\" x=\"63.623047\"/>\n       <use xlink:href=\"#DejaVuSans-30\" x=\"95.410156\"/>\n       <use xlink:href=\"#DejaVuSans-32\" x=\"159.033203\"/>\n       <use xlink:href=\"#DejaVuSans-30\" x=\"222.65625\"/>\n      </g>\n     </g>\n    </g>\n    <g id=\"ytick_8\">\n     <g id=\"line2d_14\">\n      <g>\n       <use xlink:href=\"#m305f45d694\" x=\"42.828125\" y=\"47.101777\" style=\"stroke: #000000; stroke-width: 0.8\"/>\n      </g>\n     </g>\n     <g id=\"text_15\">\n      <!-- 0.021 -->\n      <g transform=\"translate(7.2 50.900996) scale(0.1 -0.1)\">\n       <use xlink:href=\"#DejaVuSans-30\"/>\n       <use xlink:href=\"#DejaVuSans-2e\" x=\"63.623047\"/>\n       <use xlink:href=\"#DejaVuSans-30\" x=\"95.410156\"/>\n       <use xlink:href=\"#DejaVuSans-32\" x=\"159.033203\"/>\n       <use xlink:href=\"#DejaVuSans-31\" x=\"222.65625\"/>\n      </g>\n     </g>\n    </g>\n   </g>\n   <g id=\"line2d_15\">\n    <path d=\"M 68.191761 326.690299 \nL 75.877712 116.325082 \nL 88.687629 103.177255 \nL 114.307464 50.585951 \nL 165.547133 37.438125 \nL 191.166968 37.438125 \nL 319.266142 37.438125 \nL 575.464489 37.438125 \n\" clip-path=\"url(#p0bdd6d45c4)\" style=\"fill: none; stroke: #1f77b4; stroke-width: 1.5; stroke-linecap: square\"/>\n   </g>\n   <g id=\"line2d_16\">\n    <path d=\"M 68.191761 339.838125 \nL 75.877712 182.064212 \nL 88.687629 195.212038 \nL 114.307464 155.76856 \nL 165.547133 168.916386 \nL 191.166968 168.916386 \nL 319.266142 208.359864 \nL 575.464489 234.655516 \n\" clip-path=\"url(#p0bdd6d45c4)\" style=\"fill: none; stroke: #ff7f0e; stroke-width: 1.5; stroke-linecap: square\"/>\n   </g>\n   <g id=\"patch_3\">\n    <path d=\"M 42.828125 354.958125 \nL 42.828125 22.318125 \n\" style=\"fill: none; stroke: #000000; stroke-width: 0.8; stroke-linejoin: miter; stroke-linecap: square\"/>\n   </g>\n   <g id=\"patch_4\">\n    <path d=\"M 600.828125 354.958125 \nL 600.828125 22.318125 \n\" style=\"fill: none; stroke: #000000; stroke-width: 0.8; stroke-linejoin: miter; stroke-linecap: square\"/>\n   </g>\n   <g id=\"patch_5\">\n    <path d=\"M 42.828125 354.958125 \nL 600.828125 354.958125 \n\" style=\"fill: none; stroke: #000000; stroke-width: 0.8; stroke-linejoin: miter; stroke-linecap: square\"/>\n   </g>\n   <g id=\"patch_6\">\n    <path d=\"M 42.828125 22.318125 \nL 600.828125 22.318125 \n\" style=\"fill: none; stroke: #000000; stroke-width: 0.8; stroke-linejoin: miter; stroke-linecap: square\"/>\n   </g>\n   <g id=\"text_16\">\n    <!-- HitRate -->\n    <g transform=\"translate(299.541875 16.318125) scale(0.12 -0.12)\">\n     <defs>\n      <path id=\"DejaVuSans-48\" d=\"M 628 4666 \nL 1259 4666 \nL 1259 2753 \nL 3553 2753 \nL 3553 4666 \nL 4184 4666 \nL 4184 0 \nL 3553 0 \nL 3553 2222 \nL 1259 2222 \nL 1259 0 \nL 628 0 \nL 628 4666 \nz\n\" transform=\"scale(0.015625)\"/>\n      <path id=\"DejaVuSans-69\" d=\"M 603 3500 \nL 1178 3500 \nL 1178 0 \nL 603 0 \nL 603 3500 \nz\nM 603 4863 \nL 1178 4863 \nL 1178 4134 \nL 603 4134 \nL 603 4863 \nz\n\" transform=\"scale(0.015625)\"/>\n      <path id=\"DejaVuSans-74\" d=\"M 1172 4494 \nL 1172 3500 \nL 2356 3500 \nL 2356 3053 \nL 1172 3053 \nL 1172 1153 \nQ 1172 725 1289 603 \nQ 1406 481 1766 481 \nL 2356 481 \nL 2356 0 \nL 1766 0 \nQ 1100 0 847 248 \nQ 594 497 594 1153 \nL 594 3053 \nL 172 3053 \nL 172 3500 \nL 594 3500 \nL 594 4494 \nL 1172 4494 \nz\n\" transform=\"scale(0.015625)\"/>\n      <path id=\"DejaVuSans-52\" d=\"M 2841 2188 \nQ 3044 2119 3236 1894 \nQ 3428 1669 3622 1275 \nL 4263 0 \nL 3584 0 \nL 2988 1197 \nQ 2756 1666 2539 1819 \nQ 2322 1972 1947 1972 \nL 1259 1972 \nL 1259 0 \nL 628 0 \nL 628 4666 \nL 2053 4666 \nQ 2853 4666 3247 4331 \nQ 3641 3997 3641 3322 \nQ 3641 2881 3436 2590 \nQ 3231 2300 2841 2188 \nz\nM 1259 4147 \nL 1259 2491 \nL 2053 2491 \nQ 2509 2491 2742 2702 \nQ 2975 2913 2975 3322 \nQ 2975 3731 2742 3939 \nQ 2509 4147 2053 4147 \nL 1259 4147 \nz\n\" transform=\"scale(0.015625)\"/>\n      <path id=\"DejaVuSans-61\" d=\"M 2194 1759 \nQ 1497 1759 1228 1600 \nQ 959 1441 959 1056 \nQ 959 750 1161 570 \nQ 1363 391 1709 391 \nQ 2188 391 2477 730 \nQ 2766 1069 2766 1631 \nL 2766 1759 \nL 2194 1759 \nz\nM 3341 1997 \nL 3341 0 \nL 2766 0 \nL 2766 531 \nQ 2569 213 2275 61 \nQ 1981 -91 1556 -91 \nQ 1019 -91 701 211 \nQ 384 513 384 1019 \nQ 384 1609 779 1909 \nQ 1175 2209 1959 2209 \nL 2766 2209 \nL 2766 2266 \nQ 2766 2663 2505 2880 \nQ 2244 3097 1772 3097 \nQ 1472 3097 1187 3025 \nQ 903 2953 641 2809 \nL 641 3341 \nQ 956 3463 1253 3523 \nQ 1550 3584 1831 3584 \nQ 2591 3584 2966 3190 \nQ 3341 2797 3341 1997 \nz\n\" transform=\"scale(0.015625)\"/>\n      <path id=\"DejaVuSans-65\" d=\"M 3597 1894 \nL 3597 1613 \nL 953 1613 \nQ 991 1019 1311 708 \nQ 1631 397 2203 397 \nQ 2534 397 2845 478 \nQ 3156 559 3463 722 \nL 3463 178 \nQ 3153 47 2828 -22 \nQ 2503 -91 2169 -91 \nQ 1331 -91 842 396 \nQ 353 884 353 1716 \nQ 353 2575 817 3079 \nQ 1281 3584 2069 3584 \nQ 2775 3584 3186 3129 \nQ 3597 2675 3597 1894 \nz\nM 3022 2063 \nQ 3016 2534 2758 2815 \nQ 2500 3097 2075 3097 \nQ 1594 3097 1305 2825 \nQ 1016 2553 972 2059 \nL 3022 2063 \nz\n\" transform=\"scale(0.015625)\"/>\n     </defs>\n     <use xlink:href=\"#DejaVuSans-48\"/>\n     <use xlink:href=\"#DejaVuSans-69\" x=\"75.195312\"/>\n     <use xlink:href=\"#DejaVuSans-74\" x=\"102.978516\"/>\n     <use xlink:href=\"#DejaVuSans-52\" x=\"142.1875\"/>\n     <use xlink:href=\"#DejaVuSans-61\" x=\"209.419922\"/>\n     <use xlink:href=\"#DejaVuSans-74\" x=\"270.699219\"/>\n     <use xlink:href=\"#DejaVuSans-65\" x=\"309.908203\"/>\n    </g>\n   </g>\n   <g id=\"legend_1\">\n    <g id=\"patch_7\">\n     <path d=\"M 498.665625 349.958125 \nL 593.828125 349.958125 \nQ 595.828125 349.958125 595.828125 347.958125 \nL 595.828125 319.601875 \nQ 595.828125 317.601875 593.828125 317.601875 \nL 498.665625 317.601875 \nQ 496.665625 317.601875 496.665625 319.601875 \nL 496.665625 347.958125 \nQ 496.665625 349.958125 498.665625 349.958125 \nz\n\" style=\"fill: #ffffff; opacity: 0.8; stroke: #cccccc; stroke-linejoin: miter\"/>\n    </g>\n    <g id=\"line2d_17\">\n     <path d=\"M 500.665625 325.700312 \nL 510.665625 325.700312 \nL 520.665625 325.700312 \n\" style=\"fill: none; stroke: #1f77b4; stroke-width: 1.5; stroke-linecap: square\"/>\n    </g>\n    <g id=\"text_17\">\n     <!-- SeqUserKNN -->\n     <g transform=\"translate(528.665625 329.200312) scale(0.1 -0.1)\">\n      <defs>\n       <path id=\"DejaVuSans-53\" d=\"M 3425 4513 \nL 3425 3897 \nQ 3066 4069 2747 4153 \nQ 2428 4238 2131 4238 \nQ 1616 4238 1336 4038 \nQ 1056 3838 1056 3469 \nQ 1056 3159 1242 3001 \nQ 1428 2844 1947 2747 \nL 2328 2669 \nQ 3034 2534 3370 2195 \nQ 3706 1856 3706 1288 \nQ 3706 609 3251 259 \nQ 2797 -91 1919 -91 \nQ 1588 -91 1214 -16 \nQ 841 59 441 206 \nL 441 856 \nQ 825 641 1194 531 \nQ 1563 422 1919 422 \nQ 2459 422 2753 634 \nQ 3047 847 3047 1241 \nQ 3047 1584 2836 1778 \nQ 2625 1972 2144 2069 \nL 1759 2144 \nQ 1053 2284 737 2584 \nQ 422 2884 422 3419 \nQ 422 4038 858 4394 \nQ 1294 4750 2059 4750 \nQ 2388 4750 2728 4690 \nQ 3069 4631 3425 4513 \nz\n\" transform=\"scale(0.015625)\"/>\n       <path id=\"DejaVuSans-71\" d=\"M 947 1747 \nQ 947 1113 1208 752 \nQ 1469 391 1925 391 \nQ 2381 391 2643 752 \nQ 2906 1113 2906 1747 \nQ 2906 2381 2643 2742 \nQ 2381 3103 1925 3103 \nQ 1469 3103 1208 2742 \nQ 947 2381 947 1747 \nz\nM 2906 525 \nQ 2725 213 2448 61 \nQ 2172 -91 1784 -91 \nQ 1150 -91 751 415 \nQ 353 922 353 1747 \nQ 353 2572 751 3078 \nQ 1150 3584 1784 3584 \nQ 2172 3584 2448 3432 \nQ 2725 3281 2906 2969 \nL 2906 3500 \nL 3481 3500 \nL 3481 -1331 \nL 2906 -1331 \nL 2906 525 \nz\n\" transform=\"scale(0.015625)\"/>\n       <path id=\"DejaVuSans-55\" d=\"M 556 4666 \nL 1191 4666 \nL 1191 1831 \nQ 1191 1081 1462 751 \nQ 1734 422 2344 422 \nQ 2950 422 3222 751 \nQ 3494 1081 3494 1831 \nL 3494 4666 \nL 4128 4666 \nL 4128 1753 \nQ 4128 841 3676 375 \nQ 3225 -91 2344 -91 \nQ 1459 -91 1007 375 \nQ 556 841 556 1753 \nL 556 4666 \nz\n\" transform=\"scale(0.015625)\"/>\n       <path id=\"DejaVuSans-73\" d=\"M 2834 3397 \nL 2834 2853 \nQ 2591 2978 2328 3040 \nQ 2066 3103 1784 3103 \nQ 1356 3103 1142 2972 \nQ 928 2841 928 2578 \nQ 928 2378 1081 2264 \nQ 1234 2150 1697 2047 \nL 1894 2003 \nQ 2506 1872 2764 1633 \nQ 3022 1394 3022 966 \nQ 3022 478 2636 193 \nQ 2250 -91 1575 -91 \nQ 1294 -91 989 -36 \nQ 684 19 347 128 \nL 347 722 \nQ 666 556 975 473 \nQ 1284 391 1588 391 \nQ 1994 391 2212 530 \nQ 2431 669 2431 922 \nQ 2431 1156 2273 1281 \nQ 2116 1406 1581 1522 \nL 1381 1569 \nQ 847 1681 609 1914 \nQ 372 2147 372 2553 \nQ 372 3047 722 3315 \nQ 1072 3584 1716 3584 \nQ 2034 3584 2315 3537 \nQ 2597 3491 2834 3397 \nz\n\" transform=\"scale(0.015625)\"/>\n       <path id=\"DejaVuSans-72\" d=\"M 2631 2963 \nQ 2534 3019 2420 3045 \nQ 2306 3072 2169 3072 \nQ 1681 3072 1420 2755 \nQ 1159 2438 1159 1844 \nL 1159 0 \nL 581 0 \nL 581 3500 \nL 1159 3500 \nL 1159 2956 \nQ 1341 3275 1631 3429 \nQ 1922 3584 2338 3584 \nQ 2397 3584 2469 3576 \nQ 2541 3569 2628 3553 \nL 2631 2963 \nz\n\" transform=\"scale(0.015625)\"/>\n       <path id=\"DejaVuSans-4e\" d=\"M 628 4666 \nL 1478 4666 \nL 3547 763 \nL 3547 4666 \nL 4159 4666 \nL 4159 0 \nL 3309 0 \nL 1241 3903 \nL 1241 0 \nL 628 0 \nL 628 4666 \nz\n\" transform=\"scale(0.015625)\"/>\n      </defs>\n      <use xlink:href=\"#DejaVuSans-53\"/>\n      <use xlink:href=\"#DejaVuSans-65\" x=\"63.476562\"/>\n      <use xlink:href=\"#DejaVuSans-71\" x=\"125\"/>\n      <use xlink:href=\"#DejaVuSans-55\" x=\"188.476562\"/>\n      <use xlink:href=\"#DejaVuSans-73\" x=\"261.669922\"/>\n      <use xlink:href=\"#DejaVuSans-65\" x=\"313.769531\"/>\n      <use xlink:href=\"#DejaVuSans-72\" x=\"375.292969\"/>\n      <use xlink:href=\"#DejaVuSans-4b\" x=\"416.40625\"/>\n      <use xlink:href=\"#DejaVuSans-4e\" x=\"481.982422\"/>\n      <use xlink:href=\"#DejaVuSans-4e\" x=\"556.787109\"/>\n     </g>\n    </g>\n    <g id=\"line2d_18\">\n     <path d=\"M 500.665625 340.378437 \nL 510.665625 340.378437 \nL 520.665625 340.378437 \n\" style=\"fill: none; stroke: #ff7f0e; stroke-width: 1.5; stroke-linecap: square\"/>\n    </g>\n    <g id=\"text_18\">\n     <!-- UserKNN -->\n     <g transform=\"translate(528.665625 343.878437) scale(0.1 -0.1)\">\n      <use xlink:href=\"#DejaVuSans-55\"/>\n      <use xlink:href=\"#DejaVuSans-73\" x=\"73.193359\"/>\n      <use xlink:href=\"#DejaVuSans-65\" x=\"125.292969\"/>\n      <use xlink:href=\"#DejaVuSans-72\" x=\"186.816406\"/>\n      <use xlink:href=\"#DejaVuSans-4b\" x=\"227.929688\"/>\n      <use xlink:href=\"#DejaVuSans-4e\" x=\"293.505859\"/>\n      <use xlink:href=\"#DejaVuSans-4e\" x=\"368.310547\"/>\n     </g>\n    </g>\n   </g>\n  </g>\n </g>\n <defs>\n  <clipPath id=\"p0bdd6d45c4\">\n   <rect x=\"42.828125\" y=\"22.318125\" width=\"558\" height=\"332.64\"/>\n  </clipPath>\n </defs>\n</svg>\n",
      "text/plain": [
       "<Figure size 1000x600 with 1 Axes>"
      ]
     },
     "metadata": {},
     "output_type": "display_data"
    }
   ],
   "source": [
    "plt.plot(k_vals, seq_knn_results[lambda x: np.isclose(x[\"power\"], 0.3)][\"metric\"], label=\"SeqUserKNN\")\n",
    "plt.plot(k_vals, knn_results[\"metric\"], label=\"UserKNN\")\n",
    "plt.tick_params(which=\"minor\", size=0)\n",
    "plt.title(\"HitRate\")\n",
    "plt.xlabel(\"K\")\n",
    "plt.legend()\n",
    "\n",
    "plt.show()"
   ]
  },
  {
   "cell_type": "code",
   "execution_count": 37,
   "id": "384a8275-8dd8-43bc-8229-6f8907e4f407",
   "metadata": {},
   "outputs": [
    {
     "data": {
      "text/html": [
       "<div>\n",
       "<style scoped>\n",
       "    .dataframe tbody tr th:only-of-type {\n",
       "        vertical-align: middle;\n",
       "    }\n",
       "\n",
       "    .dataframe tbody tr th {\n",
       "        vertical-align: top;\n",
       "    }\n",
       "\n",
       "    .dataframe thead th {\n",
       "        text-align: right;\n",
       "    }\n",
       "</style>\n",
       "<table border=\"1\" class=\"dataframe\">\n",
       "  <thead>\n",
       "    <tr style=\"text-align: right;\">\n",
       "      <th></th>\n",
       "      <th>alpha</th>\n",
       "      <th>k</th>\n",
       "      <th>metric</th>\n",
       "    </tr>\n",
       "  </thead>\n",
       "  <tbody>\n",
       "    <tr>\n",
       "      <th>44</th>\n",
       "      <td>1.0</td>\n",
       "      <td>NaN</td>\n",
       "      <td>0.012816</td>\n",
       "    </tr>\n",
       "    <tr>\n",
       "      <th>43</th>\n",
       "      <td>1.0</td>\n",
       "      <td>1000.0</td>\n",
       "      <td>0.012816</td>\n",
       "    </tr>\n",
       "    <tr>\n",
       "      <th>42</th>\n",
       "      <td>1.0</td>\n",
       "      <td>500.0</td>\n",
       "      <td>0.012816</td>\n",
       "    </tr>\n",
       "    <tr>\n",
       "      <th>36</th>\n",
       "      <td>1.0</td>\n",
       "      <td>10.0</td>\n",
       "      <td>0.012479</td>\n",
       "    </tr>\n",
       "    <tr>\n",
       "      <th>33</th>\n",
       "      <td>0.8</td>\n",
       "      <td>500.0</td>\n",
       "      <td>0.012479</td>\n",
       "    </tr>\n",
       "  </tbody>\n",
       "</table>\n",
       "</div>"
      ],
      "text/plain": [
       "    alpha       k    metric\n",
       "44    1.0     NaN  0.012816\n",
       "43    1.0  1000.0  0.012816\n",
       "42    1.0   500.0  0.012816\n",
       "36    1.0    10.0  0.012479\n",
       "33    0.8   500.0  0.012479"
      ]
     },
     "execution_count": 37,
     "metadata": {},
     "output_type": "execute_result"
    }
   ],
   "source": [
    "knn_results.sort_values('metric', ascending=False).head()"
   ]
  },
  {
   "cell_type": "markdown",
   "id": "7eb7fc28-ed47-4373-b506-65603cbf8c88",
   "metadata": {},
   "source": [
    "## Final Eval"
   ]
  },
  {
   "cell_type": "code",
   "execution_count": 436,
   "id": "7e0b47af-ec1a-4b53-bd56-3ca2247124b8",
   "metadata": {},
   "outputs": [],
   "source": [
    "train, test, holdout, data_index = reindex_all(_train, _test, _holdout)"
   ]
  },
  {
   "cell_type": "code",
   "execution_count": 437,
   "id": "b11d73a4-63d0-418c-ba5f-001ca2a8a99b",
   "metadata": {},
   "outputs": [],
   "source": [
    "data_description = {\n",
    "    \"n_users\": train.userid.nunique(),\n",
    "    \"n_items\": train.itemid.nunique(),\n",
    "    \"feedback\": \"rating\",\n",
    "    \"weights\": \"weights\",\n",
    "    \"items\": \"itemid\",\n",
    "    \"users\": \"userid\",\n",
    "}"
   ]
  },
  {
   "cell_type": "code",
   "execution_count": 438,
   "id": "58fc90c9",
   "metadata": {},
   "outputs": [],
   "source": [
    "train, test = generate_ranks(train, data_description), generate_ranks(test, data_description)"
   ]
  },
  {
   "cell_type": "code",
   "execution_count": 40,
   "id": "696c0403-02f6-4a2b-8e22-82db3015b9ab",
   "metadata": {},
   "outputs": [],
   "source": [
    "grand_total = []"
   ]
  },
  {
   "cell_type": "code",
   "execution_count": 41,
   "id": "c0843081-cfff-4e17-a430-087cdfa5817e",
   "metadata": {},
   "outputs": [],
   "source": [
    "def damped_mean(ratings):\n",
    "    return sum(ratings) / (len(ratings) + popular_results[\"alpha\"].iloc[0])\n",
    "\n",
    "item2rating = train.groupby('itemid')[\"rating\"].apply(damped_mean)\n",
    "best_items = item2rating.nlargest(topn).index.values\n",
    "popular_recs = np.ones((len(holdout), topn)) * best_items\n",
    "metric = model_evaluate(popular_recs, holdout, data_description, topn)    \n",
    "\n",
    "grand_total.append(\n",
    "    {\"method\": \"popularity\", \"metric\": metric}\n",
    ")"
   ]
  },
  {
   "cell_type": "code",
   "execution_count": 42,
   "id": "ca3b2528-027d-4fa7-9137-8775a377d1c4",
   "metadata": {},
   "outputs": [
    {
     "name": "stdout",
     "output_type": "stream",
     "text": [
      "Best rank: 128\n",
      "Interaction matrix shape: (22920, 5604)\n",
      "Matrix density: 0.000777585942726026\n"
     ]
    }
   ],
   "source": [
    "best_rank = svd_results[\"rank\"].iloc[0]\n",
    "print(\"Best rank:\", best_rank)\n",
    "\n",
    "model = build_svd_model({\"rank\": best_rank}, train, data_description)\n",
    "scores = svd_scoring(model, test, data_description)\n",
    "svd_recs = topn_recommendations(scores, topn)\n",
    "\n",
    "metric = model_evaluate(svd_recs, holdout, data_description, topn)\n",
    "\n",
    "grand_total.append(\n",
    "    {\"method\": \"PureSVD\", \"metric\": metric}\n",
    ")"
   ]
  },
  {
   "cell_type": "code",
   "execution_count": 43,
   "id": "5fd709fd-29d3-4c81-84ad-3a88c69539e1",
   "metadata": {},
   "outputs": [
    {
     "name": "stdout",
     "output_type": "stream",
     "text": [
      "{'rank': 128, 'scaling': 0.5}\n"
     ]
    }
   ],
   "source": [
    "best_config = {\n",
    "    \"rank\": scaled_svd_results[\"rank\"].iloc[0],\n",
    "    \"scaling\": scaled_svd_results[\"scaling\"].iloc[0],\n",
    "}\n",
    "print(best_config)\n",
    "\n",
    "model = build_scaled_svd_model(best_config, train, data_description)\n",
    "scores = svd_scoring(model, test, data_description)\n",
    "svd_recs = topn_recommendations(scores, topn)\n",
    "\n",
    "metric = model_evaluate(svd_recs, holdout, data_description, topn)\n",
    "\n",
    "grand_total.append(\n",
    "    {\"method\": \"ScaledSVD\", \"metric\": metric}\n",
    ")"
   ]
  },
  {
   "cell_type": "code",
   "execution_count": 45,
   "id": "d9bb4ad4-ba0f-4fe7-a88a-0765799a7f3c",
   "metadata": {},
   "outputs": [
    {
     "data": {
      "text/html": [
       "<div>\n",
       "<style scoped>\n",
       "    .dataframe tbody tr th:only-of-type {\n",
       "        vertical-align: middle;\n",
       "    }\n",
       "\n",
       "    .dataframe tbody tr th {\n",
       "        vertical-align: top;\n",
       "    }\n",
       "\n",
       "    .dataframe thead th {\n",
       "        text-align: right;\n",
       "    }\n",
       "</style>\n",
       "<table border=\"1\" class=\"dataframe\">\n",
       "  <thead>\n",
       "    <tr style=\"text-align: right;\">\n",
       "      <th></th>\n",
       "      <th>rank</th>\n",
       "      <th>incomplete_cholesky_threshold</th>\n",
       "      <th>sequence_similarity_coef</th>\n",
       "      <th>similarity_type</th>\n",
       "      <th>power</th>\n",
       "      <th>scaling</th>\n",
       "    </tr>\n",
       "  </thead>\n",
       "  <tbody>\n",
       "    <tr>\n",
       "      <th>0</th>\n",
       "      <td>16</td>\n",
       "      <td>0.003</td>\n",
       "      <td>0.5</td>\n",
       "      <td>cosine</td>\n",
       "      <td>0.75</td>\n",
       "      <td>0.9</td>\n",
       "    </tr>\n",
       "  </tbody>\n",
       "</table>\n",
       "</div>"
      ],
      "text/plain": [
       "   rank  incomplete_cholesky_threshold  sequence_similarity_coef  \\\n",
       "0    16                          0.003                       0.5   \n",
       "\n",
       "  similarity_type  power  scaling  \n",
       "0          cosine   0.75      0.9  "
      ]
     },
     "execution_count": 45,
     "metadata": {},
     "output_type": "execute_result"
    }
   ],
   "source": [
    "seq_svd_results = pd.DataFrame([{\n",
    "    \"rank\": 16,\n",
    "    \"incomplete_cholesky_threshold\": 0.003,\n",
    "    \"sequence_similarity_coef\": 0.5,\n",
    "    \"similarity_type\": \"cosine\",\n",
    "    \"power\": 0.75,\n",
    "    \"scaling\": 0.9,\n",
    "}])\n",
    "\n",
    "seq_svd_results"
   ]
  },
  {
   "cell_type": "code",
   "execution_count": 48,
   "id": "79ea6cf8-c6ed-4e9f-b0ab-a805262b2947",
   "metadata": {},
   "outputs": [
    {
     "name": "stdout",
     "output_type": "stream",
     "text": [
      "{'rank': 16, 'sequence_similarity_coef': 0.5, 'similarity_type': 'cosine', 'incomplete_cholesky_threshold': 0.003, 'scaling': 0.9, 'power': 0.75}\n"
     ]
    }
   ],
   "source": [
    "best_config = {\n",
    "    \"rank\": seq_svd_results[\"rank\"].iloc[0], \n",
    "    \"sequence_similarity_coef\": seq_svd_results[\"sequence_similarity_coef\"].iloc[0],\n",
    "    \"similarity_type\": seq_svd_results[\"similarity_type\"].iloc[0],\n",
    "    \"incomplete_cholesky_threshold\": seq_svd_results[\"incomplete_cholesky_threshold\"].iloc[0],\n",
    "    \"scaling\": seq_svd_results[\"scaling\"].iloc[0],\n",
    "    \"power\": seq_svd_results[\"power\"].iloc[0],\n",
    "}\n",
    "print(best_config)\n",
    "\n",
    "model = build_seq_svd_model(best_config, train, data_description)\n",
    "scores = svd_scoring(model, test, data_description)\n",
    "svd_recs = topn_recommendations(scores, topn)\n",
    "\n",
    "metric = model_evaluate(svd_recs, holdout, data_description, topn)\n",
    "\n",
    "grand_total.append(\n",
    "    {\"method\": \"SeqSVD\", \"metric\": metric}\n",
    ")"
   ]
  },
  {
   "cell_type": "code",
   "execution_count": 34,
   "id": "26c756db",
   "metadata": {},
   "outputs": [
    {
     "name": "stdout",
     "output_type": "stream",
     "text": [
      "{'weights': False, 'k': 100, 'similarity': 'cosine'}\n"
     ]
    },
    {
     "data": {
      "text/plain": [
       "0.019904998869034154"
      ]
     },
     "execution_count": 34,
     "metadata": {},
     "output_type": "execute_result"
    }
   ],
   "source": [
    "best_config = {\n",
    "    \"weights\": False,\n",
    "    \"k\": 100,\n",
    "    \"similarity\": \"cosine\"\n",
    "}\n",
    "print(best_config)\n",
    "\n",
    "model = build_uknn_model(best_config, train, data_description)\n",
    "scores = uknn_scoring(model, test, data_description)\n",
    "uknn_recs = topn_recommendations(scores, topn)\n",
    "\n",
    "metric = model_evaluate(uknn_recs, holdout, data_description, topn)\n",
    "metric"
   ]
  },
  {
   "cell_type": "code",
   "execution_count": 444,
   "id": "afbb148b",
   "metadata": {},
   "outputs": [
    {
     "name": "stdout",
     "output_type": "stream",
     "text": [
      "{'similarity_T': 'cosine', 'similarity_A': 'cosine', 'k': 200, 'power': 0.3}\n"
     ]
    },
    {
     "data": {
      "text/plain": [
       "0.022619316896629722"
      ]
     },
     "execution_count": 444,
     "metadata": {},
     "output_type": "execute_result"
    }
   ],
   "source": [
    "best_config = {\n",
    "    \"similarity_T\": \"cosine\",\n",
    "    \"similarity_A\": \"cosine\",\n",
    "    \"k\": 200,\n",
    "    \"power\": 0.3\n",
    "}\n",
    "print(best_config)\n",
    "\n",
    "model = build_uknn_model(best_config, train, data_description)\n",
    "scores = uknn_scoring(model, test, data_description)\n",
    "uknn_recs = topn_recommendations(scores, topn)\n",
    "\n",
    "metric = model_evaluate(uknn_recs, holdout, data_description, topn)\n",
    "metric"
   ]
  },
  {
   "cell_type": "code",
   "execution_count": 49,
   "id": "cf57b190-05c4-43eb-a479-1f399af2f902",
   "metadata": {},
   "outputs": [
    {
     "data": {
      "text/html": [
       "<div>\n",
       "<style scoped>\n",
       "    .dataframe tbody tr th:only-of-type {\n",
       "        vertical-align: middle;\n",
       "    }\n",
       "\n",
       "    .dataframe tbody tr th {\n",
       "        vertical-align: top;\n",
       "    }\n",
       "\n",
       "    .dataframe thead th {\n",
       "        text-align: right;\n",
       "    }\n",
       "</style>\n",
       "<table border=\"1\" class=\"dataframe\">\n",
       "  <thead>\n",
       "    <tr style=\"text-align: right;\">\n",
       "      <th></th>\n",
       "      <th>method</th>\n",
       "      <th>metric</th>\n",
       "    </tr>\n",
       "  </thead>\n",
       "  <tbody>\n",
       "    <tr>\n",
       "      <th>3</th>\n",
       "      <td>SeqSVD</td>\n",
       "      <td>0.009952</td>\n",
       "    </tr>\n",
       "    <tr>\n",
       "      <th>2</th>\n",
       "      <td>ScaledSVD</td>\n",
       "      <td>0.008143</td>\n",
       "    </tr>\n",
       "    <tr>\n",
       "      <th>1</th>\n",
       "      <td>PureSVD</td>\n",
       "      <td>0.007464</td>\n",
       "    </tr>\n",
       "    <tr>\n",
       "      <th>0</th>\n",
       "      <td>popularity</td>\n",
       "      <td>0.003845</td>\n",
       "    </tr>\n",
       "  </tbody>\n",
       "</table>\n",
       "</div>"
      ],
      "text/plain": [
       "       method    metric\n",
       "3      SeqSVD  0.009952\n",
       "2   ScaledSVD  0.008143\n",
       "1     PureSVD  0.007464\n",
       "0  popularity  0.003845"
      ]
     },
     "execution_count": 49,
     "metadata": {},
     "output_type": "execute_result"
    }
   ],
   "source": [
    "pd.DataFrame(grand_total).sort_values(\"metric\", ascending=False)"
   ]
  },
  {
   "cell_type": "code",
   "execution_count": null,
   "id": "ccf82489-9148-4982-90fa-6130a0991525",
   "metadata": {},
   "outputs": [],
   "source": []
  }
 ],
 "metadata": {
  "kernelspec": {
   "display_name": "Python 3 (ipykernel)",
   "language": "python",
   "name": "python3"
  },
  "language_info": {
   "codemirror_mode": {
    "name": "ipython",
    "version": 3
   },
   "file_extension": ".py",
   "mimetype": "text/x-python",
   "name": "python",
   "nbconvert_exporter": "python",
   "pygments_lexer": "ipython3",
   "version": "3.9.13"
  },
  "vscode": {
   "interpreter": {
    "hash": "cf92aa13fedf815d5c8dd192b8d835913fde3e8bc926b2a0ad6cc74ef2ba3ca2"
   }
  }
 },
 "nbformat": 4,
 "nbformat_minor": 5
}
