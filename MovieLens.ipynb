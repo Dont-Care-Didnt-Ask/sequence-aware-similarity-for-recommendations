{
 "cells": [
  {
   "cell_type": "code",
   "execution_count": 1,
   "id": "160d3f8f-098c-4a83-bd7e-e3f5366f11bc",
   "metadata": {},
   "outputs": [],
   "source": [
    "%load_ext autoreload\n",
    "%autoreload 2"
   ]
  },
  {
   "cell_type": "code",
   "execution_count": 2,
   "id": "d5045670-984e-4278-b461-35722dc083ad",
   "metadata": {},
   "outputs": [],
   "source": [
    "import numpy as np\n",
    "import pandas as pd\n",
    "import matplotlib.pyplot as plt\n",
    "\n",
    "from data_preprocessing import timepoint_split, transform_indices, reindex_data, generate_ranks\n",
    "from evaluation import model_evaluate, topn_recommendations\n",
    "\n",
    "%config InlineBackend.figure_format = \"svg\"\n",
    "plt.rcParams[\"figure.figsize\"] = 10, 6"
   ]
  },
  {
   "cell_type": "markdown",
   "id": "35f98071-4f36-4afc-961e-80a2a32f91a6",
   "metadata": {},
   "source": [
    "## MovieLens-1M"
   ]
  },
  {
   "cell_type": "code",
   "execution_count": 3,
   "id": "8a0cd463-3647-4995-a2eb-a55a96498f5d",
   "metadata": {},
   "outputs": [],
   "source": [
    "# !mkdir data\n",
    "# !wget https://files.grouplens.org/datasets/movielens/ml-1m.zip\n",
    "# !unzip ml-1m.zip -d data"
   ]
  },
  {
   "cell_type": "code",
   "execution_count": 4,
   "id": "eaa53ec9-b7de-4a38-968f-50223d5a2037",
   "metadata": {},
   "outputs": [],
   "source": [
    "movielens = pd.read_csv(\"data/ml-1m/ratings.dat\", sep=\"::\", names=[\"userid\", \"itemid\", \"rating\", \"timestamp\"], engine=\"python\")"
   ]
  },
  {
   "cell_type": "code",
   "execution_count": 5,
   "id": "e99fb8b6-6baa-4800-a6dd-828a057eb545",
   "metadata": {},
   "outputs": [
    {
     "data": {
      "text/plain": [
       "userid         6040\n",
       "itemid         3706\n",
       "rating            5\n",
       "timestamp    458455\n",
       "dtype: int64"
      ]
     },
     "execution_count": 5,
     "metadata": {},
     "output_type": "execute_result"
    }
   ],
   "source": [
    "movielens.nunique()"
   ]
  },
  {
   "cell_type": "code",
   "execution_count": 6,
   "id": "a6d5e9b9-552a-45a3-b3e9-3397ee8783fd",
   "metadata": {},
   "outputs": [
    {
     "data": {
      "image/svg+xml": "<?xml version=\"1.0\" encoding=\"utf-8\" standalone=\"no\"?>\n<!DOCTYPE svg PUBLIC \"-//W3C//DTD SVG 1.1//EN\"\n  \"http://www.w3.org/Graphics/SVG/1.1/DTD/svg11.dtd\">\n<svg xmlns:xlink=\"http://www.w3.org/1999/xlink\" width=\"597pt\" height=\"378.83625pt\" viewBox=\"0 0 597 378.83625\" xmlns=\"http://www.w3.org/2000/svg\" version=\"1.1\">\n <metadata>\n  <rdf:RDF xmlns:dc=\"http://purl.org/dc/elements/1.1/\" xmlns:cc=\"http://creativecommons.org/ns#\" xmlns:rdf=\"http://www.w3.org/1999/02/22-rdf-syntax-ns#\">\n   <cc:Work>\n    <dc:type rdf:resource=\"http://purl.org/dc/dcmitype/StillImage\"/>\n    <dc:date>2023-03-25T13:49:45.099665</dc:date>\n    <dc:format>image/svg+xml</dc:format>\n    <dc:creator>\n     <cc:Agent>\n      <dc:title>Matplotlib v3.7.0, https://matplotlib.org/</dc:title>\n     </cc:Agent>\n    </dc:creator>\n   </cc:Work>\n  </rdf:RDF>\n </metadata>\n <defs>\n  <style type=\"text/css\">*{stroke-linejoin: round; stroke-linecap: butt}</style>\n </defs>\n <g id=\"figure_1\">\n  <g id=\"patch_1\">\n   <path d=\"M 0 378.83625 \nL 597 378.83625 \nL 597 0 \nL 0 0 \nz\n\" style=\"fill: #ffffff\"/>\n  </g>\n  <g id=\"axes_1\">\n   <g id=\"patch_2\">\n    <path d=\"M 31.8 354.958125 \nL 589.8 354.958125 \nL 589.8 22.318125 \nL 31.8 22.318125 \nz\n\" style=\"fill: #ffffff\"/>\n   </g>\n   <g id=\"patch_3\">\n    <path d=\"M 57.163636 90303.691282 \nL 67.309091 90303.691282 \nL 67.309091 37.438125 \nL 57.163636 37.438125 \nz\n\" clip-path=\"url(#p8c1c12ce29)\" style=\"fill: #1f77b4\"/>\n   </g>\n   <g id=\"patch_4\">\n    <path d=\"M 67.309091 90303.691282 \nL 77.454545 90303.691282 \nL 77.454545 67.559531 \nL 67.309091 67.559531 \nz\n\" clip-path=\"url(#p8c1c12ce29)\" style=\"fill: #1f77b4\"/>\n   </g>\n   <g id=\"patch_5\">\n    <path d=\"M 77.454545 90303.691282 \nL 87.6 90303.691282 \nL 87.6 84.557735 \nL 77.454545 84.557735 \nz\n\" clip-path=\"url(#p8c1c12ce29)\" style=\"fill: #1f77b4\"/>\n   </g>\n   <g id=\"patch_6\">\n    <path d=\"M 87.6 90303.691282 \nL 97.745455 90303.691282 \nL 97.745455 101.845744 \nL 87.6 101.845744 \nz\n\" clip-path=\"url(#p8c1c12ce29)\" style=\"fill: #1f77b4\"/>\n   </g>\n   <g id=\"patch_7\">\n    <path d=\"M 97.745455 90303.691282 \nL 107.890909 90303.691282 \nL 107.890909 113.979822 \nL 97.745455 113.979822 \nz\n\" clip-path=\"url(#p8c1c12ce29)\" style=\"fill: #1f77b4\"/>\n   </g>\n   <g id=\"patch_8\">\n    <path d=\"M 107.890909 90303.691282 \nL 118.036364 90303.691282 \nL 118.036364 126.861665 \nL 107.890909 126.861665 \nz\n\" clip-path=\"url(#p8c1c12ce29)\" style=\"fill: #1f77b4\"/>\n   </g>\n   <g id=\"patch_9\">\n    <path d=\"M 118.036364 90303.691282 \nL 128.181818 90303.691282 \nL 128.181818 129.641205 \nL 118.036364 129.641205 \nz\n\" clip-path=\"url(#p8c1c12ce29)\" style=\"fill: #1f77b4\"/>\n   </g>\n   <g id=\"patch_10\">\n    <path d=\"M 128.181818 90303.691282 \nL 138.327273 90303.691282 \nL 138.327273 149.961342 \nL 128.181818 149.961342 \nz\n\" clip-path=\"url(#p8c1c12ce29)\" style=\"fill: #1f77b4\"/>\n   </g>\n   <g id=\"patch_11\">\n    <path d=\"M 138.327273 90303.691282 \nL 148.472727 90303.691282 \nL 148.472727 149.063123 \nL 138.327273 149.063123 \nz\n\" clip-path=\"url(#p8c1c12ce29)\" style=\"fill: #1f77b4\"/>\n   </g>\n   <g id=\"patch_12\">\n    <path d=\"M 148.472727 90303.691282 \nL 158.618182 90303.691282 \nL 158.618182 168.628817 \nL 148.472727 168.628817 \nz\n\" clip-path=\"url(#p8c1c12ce29)\" style=\"fill: #1f77b4\"/>\n   </g>\n   <g id=\"patch_13\">\n    <path d=\"M 158.618182 90303.691282 \nL 168.763636 90303.691282 \nL 168.763636 166.722546 \nL 158.618182 166.722546 \nz\n\" clip-path=\"url(#p8c1c12ce29)\" style=\"fill: #1f77b4\"/>\n   </g>\n   <g id=\"patch_14\">\n    <path d=\"M 168.763636 90303.691282 \nL 178.909091 90303.691282 \nL 178.909091 176.741454 \nL 168.763636 176.741454 \nz\n\" clip-path=\"url(#p8c1c12ce29)\" style=\"fill: #1f77b4\"/>\n   </g>\n   <g id=\"patch_15\">\n    <path d=\"M 178.909091 90303.691282 \nL 189.054545 90303.691282 \nL 189.054545 191.98679 \nL 178.909091 191.98679 \nz\n\" clip-path=\"url(#p8c1c12ce29)\" style=\"fill: #1f77b4\"/>\n   </g>\n   <g id=\"patch_16\">\n    <path d=\"M 189.054545 90303.691282 \nL 199.2 90303.691282 \nL 199.2 198.756655 \nL 189.054545 198.756655 \nz\n\" clip-path=\"url(#p8c1c12ce29)\" style=\"fill: #1f77b4\"/>\n   </g>\n   <g id=\"patch_17\">\n    <path d=\"M 199.2 90303.691282 \nL 209.345455 90303.691282 \nL 209.345455 202.060381 \nL 199.2 202.060381 \nz\n\" clip-path=\"url(#p8c1c12ce29)\" style=\"fill: #1f77b4\"/>\n   </g>\n   <g id=\"patch_18\">\n    <path d=\"M 209.345455 90303.691282 \nL 219.490909 90303.691282 \nL 219.490909 204.429033 \nL 209.345455 204.429033 \nz\n\" clip-path=\"url(#p8c1c12ce29)\" style=\"fill: #1f77b4\"/>\n   </g>\n   <g id=\"patch_19\">\n    <path d=\"M 219.490909 90303.691282 \nL 229.636364 90303.691282 \nL 229.636364 212.541671 \nL 219.490909 212.541671 \nz\n\" clip-path=\"url(#p8c1c12ce29)\" style=\"fill: #1f77b4\"/>\n   </g>\n   <g id=\"patch_20\">\n    <path d=\"M 229.636364 90303.691282 \nL 239.781818 90303.691282 \nL 239.781818 217.331842 \nL 229.636364 217.331842 \nz\n\" clip-path=\"url(#p8c1c12ce29)\" style=\"fill: #1f77b4\"/>\n   </g>\n   <g id=\"patch_21\">\n    <path d=\"M 239.781818 90303.691282 \nL 249.927273 90303.691282 \nL 249.927273 217.331842 \nL 239.781818 217.331842 \nz\n\" clip-path=\"url(#p8c1c12ce29)\" style=\"fill: #1f77b4\"/>\n   </g>\n   <g id=\"patch_22\">\n    <path d=\"M 249.927273 90303.691282 \nL 260.072727 90303.691282 \nL 260.072727 242.750822 \nL 249.927273 242.750822 \nz\n\" clip-path=\"url(#p8c1c12ce29)\" style=\"fill: #1f77b4\"/>\n   </g>\n   <g id=\"patch_23\">\n    <path d=\"M 260.072727 90303.691282 \nL 270.218182 90303.691282 \nL 270.218182 246.150426 \nL 260.072727 246.150426 \nz\n\" clip-path=\"url(#p8c1c12ce29)\" style=\"fill: #1f77b4\"/>\n   </g>\n   <g id=\"patch_24\">\n    <path d=\"M 270.218182 90303.691282 \nL 280.363636 90303.691282 \nL 280.363636 246.150426 \nL 270.218182 246.150426 \nz\n\" clip-path=\"url(#p8c1c12ce29)\" style=\"fill: #1f77b4\"/>\n   </g>\n   <g id=\"patch_25\">\n    <path d=\"M 280.363636 90303.691282 \nL 290.509091 90303.691282 \nL 290.509091 296.914459 \nL 280.363636 296.914459 \nz\n\" clip-path=\"url(#p8c1c12ce29)\" style=\"fill: #1f77b4\"/>\n   </g>\n   <g id=\"patch_26\">\n    <path d=\"M 290.509091 90303.691282 \nL 300.654545 90303.691282 \nL 300.654545 312.756307 \nL 290.509091 312.756307 \nz\n\" clip-path=\"url(#p8c1c12ce29)\" style=\"fill: #1f77b4\"/>\n   </g>\n   <g id=\"patch_27\">\n    <path d=\"M 300.654545 90303.691282 \nL 310.8 90303.691282 \nL 310.8 296.914459 \nL 300.654545 296.914459 \nz\n\" clip-path=\"url(#p8c1c12ce29)\" style=\"fill: #1f77b4\"/>\n   </g>\n   <g id=\"patch_28\">\n    <path d=\"M 310.8 90303.691282 \nL 320.945455 90303.691282 \nL 320.945455 296.914459 \nL 310.8 296.914459 \nz\n\" clip-path=\"url(#p8c1c12ce29)\" style=\"fill: #1f77b4\"/>\n   </g>\n   <g id=\"patch_29\">\n    <path d=\"M 320.945455 90303.691282 \nL 331.090909 90303.691282 \nL 331.090909 258.59267 \nL 320.945455 258.59267 \nz\n\" clip-path=\"url(#p8c1c12ce29)\" style=\"fill: #1f77b4\"/>\n   </g>\n   <g id=\"patch_30\">\n    <path d=\"M 331.090909 90303.691282 \nL 341.236364 90303.691282 \nL 341.236364 276.95609 \nL 331.090909 276.95609 \nz\n\" clip-path=\"url(#p8c1c12ce29)\" style=\"fill: #1f77b4\"/>\n   </g>\n   <g id=\"patch_31\">\n    <path d=\"M 341.236364 90303.691282 \nL 351.381818 90303.691282 \nL 351.381818 312.756307 \nL 341.236364 312.756307 \nz\n\" clip-path=\"url(#p8c1c12ce29)\" style=\"fill: #1f77b4\"/>\n   </g>\n   <g id=\"patch_32\">\n    <path d=\"M 351.381818 90303.691282 \nL 361.527273 90303.691282 \nL 361.527273 90303.691282 \nL 351.381818 90303.691282 \nz\n\" clip-path=\"url(#p8c1c12ce29)\" style=\"fill: #1f77b4\"/>\n   </g>\n   <g id=\"patch_33\">\n    <path d=\"M 361.527273 90303.691282 \nL 371.672727 90303.691282 \nL 371.672727 90303.691282 \nL 361.527273 90303.691282 \nz\n\" clip-path=\"url(#p8c1c12ce29)\" style=\"fill: #1f77b4\"/>\n   </g>\n   <g id=\"patch_34\">\n    <path d=\"M 371.672727 90303.691282 \nL 381.818182 90303.691282 \nL 381.818182 90303.691282 \nL 371.672727 90303.691282 \nz\n\" clip-path=\"url(#p8c1c12ce29)\" style=\"fill: #1f77b4\"/>\n   </g>\n   <g id=\"patch_35\">\n    <path d=\"M 381.818182 90303.691282 \nL 391.963636 90303.691282 \nL 391.963636 312.756307 \nL 381.818182 312.756307 \nz\n\" clip-path=\"url(#p8c1c12ce29)\" style=\"fill: #1f77b4\"/>\n   </g>\n   <g id=\"patch_36\">\n    <path d=\"M 391.963636 90303.691282 \nL 402.109091 90303.691282 \nL 402.109091 90303.691282 \nL 391.963636 90303.691282 \nz\n\" clip-path=\"url(#p8c1c12ce29)\" style=\"fill: #1f77b4\"/>\n   </g>\n   <g id=\"patch_37\">\n    <path d=\"M 402.109091 90303.691282 \nL 412.254545 90303.691282 \nL 412.254545 339.838125 \nL 402.109091 339.838125 \nz\n\" clip-path=\"url(#p8c1c12ce29)\" style=\"fill: #1f77b4\"/>\n   </g>\n   <g id=\"patch_38\">\n    <path d=\"M 412.254545 90303.691282 \nL 422.4 90303.691282 \nL 422.4 90303.691282 \nL 412.254545 90303.691282 \nz\n\" clip-path=\"url(#p8c1c12ce29)\" style=\"fill: #1f77b4\"/>\n   </g>\n   <g id=\"patch_39\">\n    <path d=\"M 422.4 90303.691282 \nL 432.545455 90303.691282 \nL 432.545455 90303.691282 \nL 422.4 90303.691282 \nz\n\" clip-path=\"url(#p8c1c12ce29)\" style=\"fill: #1f77b4\"/>\n   </g>\n   <g id=\"patch_40\">\n    <path d=\"M 432.545455 90303.691282 \nL 442.690909 90303.691282 \nL 442.690909 339.838125 \nL 432.545455 339.838125 \nz\n\" clip-path=\"url(#p8c1c12ce29)\" style=\"fill: #1f77b4\"/>\n   </g>\n   <g id=\"patch_41\">\n    <path d=\"M 442.690909 90303.691282 \nL 452.836364 90303.691282 \nL 452.836364 90303.691282 \nL 442.690909 90303.691282 \nz\n\" clip-path=\"url(#p8c1c12ce29)\" style=\"fill: #1f77b4\"/>\n   </g>\n   <g id=\"patch_42\">\n    <path d=\"M 452.836364 90303.691282 \nL 462.981818 90303.691282 \nL 462.981818 339.838125 \nL 452.836364 339.838125 \nz\n\" clip-path=\"url(#p8c1c12ce29)\" style=\"fill: #1f77b4\"/>\n   </g>\n   <g id=\"patch_43\">\n    <path d=\"M 462.981818 90303.691282 \nL 473.127273 90303.691282 \nL 473.127273 90303.691282 \nL 462.981818 90303.691282 \nz\n\" clip-path=\"url(#p8c1c12ce29)\" style=\"fill: #1f77b4\"/>\n   </g>\n   <g id=\"patch_44\">\n    <path d=\"M 473.127273 90303.691282 \nL 483.272727 90303.691282 \nL 483.272727 90303.691282 \nL 473.127273 90303.691282 \nz\n\" clip-path=\"url(#p8c1c12ce29)\" style=\"fill: #1f77b4\"/>\n   </g>\n   <g id=\"patch_45\">\n    <path d=\"M 483.272727 90303.691282 \nL 493.418182 90303.691282 \nL 493.418182 90303.691282 \nL 483.272727 90303.691282 \nz\n\" clip-path=\"url(#p8c1c12ce29)\" style=\"fill: #1f77b4\"/>\n   </g>\n   <g id=\"patch_46\">\n    <path d=\"M 493.418182 90303.691282 \nL 503.563636 90303.691282 \nL 503.563636 90303.691282 \nL 493.418182 90303.691282 \nz\n\" clip-path=\"url(#p8c1c12ce29)\" style=\"fill: #1f77b4\"/>\n   </g>\n   <g id=\"patch_47\">\n    <path d=\"M 503.563636 90303.691282 \nL 513.709091 90303.691282 \nL 513.709091 90303.691282 \nL 503.563636 90303.691282 \nz\n\" clip-path=\"url(#p8c1c12ce29)\" style=\"fill: #1f77b4\"/>\n   </g>\n   <g id=\"patch_48\">\n    <path d=\"M 513.709091 90303.691282 \nL 523.854545 90303.691282 \nL 523.854545 90303.691282 \nL 513.709091 90303.691282 \nz\n\" clip-path=\"url(#p8c1c12ce29)\" style=\"fill: #1f77b4\"/>\n   </g>\n   <g id=\"patch_49\">\n    <path d=\"M 523.854545 90303.691282 \nL 534 90303.691282 \nL 534 90303.691282 \nL 523.854545 90303.691282 \nz\n\" clip-path=\"url(#p8c1c12ce29)\" style=\"fill: #1f77b4\"/>\n   </g>\n   <g id=\"patch_50\">\n    <path d=\"M 534 90303.691282 \nL 544.145455 90303.691282 \nL 544.145455 90303.691282 \nL 534 90303.691282 \nz\n\" clip-path=\"url(#p8c1c12ce29)\" style=\"fill: #1f77b4\"/>\n   </g>\n   <g id=\"patch_51\">\n    <path d=\"M 544.145455 90303.691282 \nL 554.290909 90303.691282 \nL 554.290909 90303.691282 \nL 544.145455 90303.691282 \nz\n\" clip-path=\"url(#p8c1c12ce29)\" style=\"fill: #1f77b4\"/>\n   </g>\n   <g id=\"patch_52\">\n    <path d=\"M 554.290909 90303.691282 \nL 564.436364 90303.691282 \nL 564.436364 339.838125 \nL 554.290909 339.838125 \nz\n\" clip-path=\"url(#p8c1c12ce29)\" style=\"fill: #1f77b4\"/>\n   </g>\n   <g id=\"matplotlib.axis_1\">\n    <g id=\"xtick_1\">\n     <g id=\"line2d_1\">\n      <defs>\n       <path id=\"m5c0cec79ec\" d=\"M 0 0 \nL 0 3.5 \n\" style=\"stroke: #000000; stroke-width: 0.8\"/>\n      </defs>\n      <g>\n       <use xlink:href=\"#m5c0cec79ec\" x=\"52.741032\" y=\"354.958125\" style=\"stroke: #000000; stroke-width: 0.8\"/>\n      </g>\n     </g>\n     <g id=\"text_1\">\n      <!-- 0 -->\n      <g transform=\"translate(49.559782 369.556562) scale(0.1 -0.1)\">\n       <defs>\n        <path id=\"DejaVuSans-30\" d=\"M 2034 4250 \nQ 1547 4250 1301 3770 \nQ 1056 3291 1056 2328 \nQ 1056 1369 1301 889 \nQ 1547 409 2034 409 \nQ 2525 409 2770 889 \nQ 3016 1369 3016 2328 \nQ 3016 3291 2770 3770 \nQ 2525 4250 2034 4250 \nz\nM 2034 4750 \nQ 2819 4750 3233 4129 \nQ 3647 3509 3647 2328 \nQ 3647 1150 3233 529 \nQ 2819 -91 2034 -91 \nQ 1250 -91 836 529 \nQ 422 1150 422 2328 \nQ 422 3509 836 4129 \nQ 1250 4750 2034 4750 \nz\n\" transform=\"scale(0.015625)\"/>\n       </defs>\n       <use xlink:href=\"#DejaVuSans-30\"/>\n      </g>\n     </g>\n    </g>\n    <g id=\"xtick_2\">\n     <g id=\"line2d_2\">\n      <g>\n       <use xlink:href=\"#m5c0cec79ec\" x=\"163.306143\" y=\"354.958125\" style=\"stroke: #000000; stroke-width: 0.8\"/>\n      </g>\n     </g>\n     <g id=\"text_2\">\n      <!-- 500 -->\n      <g transform=\"translate(153.762393 369.556562) scale(0.1 -0.1)\">\n       <defs>\n        <path id=\"DejaVuSans-35\" d=\"M 691 4666 \nL 3169 4666 \nL 3169 4134 \nL 1269 4134 \nL 1269 2991 \nQ 1406 3038 1543 3061 \nQ 1681 3084 1819 3084 \nQ 2600 3084 3056 2656 \nQ 3513 2228 3513 1497 \nQ 3513 744 3044 326 \nQ 2575 -91 1722 -91 \nQ 1428 -91 1123 -41 \nQ 819 9 494 109 \nL 494 744 \nQ 775 591 1075 516 \nQ 1375 441 1709 441 \nQ 2250 441 2565 725 \nQ 2881 1009 2881 1497 \nQ 2881 1984 2565 2268 \nQ 2250 2553 1709 2553 \nQ 1456 2553 1204 2497 \nQ 953 2441 691 2322 \nL 691 4666 \nz\n\" transform=\"scale(0.015625)\"/>\n       </defs>\n       <use xlink:href=\"#DejaVuSans-35\"/>\n       <use xlink:href=\"#DejaVuSans-30\" x=\"63.623047\"/>\n       <use xlink:href=\"#DejaVuSans-30\" x=\"127.246094\"/>\n      </g>\n     </g>\n    </g>\n    <g id=\"xtick_3\">\n     <g id=\"line2d_3\">\n      <g>\n       <use xlink:href=\"#m5c0cec79ec\" x=\"273.871253\" y=\"354.958125\" style=\"stroke: #000000; stroke-width: 0.8\"/>\n      </g>\n     </g>\n     <g id=\"text_3\">\n      <!-- 1000 -->\n      <g transform=\"translate(261.146253 369.556562) scale(0.1 -0.1)\">\n       <defs>\n        <path id=\"DejaVuSans-31\" d=\"M 794 531 \nL 1825 531 \nL 1825 4091 \nL 703 3866 \nL 703 4441 \nL 1819 4666 \nL 2450 4666 \nL 2450 531 \nL 3481 531 \nL 3481 0 \nL 794 0 \nL 794 531 \nz\n\" transform=\"scale(0.015625)\"/>\n       </defs>\n       <use xlink:href=\"#DejaVuSans-31\"/>\n       <use xlink:href=\"#DejaVuSans-30\" x=\"63.623047\"/>\n       <use xlink:href=\"#DejaVuSans-30\" x=\"127.246094\"/>\n       <use xlink:href=\"#DejaVuSans-30\" x=\"190.869141\"/>\n      </g>\n     </g>\n    </g>\n    <g id=\"xtick_4\">\n     <g id=\"line2d_4\">\n      <g>\n       <use xlink:href=\"#m5c0cec79ec\" x=\"384.436364\" y=\"354.958125\" style=\"stroke: #000000; stroke-width: 0.8\"/>\n      </g>\n     </g>\n     <g id=\"text_4\">\n      <!-- 1500 -->\n      <g transform=\"translate(371.711364 369.556562) scale(0.1 -0.1)\">\n       <use xlink:href=\"#DejaVuSans-31\"/>\n       <use xlink:href=\"#DejaVuSans-35\" x=\"63.623047\"/>\n       <use xlink:href=\"#DejaVuSans-30\" x=\"127.246094\"/>\n       <use xlink:href=\"#DejaVuSans-30\" x=\"190.869141\"/>\n      </g>\n     </g>\n    </g>\n    <g id=\"xtick_5\">\n     <g id=\"line2d_5\">\n      <g>\n       <use xlink:href=\"#m5c0cec79ec\" x=\"495.001474\" y=\"354.958125\" style=\"stroke: #000000; stroke-width: 0.8\"/>\n      </g>\n     </g>\n     <g id=\"text_5\">\n      <!-- 2000 -->\n      <g transform=\"translate(482.276474 369.556562) scale(0.1 -0.1)\">\n       <defs>\n        <path id=\"DejaVuSans-32\" d=\"M 1228 531 \nL 3431 531 \nL 3431 0 \nL 469 0 \nL 469 531 \nQ 828 903 1448 1529 \nQ 2069 2156 2228 2338 \nQ 2531 2678 2651 2914 \nQ 2772 3150 2772 3378 \nQ 2772 3750 2511 3984 \nQ 2250 4219 1831 4219 \nQ 1534 4219 1204 4116 \nQ 875 4013 500 3803 \nL 500 4441 \nQ 881 4594 1212 4672 \nQ 1544 4750 1819 4750 \nQ 2544 4750 2975 4387 \nQ 3406 4025 3406 3419 \nQ 3406 3131 3298 2873 \nQ 3191 2616 2906 2266 \nQ 2828 2175 2409 1742 \nQ 1991 1309 1228 531 \nz\n\" transform=\"scale(0.015625)\"/>\n       </defs>\n       <use xlink:href=\"#DejaVuSans-32\"/>\n       <use xlink:href=\"#DejaVuSans-30\" x=\"63.623047\"/>\n       <use xlink:href=\"#DejaVuSans-30\" x=\"127.246094\"/>\n       <use xlink:href=\"#DejaVuSans-30\" x=\"190.869141\"/>\n      </g>\n     </g>\n    </g>\n   </g>\n   <g id=\"matplotlib.axis_2\">\n    <g id=\"ytick_1\">\n     <g id=\"line2d_6\">\n      <defs>\n       <path id=\"m755d85429f\" d=\"M 0 0 \nL -3.5 0 \n\" style=\"stroke: #000000; stroke-width: 0.8\"/>\n      </defs>\n      <g>\n       <use xlink:href=\"#m755d85429f\" x=\"31.8\" y=\"339.838125\" style=\"stroke: #000000; stroke-width: 0.8\"/>\n      </g>\n     </g>\n     <g id=\"text_6\">\n      <!-- $\\mathdefault{10^{0}}$ -->\n      <g transform=\"translate(7.2 343.637344) scale(0.1 -0.1)\">\n       <use xlink:href=\"#DejaVuSans-31\" transform=\"translate(0 0.765625)\"/>\n       <use xlink:href=\"#DejaVuSans-30\" transform=\"translate(63.623047 0.765625)\"/>\n       <use xlink:href=\"#DejaVuSans-30\" transform=\"translate(128.203125 39.046875) scale(0.7)\"/>\n      </g>\n     </g>\n    </g>\n    <g id=\"ytick_2\">\n     <g id=\"line2d_7\">\n      <g>\n       <use xlink:href=\"#m755d85429f\" x=\"31.8\" y=\"249.874272\" style=\"stroke: #000000; stroke-width: 0.8\"/>\n      </g>\n     </g>\n     <g id=\"text_7\">\n      <!-- $\\mathdefault{10^{1}}$ -->\n      <g transform=\"translate(7.2 253.673491) scale(0.1 -0.1)\">\n       <use xlink:href=\"#DejaVuSans-31\" transform=\"translate(0 0.684375)\"/>\n       <use xlink:href=\"#DejaVuSans-30\" transform=\"translate(63.623047 0.684375)\"/>\n       <use xlink:href=\"#DejaVuSans-31\" transform=\"translate(128.203125 38.965625) scale(0.7)\"/>\n      </g>\n     </g>\n    </g>\n    <g id=\"ytick_3\">\n     <g id=\"line2d_8\">\n      <g>\n       <use xlink:href=\"#m755d85429f\" x=\"31.8\" y=\"159.910419\" style=\"stroke: #000000; stroke-width: 0.8\"/>\n      </g>\n     </g>\n     <g id=\"text_8\">\n      <!-- $\\mathdefault{10^{2}}$ -->\n      <g transform=\"translate(7.2 163.709637) scale(0.1 -0.1)\">\n       <use xlink:href=\"#DejaVuSans-31\" transform=\"translate(0 0.765625)\"/>\n       <use xlink:href=\"#DejaVuSans-30\" transform=\"translate(63.623047 0.765625)\"/>\n       <use xlink:href=\"#DejaVuSans-32\" transform=\"translate(128.203125 39.046875) scale(0.7)\"/>\n      </g>\n     </g>\n    </g>\n    <g id=\"ytick_4\">\n     <g id=\"line2d_9\">\n      <g>\n       <use xlink:href=\"#m755d85429f\" x=\"31.8\" y=\"69.946566\" style=\"stroke: #000000; stroke-width: 0.8\"/>\n      </g>\n     </g>\n     <g id=\"text_9\">\n      <!-- $\\mathdefault{10^{3}}$ -->\n      <g transform=\"translate(7.2 73.745784) scale(0.1 -0.1)\">\n       <defs>\n        <path id=\"DejaVuSans-33\" d=\"M 2597 2516 \nQ 3050 2419 3304 2112 \nQ 3559 1806 3559 1356 \nQ 3559 666 3084 287 \nQ 2609 -91 1734 -91 \nQ 1441 -91 1130 -33 \nQ 819 25 488 141 \nL 488 750 \nQ 750 597 1062 519 \nQ 1375 441 1716 441 \nQ 2309 441 2620 675 \nQ 2931 909 2931 1356 \nQ 2931 1769 2642 2001 \nQ 2353 2234 1838 2234 \nL 1294 2234 \nL 1294 2753 \nL 1863 2753 \nQ 2328 2753 2575 2939 \nQ 2822 3125 2822 3475 \nQ 2822 3834 2567 4026 \nQ 2313 4219 1838 4219 \nQ 1578 4219 1281 4162 \nQ 984 4106 628 3988 \nL 628 4550 \nQ 988 4650 1302 4700 \nQ 1616 4750 1894 4750 \nQ 2613 4750 3031 4423 \nQ 3450 4097 3450 3541 \nQ 3450 3153 3228 2886 \nQ 3006 2619 2597 2516 \nz\n\" transform=\"scale(0.015625)\"/>\n       </defs>\n       <use xlink:href=\"#DejaVuSans-31\" transform=\"translate(0 0.765625)\"/>\n       <use xlink:href=\"#DejaVuSans-30\" transform=\"translate(63.623047 0.765625)\"/>\n       <use xlink:href=\"#DejaVuSans-33\" transform=\"translate(128.203125 39.046875) scale(0.7)\"/>\n      </g>\n     </g>\n    </g>\n    <g id=\"ytick_5\">\n     <g id=\"line2d_10\">\n      <defs>\n       <path id=\"ma76fbcf3a6\" d=\"M 0 0 \nL -2 0 \n\" style=\"stroke: #000000; stroke-width: 0.6\"/>\n      </defs>\n      <g>\n       <use xlink:href=\"#ma76fbcf3a6\" x=\"31.8\" y=\"353.773702\" style=\"stroke: #000000; stroke-width: 0.6\"/>\n      </g>\n     </g>\n    </g>\n    <g id=\"ytick_6\">\n     <g id=\"line2d_11\">\n      <g>\n       <use xlink:href=\"#ma76fbcf3a6\" x=\"31.8\" y=\"348.556523\" style=\"stroke: #000000; stroke-width: 0.6\"/>\n      </g>\n     </g>\n    </g>\n    <g id=\"ytick_7\">\n     <g id=\"line2d_12\">\n      <g>\n       <use xlink:href=\"#ma76fbcf3a6\" x=\"31.8\" y=\"343.954645\" style=\"stroke: #000000; stroke-width: 0.6\"/>\n      </g>\n     </g>\n    </g>\n    <g id=\"ytick_8\">\n     <g id=\"line2d_13\">\n      <g>\n       <use xlink:href=\"#ma76fbcf3a6\" x=\"31.8\" y=\"312.756307\" style=\"stroke: #000000; stroke-width: 0.6\"/>\n      </g>\n     </g>\n    </g>\n    <g id=\"ytick_9\">\n     <g id=\"line2d_14\">\n      <g>\n       <use xlink:href=\"#ma76fbcf3a6\" x=\"31.8\" y=\"296.914459\" style=\"stroke: #000000; stroke-width: 0.6\"/>\n      </g>\n     </g>\n    </g>\n    <g id=\"ytick_10\">\n     <g id=\"line2d_15\">\n      <g>\n       <use xlink:href=\"#ma76fbcf3a6\" x=\"31.8\" y=\"285.674488\" style=\"stroke: #000000; stroke-width: 0.6\"/>\n      </g>\n     </g>\n    </g>\n    <g id=\"ytick_11\">\n     <g id=\"line2d_16\">\n      <g>\n       <use xlink:href=\"#ma76fbcf3a6\" x=\"31.8\" y=\"276.95609\" style=\"stroke: #000000; stroke-width: 0.6\"/>\n      </g>\n     </g>\n    </g>\n    <g id=\"ytick_12\">\n     <g id=\"line2d_17\">\n      <g>\n       <use xlink:href=\"#ma76fbcf3a6\" x=\"31.8\" y=\"269.83264\" style=\"stroke: #000000; stroke-width: 0.6\"/>\n      </g>\n     </g>\n    </g>\n    <g id=\"ytick_13\">\n     <g id=\"line2d_18\">\n      <g>\n       <use xlink:href=\"#ma76fbcf3a6\" x=\"31.8\" y=\"263.809849\" style=\"stroke: #000000; stroke-width: 0.6\"/>\n      </g>\n     </g>\n    </g>\n    <g id=\"ytick_14\">\n     <g id=\"line2d_19\">\n      <g>\n       <use xlink:href=\"#ma76fbcf3a6\" x=\"31.8\" y=\"258.59267\" style=\"stroke: #000000; stroke-width: 0.6\"/>\n      </g>\n     </g>\n    </g>\n    <g id=\"ytick_15\">\n     <g id=\"line2d_20\">\n      <g>\n       <use xlink:href=\"#ma76fbcf3a6\" x=\"31.8\" y=\"253.990792\" style=\"stroke: #000000; stroke-width: 0.6\"/>\n      </g>\n     </g>\n    </g>\n    <g id=\"ytick_16\">\n     <g id=\"line2d_21\">\n      <g>\n       <use xlink:href=\"#ma76fbcf3a6\" x=\"31.8\" y=\"222.792454\" style=\"stroke: #000000; stroke-width: 0.6\"/>\n      </g>\n     </g>\n    </g>\n    <g id=\"ytick_17\">\n     <g id=\"line2d_22\">\n      <g>\n       <use xlink:href=\"#ma76fbcf3a6\" x=\"31.8\" y=\"206.950605\" style=\"stroke: #000000; stroke-width: 0.6\"/>\n      </g>\n     </g>\n    </g>\n    <g id=\"ytick_18\">\n     <g id=\"line2d_23\">\n      <g>\n       <use xlink:href=\"#ma76fbcf3a6\" x=\"31.8\" y=\"195.710635\" style=\"stroke: #000000; stroke-width: 0.6\"/>\n      </g>\n     </g>\n    </g>\n    <g id=\"ytick_19\">\n     <g id=\"line2d_24\">\n      <g>\n       <use xlink:href=\"#ma76fbcf3a6\" x=\"31.8\" y=\"186.992237\" style=\"stroke: #000000; stroke-width: 0.6\"/>\n      </g>\n     </g>\n    </g>\n    <g id=\"ytick_20\">\n     <g id=\"line2d_25\">\n      <g>\n       <use xlink:href=\"#ma76fbcf3a6\" x=\"31.8\" y=\"179.868787\" style=\"stroke: #000000; stroke-width: 0.6\"/>\n      </g>\n     </g>\n    </g>\n    <g id=\"ytick_21\">\n     <g id=\"line2d_26\">\n      <g>\n       <use xlink:href=\"#ma76fbcf3a6\" x=\"31.8\" y=\"173.845996\" style=\"stroke: #000000; stroke-width: 0.6\"/>\n      </g>\n     </g>\n    </g>\n    <g id=\"ytick_22\">\n     <g id=\"line2d_27\">\n      <g>\n       <use xlink:href=\"#ma76fbcf3a6\" x=\"31.8\" y=\"168.628817\" style=\"stroke: #000000; stroke-width: 0.6\"/>\n      </g>\n     </g>\n    </g>\n    <g id=\"ytick_23\">\n     <g id=\"line2d_28\">\n      <g>\n       <use xlink:href=\"#ma76fbcf3a6\" x=\"31.8\" y=\"164.026939\" style=\"stroke: #000000; stroke-width: 0.6\"/>\n      </g>\n     </g>\n    </g>\n    <g id=\"ytick_24\">\n     <g id=\"line2d_29\">\n      <g>\n       <use xlink:href=\"#ma76fbcf3a6\" x=\"31.8\" y=\"132.8286\" style=\"stroke: #000000; stroke-width: 0.6\"/>\n      </g>\n     </g>\n    </g>\n    <g id=\"ytick_25\">\n     <g id=\"line2d_30\">\n      <g>\n       <use xlink:href=\"#ma76fbcf3a6\" x=\"31.8\" y=\"116.986752\" style=\"stroke: #000000; stroke-width: 0.6\"/>\n      </g>\n     </g>\n    </g>\n    <g id=\"ytick_26\">\n     <g id=\"line2d_31\">\n      <g>\n       <use xlink:href=\"#ma76fbcf3a6\" x=\"31.8\" y=\"105.746782\" style=\"stroke: #000000; stroke-width: 0.6\"/>\n      </g>\n     </g>\n    </g>\n    <g id=\"ytick_27\">\n     <g id=\"line2d_32\">\n      <g>\n       <use xlink:href=\"#ma76fbcf3a6\" x=\"31.8\" y=\"97.028384\" style=\"stroke: #000000; stroke-width: 0.6\"/>\n      </g>\n     </g>\n    </g>\n    <g id=\"ytick_28\">\n     <g id=\"line2d_33\">\n      <g>\n       <use xlink:href=\"#ma76fbcf3a6\" x=\"31.8\" y=\"89.904934\" style=\"stroke: #000000; stroke-width: 0.6\"/>\n      </g>\n     </g>\n    </g>\n    <g id=\"ytick_29\">\n     <g id=\"line2d_34\">\n      <g>\n       <use xlink:href=\"#ma76fbcf3a6\" x=\"31.8\" y=\"83.882143\" style=\"stroke: #000000; stroke-width: 0.6\"/>\n      </g>\n     </g>\n    </g>\n    <g id=\"ytick_30\">\n     <g id=\"line2d_35\">\n      <g>\n       <use xlink:href=\"#ma76fbcf3a6\" x=\"31.8\" y=\"78.664964\" style=\"stroke: #000000; stroke-width: 0.6\"/>\n      </g>\n     </g>\n    </g>\n    <g id=\"ytick_31\">\n     <g id=\"line2d_36\">\n      <g>\n       <use xlink:href=\"#ma76fbcf3a6\" x=\"31.8\" y=\"74.063086\" style=\"stroke: #000000; stroke-width: 0.6\"/>\n      </g>\n     </g>\n    </g>\n    <g id=\"ytick_32\">\n     <g id=\"line2d_37\">\n      <g>\n       <use xlink:href=\"#ma76fbcf3a6\" x=\"31.8\" y=\"42.864747\" style=\"stroke: #000000; stroke-width: 0.6\"/>\n      </g>\n     </g>\n    </g>\n    <g id=\"ytick_33\">\n     <g id=\"line2d_38\">\n      <g>\n       <use xlink:href=\"#ma76fbcf3a6\" x=\"31.8\" y=\"27.022899\" style=\"stroke: #000000; stroke-width: 0.6\"/>\n      </g>\n     </g>\n    </g>\n   </g>\n   <g id=\"patch_53\">\n    <path d=\"M 31.8 354.958125 \nL 31.8 22.318125 \n\" style=\"fill: none; stroke: #000000; stroke-width: 0.8; stroke-linejoin: miter; stroke-linecap: square\"/>\n   </g>\n   <g id=\"patch_54\">\n    <path d=\"M 589.8 354.958125 \nL 589.8 22.318125 \n\" style=\"fill: none; stroke: #000000; stroke-width: 0.8; stroke-linejoin: miter; stroke-linecap: square\"/>\n   </g>\n   <g id=\"patch_55\">\n    <path d=\"M 31.8 354.958125 \nL 589.8 354.958125 \n\" style=\"fill: none; stroke: #000000; stroke-width: 0.8; stroke-linejoin: miter; stroke-linecap: square\"/>\n   </g>\n   <g id=\"patch_56\">\n    <path d=\"M 31.8 22.318125 \nL 589.8 22.318125 \n\" style=\"fill: none; stroke: #000000; stroke-width: 0.8; stroke-linejoin: miter; stroke-linecap: square\"/>\n   </g>\n   <g id=\"text_10\">\n    <!-- Amount of reviews per user -->\n    <g transform=\"translate(227.791875 16.318125) scale(0.12 -0.12)\">\n     <defs>\n      <path id=\"DejaVuSans-41\" d=\"M 2188 4044 \nL 1331 1722 \nL 3047 1722 \nL 2188 4044 \nz\nM 1831 4666 \nL 2547 4666 \nL 4325 0 \nL 3669 0 \nL 3244 1197 \nL 1141 1197 \nL 716 0 \nL 50 0 \nL 1831 4666 \nz\n\" transform=\"scale(0.015625)\"/>\n      <path id=\"DejaVuSans-6d\" d=\"M 3328 2828 \nQ 3544 3216 3844 3400 \nQ 4144 3584 4550 3584 \nQ 5097 3584 5394 3201 \nQ 5691 2819 5691 2113 \nL 5691 0 \nL 5113 0 \nL 5113 2094 \nQ 5113 2597 4934 2840 \nQ 4756 3084 4391 3084 \nQ 3944 3084 3684 2787 \nQ 3425 2491 3425 1978 \nL 3425 0 \nL 2847 0 \nL 2847 2094 \nQ 2847 2600 2669 2842 \nQ 2491 3084 2119 3084 \nQ 1678 3084 1418 2786 \nQ 1159 2488 1159 1978 \nL 1159 0 \nL 581 0 \nL 581 3500 \nL 1159 3500 \nL 1159 2956 \nQ 1356 3278 1631 3431 \nQ 1906 3584 2284 3584 \nQ 2666 3584 2933 3390 \nQ 3200 3197 3328 2828 \nz\n\" transform=\"scale(0.015625)\"/>\n      <path id=\"DejaVuSans-6f\" d=\"M 1959 3097 \nQ 1497 3097 1228 2736 \nQ 959 2375 959 1747 \nQ 959 1119 1226 758 \nQ 1494 397 1959 397 \nQ 2419 397 2687 759 \nQ 2956 1122 2956 1747 \nQ 2956 2369 2687 2733 \nQ 2419 3097 1959 3097 \nz\nM 1959 3584 \nQ 2709 3584 3137 3096 \nQ 3566 2609 3566 1747 \nQ 3566 888 3137 398 \nQ 2709 -91 1959 -91 \nQ 1206 -91 779 398 \nQ 353 888 353 1747 \nQ 353 2609 779 3096 \nQ 1206 3584 1959 3584 \nz\n\" transform=\"scale(0.015625)\"/>\n      <path id=\"DejaVuSans-75\" d=\"M 544 1381 \nL 544 3500 \nL 1119 3500 \nL 1119 1403 \nQ 1119 906 1312 657 \nQ 1506 409 1894 409 \nQ 2359 409 2629 706 \nQ 2900 1003 2900 1516 \nL 2900 3500 \nL 3475 3500 \nL 3475 0 \nL 2900 0 \nL 2900 538 \nQ 2691 219 2414 64 \nQ 2138 -91 1772 -91 \nQ 1169 -91 856 284 \nQ 544 659 544 1381 \nz\nM 1991 3584 \nL 1991 3584 \nz\n\" transform=\"scale(0.015625)\"/>\n      <path id=\"DejaVuSans-6e\" d=\"M 3513 2113 \nL 3513 0 \nL 2938 0 \nL 2938 2094 \nQ 2938 2591 2744 2837 \nQ 2550 3084 2163 3084 \nQ 1697 3084 1428 2787 \nQ 1159 2491 1159 1978 \nL 1159 0 \nL 581 0 \nL 581 3500 \nL 1159 3500 \nL 1159 2956 \nQ 1366 3272 1645 3428 \nQ 1925 3584 2291 3584 \nQ 2894 3584 3203 3211 \nQ 3513 2838 3513 2113 \nz\n\" transform=\"scale(0.015625)\"/>\n      <path id=\"DejaVuSans-74\" d=\"M 1172 4494 \nL 1172 3500 \nL 2356 3500 \nL 2356 3053 \nL 1172 3053 \nL 1172 1153 \nQ 1172 725 1289 603 \nQ 1406 481 1766 481 \nL 2356 481 \nL 2356 0 \nL 1766 0 \nQ 1100 0 847 248 \nQ 594 497 594 1153 \nL 594 3053 \nL 172 3053 \nL 172 3500 \nL 594 3500 \nL 594 4494 \nL 1172 4494 \nz\n\" transform=\"scale(0.015625)\"/>\n      <path id=\"DejaVuSans-20\" transform=\"scale(0.015625)\"/>\n      <path id=\"DejaVuSans-66\" d=\"M 2375 4863 \nL 2375 4384 \nL 1825 4384 \nQ 1516 4384 1395 4259 \nQ 1275 4134 1275 3809 \nL 1275 3500 \nL 2222 3500 \nL 2222 3053 \nL 1275 3053 \nL 1275 0 \nL 697 0 \nL 697 3053 \nL 147 3053 \nL 147 3500 \nL 697 3500 \nL 697 3744 \nQ 697 4328 969 4595 \nQ 1241 4863 1831 4863 \nL 2375 4863 \nz\n\" transform=\"scale(0.015625)\"/>\n      <path id=\"DejaVuSans-72\" d=\"M 2631 2963 \nQ 2534 3019 2420 3045 \nQ 2306 3072 2169 3072 \nQ 1681 3072 1420 2755 \nQ 1159 2438 1159 1844 \nL 1159 0 \nL 581 0 \nL 581 3500 \nL 1159 3500 \nL 1159 2956 \nQ 1341 3275 1631 3429 \nQ 1922 3584 2338 3584 \nQ 2397 3584 2469 3576 \nQ 2541 3569 2628 3553 \nL 2631 2963 \nz\n\" transform=\"scale(0.015625)\"/>\n      <path id=\"DejaVuSans-65\" d=\"M 3597 1894 \nL 3597 1613 \nL 953 1613 \nQ 991 1019 1311 708 \nQ 1631 397 2203 397 \nQ 2534 397 2845 478 \nQ 3156 559 3463 722 \nL 3463 178 \nQ 3153 47 2828 -22 \nQ 2503 -91 2169 -91 \nQ 1331 -91 842 396 \nQ 353 884 353 1716 \nQ 353 2575 817 3079 \nQ 1281 3584 2069 3584 \nQ 2775 3584 3186 3129 \nQ 3597 2675 3597 1894 \nz\nM 3022 2063 \nQ 3016 2534 2758 2815 \nQ 2500 3097 2075 3097 \nQ 1594 3097 1305 2825 \nQ 1016 2553 972 2059 \nL 3022 2063 \nz\n\" transform=\"scale(0.015625)\"/>\n      <path id=\"DejaVuSans-76\" d=\"M 191 3500 \nL 800 3500 \nL 1894 563 \nL 2988 3500 \nL 3597 3500 \nL 2284 0 \nL 1503 0 \nL 191 3500 \nz\n\" transform=\"scale(0.015625)\"/>\n      <path id=\"DejaVuSans-69\" d=\"M 603 3500 \nL 1178 3500 \nL 1178 0 \nL 603 0 \nL 603 3500 \nz\nM 603 4863 \nL 1178 4863 \nL 1178 4134 \nL 603 4134 \nL 603 4863 \nz\n\" transform=\"scale(0.015625)\"/>\n      <path id=\"DejaVuSans-77\" d=\"M 269 3500 \nL 844 3500 \nL 1563 769 \nL 2278 3500 \nL 2956 3500 \nL 3675 769 \nL 4391 3500 \nL 4966 3500 \nL 4050 0 \nL 3372 0 \nL 2619 2869 \nL 1863 0 \nL 1184 0 \nL 269 3500 \nz\n\" transform=\"scale(0.015625)\"/>\n      <path id=\"DejaVuSans-73\" d=\"M 2834 3397 \nL 2834 2853 \nQ 2591 2978 2328 3040 \nQ 2066 3103 1784 3103 \nQ 1356 3103 1142 2972 \nQ 928 2841 928 2578 \nQ 928 2378 1081 2264 \nQ 1234 2150 1697 2047 \nL 1894 2003 \nQ 2506 1872 2764 1633 \nQ 3022 1394 3022 966 \nQ 3022 478 2636 193 \nQ 2250 -91 1575 -91 \nQ 1294 -91 989 -36 \nQ 684 19 347 128 \nL 347 722 \nQ 666 556 975 473 \nQ 1284 391 1588 391 \nQ 1994 391 2212 530 \nQ 2431 669 2431 922 \nQ 2431 1156 2273 1281 \nQ 2116 1406 1581 1522 \nL 1381 1569 \nQ 847 1681 609 1914 \nQ 372 2147 372 2553 \nQ 372 3047 722 3315 \nQ 1072 3584 1716 3584 \nQ 2034 3584 2315 3537 \nQ 2597 3491 2834 3397 \nz\n\" transform=\"scale(0.015625)\"/>\n      <path id=\"DejaVuSans-70\" d=\"M 1159 525 \nL 1159 -1331 \nL 581 -1331 \nL 581 3500 \nL 1159 3500 \nL 1159 2969 \nQ 1341 3281 1617 3432 \nQ 1894 3584 2278 3584 \nQ 2916 3584 3314 3078 \nQ 3713 2572 3713 1747 \nQ 3713 922 3314 415 \nQ 2916 -91 2278 -91 \nQ 1894 -91 1617 61 \nQ 1341 213 1159 525 \nz\nM 3116 1747 \nQ 3116 2381 2855 2742 \nQ 2594 3103 2138 3103 \nQ 1681 3103 1420 2742 \nQ 1159 2381 1159 1747 \nQ 1159 1113 1420 752 \nQ 1681 391 2138 391 \nQ 2594 391 2855 752 \nQ 3116 1113 3116 1747 \nz\n\" transform=\"scale(0.015625)\"/>\n     </defs>\n     <use xlink:href=\"#DejaVuSans-41\"/>\n     <use xlink:href=\"#DejaVuSans-6d\" x=\"68.408203\"/>\n     <use xlink:href=\"#DejaVuSans-6f\" x=\"165.820312\"/>\n     <use xlink:href=\"#DejaVuSans-75\" x=\"227.001953\"/>\n     <use xlink:href=\"#DejaVuSans-6e\" x=\"290.380859\"/>\n     <use xlink:href=\"#DejaVuSans-74\" x=\"353.759766\"/>\n     <use xlink:href=\"#DejaVuSans-20\" x=\"392.96875\"/>\n     <use xlink:href=\"#DejaVuSans-6f\" x=\"424.755859\"/>\n     <use xlink:href=\"#DejaVuSans-66\" x=\"485.9375\"/>\n     <use xlink:href=\"#DejaVuSans-20\" x=\"521.142578\"/>\n     <use xlink:href=\"#DejaVuSans-72\" x=\"552.929688\"/>\n     <use xlink:href=\"#DejaVuSans-65\" x=\"591.792969\"/>\n     <use xlink:href=\"#DejaVuSans-76\" x=\"653.316406\"/>\n     <use xlink:href=\"#DejaVuSans-69\" x=\"712.496094\"/>\n     <use xlink:href=\"#DejaVuSans-65\" x=\"740.279297\"/>\n     <use xlink:href=\"#DejaVuSans-77\" x=\"801.802734\"/>\n     <use xlink:href=\"#DejaVuSans-73\" x=\"883.589844\"/>\n     <use xlink:href=\"#DejaVuSans-20\" x=\"935.689453\"/>\n     <use xlink:href=\"#DejaVuSans-70\" x=\"967.476562\"/>\n     <use xlink:href=\"#DejaVuSans-65\" x=\"1030.953125\"/>\n     <use xlink:href=\"#DejaVuSans-72\" x=\"1092.476562\"/>\n     <use xlink:href=\"#DejaVuSans-20\" x=\"1133.589844\"/>\n     <use xlink:href=\"#DejaVuSans-75\" x=\"1165.376953\"/>\n     <use xlink:href=\"#DejaVuSans-73\" x=\"1228.755859\"/>\n     <use xlink:href=\"#DejaVuSans-65\" x=\"1280.855469\"/>\n     <use xlink:href=\"#DejaVuSans-72\" x=\"1342.378906\"/>\n    </g>\n   </g>\n  </g>\n </g>\n <defs>\n  <clipPath id=\"p8c1c12ce29\">\n   <rect x=\"31.8\" y=\"22.318125\" width=\"558\" height=\"332.64\"/>\n  </clipPath>\n </defs>\n</svg>\n",
      "text/plain": [
       "<Figure size 1000x600 with 1 Axes>"
      ]
     },
     "metadata": {},
     "output_type": "display_data"
    }
   ],
   "source": [
    "plt.hist(movielens.groupby(\"userid\").size(), bins=50)\n",
    "plt.yscale(\"log\")\n",
    "plt.title(\"Amount of reviews per user\")\n",
    "plt.show()"
   ]
  },
  {
   "cell_type": "code",
   "execution_count": 7,
   "id": "b968e822-d62f-4993-beb7-16df6f062845",
   "metadata": {},
   "outputs": [
    {
     "data": {
      "text/plain": [
       "(725370, 221697, 802)"
      ]
     },
     "execution_count": 7,
     "metadata": {},
     "output_type": "execute_result"
    }
   ],
   "source": [
    "# Split for final evaluation\n",
    "_train, _test, _holdout = timepoint_split(movielens, time_split_q=0.95)\n",
    "\n",
    "len(_train), len(_test), len(_holdout)"
   ]
  },
  {
   "cell_type": "code",
   "execution_count": 8,
   "id": "1950ede2-eeb6-49af-b0ae-ac7331583ed7",
   "metadata": {},
   "outputs": [
    {
     "data": {
      "text/plain": [
       "(611093, 77989, 407)"
      ]
     },
     "execution_count": 8,
     "metadata": {},
     "output_type": "execute_result"
    }
   ],
   "source": [
    "# Additional split for hyperparameter tuning\n",
    "_trainval, _testval, _holdoutval = timepoint_split(_train, time_split_q=0.95)\n",
    "\n",
    "len(_trainval), len(_testval), len(_holdoutval)"
   ]
  },
  {
   "cell_type": "code",
   "execution_count": 9,
   "id": "5c2d5493-4772-4025-ac7e-f69f7965543f",
   "metadata": {},
   "outputs": [],
   "source": [
    "def reindex_all(train, test, holdout=None, userid='userid', itemid='itemid'):\n",
    "    train_new, data_index = transform_indices(train, userid, itemid)\n",
    "    test_new = reindex_data(test, data_index, fields='items')\n",
    "    \n",
    "    if holdout is None:\n",
    "        return train_new, test_new, data_index\n",
    "    \n",
    "    holdout_new = reindex_data(holdout, data_index, fields='items')\n",
    "    return train_new, test_new, holdout_new, data_index\n",
    "\n",
    "\n",
    "trainval, testval, holdoutval, data_index_val = reindex_all(_trainval, _testval, _holdoutval)"
   ]
  },
  {
   "cell_type": "code",
   "execution_count": 10,
   "id": "d9db811e",
   "metadata": {},
   "outputs": [],
   "source": [
    "data_description = {\n",
    "    \"n_users\": trainval.userid.nunique(),\n",
    "    \"n_items\": trainval.itemid.nunique(),\n",
    "    \"feedback\": \"rating\",\n",
    "    \"weights\": \"weights\",\n",
    "    \"items\": \"itemid\",\n",
    "    \"users\": \"userid\",\n",
    "}\n",
    "\n",
    "trainval = generate_ranks(trainval, data_description)\n",
    "testval = generate_ranks(testval, data_description)"
   ]
  },
  {
   "cell_type": "markdown",
   "id": "b559cfb8-b2dd-44a2-9788-5c10ac86f6e7",
   "metadata": {},
   "source": [
    "## Popular"
   ]
  },
  {
   "cell_type": "code",
   "execution_count": 11,
   "id": "6c233ead-0495-4113-8d58-c4bb24bd65a3",
   "metadata": {},
   "outputs": [],
   "source": [
    "topn = 20"
   ]
  },
  {
   "cell_type": "code",
   "execution_count": 12,
   "id": "9edf895f-c7e2-4ea2-9707-b559b01a2ab0",
   "metadata": {},
   "outputs": [],
   "source": [
    "alphas = [2 ** p for p in range(9)]\n",
    "\n",
    "popular_results = []\n",
    "\n",
    "for a in alphas:\n",
    "    def damped_mean(ratings):\n",
    "        return sum(ratings) / (len(ratings) + a)\n",
    "    \n",
    "    item2rating = trainval.groupby('itemid')[\"rating\"].apply(damped_mean)\n",
    "    best_items = item2rating.nlargest(topn).index.values\n",
    "    popular_recs = np.ones((len(holdoutval), topn)) * best_items\n",
    "    metric = model_evaluate(popular_recs, holdoutval, data_description, topn)    \n",
    "    \n",
    "    popular_results.append({\n",
    "        \"alpha\": a, \"metric\": metric\n",
    "    })\n",
    "\n",
    "popular_results = pd.DataFrame(popular_results)"
   ]
  },
  {
   "cell_type": "code",
   "execution_count": 13,
   "id": "fab6852b-b093-49c9-a7ef-7f60c4d895a1",
   "metadata": {},
   "outputs": [
    {
     "data": {
      "image/svg+xml": "<?xml version=\"1.0\" encoding=\"utf-8\" standalone=\"no\"?>\n<!DOCTYPE svg PUBLIC \"-//W3C//DTD SVG 1.1//EN\"\n  \"http://www.w3.org/Graphics/SVG/1.1/DTD/svg11.dtd\">\n<svg xmlns:xlink=\"http://www.w3.org/1999/xlink\" width=\"608.028125pt\" height=\"392.514375pt\" viewBox=\"0 0 608.028125 392.514375\" xmlns=\"http://www.w3.org/2000/svg\" version=\"1.1\">\n <metadata>\n  <rdf:RDF xmlns:dc=\"http://purl.org/dc/elements/1.1/\" xmlns:cc=\"http://creativecommons.org/ns#\" xmlns:rdf=\"http://www.w3.org/1999/02/22-rdf-syntax-ns#\">\n   <cc:Work>\n    <dc:type rdf:resource=\"http://purl.org/dc/dcmitype/StillImage\"/>\n    <dc:date>2023-03-25T13:49:48.741665</dc:date>\n    <dc:format>image/svg+xml</dc:format>\n    <dc:creator>\n     <cc:Agent>\n      <dc:title>Matplotlib v3.7.0, https://matplotlib.org/</dc:title>\n     </cc:Agent>\n    </dc:creator>\n   </cc:Work>\n  </rdf:RDF>\n </metadata>\n <defs>\n  <style type=\"text/css\">*{stroke-linejoin: round; stroke-linecap: butt}</style>\n </defs>\n <g id=\"figure_1\">\n  <g id=\"patch_1\">\n   <path d=\"M 0 392.514375 \nL 608.028125 392.514375 \nL 608.028125 0 \nL 0 0 \nz\n\" style=\"fill: #ffffff\"/>\n  </g>\n  <g id=\"axes_1\">\n   <g id=\"patch_2\">\n    <path d=\"M 42.828125 354.958125 \nL 600.828125 354.958125 \nL 600.828125 22.318125 \nL 42.828125 22.318125 \nz\n\" style=\"fill: #ffffff\"/>\n   </g>\n   <g id=\"matplotlib.axis_1\">\n    <g id=\"xtick_1\">\n     <g id=\"line2d_1\">\n      <defs>\n       <path id=\"m75817af63e\" d=\"M 0 0 \nL 0 3.5 \n\" style=\"stroke: #000000; stroke-width: 0.8\"/>\n      </defs>\n      <g>\n       <use xlink:href=\"#m75817af63e\" x=\"68.191761\" y=\"354.958125\" style=\"stroke: #000000; stroke-width: 0.8\"/>\n      </g>\n     </g>\n     <g id=\"text_1\">\n      <!-- 1 -->\n      <g transform=\"translate(65.010511 369.556562) scale(0.1 -0.1)\">\n       <defs>\n        <path id=\"DejaVuSans-31\" d=\"M 794 531 \nL 1825 531 \nL 1825 4091 \nL 703 3866 \nL 703 4441 \nL 1819 4666 \nL 2450 4666 \nL 2450 531 \nL 3481 531 \nL 3481 0 \nL 794 0 \nL 794 531 \nz\n\" transform=\"scale(0.015625)\"/>\n       </defs>\n       <use xlink:href=\"#DejaVuSans-31\"/>\n      </g>\n     </g>\n    </g>\n    <g id=\"xtick_2\">\n     <g id=\"line2d_2\">\n      <g>\n       <use xlink:href=\"#m75817af63e\" x=\"131.600852\" y=\"354.958125\" style=\"stroke: #000000; stroke-width: 0.8\"/>\n      </g>\n     </g>\n     <g id=\"text_2\">\n      <!-- 2 -->\n      <g transform=\"translate(128.419602 369.556562) scale(0.1 -0.1)\">\n       <defs>\n        <path id=\"DejaVuSans-32\" d=\"M 1228 531 \nL 3431 531 \nL 3431 0 \nL 469 0 \nL 469 531 \nQ 828 903 1448 1529 \nQ 2069 2156 2228 2338 \nQ 2531 2678 2651 2914 \nQ 2772 3150 2772 3378 \nQ 2772 3750 2511 3984 \nQ 2250 4219 1831 4219 \nQ 1534 4219 1204 4116 \nQ 875 4013 500 3803 \nL 500 4441 \nQ 881 4594 1212 4672 \nQ 1544 4750 1819 4750 \nQ 2544 4750 2975 4387 \nQ 3406 4025 3406 3419 \nQ 3406 3131 3298 2873 \nQ 3191 2616 2906 2266 \nQ 2828 2175 2409 1742 \nQ 1991 1309 1228 531 \nz\n\" transform=\"scale(0.015625)\"/>\n       </defs>\n       <use xlink:href=\"#DejaVuSans-32\"/>\n      </g>\n     </g>\n    </g>\n    <g id=\"xtick_3\">\n     <g id=\"line2d_3\">\n      <g>\n       <use xlink:href=\"#m75817af63e\" x=\"195.009943\" y=\"354.958125\" style=\"stroke: #000000; stroke-width: 0.8\"/>\n      </g>\n     </g>\n     <g id=\"text_3\">\n      <!-- 4 -->\n      <g transform=\"translate(191.828693 369.556562) scale(0.1 -0.1)\">\n       <defs>\n        <path id=\"DejaVuSans-34\" d=\"M 2419 4116 \nL 825 1625 \nL 2419 1625 \nL 2419 4116 \nz\nM 2253 4666 \nL 3047 4666 \nL 3047 1625 \nL 3713 1625 \nL 3713 1100 \nL 3047 1100 \nL 3047 0 \nL 2419 0 \nL 2419 1100 \nL 313 1100 \nL 313 1709 \nL 2253 4666 \nz\n\" transform=\"scale(0.015625)\"/>\n       </defs>\n       <use xlink:href=\"#DejaVuSans-34\"/>\n      </g>\n     </g>\n    </g>\n    <g id=\"xtick_4\">\n     <g id=\"line2d_4\">\n      <g>\n       <use xlink:href=\"#m75817af63e\" x=\"258.419034\" y=\"354.958125\" style=\"stroke: #000000; stroke-width: 0.8\"/>\n      </g>\n     </g>\n     <g id=\"text_4\">\n      <!-- 8 -->\n      <g transform=\"translate(255.237784 369.556562) scale(0.1 -0.1)\">\n       <defs>\n        <path id=\"DejaVuSans-38\" d=\"M 2034 2216 \nQ 1584 2216 1326 1975 \nQ 1069 1734 1069 1313 \nQ 1069 891 1326 650 \nQ 1584 409 2034 409 \nQ 2484 409 2743 651 \nQ 3003 894 3003 1313 \nQ 3003 1734 2745 1975 \nQ 2488 2216 2034 2216 \nz\nM 1403 2484 \nQ 997 2584 770 2862 \nQ 544 3141 544 3541 \nQ 544 4100 942 4425 \nQ 1341 4750 2034 4750 \nQ 2731 4750 3128 4425 \nQ 3525 4100 3525 3541 \nQ 3525 3141 3298 2862 \nQ 3072 2584 2669 2484 \nQ 3125 2378 3379 2068 \nQ 3634 1759 3634 1313 \nQ 3634 634 3220 271 \nQ 2806 -91 2034 -91 \nQ 1263 -91 848 271 \nQ 434 634 434 1313 \nQ 434 1759 690 2068 \nQ 947 2378 1403 2484 \nz\nM 1172 3481 \nQ 1172 3119 1398 2916 \nQ 1625 2713 2034 2713 \nQ 2441 2713 2670 2916 \nQ 2900 3119 2900 3481 \nQ 2900 3844 2670 4047 \nQ 2441 4250 2034 4250 \nQ 1625 4250 1398 4047 \nQ 1172 3844 1172 3481 \nz\n\" transform=\"scale(0.015625)\"/>\n       </defs>\n       <use xlink:href=\"#DejaVuSans-38\"/>\n      </g>\n     </g>\n    </g>\n    <g id=\"xtick_5\">\n     <g id=\"line2d_5\">\n      <g>\n       <use xlink:href=\"#m75817af63e\" x=\"321.828125\" y=\"354.958125\" style=\"stroke: #000000; stroke-width: 0.8\"/>\n      </g>\n     </g>\n     <g id=\"text_5\">\n      <!-- 16 -->\n      <g transform=\"translate(315.465625 369.556562) scale(0.1 -0.1)\">\n       <defs>\n        <path id=\"DejaVuSans-36\" d=\"M 2113 2584 \nQ 1688 2584 1439 2293 \nQ 1191 2003 1191 1497 \nQ 1191 994 1439 701 \nQ 1688 409 2113 409 \nQ 2538 409 2786 701 \nQ 3034 994 3034 1497 \nQ 3034 2003 2786 2293 \nQ 2538 2584 2113 2584 \nz\nM 3366 4563 \nL 3366 3988 \nQ 3128 4100 2886 4159 \nQ 2644 4219 2406 4219 \nQ 1781 4219 1451 3797 \nQ 1122 3375 1075 2522 \nQ 1259 2794 1537 2939 \nQ 1816 3084 2150 3084 \nQ 2853 3084 3261 2657 \nQ 3669 2231 3669 1497 \nQ 3669 778 3244 343 \nQ 2819 -91 2113 -91 \nQ 1303 -91 875 529 \nQ 447 1150 447 2328 \nQ 447 3434 972 4092 \nQ 1497 4750 2381 4750 \nQ 2619 4750 2861 4703 \nQ 3103 4656 3366 4563 \nz\n\" transform=\"scale(0.015625)\"/>\n       </defs>\n       <use xlink:href=\"#DejaVuSans-31\"/>\n       <use xlink:href=\"#DejaVuSans-36\" x=\"63.623047\"/>\n      </g>\n     </g>\n    </g>\n    <g id=\"xtick_6\">\n     <g id=\"line2d_6\">\n      <g>\n       <use xlink:href=\"#m75817af63e\" x=\"385.237216\" y=\"354.958125\" style=\"stroke: #000000; stroke-width: 0.8\"/>\n      </g>\n     </g>\n     <g id=\"text_6\">\n      <!-- 32 -->\n      <g transform=\"translate(378.874716 369.556562) scale(0.1 -0.1)\">\n       <defs>\n        <path id=\"DejaVuSans-33\" d=\"M 2597 2516 \nQ 3050 2419 3304 2112 \nQ 3559 1806 3559 1356 \nQ 3559 666 3084 287 \nQ 2609 -91 1734 -91 \nQ 1441 -91 1130 -33 \nQ 819 25 488 141 \nL 488 750 \nQ 750 597 1062 519 \nQ 1375 441 1716 441 \nQ 2309 441 2620 675 \nQ 2931 909 2931 1356 \nQ 2931 1769 2642 2001 \nQ 2353 2234 1838 2234 \nL 1294 2234 \nL 1294 2753 \nL 1863 2753 \nQ 2328 2753 2575 2939 \nQ 2822 3125 2822 3475 \nQ 2822 3834 2567 4026 \nQ 2313 4219 1838 4219 \nQ 1578 4219 1281 4162 \nQ 984 4106 628 3988 \nL 628 4550 \nQ 988 4650 1302 4700 \nQ 1616 4750 1894 4750 \nQ 2613 4750 3031 4423 \nQ 3450 4097 3450 3541 \nQ 3450 3153 3228 2886 \nQ 3006 2619 2597 2516 \nz\n\" transform=\"scale(0.015625)\"/>\n       </defs>\n       <use xlink:href=\"#DejaVuSans-33\"/>\n       <use xlink:href=\"#DejaVuSans-32\" x=\"63.623047\"/>\n      </g>\n     </g>\n    </g>\n    <g id=\"xtick_7\">\n     <g id=\"line2d_7\">\n      <g>\n       <use xlink:href=\"#m75817af63e\" x=\"448.646307\" y=\"354.958125\" style=\"stroke: #000000; stroke-width: 0.8\"/>\n      </g>\n     </g>\n     <g id=\"text_7\">\n      <!-- 64 -->\n      <g transform=\"translate(442.283807 369.556562) scale(0.1 -0.1)\">\n       <use xlink:href=\"#DejaVuSans-36\"/>\n       <use xlink:href=\"#DejaVuSans-34\" x=\"63.623047\"/>\n      </g>\n     </g>\n    </g>\n    <g id=\"xtick_8\">\n     <g id=\"line2d_8\">\n      <g>\n       <use xlink:href=\"#m75817af63e\" x=\"512.055398\" y=\"354.958125\" style=\"stroke: #000000; stroke-width: 0.8\"/>\n      </g>\n     </g>\n     <g id=\"text_8\">\n      <!-- 128 -->\n      <g transform=\"translate(502.511648 369.556562) scale(0.1 -0.1)\">\n       <use xlink:href=\"#DejaVuSans-31\"/>\n       <use xlink:href=\"#DejaVuSans-32\" x=\"63.623047\"/>\n       <use xlink:href=\"#DejaVuSans-38\" x=\"127.246094\"/>\n      </g>\n     </g>\n    </g>\n    <g id=\"xtick_9\">\n     <g id=\"line2d_9\">\n      <g>\n       <use xlink:href=\"#m75817af63e\" x=\"575.464489\" y=\"354.958125\" style=\"stroke: #000000; stroke-width: 0.8\"/>\n      </g>\n     </g>\n     <g id=\"text_9\">\n      <!-- 256 -->\n      <g transform=\"translate(565.920739 369.556562) scale(0.1 -0.1)\">\n       <defs>\n        <path id=\"DejaVuSans-35\" d=\"M 691 4666 \nL 3169 4666 \nL 3169 4134 \nL 1269 4134 \nL 1269 2991 \nQ 1406 3038 1543 3061 \nQ 1681 3084 1819 3084 \nQ 2600 3084 3056 2656 \nQ 3513 2228 3513 1497 \nQ 3513 744 3044 326 \nQ 2575 -91 1722 -91 \nQ 1428 -91 1123 -41 \nQ 819 9 494 109 \nL 494 744 \nQ 775 591 1075 516 \nQ 1375 441 1709 441 \nQ 2250 441 2565 725 \nQ 2881 1009 2881 1497 \nQ 2881 1984 2565 2268 \nQ 2250 2553 1709 2553 \nQ 1456 2553 1204 2497 \nQ 953 2441 691 2322 \nL 691 4666 \nz\n\" transform=\"scale(0.015625)\"/>\n       </defs>\n       <use xlink:href=\"#DejaVuSans-32\"/>\n       <use xlink:href=\"#DejaVuSans-35\" x=\"63.623047\"/>\n       <use xlink:href=\"#DejaVuSans-36\" x=\"127.246094\"/>\n      </g>\n     </g>\n    </g>\n    <g id=\"xtick_10\">\n     <g id=\"line2d_10\"/>\n    </g>\n    <g id=\"xtick_11\">\n     <g id=\"line2d_11\"/>\n    </g>\n    <g id=\"xtick_12\">\n     <g id=\"line2d_12\"/>\n    </g>\n    <g id=\"xtick_13\">\n     <g id=\"line2d_13\"/>\n    </g>\n    <g id=\"xtick_14\">\n     <g id=\"line2d_14\"/>\n    </g>\n    <g id=\"xtick_15\">\n     <g id=\"line2d_15\"/>\n    </g>\n    <g id=\"xtick_16\">\n     <g id=\"line2d_16\"/>\n    </g>\n    <g id=\"xtick_17\">\n     <g id=\"line2d_17\"/>\n    </g>\n    <g id=\"xtick_18\">\n     <g id=\"line2d_18\"/>\n    </g>\n    <g id=\"xtick_19\">\n     <g id=\"line2d_19\"/>\n    </g>\n    <g id=\"xtick_20\">\n     <g id=\"line2d_20\"/>\n    </g>\n    <g id=\"xtick_21\">\n     <g id=\"line2d_21\"/>\n    </g>\n    <g id=\"xtick_22\">\n     <g id=\"line2d_22\"/>\n    </g>\n    <g id=\"xtick_23\">\n     <g id=\"line2d_23\"/>\n    </g>\n    <g id=\"xtick_24\">\n     <g id=\"line2d_24\"/>\n    </g>\n    <g id=\"xtick_25\">\n     <g id=\"line2d_25\"/>\n    </g>\n    <g id=\"xtick_26\">\n     <g id=\"line2d_26\"/>\n    </g>\n    <g id=\"text_10\">\n     <!-- Alpha -->\n     <g transform=\"translate(307.611719 383.234687) scale(0.1 -0.1)\">\n      <defs>\n       <path id=\"DejaVuSans-41\" d=\"M 2188 4044 \nL 1331 1722 \nL 3047 1722 \nL 2188 4044 \nz\nM 1831 4666 \nL 2547 4666 \nL 4325 0 \nL 3669 0 \nL 3244 1197 \nL 1141 1197 \nL 716 0 \nL 50 0 \nL 1831 4666 \nz\n\" transform=\"scale(0.015625)\"/>\n       <path id=\"DejaVuSans-6c\" d=\"M 603 4863 \nL 1178 4863 \nL 1178 0 \nL 603 0 \nL 603 4863 \nz\n\" transform=\"scale(0.015625)\"/>\n       <path id=\"DejaVuSans-70\" d=\"M 1159 525 \nL 1159 -1331 \nL 581 -1331 \nL 581 3500 \nL 1159 3500 \nL 1159 2969 \nQ 1341 3281 1617 3432 \nQ 1894 3584 2278 3584 \nQ 2916 3584 3314 3078 \nQ 3713 2572 3713 1747 \nQ 3713 922 3314 415 \nQ 2916 -91 2278 -91 \nQ 1894 -91 1617 61 \nQ 1341 213 1159 525 \nz\nM 3116 1747 \nQ 3116 2381 2855 2742 \nQ 2594 3103 2138 3103 \nQ 1681 3103 1420 2742 \nQ 1159 2381 1159 1747 \nQ 1159 1113 1420 752 \nQ 1681 391 2138 391 \nQ 2594 391 2855 752 \nQ 3116 1113 3116 1747 \nz\n\" transform=\"scale(0.015625)\"/>\n       <path id=\"DejaVuSans-68\" d=\"M 3513 2113 \nL 3513 0 \nL 2938 0 \nL 2938 2094 \nQ 2938 2591 2744 2837 \nQ 2550 3084 2163 3084 \nQ 1697 3084 1428 2787 \nQ 1159 2491 1159 1978 \nL 1159 0 \nL 581 0 \nL 581 4863 \nL 1159 4863 \nL 1159 2956 \nQ 1366 3272 1645 3428 \nQ 1925 3584 2291 3584 \nQ 2894 3584 3203 3211 \nQ 3513 2838 3513 2113 \nz\n\" transform=\"scale(0.015625)\"/>\n       <path id=\"DejaVuSans-61\" d=\"M 2194 1759 \nQ 1497 1759 1228 1600 \nQ 959 1441 959 1056 \nQ 959 750 1161 570 \nQ 1363 391 1709 391 \nQ 2188 391 2477 730 \nQ 2766 1069 2766 1631 \nL 2766 1759 \nL 2194 1759 \nz\nM 3341 1997 \nL 3341 0 \nL 2766 0 \nL 2766 531 \nQ 2569 213 2275 61 \nQ 1981 -91 1556 -91 \nQ 1019 -91 701 211 \nQ 384 513 384 1019 \nQ 384 1609 779 1909 \nQ 1175 2209 1959 2209 \nL 2766 2209 \nL 2766 2266 \nQ 2766 2663 2505 2880 \nQ 2244 3097 1772 3097 \nQ 1472 3097 1187 3025 \nQ 903 2953 641 2809 \nL 641 3341 \nQ 956 3463 1253 3523 \nQ 1550 3584 1831 3584 \nQ 2591 3584 2966 3190 \nQ 3341 2797 3341 1997 \nz\n\" transform=\"scale(0.015625)\"/>\n      </defs>\n      <use xlink:href=\"#DejaVuSans-41\"/>\n      <use xlink:href=\"#DejaVuSans-6c\" x=\"68.408203\"/>\n      <use xlink:href=\"#DejaVuSans-70\" x=\"96.191406\"/>\n      <use xlink:href=\"#DejaVuSans-68\" x=\"159.667969\"/>\n      <use xlink:href=\"#DejaVuSans-61\" x=\"223.046875\"/>\n     </g>\n    </g>\n   </g>\n   <g id=\"matplotlib.axis_2\">\n    <g id=\"ytick_1\">\n     <g id=\"line2d_27\">\n      <defs>\n       <path id=\"mc0ce9228e5\" d=\"M 0 0 \nL -3.5 0 \n\" style=\"stroke: #000000; stroke-width: 0.8\"/>\n      </defs>\n      <g>\n       <use xlink:href=\"#mc0ce9228e5\" x=\"42.828125\" y=\"308.464125\" style=\"stroke: #000000; stroke-width: 0.8\"/>\n      </g>\n     </g>\n     <g id=\"text_11\">\n      <!-- 0.035 -->\n      <g transform=\"translate(7.2 312.263344) scale(0.1 -0.1)\">\n       <defs>\n        <path id=\"DejaVuSans-30\" d=\"M 2034 4250 \nQ 1547 4250 1301 3770 \nQ 1056 3291 1056 2328 \nQ 1056 1369 1301 889 \nQ 1547 409 2034 409 \nQ 2525 409 2770 889 \nQ 3016 1369 3016 2328 \nQ 3016 3291 2770 3770 \nQ 2525 4250 2034 4250 \nz\nM 2034 4750 \nQ 2819 4750 3233 4129 \nQ 3647 3509 3647 2328 \nQ 3647 1150 3233 529 \nQ 2819 -91 2034 -91 \nQ 1250 -91 836 529 \nQ 422 1150 422 2328 \nQ 422 3509 836 4129 \nQ 1250 4750 2034 4750 \nz\n\" transform=\"scale(0.015625)\"/>\n        <path id=\"DejaVuSans-2e\" d=\"M 684 794 \nL 1344 794 \nL 1344 0 \nL 684 0 \nL 684 794 \nz\n\" transform=\"scale(0.015625)\"/>\n       </defs>\n       <use xlink:href=\"#DejaVuSans-30\"/>\n       <use xlink:href=\"#DejaVuSans-2e\" x=\"63.623047\"/>\n       <use xlink:href=\"#DejaVuSans-30\" x=\"95.410156\"/>\n       <use xlink:href=\"#DejaVuSans-33\" x=\"159.033203\"/>\n       <use xlink:href=\"#DejaVuSans-35\" x=\"222.65625\"/>\n      </g>\n     </g>\n    </g>\n    <g id=\"ytick_2\">\n     <g id=\"line2d_28\">\n      <g>\n       <use xlink:href=\"#mc0ce9228e5\" x=\"42.828125\" y=\"257.182125\" style=\"stroke: #000000; stroke-width: 0.8\"/>\n      </g>\n     </g>\n     <g id=\"text_12\">\n      <!-- 0.040 -->\n      <g transform=\"translate(7.2 260.981344) scale(0.1 -0.1)\">\n       <use xlink:href=\"#DejaVuSans-30\"/>\n       <use xlink:href=\"#DejaVuSans-2e\" x=\"63.623047\"/>\n       <use xlink:href=\"#DejaVuSans-30\" x=\"95.410156\"/>\n       <use xlink:href=\"#DejaVuSans-34\" x=\"159.033203\"/>\n       <use xlink:href=\"#DejaVuSans-30\" x=\"222.65625\"/>\n      </g>\n     </g>\n    </g>\n    <g id=\"ytick_3\">\n     <g id=\"line2d_29\">\n      <g>\n       <use xlink:href=\"#mc0ce9228e5\" x=\"42.828125\" y=\"205.900125\" style=\"stroke: #000000; stroke-width: 0.8\"/>\n      </g>\n     </g>\n     <g id=\"text_13\">\n      <!-- 0.045 -->\n      <g transform=\"translate(7.2 209.699344) scale(0.1 -0.1)\">\n       <use xlink:href=\"#DejaVuSans-30\"/>\n       <use xlink:href=\"#DejaVuSans-2e\" x=\"63.623047\"/>\n       <use xlink:href=\"#DejaVuSans-30\" x=\"95.410156\"/>\n       <use xlink:href=\"#DejaVuSans-34\" x=\"159.033203\"/>\n       <use xlink:href=\"#DejaVuSans-35\" x=\"222.65625\"/>\n      </g>\n     </g>\n    </g>\n    <g id=\"ytick_4\">\n     <g id=\"line2d_30\">\n      <g>\n       <use xlink:href=\"#mc0ce9228e5\" x=\"42.828125\" y=\"154.618125\" style=\"stroke: #000000; stroke-width: 0.8\"/>\n      </g>\n     </g>\n     <g id=\"text_14\">\n      <!-- 0.050 -->\n      <g transform=\"translate(7.2 158.417344) scale(0.1 -0.1)\">\n       <use xlink:href=\"#DejaVuSans-30\"/>\n       <use xlink:href=\"#DejaVuSans-2e\" x=\"63.623047\"/>\n       <use xlink:href=\"#DejaVuSans-30\" x=\"95.410156\"/>\n       <use xlink:href=\"#DejaVuSans-35\" x=\"159.033203\"/>\n       <use xlink:href=\"#DejaVuSans-30\" x=\"222.65625\"/>\n      </g>\n     </g>\n    </g>\n    <g id=\"ytick_5\">\n     <g id=\"line2d_31\">\n      <g>\n       <use xlink:href=\"#mc0ce9228e5\" x=\"42.828125\" y=\"103.336125\" style=\"stroke: #000000; stroke-width: 0.8\"/>\n      </g>\n     </g>\n     <g id=\"text_15\">\n      <!-- 0.055 -->\n      <g transform=\"translate(7.2 107.135344) scale(0.1 -0.1)\">\n       <use xlink:href=\"#DejaVuSans-30\"/>\n       <use xlink:href=\"#DejaVuSans-2e\" x=\"63.623047\"/>\n       <use xlink:href=\"#DejaVuSans-30\" x=\"95.410156\"/>\n       <use xlink:href=\"#DejaVuSans-35\" x=\"159.033203\"/>\n       <use xlink:href=\"#DejaVuSans-35\" x=\"222.65625\"/>\n      </g>\n     </g>\n    </g>\n    <g id=\"ytick_6\">\n     <g id=\"line2d_32\">\n      <g>\n       <use xlink:href=\"#mc0ce9228e5\" x=\"42.828125\" y=\"52.054125\" style=\"stroke: #000000; stroke-width: 0.8\"/>\n      </g>\n     </g>\n     <g id=\"text_16\">\n      <!-- 0.060 -->\n      <g transform=\"translate(7.2 55.853344) scale(0.1 -0.1)\">\n       <use xlink:href=\"#DejaVuSans-30\"/>\n       <use xlink:href=\"#DejaVuSans-2e\" x=\"63.623047\"/>\n       <use xlink:href=\"#DejaVuSans-30\" x=\"95.410156\"/>\n       <use xlink:href=\"#DejaVuSans-36\" x=\"159.033203\"/>\n       <use xlink:href=\"#DejaVuSans-30\" x=\"222.65625\"/>\n      </g>\n     </g>\n    </g>\n   </g>\n   <g id=\"line2d_33\">\n    <path d=\"M 68.191761 339.838125 \nL 131.600852 314.638125 \nL 195.009943 264.238125 \nL 258.419034 264.238125 \nL 321.828125 264.238125 \nL 385.237216 37.438125 \nL 448.646307 37.438125 \nL 512.055398 37.438125 \nL 575.464489 37.438125 \n\" clip-path=\"url(#p2f27e635ef)\" style=\"fill: none; stroke: #1f77b4; stroke-width: 1.5; stroke-linecap: square\"/>\n   </g>\n   <g id=\"patch_3\">\n    <path d=\"M 42.828125 354.958125 \nL 42.828125 22.318125 \n\" style=\"fill: none; stroke: #000000; stroke-width: 0.8; stroke-linejoin: miter; stroke-linecap: square\"/>\n   </g>\n   <g id=\"patch_4\">\n    <path d=\"M 600.828125 354.958125 \nL 600.828125 22.318125 \n\" style=\"fill: none; stroke: #000000; stroke-width: 0.8; stroke-linejoin: miter; stroke-linecap: square\"/>\n   </g>\n   <g id=\"patch_5\">\n    <path d=\"M 42.828125 354.958125 \nL 600.828125 354.958125 \n\" style=\"fill: none; stroke: #000000; stroke-width: 0.8; stroke-linejoin: miter; stroke-linecap: square\"/>\n   </g>\n   <g id=\"patch_6\">\n    <path d=\"M 42.828125 22.318125 \nL 600.828125 22.318125 \n\" style=\"fill: none; stroke: #000000; stroke-width: 0.8; stroke-linejoin: miter; stroke-linecap: square\"/>\n   </g>\n   <g id=\"text_17\">\n    <!-- HitRate -->\n    <g transform=\"translate(299.541875 16.318125) scale(0.12 -0.12)\">\n     <defs>\n      <path id=\"DejaVuSans-48\" d=\"M 628 4666 \nL 1259 4666 \nL 1259 2753 \nL 3553 2753 \nL 3553 4666 \nL 4184 4666 \nL 4184 0 \nL 3553 0 \nL 3553 2222 \nL 1259 2222 \nL 1259 0 \nL 628 0 \nL 628 4666 \nz\n\" transform=\"scale(0.015625)\"/>\n      <path id=\"DejaVuSans-69\" d=\"M 603 3500 \nL 1178 3500 \nL 1178 0 \nL 603 0 \nL 603 3500 \nz\nM 603 4863 \nL 1178 4863 \nL 1178 4134 \nL 603 4134 \nL 603 4863 \nz\n\" transform=\"scale(0.015625)\"/>\n      <path id=\"DejaVuSans-74\" d=\"M 1172 4494 \nL 1172 3500 \nL 2356 3500 \nL 2356 3053 \nL 1172 3053 \nL 1172 1153 \nQ 1172 725 1289 603 \nQ 1406 481 1766 481 \nL 2356 481 \nL 2356 0 \nL 1766 0 \nQ 1100 0 847 248 \nQ 594 497 594 1153 \nL 594 3053 \nL 172 3053 \nL 172 3500 \nL 594 3500 \nL 594 4494 \nL 1172 4494 \nz\n\" transform=\"scale(0.015625)\"/>\n      <path id=\"DejaVuSans-52\" d=\"M 2841 2188 \nQ 3044 2119 3236 1894 \nQ 3428 1669 3622 1275 \nL 4263 0 \nL 3584 0 \nL 2988 1197 \nQ 2756 1666 2539 1819 \nQ 2322 1972 1947 1972 \nL 1259 1972 \nL 1259 0 \nL 628 0 \nL 628 4666 \nL 2053 4666 \nQ 2853 4666 3247 4331 \nQ 3641 3997 3641 3322 \nQ 3641 2881 3436 2590 \nQ 3231 2300 2841 2188 \nz\nM 1259 4147 \nL 1259 2491 \nL 2053 2491 \nQ 2509 2491 2742 2702 \nQ 2975 2913 2975 3322 \nQ 2975 3731 2742 3939 \nQ 2509 4147 2053 4147 \nL 1259 4147 \nz\n\" transform=\"scale(0.015625)\"/>\n      <path id=\"DejaVuSans-65\" d=\"M 3597 1894 \nL 3597 1613 \nL 953 1613 \nQ 991 1019 1311 708 \nQ 1631 397 2203 397 \nQ 2534 397 2845 478 \nQ 3156 559 3463 722 \nL 3463 178 \nQ 3153 47 2828 -22 \nQ 2503 -91 2169 -91 \nQ 1331 -91 842 396 \nQ 353 884 353 1716 \nQ 353 2575 817 3079 \nQ 1281 3584 2069 3584 \nQ 2775 3584 3186 3129 \nQ 3597 2675 3597 1894 \nz\nM 3022 2063 \nQ 3016 2534 2758 2815 \nQ 2500 3097 2075 3097 \nQ 1594 3097 1305 2825 \nQ 1016 2553 972 2059 \nL 3022 2063 \nz\n\" transform=\"scale(0.015625)\"/>\n     </defs>\n     <use xlink:href=\"#DejaVuSans-48\"/>\n     <use xlink:href=\"#DejaVuSans-69\" x=\"75.195312\"/>\n     <use xlink:href=\"#DejaVuSans-74\" x=\"102.978516\"/>\n     <use xlink:href=\"#DejaVuSans-52\" x=\"142.1875\"/>\n     <use xlink:href=\"#DejaVuSans-61\" x=\"209.419922\"/>\n     <use xlink:href=\"#DejaVuSans-74\" x=\"270.699219\"/>\n     <use xlink:href=\"#DejaVuSans-65\" x=\"309.908203\"/>\n    </g>\n   </g>\n  </g>\n </g>\n <defs>\n  <clipPath id=\"p2f27e635ef\">\n   <rect x=\"42.828125\" y=\"22.318125\" width=\"558\" height=\"332.64\"/>\n  </clipPath>\n </defs>\n</svg>\n",
      "text/plain": [
       "<Figure size 1000x600 with 1 Axes>"
      ]
     },
     "metadata": {},
     "output_type": "display_data"
    }
   ],
   "source": [
    "plt.plot(popular_results[\"alpha\"], popular_results[\"metric\"])\n",
    "plt.xscale(\"log\")\n",
    "plt.xticks(popular_results[\"alpha\"], popular_results[\"alpha\"])\n",
    "plt.tick_params(which=\"minor\", size=0)\n",
    "plt.title(\"HitRate\")\n",
    "plt.xlabel(\"Alpha\")\n",
    "\n",
    "plt.show()"
   ]
  },
  {
   "cell_type": "markdown",
   "id": "1320c36e-b66e-492b-a8e4-074c778a79e2",
   "metadata": {},
   "source": [
    "## Pure SVD"
   ]
  },
  {
   "cell_type": "code",
   "execution_count": 14,
   "id": "0afb6289-a346-4c88-80c1-b29f06036a0a",
   "metadata": {},
   "outputs": [],
   "source": [
    "from pure_svd import build_svd_model, svd_scoring, svd_gridsearch"
   ]
  },
  {
   "cell_type": "code",
   "execution_count": 15,
   "id": "6a53bdc0-9f85-4107-80da-ecf2e49a6ed2",
   "metadata": {},
   "outputs": [
    {
     "data": {
      "text/plain": [
       "[2, 3, 4, 6, 8, 12, 16, 24, 32, 48, 64, 96, 128, 192]"
      ]
     },
     "execution_count": 15,
     "metadata": {},
     "output_type": "execute_result"
    }
   ],
   "source": [
    "ranks = [b * 2 ** p for p in range(0, 7) for b in [2, 3]]\n",
    "ranks"
   ]
  },
  {
   "cell_type": "code",
   "execution_count": 16,
   "id": "a3714f42-5b5d-4395-abf4-bcbdccc8394e",
   "metadata": {},
   "outputs": [
    {
     "name": "stdout",
     "output_type": "stream",
     "text": [
      "Interaction matrix shape: (4662, 3630)\n",
      "Matrix density: 0.03611007701916793\n"
     ]
    }
   ],
   "source": [
    "results = svd_gridsearch(ranks, trainval, testval, holdoutval, data_description, topn)\n",
    "\n",
    "results = pd.DataFrame(results)"
   ]
  },
  {
   "cell_type": "code",
   "execution_count": 17,
   "id": "162af01d-d769-491c-9cf8-97e91aa1dec1",
   "metadata": {},
   "outputs": [
    {
     "data": {
      "image/svg+xml": "<?xml version=\"1.0\" encoding=\"utf-8\" standalone=\"no\"?>\n<!DOCTYPE svg PUBLIC \"-//W3C//DTD SVG 1.1//EN\"\n  \"http://www.w3.org/Graphics/SVG/1.1/DTD/svg11.dtd\">\n<svg xmlns:xlink=\"http://www.w3.org/1999/xlink\" width=\"601.665625pt\" height=\"392.514375pt\" viewBox=\"0 0 601.665625 392.514375\" xmlns=\"http://www.w3.org/2000/svg\" version=\"1.1\">\n <metadata>\n  <rdf:RDF xmlns:dc=\"http://purl.org/dc/elements/1.1/\" xmlns:cc=\"http://creativecommons.org/ns#\" xmlns:rdf=\"http://www.w3.org/1999/02/22-rdf-syntax-ns#\">\n   <cc:Work>\n    <dc:type rdf:resource=\"http://purl.org/dc/dcmitype/StillImage\"/>\n    <dc:date>2023-03-24T00:30:04.097138</dc:date>\n    <dc:format>image/svg+xml</dc:format>\n    <dc:creator>\n     <cc:Agent>\n      <dc:title>Matplotlib v3.7.1, https://matplotlib.org/</dc:title>\n     </cc:Agent>\n    </dc:creator>\n   </cc:Work>\n  </rdf:RDF>\n </metadata>\n <defs>\n  <style type=\"text/css\">*{stroke-linejoin: round; stroke-linecap: butt}</style>\n </defs>\n <g id=\"figure_1\">\n  <g id=\"patch_1\">\n   <path d=\"M 0 392.514375 \nL 601.665625 392.514375 \nL 601.665625 0 \nL 0 0 \nz\n\" style=\"fill: #ffffff\"/>\n  </g>\n  <g id=\"axes_1\">\n   <g id=\"patch_2\">\n    <path d=\"M 36.465625 354.958125 \nL 594.465625 354.958125 \nL 594.465625 22.318125 \nL 36.465625 22.318125 \nz\n\" style=\"fill: #ffffff\"/>\n   </g>\n   <g id=\"matplotlib.axis_1\">\n    <g id=\"xtick_1\">\n     <g id=\"line2d_1\">\n      <defs>\n       <path id=\"m721eb9a72e\" d=\"M 0 0 \nL 0 3.5 \n\" style=\"stroke: #000000; stroke-width: 0.8\"/>\n      </defs>\n      <g>\n       <use xlink:href=\"#m721eb9a72e\" x=\"61.829261\" y=\"354.958125\" style=\"stroke: #000000; stroke-width: 0.8\"/>\n      </g>\n     </g>\n     <g id=\"text_1\">\n      <!-- 2 -->\n      <g transform=\"translate(58.648011 369.556562) scale(0.1 -0.1)\">\n       <defs>\n        <path id=\"DejaVuSans-32\" d=\"M 1228 531 \nL 3431 531 \nL 3431 0 \nL 469 0 \nL 469 531 \nQ 828 903 1448 1529 \nQ 2069 2156 2228 2338 \nQ 2531 2678 2651 2914 \nQ 2772 3150 2772 3378 \nQ 2772 3750 2511 3984 \nQ 2250 4219 1831 4219 \nQ 1534 4219 1204 4116 \nQ 875 4013 500 3803 \nL 500 4441 \nQ 881 4594 1212 4672 \nQ 1544 4750 1819 4750 \nQ 2544 4750 2975 4387 \nQ 3406 4025 3406 3419 \nQ 3406 3131 3298 2873 \nQ 3191 2616 2906 2266 \nQ 2828 2175 2409 1742 \nQ 1991 1309 1228 531 \nz\n\" transform=\"scale(0.015625)\"/>\n       </defs>\n       <use xlink:href=\"#DejaVuSans-32\"/>\n      </g>\n     </g>\n    </g>\n    <g id=\"xtick_2\">\n     <g id=\"line2d_2\">\n      <g>\n       <use xlink:href=\"#m721eb9a72e\" x=\"106.89186\" y=\"354.958125\" style=\"stroke: #000000; stroke-width: 0.8\"/>\n      </g>\n     </g>\n     <g id=\"text_2\">\n      <!-- 3 -->\n      <g transform=\"translate(103.71061 369.556562) scale(0.1 -0.1)\">\n       <defs>\n        <path id=\"DejaVuSans-33\" d=\"M 2597 2516 \nQ 3050 2419 3304 2112 \nQ 3559 1806 3559 1356 \nQ 3559 666 3084 287 \nQ 2609 -91 1734 -91 \nQ 1441 -91 1130 -33 \nQ 819 25 488 141 \nL 488 750 \nQ 750 597 1062 519 \nQ 1375 441 1716 441 \nQ 2309 441 2620 675 \nQ 2931 909 2931 1356 \nQ 2931 1769 2642 2001 \nQ 2353 2234 1838 2234 \nL 1294 2234 \nL 1294 2753 \nL 1863 2753 \nQ 2328 2753 2575 2939 \nQ 2822 3125 2822 3475 \nQ 2822 3834 2567 4026 \nQ 2313 4219 1838 4219 \nQ 1578 4219 1281 4162 \nQ 984 4106 628 3988 \nL 628 4550 \nQ 988 4650 1302 4700 \nQ 1616 4750 1894 4750 \nQ 2613 4750 3031 4423 \nQ 3450 4097 3450 3541 \nQ 3450 3153 3228 2886 \nQ 3006 2619 2597 2516 \nz\n\" transform=\"scale(0.015625)\"/>\n       </defs>\n       <use xlink:href=\"#DejaVuSans-33\"/>\n      </g>\n     </g>\n    </g>\n    <g id=\"xtick_3\">\n     <g id=\"line2d_3\">\n      <g>\n       <use xlink:href=\"#m721eb9a72e\" x=\"138.864283\" y=\"354.958125\" style=\"stroke: #000000; stroke-width: 0.8\"/>\n      </g>\n     </g>\n     <g id=\"text_3\">\n      <!-- 4 -->\n      <g transform=\"translate(135.683033 369.556562) scale(0.1 -0.1)\">\n       <defs>\n        <path id=\"DejaVuSans-34\" d=\"M 2419 4116 \nL 825 1625 \nL 2419 1625 \nL 2419 4116 \nz\nM 2253 4666 \nL 3047 4666 \nL 3047 1625 \nL 3713 1625 \nL 3713 1100 \nL 3047 1100 \nL 3047 0 \nL 2419 0 \nL 2419 1100 \nL 313 1100 \nL 313 1709 \nL 2253 4666 \nz\n\" transform=\"scale(0.015625)\"/>\n       </defs>\n       <use xlink:href=\"#DejaVuSans-34\"/>\n      </g>\n     </g>\n    </g>\n    <g id=\"xtick_4\">\n     <g id=\"line2d_4\">\n      <g>\n       <use xlink:href=\"#m721eb9a72e\" x=\"183.926882\" y=\"354.958125\" style=\"stroke: #000000; stroke-width: 0.8\"/>\n      </g>\n     </g>\n     <g id=\"text_4\">\n      <!-- 6 -->\n      <g transform=\"translate(180.745632 369.556562) scale(0.1 -0.1)\">\n       <defs>\n        <path id=\"DejaVuSans-36\" d=\"M 2113 2584 \nQ 1688 2584 1439 2293 \nQ 1191 2003 1191 1497 \nQ 1191 994 1439 701 \nQ 1688 409 2113 409 \nQ 2538 409 2786 701 \nQ 3034 994 3034 1497 \nQ 3034 2003 2786 2293 \nQ 2538 2584 2113 2584 \nz\nM 3366 4563 \nL 3366 3988 \nQ 3128 4100 2886 4159 \nQ 2644 4219 2406 4219 \nQ 1781 4219 1451 3797 \nQ 1122 3375 1075 2522 \nQ 1259 2794 1537 2939 \nQ 1816 3084 2150 3084 \nQ 2853 3084 3261 2657 \nQ 3669 2231 3669 1497 \nQ 3669 778 3244 343 \nQ 2819 -91 2113 -91 \nQ 1303 -91 875 529 \nQ 447 1150 447 2328 \nQ 447 3434 972 4092 \nQ 1497 4750 2381 4750 \nQ 2619 4750 2861 4703 \nQ 3103 4656 3366 4563 \nz\n\" transform=\"scale(0.015625)\"/>\n       </defs>\n       <use xlink:href=\"#DejaVuSans-36\"/>\n      </g>\n     </g>\n    </g>\n    <g id=\"xtick_5\">\n     <g id=\"line2d_5\">\n      <g>\n       <use xlink:href=\"#m721eb9a72e\" x=\"215.899304\" y=\"354.958125\" style=\"stroke: #000000; stroke-width: 0.8\"/>\n      </g>\n     </g>\n     <g id=\"text_5\">\n      <!-- 8 -->\n      <g transform=\"translate(212.718054 369.556562) scale(0.1 -0.1)\">\n       <defs>\n        <path id=\"DejaVuSans-38\" d=\"M 2034 2216 \nQ 1584 2216 1326 1975 \nQ 1069 1734 1069 1313 \nQ 1069 891 1326 650 \nQ 1584 409 2034 409 \nQ 2484 409 2743 651 \nQ 3003 894 3003 1313 \nQ 3003 1734 2745 1975 \nQ 2488 2216 2034 2216 \nz\nM 1403 2484 \nQ 997 2584 770 2862 \nQ 544 3141 544 3541 \nQ 544 4100 942 4425 \nQ 1341 4750 2034 4750 \nQ 2731 4750 3128 4425 \nQ 3525 4100 3525 3541 \nQ 3525 3141 3298 2862 \nQ 3072 2584 2669 2484 \nQ 3125 2378 3379 2068 \nQ 3634 1759 3634 1313 \nQ 3634 634 3220 271 \nQ 2806 -91 2034 -91 \nQ 1263 -91 848 271 \nQ 434 634 434 1313 \nQ 434 1759 690 2068 \nQ 947 2378 1403 2484 \nz\nM 1172 3481 \nQ 1172 3119 1398 2916 \nQ 1625 2713 2034 2713 \nQ 2441 2713 2670 2916 \nQ 2900 3119 2900 3481 \nQ 2900 3844 2670 4047 \nQ 2441 4250 2034 4250 \nQ 1625 4250 1398 4047 \nQ 1172 3844 1172 3481 \nz\n\" transform=\"scale(0.015625)\"/>\n       </defs>\n       <use xlink:href=\"#DejaVuSans-38\"/>\n      </g>\n     </g>\n    </g>\n    <g id=\"xtick_6\">\n     <g id=\"line2d_6\">\n      <g>\n       <use xlink:href=\"#m721eb9a72e\" x=\"260.961903\" y=\"354.958125\" style=\"stroke: #000000; stroke-width: 0.8\"/>\n      </g>\n     </g>\n     <g id=\"text_6\">\n      <!-- 12 -->\n      <g transform=\"translate(254.599403 369.556562) scale(0.1 -0.1)\">\n       <defs>\n        <path id=\"DejaVuSans-31\" d=\"M 794 531 \nL 1825 531 \nL 1825 4091 \nL 703 3866 \nL 703 4441 \nL 1819 4666 \nL 2450 4666 \nL 2450 531 \nL 3481 531 \nL 3481 0 \nL 794 0 \nL 794 531 \nz\n\" transform=\"scale(0.015625)\"/>\n       </defs>\n       <use xlink:href=\"#DejaVuSans-31\"/>\n       <use xlink:href=\"#DejaVuSans-32\" x=\"63.623047\"/>\n      </g>\n     </g>\n    </g>\n    <g id=\"xtick_7\">\n     <g id=\"line2d_7\">\n      <g>\n       <use xlink:href=\"#m721eb9a72e\" x=\"292.934326\" y=\"354.958125\" style=\"stroke: #000000; stroke-width: 0.8\"/>\n      </g>\n     </g>\n     <g id=\"text_7\">\n      <!-- 16 -->\n      <g transform=\"translate(286.571826 369.556562) scale(0.1 -0.1)\">\n       <use xlink:href=\"#DejaVuSans-31\"/>\n       <use xlink:href=\"#DejaVuSans-36\" x=\"63.623047\"/>\n      </g>\n     </g>\n    </g>\n    <g id=\"xtick_8\">\n     <g id=\"line2d_8\">\n      <g>\n       <use xlink:href=\"#m721eb9a72e\" x=\"337.996924\" y=\"354.958125\" style=\"stroke: #000000; stroke-width: 0.8\"/>\n      </g>\n     </g>\n     <g id=\"text_8\">\n      <!-- 24 -->\n      <g transform=\"translate(331.634424 369.556562) scale(0.1 -0.1)\">\n       <use xlink:href=\"#DejaVuSans-32\"/>\n       <use xlink:href=\"#DejaVuSans-34\" x=\"63.623047\"/>\n      </g>\n     </g>\n    </g>\n    <g id=\"xtick_9\">\n     <g id=\"line2d_9\">\n      <g>\n       <use xlink:href=\"#m721eb9a72e\" x=\"369.969347\" y=\"354.958125\" style=\"stroke: #000000; stroke-width: 0.8\"/>\n      </g>\n     </g>\n     <g id=\"text_9\">\n      <!-- 32 -->\n      <g transform=\"translate(363.606847 369.556562) scale(0.1 -0.1)\">\n       <use xlink:href=\"#DejaVuSans-33\"/>\n       <use xlink:href=\"#DejaVuSans-32\" x=\"63.623047\"/>\n      </g>\n     </g>\n    </g>\n    <g id=\"xtick_10\">\n     <g id=\"line2d_10\">\n      <g>\n       <use xlink:href=\"#m721eb9a72e\" x=\"415.031946\" y=\"354.958125\" style=\"stroke: #000000; stroke-width: 0.8\"/>\n      </g>\n     </g>\n     <g id=\"text_10\">\n      <!-- 48 -->\n      <g transform=\"translate(408.669446 369.556562) scale(0.1 -0.1)\">\n       <use xlink:href=\"#DejaVuSans-34\"/>\n       <use xlink:href=\"#DejaVuSans-38\" x=\"63.623047\"/>\n      </g>\n     </g>\n    </g>\n    <g id=\"xtick_11\">\n     <g id=\"line2d_11\">\n      <g>\n       <use xlink:href=\"#m721eb9a72e\" x=\"447.004368\" y=\"354.958125\" style=\"stroke: #000000; stroke-width: 0.8\"/>\n      </g>\n     </g>\n     <g id=\"text_11\">\n      <!-- 64 -->\n      <g transform=\"translate(440.641868 369.556562) scale(0.1 -0.1)\">\n       <use xlink:href=\"#DejaVuSans-36\"/>\n       <use xlink:href=\"#DejaVuSans-34\" x=\"63.623047\"/>\n      </g>\n     </g>\n    </g>\n    <g id=\"xtick_12\">\n     <g id=\"line2d_12\">\n      <g>\n       <use xlink:href=\"#m721eb9a72e\" x=\"492.066967\" y=\"354.958125\" style=\"stroke: #000000; stroke-width: 0.8\"/>\n      </g>\n     </g>\n     <g id=\"text_12\">\n      <!-- 96 -->\n      <g transform=\"translate(485.704467 369.556562) scale(0.1 -0.1)\">\n       <defs>\n        <path id=\"DejaVuSans-39\" d=\"M 703 97 \nL 703 672 \nQ 941 559 1184 500 \nQ 1428 441 1663 441 \nQ 2288 441 2617 861 \nQ 2947 1281 2994 2138 \nQ 2813 1869 2534 1725 \nQ 2256 1581 1919 1581 \nQ 1219 1581 811 2004 \nQ 403 2428 403 3163 \nQ 403 3881 828 4315 \nQ 1253 4750 1959 4750 \nQ 2769 4750 3195 4129 \nQ 3622 3509 3622 2328 \nQ 3622 1225 3098 567 \nQ 2575 -91 1691 -91 \nQ 1453 -91 1209 -44 \nQ 966 3 703 97 \nz\nM 1959 2075 \nQ 2384 2075 2632 2365 \nQ 2881 2656 2881 3163 \nQ 2881 3666 2632 3958 \nQ 2384 4250 1959 4250 \nQ 1534 4250 1286 3958 \nQ 1038 3666 1038 3163 \nQ 1038 2656 1286 2365 \nQ 1534 2075 1959 2075 \nz\n\" transform=\"scale(0.015625)\"/>\n       </defs>\n       <use xlink:href=\"#DejaVuSans-39\"/>\n       <use xlink:href=\"#DejaVuSans-36\" x=\"63.623047\"/>\n      </g>\n     </g>\n    </g>\n    <g id=\"xtick_13\">\n     <g id=\"line2d_13\">\n      <g>\n       <use xlink:href=\"#m721eb9a72e\" x=\"524.03939\" y=\"354.958125\" style=\"stroke: #000000; stroke-width: 0.8\"/>\n      </g>\n     </g>\n     <g id=\"text_13\">\n      <!-- 128 -->\n      <g transform=\"translate(514.49564 369.556562) scale(0.1 -0.1)\">\n       <use xlink:href=\"#DejaVuSans-31\"/>\n       <use xlink:href=\"#DejaVuSans-32\" x=\"63.623047\"/>\n       <use xlink:href=\"#DejaVuSans-38\" x=\"127.246094\"/>\n      </g>\n     </g>\n    </g>\n    <g id=\"xtick_14\">\n     <g id=\"line2d_14\">\n      <g>\n       <use xlink:href=\"#m721eb9a72e\" x=\"569.101989\" y=\"354.958125\" style=\"stroke: #000000; stroke-width: 0.8\"/>\n      </g>\n     </g>\n     <g id=\"text_14\">\n      <!-- 192 -->\n      <g transform=\"translate(559.558239 369.556562) scale(0.1 -0.1)\">\n       <use xlink:href=\"#DejaVuSans-31\"/>\n       <use xlink:href=\"#DejaVuSans-39\" x=\"63.623047\"/>\n       <use xlink:href=\"#DejaVuSans-32\" x=\"127.246094\"/>\n      </g>\n     </g>\n    </g>\n    <g id=\"xtick_15\">\n     <g id=\"line2d_15\"/>\n    </g>\n    <g id=\"xtick_16\">\n     <g id=\"line2d_16\"/>\n    </g>\n    <g id=\"xtick_17\">\n     <g id=\"line2d_17\"/>\n    </g>\n    <g id=\"xtick_18\">\n     <g id=\"line2d_18\"/>\n    </g>\n    <g id=\"xtick_19\">\n     <g id=\"line2d_19\"/>\n    </g>\n    <g id=\"xtick_20\">\n     <g id=\"line2d_20\"/>\n    </g>\n    <g id=\"xtick_21\">\n     <g id=\"line2d_21\"/>\n    </g>\n    <g id=\"xtick_22\">\n     <g id=\"line2d_22\"/>\n    </g>\n    <g id=\"xtick_23\">\n     <g id=\"line2d_23\"/>\n    </g>\n    <g id=\"xtick_24\">\n     <g id=\"line2d_24\"/>\n    </g>\n    <g id=\"xtick_25\">\n     <g id=\"line2d_25\"/>\n    </g>\n    <g id=\"xtick_26\">\n     <g id=\"line2d_26\"/>\n    </g>\n    <g id=\"text_15\">\n     <!-- Rank -->\n     <g transform=\"translate(302.975781 383.234687) scale(0.1 -0.1)\">\n      <defs>\n       <path id=\"DejaVuSans-52\" d=\"M 2841 2188 \nQ 3044 2119 3236 1894 \nQ 3428 1669 3622 1275 \nL 4263 0 \nL 3584 0 \nL 2988 1197 \nQ 2756 1666 2539 1819 \nQ 2322 1972 1947 1972 \nL 1259 1972 \nL 1259 0 \nL 628 0 \nL 628 4666 \nL 2053 4666 \nQ 2853 4666 3247 4331 \nQ 3641 3997 3641 3322 \nQ 3641 2881 3436 2590 \nQ 3231 2300 2841 2188 \nz\nM 1259 4147 \nL 1259 2491 \nL 2053 2491 \nQ 2509 2491 2742 2702 \nQ 2975 2913 2975 3322 \nQ 2975 3731 2742 3939 \nQ 2509 4147 2053 4147 \nL 1259 4147 \nz\n\" transform=\"scale(0.015625)\"/>\n       <path id=\"DejaVuSans-61\" d=\"M 2194 1759 \nQ 1497 1759 1228 1600 \nQ 959 1441 959 1056 \nQ 959 750 1161 570 \nQ 1363 391 1709 391 \nQ 2188 391 2477 730 \nQ 2766 1069 2766 1631 \nL 2766 1759 \nL 2194 1759 \nz\nM 3341 1997 \nL 3341 0 \nL 2766 0 \nL 2766 531 \nQ 2569 213 2275 61 \nQ 1981 -91 1556 -91 \nQ 1019 -91 701 211 \nQ 384 513 384 1019 \nQ 384 1609 779 1909 \nQ 1175 2209 1959 2209 \nL 2766 2209 \nL 2766 2266 \nQ 2766 2663 2505 2880 \nQ 2244 3097 1772 3097 \nQ 1472 3097 1187 3025 \nQ 903 2953 641 2809 \nL 641 3341 \nQ 956 3463 1253 3523 \nQ 1550 3584 1831 3584 \nQ 2591 3584 2966 3190 \nQ 3341 2797 3341 1997 \nz\n\" transform=\"scale(0.015625)\"/>\n       <path id=\"DejaVuSans-6e\" d=\"M 3513 2113 \nL 3513 0 \nL 2938 0 \nL 2938 2094 \nQ 2938 2591 2744 2837 \nQ 2550 3084 2163 3084 \nQ 1697 3084 1428 2787 \nQ 1159 2491 1159 1978 \nL 1159 0 \nL 581 0 \nL 581 3500 \nL 1159 3500 \nL 1159 2956 \nQ 1366 3272 1645 3428 \nQ 1925 3584 2291 3584 \nQ 2894 3584 3203 3211 \nQ 3513 2838 3513 2113 \nz\n\" transform=\"scale(0.015625)\"/>\n       <path id=\"DejaVuSans-6b\" d=\"M 581 4863 \nL 1159 4863 \nL 1159 1991 \nL 2875 3500 \nL 3609 3500 \nL 1753 1863 \nL 3688 0 \nL 2938 0 \nL 1159 1709 \nL 1159 0 \nL 581 0 \nL 581 4863 \nz\n\" transform=\"scale(0.015625)\"/>\n      </defs>\n      <use xlink:href=\"#DejaVuSans-52\"/>\n      <use xlink:href=\"#DejaVuSans-61\" x=\"67.232422\"/>\n      <use xlink:href=\"#DejaVuSans-6e\" x=\"128.511719\"/>\n      <use xlink:href=\"#DejaVuSans-6b\" x=\"191.890625\"/>\n     </g>\n    </g>\n   </g>\n   <g id=\"matplotlib.axis_2\">\n    <g id=\"ytick_1\">\n     <g id=\"line2d_27\">\n      <defs>\n       <path id=\"m910394f0ec\" d=\"M 0 0 \nL -3.5 0 \n\" style=\"stroke: #000000; stroke-width: 0.8\"/>\n      </defs>\n      <g>\n       <use xlink:href=\"#m910394f0ec\" x=\"36.465625\" y=\"344.923943\" style=\"stroke: #000000; stroke-width: 0.8\"/>\n      </g>\n     </g>\n     <g id=\"text_16\">\n      <!-- 0.09 -->\n      <g transform=\"translate(7.2 348.723162) scale(0.1 -0.1)\">\n       <defs>\n        <path id=\"DejaVuSans-30\" d=\"M 2034 4250 \nQ 1547 4250 1301 3770 \nQ 1056 3291 1056 2328 \nQ 1056 1369 1301 889 \nQ 1547 409 2034 409 \nQ 2525 409 2770 889 \nQ 3016 1369 3016 2328 \nQ 3016 3291 2770 3770 \nQ 2525 4250 2034 4250 \nz\nM 2034 4750 \nQ 2819 4750 3233 4129 \nQ 3647 3509 3647 2328 \nQ 3647 1150 3233 529 \nQ 2819 -91 2034 -91 \nQ 1250 -91 836 529 \nQ 422 1150 422 2328 \nQ 422 3509 836 4129 \nQ 1250 4750 2034 4750 \nz\n\" transform=\"scale(0.015625)\"/>\n        <path id=\"DejaVuSans-2e\" d=\"M 684 794 \nL 1344 794 \nL 1344 0 \nL 684 0 \nL 684 794 \nz\n\" transform=\"scale(0.015625)\"/>\n       </defs>\n       <use xlink:href=\"#DejaVuSans-30\"/>\n       <use xlink:href=\"#DejaVuSans-2e\" x=\"63.623047\"/>\n       <use xlink:href=\"#DejaVuSans-30\" x=\"95.410156\"/>\n       <use xlink:href=\"#DejaVuSans-39\" x=\"159.033203\"/>\n      </g>\n     </g>\n    </g>\n    <g id=\"ytick_2\">\n     <g id=\"line2d_28\">\n      <g>\n       <use xlink:href=\"#m910394f0ec\" x=\"36.465625\" y=\"288.979943\" style=\"stroke: #000000; stroke-width: 0.8\"/>\n      </g>\n     </g>\n     <g id=\"text_17\">\n      <!-- 0.10 -->\n      <g transform=\"translate(7.2 292.779162) scale(0.1 -0.1)\">\n       <use xlink:href=\"#DejaVuSans-30\"/>\n       <use xlink:href=\"#DejaVuSans-2e\" x=\"63.623047\"/>\n       <use xlink:href=\"#DejaVuSans-31\" x=\"95.410156\"/>\n       <use xlink:href=\"#DejaVuSans-30\" x=\"159.033203\"/>\n      </g>\n     </g>\n    </g>\n    <g id=\"ytick_3\">\n     <g id=\"line2d_29\">\n      <g>\n       <use xlink:href=\"#m910394f0ec\" x=\"36.465625\" y=\"233.035943\" style=\"stroke: #000000; stroke-width: 0.8\"/>\n      </g>\n     </g>\n     <g id=\"text_18\">\n      <!-- 0.11 -->\n      <g transform=\"translate(7.2 236.835162) scale(0.1 -0.1)\">\n       <use xlink:href=\"#DejaVuSans-30\"/>\n       <use xlink:href=\"#DejaVuSans-2e\" x=\"63.623047\"/>\n       <use xlink:href=\"#DejaVuSans-31\" x=\"95.410156\"/>\n       <use xlink:href=\"#DejaVuSans-31\" x=\"159.033203\"/>\n      </g>\n     </g>\n    </g>\n    <g id=\"ytick_4\">\n     <g id=\"line2d_30\">\n      <g>\n       <use xlink:href=\"#m910394f0ec\" x=\"36.465625\" y=\"177.091943\" style=\"stroke: #000000; stroke-width: 0.8\"/>\n      </g>\n     </g>\n     <g id=\"text_19\">\n      <!-- 0.12 -->\n      <g transform=\"translate(7.2 180.891162) scale(0.1 -0.1)\">\n       <use xlink:href=\"#DejaVuSans-30\"/>\n       <use xlink:href=\"#DejaVuSans-2e\" x=\"63.623047\"/>\n       <use xlink:href=\"#DejaVuSans-31\" x=\"95.410156\"/>\n       <use xlink:href=\"#DejaVuSans-32\" x=\"159.033203\"/>\n      </g>\n     </g>\n    </g>\n    <g id=\"ytick_5\">\n     <g id=\"line2d_31\">\n      <g>\n       <use xlink:href=\"#m910394f0ec\" x=\"36.465625\" y=\"121.147943\" style=\"stroke: #000000; stroke-width: 0.8\"/>\n      </g>\n     </g>\n     <g id=\"text_20\">\n      <!-- 0.13 -->\n      <g transform=\"translate(7.2 124.947162) scale(0.1 -0.1)\">\n       <use xlink:href=\"#DejaVuSans-30\"/>\n       <use xlink:href=\"#DejaVuSans-2e\" x=\"63.623047\"/>\n       <use xlink:href=\"#DejaVuSans-31\" x=\"95.410156\"/>\n       <use xlink:href=\"#DejaVuSans-33\" x=\"159.033203\"/>\n      </g>\n     </g>\n    </g>\n    <g id=\"ytick_6\">\n     <g id=\"line2d_32\">\n      <g>\n       <use xlink:href=\"#m910394f0ec\" x=\"36.465625\" y=\"65.203943\" style=\"stroke: #000000; stroke-width: 0.8\"/>\n      </g>\n     </g>\n     <g id=\"text_21\">\n      <!-- 0.14 -->\n      <g transform=\"translate(7.2 69.003162) scale(0.1 -0.1)\">\n       <use xlink:href=\"#DejaVuSans-30\"/>\n       <use xlink:href=\"#DejaVuSans-2e\" x=\"63.623047\"/>\n       <use xlink:href=\"#DejaVuSans-31\" x=\"95.410156\"/>\n       <use xlink:href=\"#DejaVuSans-34\" x=\"159.033203\"/>\n      </g>\n     </g>\n    </g>\n   </g>\n   <g id=\"line2d_33\">\n    <path d=\"M 61.829261 271.110852 \nL 106.89186 202.38358 \nL 138.864283 37.438125 \nL 183.926882 37.438125 \nL 215.899304 133.656307 \nL 260.961903 133.656307 \nL 292.934326 92.419943 \nL 337.996924 161.147216 \nL 369.969347 106.165398 \nL 415.031946 133.656307 \nL 447.004368 119.910852 \nL 492.066967 298.601761 \nL 524.03939 271.110852 \nL 569.101989 339.838125 \n\" clip-path=\"url(#p9fcf47db5b)\" style=\"fill: none; stroke: #1f77b4; stroke-width: 1.5; stroke-linecap: square\"/>\n   </g>\n   <g id=\"patch_3\">\n    <path d=\"M 36.465625 354.958125 \nL 36.465625 22.318125 \n\" style=\"fill: none; stroke: #000000; stroke-width: 0.8; stroke-linejoin: miter; stroke-linecap: square\"/>\n   </g>\n   <g id=\"patch_4\">\n    <path d=\"M 594.465625 354.958125 \nL 594.465625 22.318125 \n\" style=\"fill: none; stroke: #000000; stroke-width: 0.8; stroke-linejoin: miter; stroke-linecap: square\"/>\n   </g>\n   <g id=\"patch_5\">\n    <path d=\"M 36.465625 354.958125 \nL 594.465625 354.958125 \n\" style=\"fill: none; stroke: #000000; stroke-width: 0.8; stroke-linejoin: miter; stroke-linecap: square\"/>\n   </g>\n   <g id=\"patch_6\">\n    <path d=\"M 36.465625 22.318125 \nL 594.465625 22.318125 \n\" style=\"fill: none; stroke: #000000; stroke-width: 0.8; stroke-linejoin: miter; stroke-linecap: square\"/>\n   </g>\n   <g id=\"text_22\">\n    <!-- HitRate -->\n    <g transform=\"translate(293.179375 16.318125) scale(0.12 -0.12)\">\n     <defs>\n      <path id=\"DejaVuSans-48\" d=\"M 628 4666 \nL 1259 4666 \nL 1259 2753 \nL 3553 2753 \nL 3553 4666 \nL 4184 4666 \nL 4184 0 \nL 3553 0 \nL 3553 2222 \nL 1259 2222 \nL 1259 0 \nL 628 0 \nL 628 4666 \nz\n\" transform=\"scale(0.015625)\"/>\n      <path id=\"DejaVuSans-69\" d=\"M 603 3500 \nL 1178 3500 \nL 1178 0 \nL 603 0 \nL 603 3500 \nz\nM 603 4863 \nL 1178 4863 \nL 1178 4134 \nL 603 4134 \nL 603 4863 \nz\n\" transform=\"scale(0.015625)\"/>\n      <path id=\"DejaVuSans-74\" d=\"M 1172 4494 \nL 1172 3500 \nL 2356 3500 \nL 2356 3053 \nL 1172 3053 \nL 1172 1153 \nQ 1172 725 1289 603 \nQ 1406 481 1766 481 \nL 2356 481 \nL 2356 0 \nL 1766 0 \nQ 1100 0 847 248 \nQ 594 497 594 1153 \nL 594 3053 \nL 172 3053 \nL 172 3500 \nL 594 3500 \nL 594 4494 \nL 1172 4494 \nz\n\" transform=\"scale(0.015625)\"/>\n      <path id=\"DejaVuSans-65\" d=\"M 3597 1894 \nL 3597 1613 \nL 953 1613 \nQ 991 1019 1311 708 \nQ 1631 397 2203 397 \nQ 2534 397 2845 478 \nQ 3156 559 3463 722 \nL 3463 178 \nQ 3153 47 2828 -22 \nQ 2503 -91 2169 -91 \nQ 1331 -91 842 396 \nQ 353 884 353 1716 \nQ 353 2575 817 3079 \nQ 1281 3584 2069 3584 \nQ 2775 3584 3186 3129 \nQ 3597 2675 3597 1894 \nz\nM 3022 2063 \nQ 3016 2534 2758 2815 \nQ 2500 3097 2075 3097 \nQ 1594 3097 1305 2825 \nQ 1016 2553 972 2059 \nL 3022 2063 \nz\n\" transform=\"scale(0.015625)\"/>\n     </defs>\n     <use xlink:href=\"#DejaVuSans-48\"/>\n     <use xlink:href=\"#DejaVuSans-69\" x=\"75.195312\"/>\n     <use xlink:href=\"#DejaVuSans-74\" x=\"102.978516\"/>\n     <use xlink:href=\"#DejaVuSans-52\" x=\"142.1875\"/>\n     <use xlink:href=\"#DejaVuSans-61\" x=\"209.419922\"/>\n     <use xlink:href=\"#DejaVuSans-74\" x=\"270.699219\"/>\n     <use xlink:href=\"#DejaVuSans-65\" x=\"309.908203\"/>\n    </g>\n   </g>\n  </g>\n </g>\n <defs>\n  <clipPath id=\"p9fcf47db5b\">\n   <rect x=\"36.465625\" y=\"22.318125\" width=\"558\" height=\"332.64\"/>\n  </clipPath>\n </defs>\n</svg>\n",
      "text/plain": [
       "<Figure size 1000x600 with 1 Axes>"
      ]
     },
     "metadata": {},
     "output_type": "display_data"
    }
   ],
   "source": [
    "plt.plot(results[\"rank\"], results[\"metric\"])\n",
    "plt.xscale(\"log\")\n",
    "plt.xticks(results[\"rank\"], results[\"rank\"])\n",
    "plt.tick_params(which=\"minor\", size=0)\n",
    "plt.title(\"HitRate\")\n",
    "plt.xlabel(\"Rank\")\n",
    "\n",
    "plt.show()"
   ]
  },
  {
   "cell_type": "code",
   "execution_count": 18,
   "id": "d3ae9416-06ba-4edb-bfc0-7ea9fd231418",
   "metadata": {},
   "outputs": [
    {
     "name": "stdout",
     "output_type": "stream",
     "text": [
      "Best rank: 6\n",
      "Interaction matrix shape: (4662, 3630)\n",
      "Matrix density: 0.03611007701916793\n"
     ]
    }
   ],
   "source": [
    "best_rank = results.sort_values(\"metric\")[\"rank\"].iloc[-1]\n",
    "print(\"Best rank:\", best_rank)\n",
    "\n",
    "model = build_svd_model({\"rank\": best_rank}, trainval, data_description)\n",
    "scores = svd_scoring(model, testval, data_description)\n",
    "svd_recs = topn_recommendations(scores, topn)"
   ]
  },
  {
   "cell_type": "code",
   "execution_count": 19,
   "id": "8b453c75-f953-491a-ae86-7dbcc66af472",
   "metadata": {},
   "outputs": [
    {
     "name": "stdout",
     "output_type": "stream",
     "text": [
      "HitRate: 0.14496314496314497\n"
     ]
    }
   ],
   "source": [
    "print(\"HitRate:\", model_evaluate(svd_recs, holdoutval, data_description, topn))"
   ]
  },
  {
   "cell_type": "markdown",
   "id": "1ec6eabb-89be-4599-b1b2-2ee9de582cda",
   "metadata": {},
   "source": [
    "## Scaled SVD"
   ]
  },
  {
   "cell_type": "code",
   "execution_count": 15,
   "id": "3e0d878a-5439-414f-85b0-a7cbad68631f",
   "metadata": {},
   "outputs": [],
   "source": [
    "from scaled_svd import build_scaled_svd_model, scaled_svd_gridsearch"
   ]
  },
  {
   "cell_type": "code",
   "execution_count": 21,
   "id": "f788be22-d8bc-42de-ac2e-107f2c35c4f7",
   "metadata": {},
   "outputs": [
    {
     "data": {
      "text/plain": [
       "[2, 3, 4, 6, 8, 12, 16, 24, 32, 48, 64, 96, 128, 192]"
      ]
     },
     "execution_count": 21,
     "metadata": {},
     "output_type": "execute_result"
    }
   ],
   "source": [
    "ranks = [b * 2 ** p for p in range(0, 7) for b in [2, 3]]\n",
    "ranks"
   ]
  },
  {
   "cell_type": "code",
   "execution_count": 22,
   "id": "921403aa-4b72-40fc-b2c4-fe1c54ad53f0",
   "metadata": {},
   "outputs": [
    {
     "data": {
      "text/plain": [
       "array([0.1, 0.2, 0.3, 0.4, 0.5, 0.6, 0.7, 0.8, 0.9])"
      ]
     },
     "execution_count": 22,
     "metadata": {},
     "output_type": "execute_result"
    }
   ],
   "source": [
    "scalings = np.arange(1, 10) / 10\n",
    "scalings"
   ]
  },
  {
   "cell_type": "code",
   "execution_count": 23,
   "id": "a90de77f-26d2-4742-bf81-0a31016f6028",
   "metadata": {},
   "outputs": [
    {
     "name": "stdout",
     "output_type": "stream",
     "text": [
      "Scaling 0.1\n",
      "Scaling 0.2\n",
      "Scaling 0.3\n",
      "Scaling 0.4\n",
      "Scaling 0.5\n",
      "Scaling 0.6\n",
      "Scaling 0.7\n",
      "Scaling 0.8\n",
      "Scaling 0.9\n"
     ]
    }
   ],
   "source": [
    "results = scaled_svd_gridsearch(ranks, scalings, trainval, testval, holdoutval, data_description, topn)"
   ]
  },
  {
   "cell_type": "code",
   "execution_count": 24,
   "id": "3f701625-61f8-4bd0-a1c9-291989443cf8",
   "metadata": {},
   "outputs": [
    {
     "data": {
      "text/html": [
       "<div>\n",
       "<style scoped>\n",
       "    .dataframe tbody tr th:only-of-type {\n",
       "        vertical-align: middle;\n",
       "    }\n",
       "\n",
       "    .dataframe tbody tr th {\n",
       "        vertical-align: top;\n",
       "    }\n",
       "\n",
       "    .dataframe thead th {\n",
       "        text-align: right;\n",
       "    }\n",
       "</style>\n",
       "<table border=\"1\" class=\"dataframe\">\n",
       "  <thead>\n",
       "    <tr style=\"text-align: right;\">\n",
       "      <th></th>\n",
       "      <th>rank</th>\n",
       "      <th>scaling</th>\n",
       "      <th>metric</th>\n",
       "    </tr>\n",
       "  </thead>\n",
       "  <tbody>\n",
       "    <tr>\n",
       "      <th>86</th>\n",
       "      <td>4</td>\n",
       "      <td>0.7</td>\n",
       "      <td>0.154791</td>\n",
       "    </tr>\n",
       "    <tr>\n",
       "      <th>100</th>\n",
       "      <td>4</td>\n",
       "      <td>0.8</td>\n",
       "      <td>0.154791</td>\n",
       "    </tr>\n",
       "    <tr>\n",
       "      <th>58</th>\n",
       "      <td>4</td>\n",
       "      <td>0.5</td>\n",
       "      <td>0.154791</td>\n",
       "    </tr>\n",
       "    <tr>\n",
       "      <th>45</th>\n",
       "      <td>6</td>\n",
       "      <td>0.4</td>\n",
       "      <td>0.152334</td>\n",
       "    </tr>\n",
       "    <tr>\n",
       "      <th>72</th>\n",
       "      <td>4</td>\n",
       "      <td>0.6</td>\n",
       "      <td>0.152334</td>\n",
       "    </tr>\n",
       "  </tbody>\n",
       "</table>\n",
       "</div>"
      ],
      "text/plain": [
       "     rank  scaling    metric\n",
       "86      4      0.7  0.154791\n",
       "100     4      0.8  0.154791\n",
       "58      4      0.5  0.154791\n",
       "45      6      0.4  0.152334\n",
       "72      4      0.6  0.152334"
      ]
     },
     "execution_count": 24,
     "metadata": {},
     "output_type": "execute_result"
    }
   ],
   "source": [
    "results = pd.DataFrame(results)\n",
    "\n",
    "results = results.sort_values(\"metric\", ascending=False)\n",
    "\n",
    "results.head()"
   ]
  },
  {
   "attachments": {},
   "cell_type": "markdown",
   "id": "30346594",
   "metadata": {},
   "source": [
    "## UserKNN"
   ]
  },
  {
   "cell_type": "code",
   "execution_count": 16,
   "id": "80cff76c",
   "metadata": {},
   "outputs": [],
   "source": [
    "from knn import uknn_gridsearch, build_uknn_model, uknn_scoring"
   ]
  },
  {
   "cell_type": "code",
   "execution_count": 17,
   "id": "cc7b1121",
   "metadata": {},
   "outputs": [],
   "source": [
    "k_vals = [10, 25, 50, 100, 200, 250, 500, 1000, 1500, 2000, 2500, 3000, 3500, 4000, None]\n",
    "p_vals = [0] # np.linspace(0, 1, 21)\n",
    "\n",
    "config = {\n",
    "    \"similarity_A\": \"cosine\", \n",
    "    \"similarity_T\": None,\n",
    "}"
   ]
  },
  {
   "cell_type": "code",
   "execution_count": 18,
   "id": "f69d7a84",
   "metadata": {},
   "outputs": [
    {
     "name": "stdout",
     "output_type": "stream",
     "text": [
      "CPU times: total: 3.61 s\n",
      "Wall time: 3.67 s\n"
     ]
    }
   ],
   "source": [
    "%%time\n",
    "results = uknn_gridsearch(k_vals, p_vals, config, trainval, testval, holdoutval, data_description, topn=20)"
   ]
  },
  {
   "cell_type": "code",
   "execution_count": 19,
   "id": "a467587d",
   "metadata": {},
   "outputs": [
    {
     "data": {
      "text/html": [
       "<div>\n",
       "<style scoped>\n",
       "    .dataframe tbody tr th:only-of-type {\n",
       "        vertical-align: middle;\n",
       "    }\n",
       "\n",
       "    .dataframe tbody tr th {\n",
       "        vertical-align: top;\n",
       "    }\n",
       "\n",
       "    .dataframe thead th {\n",
       "        text-align: right;\n",
       "    }\n",
       "</style>\n",
       "<table border=\"1\" class=\"dataframe\">\n",
       "  <thead>\n",
       "    <tr style=\"text-align: right;\">\n",
       "      <th></th>\n",
       "      <th>k</th>\n",
       "      <th>metric</th>\n",
       "    </tr>\n",
       "  </thead>\n",
       "  <tbody>\n",
       "    <tr>\n",
       "      <th>7</th>\n",
       "      <td>1000.0</td>\n",
       "      <td>0.066339</td>\n",
       "    </tr>\n",
       "    <tr>\n",
       "      <th>8</th>\n",
       "      <td>1500.0</td>\n",
       "      <td>0.066339</td>\n",
       "    </tr>\n",
       "    <tr>\n",
       "      <th>6</th>\n",
       "      <td>500.0</td>\n",
       "      <td>0.061425</td>\n",
       "    </tr>\n",
       "    <tr>\n",
       "      <th>9</th>\n",
       "      <td>2000.0</td>\n",
       "      <td>0.061425</td>\n",
       "    </tr>\n",
       "    <tr>\n",
       "      <th>11</th>\n",
       "      <td>3000.0</td>\n",
       "      <td>0.061425</td>\n",
       "    </tr>\n",
       "    <tr>\n",
       "      <th>1</th>\n",
       "      <td>25.0</td>\n",
       "      <td>0.058968</td>\n",
       "    </tr>\n",
       "    <tr>\n",
       "      <th>3</th>\n",
       "      <td>100.0</td>\n",
       "      <td>0.058968</td>\n",
       "    </tr>\n",
       "    <tr>\n",
       "      <th>5</th>\n",
       "      <td>250.0</td>\n",
       "      <td>0.058968</td>\n",
       "    </tr>\n",
       "    <tr>\n",
       "      <th>10</th>\n",
       "      <td>2500.0</td>\n",
       "      <td>0.058968</td>\n",
       "    </tr>\n",
       "    <tr>\n",
       "      <th>12</th>\n",
       "      <td>3500.0</td>\n",
       "      <td>0.058968</td>\n",
       "    </tr>\n",
       "    <tr>\n",
       "      <th>13</th>\n",
       "      <td>4000.0</td>\n",
       "      <td>0.058968</td>\n",
       "    </tr>\n",
       "    <tr>\n",
       "      <th>14</th>\n",
       "      <td>NaN</td>\n",
       "      <td>0.058968</td>\n",
       "    </tr>\n",
       "    <tr>\n",
       "      <th>2</th>\n",
       "      <td>50.0</td>\n",
       "      <td>0.054054</td>\n",
       "    </tr>\n",
       "    <tr>\n",
       "      <th>4</th>\n",
       "      <td>200.0</td>\n",
       "      <td>0.051597</td>\n",
       "    </tr>\n",
       "    <tr>\n",
       "      <th>0</th>\n",
       "      <td>10.0</td>\n",
       "      <td>0.046683</td>\n",
       "    </tr>\n",
       "  </tbody>\n",
       "</table>\n",
       "</div>"
      ],
      "text/plain": [
       "         k    metric\n",
       "7   1000.0  0.066339\n",
       "8   1500.0  0.066339\n",
       "6    500.0  0.061425\n",
       "9   2000.0  0.061425\n",
       "11  3000.0  0.061425\n",
       "1     25.0  0.058968\n",
       "3    100.0  0.058968\n",
       "5    250.0  0.058968\n",
       "10  2500.0  0.058968\n",
       "12  3500.0  0.058968\n",
       "13  4000.0  0.058968\n",
       "14     NaN  0.058968\n",
       "2     50.0  0.054054\n",
       "4    200.0  0.051597\n",
       "0     10.0  0.046683"
      ]
     },
     "execution_count": 19,
     "metadata": {},
     "output_type": "execute_result"
    }
   ],
   "source": [
    "knn_results = pd.DataFrame(results)\n",
    "\n",
    "knn_results.drop(\"power\", axis=1).sort_values(\"metric\", ascending=False)"
   ]
  },
  {
   "cell_type": "code",
   "execution_count": 20,
   "id": "c30733b9",
   "metadata": {},
   "outputs": [
    {
     "data": {
      "image/svg+xml": "<?xml version=\"1.0\" encoding=\"utf-8\" standalone=\"no\"?>\n<!DOCTYPE svg PUBLIC \"-//W3C//DTD SVG 1.1//EN\"\n  \"http://www.w3.org/Graphics/SVG/1.1/DTD/svg11.dtd\">\n<svg xmlns:xlink=\"http://www.w3.org/1999/xlink\" width=\"614.390625pt\" height=\"392.514375pt\" viewBox=\"0 0 614.390625 392.514375\" xmlns=\"http://www.w3.org/2000/svg\" version=\"1.1\">\n <metadata>\n  <rdf:RDF xmlns:dc=\"http://purl.org/dc/elements/1.1/\" xmlns:cc=\"http://creativecommons.org/ns#\" xmlns:rdf=\"http://www.w3.org/1999/02/22-rdf-syntax-ns#\">\n   <cc:Work>\n    <dc:type rdf:resource=\"http://purl.org/dc/dcmitype/StillImage\"/>\n    <dc:date>2023-03-25T13:50:02.826936</dc:date>\n    <dc:format>image/svg+xml</dc:format>\n    <dc:creator>\n     <cc:Agent>\n      <dc:title>Matplotlib v3.7.0, https://matplotlib.org/</dc:title>\n     </cc:Agent>\n    </dc:creator>\n   </cc:Work>\n  </rdf:RDF>\n </metadata>\n <defs>\n  <style type=\"text/css\">*{stroke-linejoin: round; stroke-linecap: butt}</style>\n </defs>\n <g id=\"figure_1\">\n  <g id=\"patch_1\">\n   <path d=\"M 0 392.514375 \nL 614.390625 392.514375 \nL 614.390625 0 \nL 0 0 \nz\n\" style=\"fill: #ffffff\"/>\n  </g>\n  <g id=\"axes_1\">\n   <g id=\"patch_2\">\n    <path d=\"M 49.190625 354.958125 \nL 607.190625 354.958125 \nL 607.190625 22.318125 \nL 49.190625 22.318125 \nz\n\" style=\"fill: #ffffff\"/>\n   </g>\n   <g id=\"matplotlib.axis_1\">\n    <g id=\"xtick_1\">\n     <g id=\"line2d_1\">\n      <defs>\n       <path id=\"m6b37cae01f\" d=\"M 0 0 \nL 0 3.5 \n\" style=\"stroke: #000000; stroke-width: 0.8\"/>\n      </defs>\n      <g>\n       <use xlink:href=\"#m6b37cae01f\" x=\"73.282901\" y=\"354.958125\" style=\"stroke: #000000; stroke-width: 0.8\"/>\n      </g>\n     </g>\n     <g id=\"text_1\">\n      <!-- 0 -->\n      <g transform=\"translate(70.101651 369.556562) scale(0.1 -0.1)\">\n       <defs>\n        <path id=\"DejaVuSans-30\" d=\"M 2034 4250 \nQ 1547 4250 1301 3770 \nQ 1056 3291 1056 2328 \nQ 1056 1369 1301 889 \nQ 1547 409 2034 409 \nQ 2525 409 2770 889 \nQ 3016 1369 3016 2328 \nQ 3016 3291 2770 3770 \nQ 2525 4250 2034 4250 \nz\nM 2034 4750 \nQ 2819 4750 3233 4129 \nQ 3647 3509 3647 2328 \nQ 3647 1150 3233 529 \nQ 2819 -91 2034 -91 \nQ 1250 -91 836 529 \nQ 422 1150 422 2328 \nQ 422 3509 836 4129 \nQ 1250 4750 2034 4750 \nz\n\" transform=\"scale(0.015625)\"/>\n       </defs>\n       <use xlink:href=\"#DejaVuSans-30\"/>\n      </g>\n     </g>\n    </g>\n    <g id=\"xtick_2\">\n     <g id=\"line2d_2\">\n      <g>\n       <use xlink:href=\"#m6b37cae01f\" x=\"136.850912\" y=\"354.958125\" style=\"stroke: #000000; stroke-width: 0.8\"/>\n      </g>\n     </g>\n     <g id=\"text_2\">\n      <!-- 500 -->\n      <g transform=\"translate(127.307162 369.556562) scale(0.1 -0.1)\">\n       <defs>\n        <path id=\"DejaVuSans-35\" d=\"M 691 4666 \nL 3169 4666 \nL 3169 4134 \nL 1269 4134 \nL 1269 2991 \nQ 1406 3038 1543 3061 \nQ 1681 3084 1819 3084 \nQ 2600 3084 3056 2656 \nQ 3513 2228 3513 1497 \nQ 3513 744 3044 326 \nQ 2575 -91 1722 -91 \nQ 1428 -91 1123 -41 \nQ 819 9 494 109 \nL 494 744 \nQ 775 591 1075 516 \nQ 1375 441 1709 441 \nQ 2250 441 2565 725 \nQ 2881 1009 2881 1497 \nQ 2881 1984 2565 2268 \nQ 2250 2553 1709 2553 \nQ 1456 2553 1204 2497 \nQ 953 2441 691 2322 \nL 691 4666 \nz\n\" transform=\"scale(0.015625)\"/>\n       </defs>\n       <use xlink:href=\"#DejaVuSans-35\"/>\n       <use xlink:href=\"#DejaVuSans-30\" x=\"63.623047\"/>\n       <use xlink:href=\"#DejaVuSans-30\" x=\"127.246094\"/>\n      </g>\n     </g>\n    </g>\n    <g id=\"xtick_3\">\n     <g id=\"line2d_3\">\n      <g>\n       <use xlink:href=\"#m6b37cae01f\" x=\"200.418923\" y=\"354.958125\" style=\"stroke: #000000; stroke-width: 0.8\"/>\n      </g>\n     </g>\n     <g id=\"text_3\">\n      <!-- 1000 -->\n      <g transform=\"translate(187.693923 369.556562) scale(0.1 -0.1)\">\n       <defs>\n        <path id=\"DejaVuSans-31\" d=\"M 794 531 \nL 1825 531 \nL 1825 4091 \nL 703 3866 \nL 703 4441 \nL 1819 4666 \nL 2450 4666 \nL 2450 531 \nL 3481 531 \nL 3481 0 \nL 794 0 \nL 794 531 \nz\n\" transform=\"scale(0.015625)\"/>\n       </defs>\n       <use xlink:href=\"#DejaVuSans-31\"/>\n       <use xlink:href=\"#DejaVuSans-30\" x=\"63.623047\"/>\n       <use xlink:href=\"#DejaVuSans-30\" x=\"127.246094\"/>\n       <use xlink:href=\"#DejaVuSans-30\" x=\"190.869141\"/>\n      </g>\n     </g>\n    </g>\n    <g id=\"xtick_4\">\n     <g id=\"line2d_4\">\n      <g>\n       <use xlink:href=\"#m6b37cae01f\" x=\"263.986934\" y=\"354.958125\" style=\"stroke: #000000; stroke-width: 0.8\"/>\n      </g>\n     </g>\n     <g id=\"text_4\">\n      <!-- 1500 -->\n      <g transform=\"translate(251.261934 369.556562) scale(0.1 -0.1)\">\n       <use xlink:href=\"#DejaVuSans-31\"/>\n       <use xlink:href=\"#DejaVuSans-35\" x=\"63.623047\"/>\n       <use xlink:href=\"#DejaVuSans-30\" x=\"127.246094\"/>\n       <use xlink:href=\"#DejaVuSans-30\" x=\"190.869141\"/>\n      </g>\n     </g>\n    </g>\n    <g id=\"xtick_5\">\n     <g id=\"line2d_5\">\n      <g>\n       <use xlink:href=\"#m6b37cae01f\" x=\"327.554945\" y=\"354.958125\" style=\"stroke: #000000; stroke-width: 0.8\"/>\n      </g>\n     </g>\n     <g id=\"text_5\">\n      <!-- 2000 -->\n      <g transform=\"translate(314.829945 369.556562) scale(0.1 -0.1)\">\n       <defs>\n        <path id=\"DejaVuSans-32\" d=\"M 1228 531 \nL 3431 531 \nL 3431 0 \nL 469 0 \nL 469 531 \nQ 828 903 1448 1529 \nQ 2069 2156 2228 2338 \nQ 2531 2678 2651 2914 \nQ 2772 3150 2772 3378 \nQ 2772 3750 2511 3984 \nQ 2250 4219 1831 4219 \nQ 1534 4219 1204 4116 \nQ 875 4013 500 3803 \nL 500 4441 \nQ 881 4594 1212 4672 \nQ 1544 4750 1819 4750 \nQ 2544 4750 2975 4387 \nQ 3406 4025 3406 3419 \nQ 3406 3131 3298 2873 \nQ 3191 2616 2906 2266 \nQ 2828 2175 2409 1742 \nQ 1991 1309 1228 531 \nz\n\" transform=\"scale(0.015625)\"/>\n       </defs>\n       <use xlink:href=\"#DejaVuSans-32\"/>\n       <use xlink:href=\"#DejaVuSans-30\" x=\"63.623047\"/>\n       <use xlink:href=\"#DejaVuSans-30\" x=\"127.246094\"/>\n       <use xlink:href=\"#DejaVuSans-30\" x=\"190.869141\"/>\n      </g>\n     </g>\n    </g>\n    <g id=\"xtick_6\">\n     <g id=\"line2d_6\">\n      <g>\n       <use xlink:href=\"#m6b37cae01f\" x=\"391.122956\" y=\"354.958125\" style=\"stroke: #000000; stroke-width: 0.8\"/>\n      </g>\n     </g>\n     <g id=\"text_6\">\n      <!-- 2500 -->\n      <g transform=\"translate(378.397956 369.556562) scale(0.1 -0.1)\">\n       <use xlink:href=\"#DejaVuSans-32\"/>\n       <use xlink:href=\"#DejaVuSans-35\" x=\"63.623047\"/>\n       <use xlink:href=\"#DejaVuSans-30\" x=\"127.246094\"/>\n       <use xlink:href=\"#DejaVuSans-30\" x=\"190.869141\"/>\n      </g>\n     </g>\n    </g>\n    <g id=\"xtick_7\">\n     <g id=\"line2d_7\">\n      <g>\n       <use xlink:href=\"#m6b37cae01f\" x=\"454.690967\" y=\"354.958125\" style=\"stroke: #000000; stroke-width: 0.8\"/>\n      </g>\n     </g>\n     <g id=\"text_7\">\n      <!-- 3000 -->\n      <g transform=\"translate(441.965967 369.556562) scale(0.1 -0.1)\">\n       <defs>\n        <path id=\"DejaVuSans-33\" d=\"M 2597 2516 \nQ 3050 2419 3304 2112 \nQ 3559 1806 3559 1356 \nQ 3559 666 3084 287 \nQ 2609 -91 1734 -91 \nQ 1441 -91 1130 -33 \nQ 819 25 488 141 \nL 488 750 \nQ 750 597 1062 519 \nQ 1375 441 1716 441 \nQ 2309 441 2620 675 \nQ 2931 909 2931 1356 \nQ 2931 1769 2642 2001 \nQ 2353 2234 1838 2234 \nL 1294 2234 \nL 1294 2753 \nL 1863 2753 \nQ 2328 2753 2575 2939 \nQ 2822 3125 2822 3475 \nQ 2822 3834 2567 4026 \nQ 2313 4219 1838 4219 \nQ 1578 4219 1281 4162 \nQ 984 4106 628 3988 \nL 628 4550 \nQ 988 4650 1302 4700 \nQ 1616 4750 1894 4750 \nQ 2613 4750 3031 4423 \nQ 3450 4097 3450 3541 \nQ 3450 3153 3228 2886 \nQ 3006 2619 2597 2516 \nz\n\" transform=\"scale(0.015625)\"/>\n       </defs>\n       <use xlink:href=\"#DejaVuSans-33\"/>\n       <use xlink:href=\"#DejaVuSans-30\" x=\"63.623047\"/>\n       <use xlink:href=\"#DejaVuSans-30\" x=\"127.246094\"/>\n       <use xlink:href=\"#DejaVuSans-30\" x=\"190.869141\"/>\n      </g>\n     </g>\n    </g>\n    <g id=\"xtick_8\">\n     <g id=\"line2d_8\">\n      <g>\n       <use xlink:href=\"#m6b37cae01f\" x=\"518.258978\" y=\"354.958125\" style=\"stroke: #000000; stroke-width: 0.8\"/>\n      </g>\n     </g>\n     <g id=\"text_8\">\n      <!-- 3500 -->\n      <g transform=\"translate(505.533978 369.556562) scale(0.1 -0.1)\">\n       <use xlink:href=\"#DejaVuSans-33\"/>\n       <use xlink:href=\"#DejaVuSans-35\" x=\"63.623047\"/>\n       <use xlink:href=\"#DejaVuSans-30\" x=\"127.246094\"/>\n       <use xlink:href=\"#DejaVuSans-30\" x=\"190.869141\"/>\n      </g>\n     </g>\n    </g>\n    <g id=\"xtick_9\">\n     <g id=\"line2d_9\">\n      <g>\n       <use xlink:href=\"#m6b37cae01f\" x=\"581.826989\" y=\"354.958125\" style=\"stroke: #000000; stroke-width: 0.8\"/>\n      </g>\n     </g>\n     <g id=\"text_9\">\n      <!-- 4000 -->\n      <g transform=\"translate(569.101989 369.556562) scale(0.1 -0.1)\">\n       <defs>\n        <path id=\"DejaVuSans-34\" d=\"M 2419 4116 \nL 825 1625 \nL 2419 1625 \nL 2419 4116 \nz\nM 2253 4666 \nL 3047 4666 \nL 3047 1625 \nL 3713 1625 \nL 3713 1100 \nL 3047 1100 \nL 3047 0 \nL 2419 0 \nL 2419 1100 \nL 313 1100 \nL 313 1709 \nL 2253 4666 \nz\n\" transform=\"scale(0.015625)\"/>\n       </defs>\n       <use xlink:href=\"#DejaVuSans-34\"/>\n       <use xlink:href=\"#DejaVuSans-30\" x=\"63.623047\"/>\n       <use xlink:href=\"#DejaVuSans-30\" x=\"127.246094\"/>\n       <use xlink:href=\"#DejaVuSans-30\" x=\"190.869141\"/>\n      </g>\n     </g>\n    </g>\n    <g id=\"text_10\">\n     <!-- K -->\n     <g transform=\"translate(324.911719 383.234687) scale(0.1 -0.1)\">\n      <defs>\n       <path id=\"DejaVuSans-4b\" d=\"M 628 4666 \nL 1259 4666 \nL 1259 2694 \nL 3353 4666 \nL 4166 4666 \nL 1850 2491 \nL 4331 0 \nL 3500 0 \nL 1259 2247 \nL 1259 0 \nL 628 0 \nL 628 4666 \nz\n\" transform=\"scale(0.015625)\"/>\n      </defs>\n      <use xlink:href=\"#DejaVuSans-4b\"/>\n     </g>\n    </g>\n   </g>\n   <g id=\"matplotlib.axis_2\">\n    <g id=\"ytick_1\">\n     <g id=\"line2d_10\">\n      <defs>\n       <path id=\"m39e866d5bb\" d=\"M 0 0 \nL -3.5 0 \n\" style=\"stroke: #000000; stroke-width: 0.8\"/>\n      </defs>\n      <g>\n       <use xlink:href=\"#m39e866d5bb\" x=\"49.190625\" y=\"327.269625\" style=\"stroke: #000000; stroke-width: 0.8\"/>\n      </g>\n     </g>\n     <g id=\"text_11\">\n      <!-- 0.0475 -->\n      <g transform=\"translate(7.2 331.068844) scale(0.1 -0.1)\">\n       <defs>\n        <path id=\"DejaVuSans-2e\" d=\"M 684 794 \nL 1344 794 \nL 1344 0 \nL 684 0 \nL 684 794 \nz\n\" transform=\"scale(0.015625)\"/>\n        <path id=\"DejaVuSans-37\" d=\"M 525 4666 \nL 3525 4666 \nL 3525 4397 \nL 1831 0 \nL 1172 0 \nL 2766 4134 \nL 525 4134 \nL 525 4666 \nz\n\" transform=\"scale(0.015625)\"/>\n       </defs>\n       <use xlink:href=\"#DejaVuSans-30\"/>\n       <use xlink:href=\"#DejaVuSans-2e\" x=\"63.623047\"/>\n       <use xlink:href=\"#DejaVuSans-30\" x=\"95.410156\"/>\n       <use xlink:href=\"#DejaVuSans-34\" x=\"159.033203\"/>\n       <use xlink:href=\"#DejaVuSans-37\" x=\"222.65625\"/>\n       <use xlink:href=\"#DejaVuSans-35\" x=\"286.279297\"/>\n      </g>\n     </g>\n    </g>\n    <g id=\"ytick_2\">\n     <g id=\"line2d_11\">\n      <g>\n       <use xlink:href=\"#m39e866d5bb\" x=\"49.190625\" y=\"288.808125\" style=\"stroke: #000000; stroke-width: 0.8\"/>\n      </g>\n     </g>\n     <g id=\"text_12\">\n      <!-- 0.0500 -->\n      <g transform=\"translate(7.2 292.607344) scale(0.1 -0.1)\">\n       <use xlink:href=\"#DejaVuSans-30\"/>\n       <use xlink:href=\"#DejaVuSans-2e\" x=\"63.623047\"/>\n       <use xlink:href=\"#DejaVuSans-30\" x=\"95.410156\"/>\n       <use xlink:href=\"#DejaVuSans-35\" x=\"159.033203\"/>\n       <use xlink:href=\"#DejaVuSans-30\" x=\"222.65625\"/>\n       <use xlink:href=\"#DejaVuSans-30\" x=\"286.279297\"/>\n      </g>\n     </g>\n    </g>\n    <g id=\"ytick_3\">\n     <g id=\"line2d_12\">\n      <g>\n       <use xlink:href=\"#m39e866d5bb\" x=\"49.190625\" y=\"250.346625\" style=\"stroke: #000000; stroke-width: 0.8\"/>\n      </g>\n     </g>\n     <g id=\"text_13\">\n      <!-- 0.0525 -->\n      <g transform=\"translate(7.2 254.145844) scale(0.1 -0.1)\">\n       <use xlink:href=\"#DejaVuSans-30\"/>\n       <use xlink:href=\"#DejaVuSans-2e\" x=\"63.623047\"/>\n       <use xlink:href=\"#DejaVuSans-30\" x=\"95.410156\"/>\n       <use xlink:href=\"#DejaVuSans-35\" x=\"159.033203\"/>\n       <use xlink:href=\"#DejaVuSans-32\" x=\"222.65625\"/>\n       <use xlink:href=\"#DejaVuSans-35\" x=\"286.279297\"/>\n      </g>\n     </g>\n    </g>\n    <g id=\"ytick_4\">\n     <g id=\"line2d_13\">\n      <g>\n       <use xlink:href=\"#m39e866d5bb\" x=\"49.190625\" y=\"211.885125\" style=\"stroke: #000000; stroke-width: 0.8\"/>\n      </g>\n     </g>\n     <g id=\"text_14\">\n      <!-- 0.0550 -->\n      <g transform=\"translate(7.2 215.684344) scale(0.1 -0.1)\">\n       <use xlink:href=\"#DejaVuSans-30\"/>\n       <use xlink:href=\"#DejaVuSans-2e\" x=\"63.623047\"/>\n       <use xlink:href=\"#DejaVuSans-30\" x=\"95.410156\"/>\n       <use xlink:href=\"#DejaVuSans-35\" x=\"159.033203\"/>\n       <use xlink:href=\"#DejaVuSans-35\" x=\"222.65625\"/>\n       <use xlink:href=\"#DejaVuSans-30\" x=\"286.279297\"/>\n      </g>\n     </g>\n    </g>\n    <g id=\"ytick_5\">\n     <g id=\"line2d_14\">\n      <g>\n       <use xlink:href=\"#m39e866d5bb\" x=\"49.190625\" y=\"173.423625\" style=\"stroke: #000000; stroke-width: 0.8\"/>\n      </g>\n     </g>\n     <g id=\"text_15\">\n      <!-- 0.0575 -->\n      <g transform=\"translate(7.2 177.222844) scale(0.1 -0.1)\">\n       <use xlink:href=\"#DejaVuSans-30\"/>\n       <use xlink:href=\"#DejaVuSans-2e\" x=\"63.623047\"/>\n       <use xlink:href=\"#DejaVuSans-30\" x=\"95.410156\"/>\n       <use xlink:href=\"#DejaVuSans-35\" x=\"159.033203\"/>\n       <use xlink:href=\"#DejaVuSans-37\" x=\"222.65625\"/>\n       <use xlink:href=\"#DejaVuSans-35\" x=\"286.279297\"/>\n      </g>\n     </g>\n    </g>\n    <g id=\"ytick_6\">\n     <g id=\"line2d_15\">\n      <g>\n       <use xlink:href=\"#m39e866d5bb\" x=\"49.190625\" y=\"134.962125\" style=\"stroke: #000000; stroke-width: 0.8\"/>\n      </g>\n     </g>\n     <g id=\"text_16\">\n      <!-- 0.0600 -->\n      <g transform=\"translate(7.2 138.761344) scale(0.1 -0.1)\">\n       <defs>\n        <path id=\"DejaVuSans-36\" d=\"M 2113 2584 \nQ 1688 2584 1439 2293 \nQ 1191 2003 1191 1497 \nQ 1191 994 1439 701 \nQ 1688 409 2113 409 \nQ 2538 409 2786 701 \nQ 3034 994 3034 1497 \nQ 3034 2003 2786 2293 \nQ 2538 2584 2113 2584 \nz\nM 3366 4563 \nL 3366 3988 \nQ 3128 4100 2886 4159 \nQ 2644 4219 2406 4219 \nQ 1781 4219 1451 3797 \nQ 1122 3375 1075 2522 \nQ 1259 2794 1537 2939 \nQ 1816 3084 2150 3084 \nQ 2853 3084 3261 2657 \nQ 3669 2231 3669 1497 \nQ 3669 778 3244 343 \nQ 2819 -91 2113 -91 \nQ 1303 -91 875 529 \nQ 447 1150 447 2328 \nQ 447 3434 972 4092 \nQ 1497 4750 2381 4750 \nQ 2619 4750 2861 4703 \nQ 3103 4656 3366 4563 \nz\n\" transform=\"scale(0.015625)\"/>\n       </defs>\n       <use xlink:href=\"#DejaVuSans-30\"/>\n       <use xlink:href=\"#DejaVuSans-2e\" x=\"63.623047\"/>\n       <use xlink:href=\"#DejaVuSans-30\" x=\"95.410156\"/>\n       <use xlink:href=\"#DejaVuSans-36\" x=\"159.033203\"/>\n       <use xlink:href=\"#DejaVuSans-30\" x=\"222.65625\"/>\n       <use xlink:href=\"#DejaVuSans-30\" x=\"286.279297\"/>\n      </g>\n     </g>\n    </g>\n    <g id=\"ytick_7\">\n     <g id=\"line2d_16\">\n      <g>\n       <use xlink:href=\"#m39e866d5bb\" x=\"49.190625\" y=\"96.500625\" style=\"stroke: #000000; stroke-width: 0.8\"/>\n      </g>\n     </g>\n     <g id=\"text_17\">\n      <!-- 0.0625 -->\n      <g transform=\"translate(7.2 100.299844) scale(0.1 -0.1)\">\n       <use xlink:href=\"#DejaVuSans-30\"/>\n       <use xlink:href=\"#DejaVuSans-2e\" x=\"63.623047\"/>\n       <use xlink:href=\"#DejaVuSans-30\" x=\"95.410156\"/>\n       <use xlink:href=\"#DejaVuSans-36\" x=\"159.033203\"/>\n       <use xlink:href=\"#DejaVuSans-32\" x=\"222.65625\"/>\n       <use xlink:href=\"#DejaVuSans-35\" x=\"286.279297\"/>\n      </g>\n     </g>\n    </g>\n    <g id=\"ytick_8\">\n     <g id=\"line2d_17\">\n      <g>\n       <use xlink:href=\"#m39e866d5bb\" x=\"49.190625\" y=\"58.039125\" style=\"stroke: #000000; stroke-width: 0.8\"/>\n      </g>\n     </g>\n     <g id=\"text_18\">\n      <!-- 0.0650 -->\n      <g transform=\"translate(7.2 61.838344) scale(0.1 -0.1)\">\n       <use xlink:href=\"#DejaVuSans-30\"/>\n       <use xlink:href=\"#DejaVuSans-2e\" x=\"63.623047\"/>\n       <use xlink:href=\"#DejaVuSans-30\" x=\"95.410156\"/>\n       <use xlink:href=\"#DejaVuSans-36\" x=\"159.033203\"/>\n       <use xlink:href=\"#DejaVuSans-35\" x=\"222.65625\"/>\n       <use xlink:href=\"#DejaVuSans-30\" x=\"286.279297\"/>\n      </g>\n     </g>\n    </g>\n   </g>\n   <g id=\"line2d_18\">\n    <path d=\"M 74.554261 339.838125 \nL 76.461302 150.838125 \nL 79.639702 226.438125 \nL 85.996503 150.838125 \nL 98.710106 264.238125 \nL 105.066907 150.838125 \nL 136.850912 113.038125 \nL 200.418923 37.438125 \nL 263.986934 37.438125 \nL 327.554945 113.038125 \nL 391.122956 150.838125 \nL 454.690967 113.038125 \nL 518.258978 150.838125 \nL 581.826989 150.838125 \n\" clip-path=\"url(#pc81bf1a36a)\" style=\"fill: none; stroke: #1f77b4; stroke-width: 1.5; stroke-linecap: square\"/>\n   </g>\n   <g id=\"patch_3\">\n    <path d=\"M 49.190625 354.958125 \nL 49.190625 22.318125 \n\" style=\"fill: none; stroke: #000000; stroke-width: 0.8; stroke-linejoin: miter; stroke-linecap: square\"/>\n   </g>\n   <g id=\"patch_4\">\n    <path d=\"M 607.190625 354.958125 \nL 607.190625 22.318125 \n\" style=\"fill: none; stroke: #000000; stroke-width: 0.8; stroke-linejoin: miter; stroke-linecap: square\"/>\n   </g>\n   <g id=\"patch_5\">\n    <path d=\"M 49.190625 354.958125 \nL 607.190625 354.958125 \n\" style=\"fill: none; stroke: #000000; stroke-width: 0.8; stroke-linejoin: miter; stroke-linecap: square\"/>\n   </g>\n   <g id=\"patch_6\">\n    <path d=\"M 49.190625 22.318125 \nL 607.190625 22.318125 \n\" style=\"fill: none; stroke: #000000; stroke-width: 0.8; stroke-linejoin: miter; stroke-linecap: square\"/>\n   </g>\n   <g id=\"text_19\">\n    <!-- HitRate -->\n    <g transform=\"translate(305.904375 16.318125) scale(0.12 -0.12)\">\n     <defs>\n      <path id=\"DejaVuSans-48\" d=\"M 628 4666 \nL 1259 4666 \nL 1259 2753 \nL 3553 2753 \nL 3553 4666 \nL 4184 4666 \nL 4184 0 \nL 3553 0 \nL 3553 2222 \nL 1259 2222 \nL 1259 0 \nL 628 0 \nL 628 4666 \nz\n\" transform=\"scale(0.015625)\"/>\n      <path id=\"DejaVuSans-69\" d=\"M 603 3500 \nL 1178 3500 \nL 1178 0 \nL 603 0 \nL 603 3500 \nz\nM 603 4863 \nL 1178 4863 \nL 1178 4134 \nL 603 4134 \nL 603 4863 \nz\n\" transform=\"scale(0.015625)\"/>\n      <path id=\"DejaVuSans-74\" d=\"M 1172 4494 \nL 1172 3500 \nL 2356 3500 \nL 2356 3053 \nL 1172 3053 \nL 1172 1153 \nQ 1172 725 1289 603 \nQ 1406 481 1766 481 \nL 2356 481 \nL 2356 0 \nL 1766 0 \nQ 1100 0 847 248 \nQ 594 497 594 1153 \nL 594 3053 \nL 172 3053 \nL 172 3500 \nL 594 3500 \nL 594 4494 \nL 1172 4494 \nz\n\" transform=\"scale(0.015625)\"/>\n      <path id=\"DejaVuSans-52\" d=\"M 2841 2188 \nQ 3044 2119 3236 1894 \nQ 3428 1669 3622 1275 \nL 4263 0 \nL 3584 0 \nL 2988 1197 \nQ 2756 1666 2539 1819 \nQ 2322 1972 1947 1972 \nL 1259 1972 \nL 1259 0 \nL 628 0 \nL 628 4666 \nL 2053 4666 \nQ 2853 4666 3247 4331 \nQ 3641 3997 3641 3322 \nQ 3641 2881 3436 2590 \nQ 3231 2300 2841 2188 \nz\nM 1259 4147 \nL 1259 2491 \nL 2053 2491 \nQ 2509 2491 2742 2702 \nQ 2975 2913 2975 3322 \nQ 2975 3731 2742 3939 \nQ 2509 4147 2053 4147 \nL 1259 4147 \nz\n\" transform=\"scale(0.015625)\"/>\n      <path id=\"DejaVuSans-61\" d=\"M 2194 1759 \nQ 1497 1759 1228 1600 \nQ 959 1441 959 1056 \nQ 959 750 1161 570 \nQ 1363 391 1709 391 \nQ 2188 391 2477 730 \nQ 2766 1069 2766 1631 \nL 2766 1759 \nL 2194 1759 \nz\nM 3341 1997 \nL 3341 0 \nL 2766 0 \nL 2766 531 \nQ 2569 213 2275 61 \nQ 1981 -91 1556 -91 \nQ 1019 -91 701 211 \nQ 384 513 384 1019 \nQ 384 1609 779 1909 \nQ 1175 2209 1959 2209 \nL 2766 2209 \nL 2766 2266 \nQ 2766 2663 2505 2880 \nQ 2244 3097 1772 3097 \nQ 1472 3097 1187 3025 \nQ 903 2953 641 2809 \nL 641 3341 \nQ 956 3463 1253 3523 \nQ 1550 3584 1831 3584 \nQ 2591 3584 2966 3190 \nQ 3341 2797 3341 1997 \nz\n\" transform=\"scale(0.015625)\"/>\n      <path id=\"DejaVuSans-65\" d=\"M 3597 1894 \nL 3597 1613 \nL 953 1613 \nQ 991 1019 1311 708 \nQ 1631 397 2203 397 \nQ 2534 397 2845 478 \nQ 3156 559 3463 722 \nL 3463 178 \nQ 3153 47 2828 -22 \nQ 2503 -91 2169 -91 \nQ 1331 -91 842 396 \nQ 353 884 353 1716 \nQ 353 2575 817 3079 \nQ 1281 3584 2069 3584 \nQ 2775 3584 3186 3129 \nQ 3597 2675 3597 1894 \nz\nM 3022 2063 \nQ 3016 2534 2758 2815 \nQ 2500 3097 2075 3097 \nQ 1594 3097 1305 2825 \nQ 1016 2553 972 2059 \nL 3022 2063 \nz\n\" transform=\"scale(0.015625)\"/>\n     </defs>\n     <use xlink:href=\"#DejaVuSans-48\"/>\n     <use xlink:href=\"#DejaVuSans-69\" x=\"75.195312\"/>\n     <use xlink:href=\"#DejaVuSans-74\" x=\"102.978516\"/>\n     <use xlink:href=\"#DejaVuSans-52\" x=\"142.1875\"/>\n     <use xlink:href=\"#DejaVuSans-61\" x=\"209.419922\"/>\n     <use xlink:href=\"#DejaVuSans-74\" x=\"270.699219\"/>\n     <use xlink:href=\"#DejaVuSans-65\" x=\"309.908203\"/>\n    </g>\n   </g>\n  </g>\n </g>\n <defs>\n  <clipPath id=\"pc81bf1a36a\">\n   <rect x=\"49.190625\" y=\"22.318125\" width=\"558\" height=\"332.64\"/>\n  </clipPath>\n </defs>\n</svg>\n",
      "text/plain": [
       "<Figure size 1000x600 with 1 Axes>"
      ]
     },
     "metadata": {},
     "output_type": "display_data"
    }
   ],
   "source": [
    "plt.plot(k_vals, knn_results.sort_values(\"k\", na_position=\"last\")[\"metric\"])\n",
    "\n",
    "plt.tick_params(which=\"minor\", size=0)\n",
    "plt.title(\"HitRate\")\n",
    "plt.xlabel(\"K\")\n",
    "\n",
    "plt.show()"
   ]
  },
  {
   "attachments": {},
   "cell_type": "markdown",
   "id": "ea386023",
   "metadata": {},
   "source": [
    "## SeqUserKNN"
   ]
  },
  {
   "cell_type": "code",
   "execution_count": 21,
   "id": "61281b57",
   "metadata": {},
   "outputs": [
    {
     "name": "stdout",
     "output_type": "stream",
     "text": [
      "CPU times: total: 1min 39s\n",
      "Wall time: 1min 40s\n"
     ]
    }
   ],
   "source": [
    "%%time\n",
    "k_vals = [10, 25, 50, 100, 200, 250, 500, 1000, 1500, 2000, 2500, 3000, 3500, 4000, None]\n",
    "p_vals = np.linspace(0, 1, 21)\n",
    "\n",
    "config = {\n",
    "    \"similarity_A\": \"cosine\", \n",
    "    \"similarity_T\": \"cosine\",\n",
    "}\n",
    "\n",
    "results = uknn_gridsearch(k_vals, p_vals, config, trainval, testval, holdoutval, data_description, topn)"
   ]
  },
  {
   "cell_type": "code",
   "execution_count": 41,
   "id": "8d5e0bd2",
   "metadata": {},
   "outputs": [
    {
     "data": {
      "text/html": [
       "<div>\n",
       "<style scoped>\n",
       "    .dataframe tbody tr th:only-of-type {\n",
       "        vertical-align: middle;\n",
       "    }\n",
       "\n",
       "    .dataframe tbody tr th {\n",
       "        vertical-align: top;\n",
       "    }\n",
       "\n",
       "    .dataframe thead th {\n",
       "        text-align: right;\n",
       "    }\n",
       "</style>\n",
       "<table border=\"1\" class=\"dataframe\">\n",
       "  <thead>\n",
       "    <tr style=\"text-align: right;\">\n",
       "      <th></th>\n",
       "      <th>power</th>\n",
       "      <th>k</th>\n",
       "      <th>metric</th>\n",
       "    </tr>\n",
       "  </thead>\n",
       "  <tbody>\n",
       "    <tr>\n",
       "      <th>278</th>\n",
       "      <td>0.90</td>\n",
       "      <td>1500.0</td>\n",
       "      <td>0.076167</td>\n",
       "    </tr>\n",
       "    <tr>\n",
       "      <th>287</th>\n",
       "      <td>0.95</td>\n",
       "      <td>50.0</td>\n",
       "      <td>0.076167</td>\n",
       "    </tr>\n",
       "    <tr>\n",
       "      <th>307</th>\n",
       "      <td>1.00</td>\n",
       "      <td>1000.0</td>\n",
       "      <td>0.076167</td>\n",
       "    </tr>\n",
       "    <tr>\n",
       "      <th>302</th>\n",
       "      <td>1.00</td>\n",
       "      <td>50.0</td>\n",
       "      <td>0.076167</td>\n",
       "    </tr>\n",
       "    <tr>\n",
       "      <th>113</th>\n",
       "      <td>0.35</td>\n",
       "      <td>1500.0</td>\n",
       "      <td>0.073710</td>\n",
       "    </tr>\n",
       "  </tbody>\n",
       "</table>\n",
       "</div>"
      ],
      "text/plain": [
       "     power       k    metric\n",
       "278   0.90  1500.0  0.076167\n",
       "287   0.95    50.0  0.076167\n",
       "307   1.00  1000.0  0.076167\n",
       "302   1.00    50.0  0.076167\n",
       "113   0.35  1500.0  0.073710"
      ]
     },
     "execution_count": 41,
     "metadata": {},
     "output_type": "execute_result"
    }
   ],
   "source": [
    "seq_knn_results = pd.DataFrame(results)\n",
    "seq_knn_results.sort_values('metric', ascending=False).head()"
   ]
  },
  {
   "cell_type": "code",
   "execution_count": 42,
   "id": "02602834",
   "metadata": {},
   "outputs": [
    {
     "data": {
      "text/html": [
       "<style type=\"text/css\">\n",
       "#T_60ef1_row0_col0, #T_60ef1_row0_col12, #T_60ef1_row0_col13, #T_60ef1_row0_col14, #T_60ef1_row1_col0, #T_60ef1_row1_col12, #T_60ef1_row1_col13, #T_60ef1_row1_col14, #T_60ef1_row2_col0, #T_60ef1_row2_col12, #T_60ef1_row2_col13, #T_60ef1_row2_col14, #T_60ef1_row3_col0, #T_60ef1_row3_col8, #T_60ef1_row3_col12, #T_60ef1_row3_col13, #T_60ef1_row3_col14, #T_60ef1_row4_col5, #T_60ef1_row6_col6, #T_60ef1_row7_col5, #T_60ef1_row9_col0, #T_60ef1_row9_col13, #T_60ef1_row9_col14, #T_60ef1_row10_col6, #T_60ef1_row10_col13, #T_60ef1_row11_col6, #T_60ef1_row12_col5, #T_60ef1_row13_col1, #T_60ef1_row13_col2, #T_60ef1_row14_col3 {\n",
       "  background-color: #89b1d4;\n",
       "  color: #000000;\n",
       "}\n",
       "#T_60ef1_row0_col1, #T_60ef1_row0_col3, #T_60ef1_row1_col1, #T_60ef1_row1_col2, #T_60ef1_row1_col3, #T_60ef1_row3_col1, #T_60ef1_row4_col1, #T_60ef1_row5_col2, #T_60ef1_row6_col1, #T_60ef1_row8_col1, #T_60ef1_row10_col1, #T_60ef1_row10_col4, #T_60ef1_row15_col1 {\n",
       "  background-color: #ece7f2;\n",
       "  color: #000000;\n",
       "}\n",
       "#T_60ef1_row0_col2, #T_60ef1_row2_col1, #T_60ef1_row6_col2, #T_60ef1_row9_col1 {\n",
       "  background-color: #f5eff6;\n",
       "  color: #000000;\n",
       "}\n",
       "#T_60ef1_row0_col4, #T_60ef1_row0_col7, #T_60ef1_row0_col8, #T_60ef1_row1_col7, #T_60ef1_row1_col8, #T_60ef1_row2_col7, #T_60ef1_row2_col8, #T_60ef1_row5_col3, #T_60ef1_row5_col4, #T_60ef1_row6_col4, #T_60ef1_row6_col7, #T_60ef1_row7_col6, #T_60ef1_row8_col7, #T_60ef1_row9_col2, #T_60ef1_row9_col5, #T_60ef1_row9_col6, #T_60ef1_row9_col7, #T_60ef1_row11_col2, #T_60ef1_row11_col5, #T_60ef1_row12_col2, #T_60ef1_row12_col6, #T_60ef1_row14_col1, #T_60ef1_row14_col2, #T_60ef1_row14_col4 {\n",
       "  background-color: #a2bcda;\n",
       "  color: #000000;\n",
       "}\n",
       "#T_60ef1_row0_col5, #T_60ef1_row0_col6, #T_60ef1_row1_col4, #T_60ef1_row1_col5, #T_60ef1_row2_col4, #T_60ef1_row2_col5, #T_60ef1_row2_col6, #T_60ef1_row3_col4, #T_60ef1_row3_col5, #T_60ef1_row3_col6, #T_60ef1_row4_col2, #T_60ef1_row4_col4, #T_60ef1_row9_col4, #T_60ef1_row17_col1, #T_60ef1_row19_col1 {\n",
       "  background-color: #ced0e6;\n",
       "  color: #000000;\n",
       "}\n",
       "#T_60ef1_row0_col9, #T_60ef1_row1_col9, #T_60ef1_row2_col9, #T_60ef1_row3_col9, #T_60ef1_row4_col9, #T_60ef1_row5_col9, #T_60ef1_row6_col9, #T_60ef1_row10_col9, #T_60ef1_row10_col10, #T_60ef1_row12_col7, #T_60ef1_row13_col7, #T_60ef1_row14_col8, #T_60ef1_row15_col3, #T_60ef1_row15_col8, #T_60ef1_row16_col3, #T_60ef1_row16_col9, #T_60ef1_row17_col4, #T_60ef1_row17_col7, #T_60ef1_row18_col2, #T_60ef1_row18_col7, #T_60ef1_row19_col4, #T_60ef1_row19_col9, #T_60ef1_row19_col10 {\n",
       "  background-color: #2f8bbe;\n",
       "  color: #f1f1f1;\n",
       "}\n",
       "#T_60ef1_row0_col10, #T_60ef1_row1_col10, #T_60ef1_row2_col10, #T_60ef1_row3_col10, #T_60ef1_row4_col10, #T_60ef1_row5_col10, #T_60ef1_row6_col8, #T_60ef1_row6_col10, #T_60ef1_row7_col8, #T_60ef1_row7_col10, #T_60ef1_row8_col10, #T_60ef1_row9_col8, #T_60ef1_row9_col10, #T_60ef1_row10_col8, #T_60ef1_row11_col7, #T_60ef1_row11_col8, #T_60ef1_row11_col9, #T_60ef1_row11_col10, #T_60ef1_row11_col11, #T_60ef1_row12_col8, #T_60ef1_row12_col9, #T_60ef1_row12_col10, #T_60ef1_row12_col11, #T_60ef1_row13_col0, #T_60ef1_row13_col4, #T_60ef1_row13_col8, #T_60ef1_row13_col9, #T_60ef1_row13_col11, #T_60ef1_row13_col12, #T_60ef1_row13_col13, #T_60ef1_row13_col14, #T_60ef1_row14_col0, #T_60ef1_row14_col7, #T_60ef1_row14_col9, #T_60ef1_row14_col14, #T_60ef1_row15_col4, #T_60ef1_row15_col5, #T_60ef1_row15_col6, #T_60ef1_row15_col7, #T_60ef1_row15_col9, #T_60ef1_row16_col2, #T_60ef1_row16_col5, #T_60ef1_row16_col6, #T_60ef1_row16_col7, #T_60ef1_row16_col8, #T_60ef1_row17_col5, #T_60ef1_row17_col6, #T_60ef1_row17_col10, #T_60ef1_row18_col0, #T_60ef1_row18_col4, #T_60ef1_row18_col6, #T_60ef1_row18_col10, #T_60ef1_row18_col11, #T_60ef1_row18_col12, #T_60ef1_row18_col13, #T_60ef1_row18_col14, #T_60ef1_row19_col0, #T_60ef1_row19_col2, #T_60ef1_row19_col11, #T_60ef1_row19_col12, #T_60ef1_row19_col13, #T_60ef1_row19_col14, #T_60ef1_row20_col0, #T_60ef1_row20_col11, #T_60ef1_row20_col12, #T_60ef1_row20_col13, #T_60ef1_row20_col14 {\n",
       "  background-color: #4e9ac6;\n",
       "  color: #f1f1f1;\n",
       "}\n",
       "#T_60ef1_row0_col11, #T_60ef1_row1_col11, #T_60ef1_row2_col11, #T_60ef1_row3_col7, #T_60ef1_row3_col11, #T_60ef1_row4_col0, #T_60ef1_row4_col7, #T_60ef1_row4_col8, #T_60ef1_row4_col11, #T_60ef1_row4_col12, #T_60ef1_row4_col13, #T_60ef1_row4_col14, #T_60ef1_row5_col0, #T_60ef1_row5_col5, #T_60ef1_row5_col7, #T_60ef1_row5_col8, #T_60ef1_row5_col11, #T_60ef1_row5_col12, #T_60ef1_row5_col13, #T_60ef1_row5_col14, #T_60ef1_row6_col0, #T_60ef1_row6_col5, #T_60ef1_row6_col11, #T_60ef1_row6_col12, #T_60ef1_row6_col13, #T_60ef1_row6_col14, #T_60ef1_row7_col0, #T_60ef1_row7_col11, #T_60ef1_row7_col12, #T_60ef1_row7_col13, #T_60ef1_row7_col14, #T_60ef1_row8_col0, #T_60ef1_row8_col5, #T_60ef1_row8_col8, #T_60ef1_row8_col11, #T_60ef1_row8_col12, #T_60ef1_row8_col13, #T_60ef1_row8_col14, #T_60ef1_row9_col11, #T_60ef1_row9_col12, #T_60ef1_row10_col0, #T_60ef1_row10_col7, #T_60ef1_row10_col11, #T_60ef1_row10_col12, #T_60ef1_row10_col14, #T_60ef1_row11_col0, #T_60ef1_row11_col12, #T_60ef1_row11_col13, #T_60ef1_row11_col14, #T_60ef1_row12_col0, #T_60ef1_row12_col12, #T_60ef1_row12_col13, #T_60ef1_row12_col14, #T_60ef1_row13_col5, #T_60ef1_row13_col6, #T_60ef1_row13_col10, #T_60ef1_row14_col5, #T_60ef1_row14_col6, #T_60ef1_row14_col10, #T_60ef1_row14_col11, #T_60ef1_row14_col12, #T_60ef1_row14_col13, #T_60ef1_row15_col0, #T_60ef1_row15_col2, #T_60ef1_row15_col10, #T_60ef1_row15_col11, #T_60ef1_row15_col12, #T_60ef1_row15_col13, #T_60ef1_row15_col14, #T_60ef1_row16_col0, #T_60ef1_row16_col4, #T_60ef1_row16_col10, #T_60ef1_row16_col11, #T_60ef1_row16_col12, #T_60ef1_row16_col13, #T_60ef1_row16_col14, #T_60ef1_row17_col0, #T_60ef1_row17_col11, #T_60ef1_row17_col12, #T_60ef1_row17_col13, #T_60ef1_row17_col14 {\n",
       "  background-color: #6da6cd;\n",
       "  color: #f1f1f1;\n",
       "}\n",
       "#T_60ef1_row1_col6, #T_60ef1_row3_col2, #T_60ef1_row3_col3, #T_60ef1_row4_col3, #T_60ef1_row4_col6, #T_60ef1_row5_col1, #T_60ef1_row5_col6, #T_60ef1_row6_col3, #T_60ef1_row7_col4, #T_60ef1_row7_col7, #T_60ef1_row8_col2, #T_60ef1_row8_col3, #T_60ef1_row8_col4, #T_60ef1_row8_col6, #T_60ef1_row10_col3, #T_60ef1_row10_col5, #T_60ef1_row11_col1, #T_60ef1_row11_col3, #T_60ef1_row12_col1, #T_60ef1_row12_col3, #T_60ef1_row12_col4, #T_60ef1_row13_col3, #T_60ef1_row18_col1 {\n",
       "  background-color: #b8c6e0;\n",
       "  color: #000000;\n",
       "}\n",
       "#T_60ef1_row2_col2, #T_60ef1_row2_col3, #T_60ef1_row7_col2, #T_60ef1_row7_col3, #T_60ef1_row9_col3, #T_60ef1_row10_col2, #T_60ef1_row11_col4, #T_60ef1_row16_col1, #T_60ef1_row20_col1 {\n",
       "  background-color: #dddbec;\n",
       "  color: #000000;\n",
       "}\n",
       "#T_60ef1_row7_col1 {\n",
       "  background-color: #fff7fb;\n",
       "  color: #000000;\n",
       "}\n",
       "#T_60ef1_row7_col9, #T_60ef1_row8_col9, #T_60ef1_row9_col9, #T_60ef1_row17_col2, #T_60ef1_row17_col3, #T_60ef1_row17_col8, #T_60ef1_row17_col9, #T_60ef1_row18_col3, #T_60ef1_row18_col5, #T_60ef1_row18_col8, #T_60ef1_row19_col5, #T_60ef1_row19_col6, #T_60ef1_row19_col7, #T_60ef1_row19_col8, #T_60ef1_row20_col2, #T_60ef1_row20_col4, #T_60ef1_row20_col5, #T_60ef1_row20_col6, #T_60ef1_row20_col7, #T_60ef1_row20_col9, #T_60ef1_row20_col10 {\n",
       "  background-color: #167bb6;\n",
       "  color: #f1f1f1;\n",
       "}\n",
       "#T_60ef1_row18_col9, #T_60ef1_row19_col3, #T_60ef1_row20_col3, #T_60ef1_row20_col8 {\n",
       "  background-color: #056dab;\n",
       "  color: #f1f1f1;\n",
       "}\n",
       "</style>\n",
       "<table id=\"T_60ef1\">\n",
       "  <thead>\n",
       "    <tr>\n",
       "      <th class=\"index_name level0\" >k</th>\n",
       "      <th id=\"T_60ef1_level0_col0\" class=\"col_heading level0 col0\" >nan</th>\n",
       "      <th id=\"T_60ef1_level0_col1\" class=\"col_heading level0 col1\" >10.000000</th>\n",
       "      <th id=\"T_60ef1_level0_col2\" class=\"col_heading level0 col2\" >25.000000</th>\n",
       "      <th id=\"T_60ef1_level0_col3\" class=\"col_heading level0 col3\" >50.000000</th>\n",
       "      <th id=\"T_60ef1_level0_col4\" class=\"col_heading level0 col4\" >100.000000</th>\n",
       "      <th id=\"T_60ef1_level0_col5\" class=\"col_heading level0 col5\" >200.000000</th>\n",
       "      <th id=\"T_60ef1_level0_col6\" class=\"col_heading level0 col6\" >250.000000</th>\n",
       "      <th id=\"T_60ef1_level0_col7\" class=\"col_heading level0 col7\" >500.000000</th>\n",
       "      <th id=\"T_60ef1_level0_col8\" class=\"col_heading level0 col8\" >1000.000000</th>\n",
       "      <th id=\"T_60ef1_level0_col9\" class=\"col_heading level0 col9\" >1500.000000</th>\n",
       "      <th id=\"T_60ef1_level0_col10\" class=\"col_heading level0 col10\" >2000.000000</th>\n",
       "      <th id=\"T_60ef1_level0_col11\" class=\"col_heading level0 col11\" >2500.000000</th>\n",
       "      <th id=\"T_60ef1_level0_col12\" class=\"col_heading level0 col12\" >3000.000000</th>\n",
       "      <th id=\"T_60ef1_level0_col13\" class=\"col_heading level0 col13\" >3500.000000</th>\n",
       "      <th id=\"T_60ef1_level0_col14\" class=\"col_heading level0 col14\" >4000.000000</th>\n",
       "    </tr>\n",
       "    <tr>\n",
       "      <th class=\"index_name level0\" >power</th>\n",
       "      <th class=\"blank col0\" >&nbsp;</th>\n",
       "      <th class=\"blank col1\" >&nbsp;</th>\n",
       "      <th class=\"blank col2\" >&nbsp;</th>\n",
       "      <th class=\"blank col3\" >&nbsp;</th>\n",
       "      <th class=\"blank col4\" >&nbsp;</th>\n",
       "      <th class=\"blank col5\" >&nbsp;</th>\n",
       "      <th class=\"blank col6\" >&nbsp;</th>\n",
       "      <th class=\"blank col7\" >&nbsp;</th>\n",
       "      <th class=\"blank col8\" >&nbsp;</th>\n",
       "      <th class=\"blank col9\" >&nbsp;</th>\n",
       "      <th class=\"blank col10\" >&nbsp;</th>\n",
       "      <th class=\"blank col11\" >&nbsp;</th>\n",
       "      <th class=\"blank col12\" >&nbsp;</th>\n",
       "      <th class=\"blank col13\" >&nbsp;</th>\n",
       "      <th class=\"blank col14\" >&nbsp;</th>\n",
       "    </tr>\n",
       "  </thead>\n",
       "  <tbody>\n",
       "    <tr>\n",
       "      <th id=\"T_60ef1_level0_row0\" class=\"row_heading level0 row0\" >0.000000</th>\n",
       "      <td id=\"T_60ef1_row0_col0\" class=\"data row0 col0\" >0.063882</td>\n",
       "      <td id=\"T_60ef1_row0_col1\" class=\"data row0 col1\" >0.05160</td>\n",
       "      <td id=\"T_60ef1_row0_col2\" class=\"data row0 col2\" >0.04914</td>\n",
       "      <td id=\"T_60ef1_row0_col3\" class=\"data row0 col3\" >0.05160</td>\n",
       "      <td id=\"T_60ef1_row0_col4\" class=\"data row0 col4\" >0.06143</td>\n",
       "      <td id=\"T_60ef1_row0_col5\" class=\"data row0 col5\" >0.05651</td>\n",
       "      <td id=\"T_60ef1_row0_col6\" class=\"data row0 col6\" >0.05651</td>\n",
       "      <td id=\"T_60ef1_row0_col7\" class=\"data row0 col7\" >0.06143</td>\n",
       "      <td id=\"T_60ef1_row0_col8\" class=\"data row0 col8\" >0.06143</td>\n",
       "      <td id=\"T_60ef1_row0_col9\" class=\"data row0 col9\" >0.07125</td>\n",
       "      <td id=\"T_60ef1_row0_col10\" class=\"data row0 col10\" >0.06880</td>\n",
       "      <td id=\"T_60ef1_row0_col11\" class=\"data row0 col11\" >0.06634</td>\n",
       "      <td id=\"T_60ef1_row0_col12\" class=\"data row0 col12\" >0.06388</td>\n",
       "      <td id=\"T_60ef1_row0_col13\" class=\"data row0 col13\" >0.06388</td>\n",
       "      <td id=\"T_60ef1_row0_col14\" class=\"data row0 col14\" >0.06388</td>\n",
       "    </tr>\n",
       "    <tr>\n",
       "      <th id=\"T_60ef1_level0_row1\" class=\"row_heading level0 row1\" >0.050000</th>\n",
       "      <td id=\"T_60ef1_row1_col0\" class=\"data row1 col0\" >0.063882</td>\n",
       "      <td id=\"T_60ef1_row1_col1\" class=\"data row1 col1\" >0.05160</td>\n",
       "      <td id=\"T_60ef1_row1_col2\" class=\"data row1 col2\" >0.05160</td>\n",
       "      <td id=\"T_60ef1_row1_col3\" class=\"data row1 col3\" >0.05160</td>\n",
       "      <td id=\"T_60ef1_row1_col4\" class=\"data row1 col4\" >0.05651</td>\n",
       "      <td id=\"T_60ef1_row1_col5\" class=\"data row1 col5\" >0.05651</td>\n",
       "      <td id=\"T_60ef1_row1_col6\" class=\"data row1 col6\" >0.05897</td>\n",
       "      <td id=\"T_60ef1_row1_col7\" class=\"data row1 col7\" >0.06143</td>\n",
       "      <td id=\"T_60ef1_row1_col8\" class=\"data row1 col8\" >0.06143</td>\n",
       "      <td id=\"T_60ef1_row1_col9\" class=\"data row1 col9\" >0.07125</td>\n",
       "      <td id=\"T_60ef1_row1_col10\" class=\"data row1 col10\" >0.06880</td>\n",
       "      <td id=\"T_60ef1_row1_col11\" class=\"data row1 col11\" >0.06634</td>\n",
       "      <td id=\"T_60ef1_row1_col12\" class=\"data row1 col12\" >0.06388</td>\n",
       "      <td id=\"T_60ef1_row1_col13\" class=\"data row1 col13\" >0.06388</td>\n",
       "      <td id=\"T_60ef1_row1_col14\" class=\"data row1 col14\" >0.06388</td>\n",
       "    </tr>\n",
       "    <tr>\n",
       "      <th id=\"T_60ef1_level0_row2\" class=\"row_heading level0 row2\" >0.100000</th>\n",
       "      <td id=\"T_60ef1_row2_col0\" class=\"data row2 col0\" >0.063882</td>\n",
       "      <td id=\"T_60ef1_row2_col1\" class=\"data row2 col1\" >0.04914</td>\n",
       "      <td id=\"T_60ef1_row2_col2\" class=\"data row2 col2\" >0.05405</td>\n",
       "      <td id=\"T_60ef1_row2_col3\" class=\"data row2 col3\" >0.05405</td>\n",
       "      <td id=\"T_60ef1_row2_col4\" class=\"data row2 col4\" >0.05651</td>\n",
       "      <td id=\"T_60ef1_row2_col5\" class=\"data row2 col5\" >0.05651</td>\n",
       "      <td id=\"T_60ef1_row2_col6\" class=\"data row2 col6\" >0.05651</td>\n",
       "      <td id=\"T_60ef1_row2_col7\" class=\"data row2 col7\" >0.06143</td>\n",
       "      <td id=\"T_60ef1_row2_col8\" class=\"data row2 col8\" >0.06143</td>\n",
       "      <td id=\"T_60ef1_row2_col9\" class=\"data row2 col9\" >0.07125</td>\n",
       "      <td id=\"T_60ef1_row2_col10\" class=\"data row2 col10\" >0.06880</td>\n",
       "      <td id=\"T_60ef1_row2_col11\" class=\"data row2 col11\" >0.06634</td>\n",
       "      <td id=\"T_60ef1_row2_col12\" class=\"data row2 col12\" >0.06388</td>\n",
       "      <td id=\"T_60ef1_row2_col13\" class=\"data row2 col13\" >0.06388</td>\n",
       "      <td id=\"T_60ef1_row2_col14\" class=\"data row2 col14\" >0.06388</td>\n",
       "    </tr>\n",
       "    <tr>\n",
       "      <th id=\"T_60ef1_level0_row3\" class=\"row_heading level0 row3\" >0.150000</th>\n",
       "      <td id=\"T_60ef1_row3_col0\" class=\"data row3 col0\" >0.063882</td>\n",
       "      <td id=\"T_60ef1_row3_col1\" class=\"data row3 col1\" >0.05160</td>\n",
       "      <td id=\"T_60ef1_row3_col2\" class=\"data row3 col2\" >0.05897</td>\n",
       "      <td id=\"T_60ef1_row3_col3\" class=\"data row3 col3\" >0.05897</td>\n",
       "      <td id=\"T_60ef1_row3_col4\" class=\"data row3 col4\" >0.05651</td>\n",
       "      <td id=\"T_60ef1_row3_col5\" class=\"data row3 col5\" >0.05651</td>\n",
       "      <td id=\"T_60ef1_row3_col6\" class=\"data row3 col6\" >0.05651</td>\n",
       "      <td id=\"T_60ef1_row3_col7\" class=\"data row3 col7\" >0.06634</td>\n",
       "      <td id=\"T_60ef1_row3_col8\" class=\"data row3 col8\" >0.06388</td>\n",
       "      <td id=\"T_60ef1_row3_col9\" class=\"data row3 col9\" >0.07125</td>\n",
       "      <td id=\"T_60ef1_row3_col10\" class=\"data row3 col10\" >0.06880</td>\n",
       "      <td id=\"T_60ef1_row3_col11\" class=\"data row3 col11\" >0.06634</td>\n",
       "      <td id=\"T_60ef1_row3_col12\" class=\"data row3 col12\" >0.06388</td>\n",
       "      <td id=\"T_60ef1_row3_col13\" class=\"data row3 col13\" >0.06388</td>\n",
       "      <td id=\"T_60ef1_row3_col14\" class=\"data row3 col14\" >0.06388</td>\n",
       "    </tr>\n",
       "    <tr>\n",
       "      <th id=\"T_60ef1_level0_row4\" class=\"row_heading level0 row4\" >0.200000</th>\n",
       "      <td id=\"T_60ef1_row4_col0\" class=\"data row4 col0\" >0.066339</td>\n",
       "      <td id=\"T_60ef1_row4_col1\" class=\"data row4 col1\" >0.05160</td>\n",
       "      <td id=\"T_60ef1_row4_col2\" class=\"data row4 col2\" >0.05651</td>\n",
       "      <td id=\"T_60ef1_row4_col3\" class=\"data row4 col3\" >0.05897</td>\n",
       "      <td id=\"T_60ef1_row4_col4\" class=\"data row4 col4\" >0.05651</td>\n",
       "      <td id=\"T_60ef1_row4_col5\" class=\"data row4 col5\" >0.06388</td>\n",
       "      <td id=\"T_60ef1_row4_col6\" class=\"data row4 col6\" >0.05897</td>\n",
       "      <td id=\"T_60ef1_row4_col7\" class=\"data row4 col7\" >0.06634</td>\n",
       "      <td id=\"T_60ef1_row4_col8\" class=\"data row4 col8\" >0.06634</td>\n",
       "      <td id=\"T_60ef1_row4_col9\" class=\"data row4 col9\" >0.07125</td>\n",
       "      <td id=\"T_60ef1_row4_col10\" class=\"data row4 col10\" >0.06880</td>\n",
       "      <td id=\"T_60ef1_row4_col11\" class=\"data row4 col11\" >0.06634</td>\n",
       "      <td id=\"T_60ef1_row4_col12\" class=\"data row4 col12\" >0.06634</td>\n",
       "      <td id=\"T_60ef1_row4_col13\" class=\"data row4 col13\" >0.06634</td>\n",
       "      <td id=\"T_60ef1_row4_col14\" class=\"data row4 col14\" >0.06634</td>\n",
       "    </tr>\n",
       "    <tr>\n",
       "      <th id=\"T_60ef1_level0_row5\" class=\"row_heading level0 row5\" >0.250000</th>\n",
       "      <td id=\"T_60ef1_row5_col0\" class=\"data row5 col0\" >0.066339</td>\n",
       "      <td id=\"T_60ef1_row5_col1\" class=\"data row5 col1\" >0.05897</td>\n",
       "      <td id=\"T_60ef1_row5_col2\" class=\"data row5 col2\" >0.05160</td>\n",
       "      <td id=\"T_60ef1_row5_col3\" class=\"data row5 col3\" >0.06143</td>\n",
       "      <td id=\"T_60ef1_row5_col4\" class=\"data row5 col4\" >0.06143</td>\n",
       "      <td id=\"T_60ef1_row5_col5\" class=\"data row5 col5\" >0.06634</td>\n",
       "      <td id=\"T_60ef1_row5_col6\" class=\"data row5 col6\" >0.05897</td>\n",
       "      <td id=\"T_60ef1_row5_col7\" class=\"data row5 col7\" >0.06634</td>\n",
       "      <td id=\"T_60ef1_row5_col8\" class=\"data row5 col8\" >0.06634</td>\n",
       "      <td id=\"T_60ef1_row5_col9\" class=\"data row5 col9\" >0.07125</td>\n",
       "      <td id=\"T_60ef1_row5_col10\" class=\"data row5 col10\" >0.06880</td>\n",
       "      <td id=\"T_60ef1_row5_col11\" class=\"data row5 col11\" >0.06634</td>\n",
       "      <td id=\"T_60ef1_row5_col12\" class=\"data row5 col12\" >0.06634</td>\n",
       "      <td id=\"T_60ef1_row5_col13\" class=\"data row5 col13\" >0.06634</td>\n",
       "      <td id=\"T_60ef1_row5_col14\" class=\"data row5 col14\" >0.06634</td>\n",
       "    </tr>\n",
       "    <tr>\n",
       "      <th id=\"T_60ef1_level0_row6\" class=\"row_heading level0 row6\" >0.300000</th>\n",
       "      <td id=\"T_60ef1_row6_col0\" class=\"data row6 col0\" >0.066339</td>\n",
       "      <td id=\"T_60ef1_row6_col1\" class=\"data row6 col1\" >0.05160</td>\n",
       "      <td id=\"T_60ef1_row6_col2\" class=\"data row6 col2\" >0.04914</td>\n",
       "      <td id=\"T_60ef1_row6_col3\" class=\"data row6 col3\" >0.05897</td>\n",
       "      <td id=\"T_60ef1_row6_col4\" class=\"data row6 col4\" >0.06143</td>\n",
       "      <td id=\"T_60ef1_row6_col5\" class=\"data row6 col5\" >0.06634</td>\n",
       "      <td id=\"T_60ef1_row6_col6\" class=\"data row6 col6\" >0.06388</td>\n",
       "      <td id=\"T_60ef1_row6_col7\" class=\"data row6 col7\" >0.06143</td>\n",
       "      <td id=\"T_60ef1_row6_col8\" class=\"data row6 col8\" >0.06880</td>\n",
       "      <td id=\"T_60ef1_row6_col9\" class=\"data row6 col9\" >0.07125</td>\n",
       "      <td id=\"T_60ef1_row6_col10\" class=\"data row6 col10\" >0.06880</td>\n",
       "      <td id=\"T_60ef1_row6_col11\" class=\"data row6 col11\" >0.06634</td>\n",
       "      <td id=\"T_60ef1_row6_col12\" class=\"data row6 col12\" >0.06634</td>\n",
       "      <td id=\"T_60ef1_row6_col13\" class=\"data row6 col13\" >0.06634</td>\n",
       "      <td id=\"T_60ef1_row6_col14\" class=\"data row6 col14\" >0.06634</td>\n",
       "    </tr>\n",
       "    <tr>\n",
       "      <th id=\"T_60ef1_level0_row7\" class=\"row_heading level0 row7\" >0.350000</th>\n",
       "      <td id=\"T_60ef1_row7_col0\" class=\"data row7 col0\" >0.066339</td>\n",
       "      <td id=\"T_60ef1_row7_col1\" class=\"data row7 col1\" >0.04668</td>\n",
       "      <td id=\"T_60ef1_row7_col2\" class=\"data row7 col2\" >0.05405</td>\n",
       "      <td id=\"T_60ef1_row7_col3\" class=\"data row7 col3\" >0.05405</td>\n",
       "      <td id=\"T_60ef1_row7_col4\" class=\"data row7 col4\" >0.05897</td>\n",
       "      <td id=\"T_60ef1_row7_col5\" class=\"data row7 col5\" >0.06388</td>\n",
       "      <td id=\"T_60ef1_row7_col6\" class=\"data row7 col6\" >0.06143</td>\n",
       "      <td id=\"T_60ef1_row7_col7\" class=\"data row7 col7\" >0.05897</td>\n",
       "      <td id=\"T_60ef1_row7_col8\" class=\"data row7 col8\" >0.06880</td>\n",
       "      <td id=\"T_60ef1_row7_col9\" class=\"data row7 col9\" >0.07371</td>\n",
       "      <td id=\"T_60ef1_row7_col10\" class=\"data row7 col10\" >0.06880</td>\n",
       "      <td id=\"T_60ef1_row7_col11\" class=\"data row7 col11\" >0.06634</td>\n",
       "      <td id=\"T_60ef1_row7_col12\" class=\"data row7 col12\" >0.06634</td>\n",
       "      <td id=\"T_60ef1_row7_col13\" class=\"data row7 col13\" >0.06634</td>\n",
       "      <td id=\"T_60ef1_row7_col14\" class=\"data row7 col14\" >0.06634</td>\n",
       "    </tr>\n",
       "    <tr>\n",
       "      <th id=\"T_60ef1_level0_row8\" class=\"row_heading level0 row8\" >0.400000</th>\n",
       "      <td id=\"T_60ef1_row8_col0\" class=\"data row8 col0\" >0.066339</td>\n",
       "      <td id=\"T_60ef1_row8_col1\" class=\"data row8 col1\" >0.05160</td>\n",
       "      <td id=\"T_60ef1_row8_col2\" class=\"data row8 col2\" >0.05897</td>\n",
       "      <td id=\"T_60ef1_row8_col3\" class=\"data row8 col3\" >0.05897</td>\n",
       "      <td id=\"T_60ef1_row8_col4\" class=\"data row8 col4\" >0.05897</td>\n",
       "      <td id=\"T_60ef1_row8_col5\" class=\"data row8 col5\" >0.06634</td>\n",
       "      <td id=\"T_60ef1_row8_col6\" class=\"data row8 col6\" >0.05897</td>\n",
       "      <td id=\"T_60ef1_row8_col7\" class=\"data row8 col7\" >0.06143</td>\n",
       "      <td id=\"T_60ef1_row8_col8\" class=\"data row8 col8\" >0.06634</td>\n",
       "      <td id=\"T_60ef1_row8_col9\" class=\"data row8 col9\" >0.07371</td>\n",
       "      <td id=\"T_60ef1_row8_col10\" class=\"data row8 col10\" >0.06880</td>\n",
       "      <td id=\"T_60ef1_row8_col11\" class=\"data row8 col11\" >0.06634</td>\n",
       "      <td id=\"T_60ef1_row8_col12\" class=\"data row8 col12\" >0.06634</td>\n",
       "      <td id=\"T_60ef1_row8_col13\" class=\"data row8 col13\" >0.06634</td>\n",
       "      <td id=\"T_60ef1_row8_col14\" class=\"data row8 col14\" >0.06634</td>\n",
       "    </tr>\n",
       "    <tr>\n",
       "      <th id=\"T_60ef1_level0_row9\" class=\"row_heading level0 row9\" >0.450000</th>\n",
       "      <td id=\"T_60ef1_row9_col0\" class=\"data row9 col0\" >0.063882</td>\n",
       "      <td id=\"T_60ef1_row9_col1\" class=\"data row9 col1\" >0.04914</td>\n",
       "      <td id=\"T_60ef1_row9_col2\" class=\"data row9 col2\" >0.06143</td>\n",
       "      <td id=\"T_60ef1_row9_col3\" class=\"data row9 col3\" >0.05405</td>\n",
       "      <td id=\"T_60ef1_row9_col4\" class=\"data row9 col4\" >0.05651</td>\n",
       "      <td id=\"T_60ef1_row9_col5\" class=\"data row9 col5\" >0.06143</td>\n",
       "      <td id=\"T_60ef1_row9_col6\" class=\"data row9 col6\" >0.06143</td>\n",
       "      <td id=\"T_60ef1_row9_col7\" class=\"data row9 col7\" >0.06143</td>\n",
       "      <td id=\"T_60ef1_row9_col8\" class=\"data row9 col8\" >0.06880</td>\n",
       "      <td id=\"T_60ef1_row9_col9\" class=\"data row9 col9\" >0.07371</td>\n",
       "      <td id=\"T_60ef1_row9_col10\" class=\"data row9 col10\" >0.06880</td>\n",
       "      <td id=\"T_60ef1_row9_col11\" class=\"data row9 col11\" >0.06634</td>\n",
       "      <td id=\"T_60ef1_row9_col12\" class=\"data row9 col12\" >0.06634</td>\n",
       "      <td id=\"T_60ef1_row9_col13\" class=\"data row9 col13\" >0.06388</td>\n",
       "      <td id=\"T_60ef1_row9_col14\" class=\"data row9 col14\" >0.06388</td>\n",
       "    </tr>\n",
       "    <tr>\n",
       "      <th id=\"T_60ef1_level0_row10\" class=\"row_heading level0 row10\" >0.500000</th>\n",
       "      <td id=\"T_60ef1_row10_col0\" class=\"data row10 col0\" >0.066339</td>\n",
       "      <td id=\"T_60ef1_row10_col1\" class=\"data row10 col1\" >0.05160</td>\n",
       "      <td id=\"T_60ef1_row10_col2\" class=\"data row10 col2\" >0.05405</td>\n",
       "      <td id=\"T_60ef1_row10_col3\" class=\"data row10 col3\" >0.05897</td>\n",
       "      <td id=\"T_60ef1_row10_col4\" class=\"data row10 col4\" >0.05160</td>\n",
       "      <td id=\"T_60ef1_row10_col5\" class=\"data row10 col5\" >0.05897</td>\n",
       "      <td id=\"T_60ef1_row10_col6\" class=\"data row10 col6\" >0.06388</td>\n",
       "      <td id=\"T_60ef1_row10_col7\" class=\"data row10 col7\" >0.06634</td>\n",
       "      <td id=\"T_60ef1_row10_col8\" class=\"data row10 col8\" >0.06880</td>\n",
       "      <td id=\"T_60ef1_row10_col9\" class=\"data row10 col9\" >0.07125</td>\n",
       "      <td id=\"T_60ef1_row10_col10\" class=\"data row10 col10\" >0.07125</td>\n",
       "      <td id=\"T_60ef1_row10_col11\" class=\"data row10 col11\" >0.06634</td>\n",
       "      <td id=\"T_60ef1_row10_col12\" class=\"data row10 col12\" >0.06634</td>\n",
       "      <td id=\"T_60ef1_row10_col13\" class=\"data row10 col13\" >0.06388</td>\n",
       "      <td id=\"T_60ef1_row10_col14\" class=\"data row10 col14\" >0.06634</td>\n",
       "    </tr>\n",
       "    <tr>\n",
       "      <th id=\"T_60ef1_level0_row11\" class=\"row_heading level0 row11\" >0.550000</th>\n",
       "      <td id=\"T_60ef1_row11_col0\" class=\"data row11 col0\" >0.066339</td>\n",
       "      <td id=\"T_60ef1_row11_col1\" class=\"data row11 col1\" >0.05897</td>\n",
       "      <td id=\"T_60ef1_row11_col2\" class=\"data row11 col2\" >0.06143</td>\n",
       "      <td id=\"T_60ef1_row11_col3\" class=\"data row11 col3\" >0.05897</td>\n",
       "      <td id=\"T_60ef1_row11_col4\" class=\"data row11 col4\" >0.05405</td>\n",
       "      <td id=\"T_60ef1_row11_col5\" class=\"data row11 col5\" >0.06143</td>\n",
       "      <td id=\"T_60ef1_row11_col6\" class=\"data row11 col6\" >0.06388</td>\n",
       "      <td id=\"T_60ef1_row11_col7\" class=\"data row11 col7\" >0.06880</td>\n",
       "      <td id=\"T_60ef1_row11_col8\" class=\"data row11 col8\" >0.06880</td>\n",
       "      <td id=\"T_60ef1_row11_col9\" class=\"data row11 col9\" >0.06880</td>\n",
       "      <td id=\"T_60ef1_row11_col10\" class=\"data row11 col10\" >0.06880</td>\n",
       "      <td id=\"T_60ef1_row11_col11\" class=\"data row11 col11\" >0.06880</td>\n",
       "      <td id=\"T_60ef1_row11_col12\" class=\"data row11 col12\" >0.06634</td>\n",
       "      <td id=\"T_60ef1_row11_col13\" class=\"data row11 col13\" >0.06634</td>\n",
       "      <td id=\"T_60ef1_row11_col14\" class=\"data row11 col14\" >0.06634</td>\n",
       "    </tr>\n",
       "    <tr>\n",
       "      <th id=\"T_60ef1_level0_row12\" class=\"row_heading level0 row12\" >0.600000</th>\n",
       "      <td id=\"T_60ef1_row12_col0\" class=\"data row12 col0\" >0.066339</td>\n",
       "      <td id=\"T_60ef1_row12_col1\" class=\"data row12 col1\" >0.05897</td>\n",
       "      <td id=\"T_60ef1_row12_col2\" class=\"data row12 col2\" >0.06143</td>\n",
       "      <td id=\"T_60ef1_row12_col3\" class=\"data row12 col3\" >0.05897</td>\n",
       "      <td id=\"T_60ef1_row12_col4\" class=\"data row12 col4\" >0.05897</td>\n",
       "      <td id=\"T_60ef1_row12_col5\" class=\"data row12 col5\" >0.06388</td>\n",
       "      <td id=\"T_60ef1_row12_col6\" class=\"data row12 col6\" >0.06143</td>\n",
       "      <td id=\"T_60ef1_row12_col7\" class=\"data row12 col7\" >0.07125</td>\n",
       "      <td id=\"T_60ef1_row12_col8\" class=\"data row12 col8\" >0.06880</td>\n",
       "      <td id=\"T_60ef1_row12_col9\" class=\"data row12 col9\" >0.06880</td>\n",
       "      <td id=\"T_60ef1_row12_col10\" class=\"data row12 col10\" >0.06880</td>\n",
       "      <td id=\"T_60ef1_row12_col11\" class=\"data row12 col11\" >0.06880</td>\n",
       "      <td id=\"T_60ef1_row12_col12\" class=\"data row12 col12\" >0.06634</td>\n",
       "      <td id=\"T_60ef1_row12_col13\" class=\"data row12 col13\" >0.06634</td>\n",
       "      <td id=\"T_60ef1_row12_col14\" class=\"data row12 col14\" >0.06634</td>\n",
       "    </tr>\n",
       "    <tr>\n",
       "      <th id=\"T_60ef1_level0_row13\" class=\"row_heading level0 row13\" >0.650000</th>\n",
       "      <td id=\"T_60ef1_row13_col0\" class=\"data row13 col0\" >0.068796</td>\n",
       "      <td id=\"T_60ef1_row13_col1\" class=\"data row13 col1\" >0.06388</td>\n",
       "      <td id=\"T_60ef1_row13_col2\" class=\"data row13 col2\" >0.06388</td>\n",
       "      <td id=\"T_60ef1_row13_col3\" class=\"data row13 col3\" >0.05897</td>\n",
       "      <td id=\"T_60ef1_row13_col4\" class=\"data row13 col4\" >0.06880</td>\n",
       "      <td id=\"T_60ef1_row13_col5\" class=\"data row13 col5\" >0.06634</td>\n",
       "      <td id=\"T_60ef1_row13_col6\" class=\"data row13 col6\" >0.06634</td>\n",
       "      <td id=\"T_60ef1_row13_col7\" class=\"data row13 col7\" >0.07125</td>\n",
       "      <td id=\"T_60ef1_row13_col8\" class=\"data row13 col8\" >0.06880</td>\n",
       "      <td id=\"T_60ef1_row13_col9\" class=\"data row13 col9\" >0.06880</td>\n",
       "      <td id=\"T_60ef1_row13_col10\" class=\"data row13 col10\" >0.06634</td>\n",
       "      <td id=\"T_60ef1_row13_col11\" class=\"data row13 col11\" >0.06880</td>\n",
       "      <td id=\"T_60ef1_row13_col12\" class=\"data row13 col12\" >0.06880</td>\n",
       "      <td id=\"T_60ef1_row13_col13\" class=\"data row13 col13\" >0.06880</td>\n",
       "      <td id=\"T_60ef1_row13_col14\" class=\"data row13 col14\" >0.06880</td>\n",
       "    </tr>\n",
       "    <tr>\n",
       "      <th id=\"T_60ef1_level0_row14\" class=\"row_heading level0 row14\" >0.700000</th>\n",
       "      <td id=\"T_60ef1_row14_col0\" class=\"data row14 col0\" >0.068796</td>\n",
       "      <td id=\"T_60ef1_row14_col1\" class=\"data row14 col1\" >0.06143</td>\n",
       "      <td id=\"T_60ef1_row14_col2\" class=\"data row14 col2\" >0.06143</td>\n",
       "      <td id=\"T_60ef1_row14_col3\" class=\"data row14 col3\" >0.06388</td>\n",
       "      <td id=\"T_60ef1_row14_col4\" class=\"data row14 col4\" >0.06143</td>\n",
       "      <td id=\"T_60ef1_row14_col5\" class=\"data row14 col5\" >0.06634</td>\n",
       "      <td id=\"T_60ef1_row14_col6\" class=\"data row14 col6\" >0.06634</td>\n",
       "      <td id=\"T_60ef1_row14_col7\" class=\"data row14 col7\" >0.06880</td>\n",
       "      <td id=\"T_60ef1_row14_col8\" class=\"data row14 col8\" >0.07125</td>\n",
       "      <td id=\"T_60ef1_row14_col9\" class=\"data row14 col9\" >0.06880</td>\n",
       "      <td id=\"T_60ef1_row14_col10\" class=\"data row14 col10\" >0.06634</td>\n",
       "      <td id=\"T_60ef1_row14_col11\" class=\"data row14 col11\" >0.06634</td>\n",
       "      <td id=\"T_60ef1_row14_col12\" class=\"data row14 col12\" >0.06634</td>\n",
       "      <td id=\"T_60ef1_row14_col13\" class=\"data row14 col13\" >0.06634</td>\n",
       "      <td id=\"T_60ef1_row14_col14\" class=\"data row14 col14\" >0.06880</td>\n",
       "    </tr>\n",
       "    <tr>\n",
       "      <th id=\"T_60ef1_level0_row15\" class=\"row_heading level0 row15\" >0.750000</th>\n",
       "      <td id=\"T_60ef1_row15_col0\" class=\"data row15 col0\" >0.066339</td>\n",
       "      <td id=\"T_60ef1_row15_col1\" class=\"data row15 col1\" >0.05160</td>\n",
       "      <td id=\"T_60ef1_row15_col2\" class=\"data row15 col2\" >0.06634</td>\n",
       "      <td id=\"T_60ef1_row15_col3\" class=\"data row15 col3\" >0.07125</td>\n",
       "      <td id=\"T_60ef1_row15_col4\" class=\"data row15 col4\" >0.06880</td>\n",
       "      <td id=\"T_60ef1_row15_col5\" class=\"data row15 col5\" >0.06880</td>\n",
       "      <td id=\"T_60ef1_row15_col6\" class=\"data row15 col6\" >0.06880</td>\n",
       "      <td id=\"T_60ef1_row15_col7\" class=\"data row15 col7\" >0.06880</td>\n",
       "      <td id=\"T_60ef1_row15_col8\" class=\"data row15 col8\" >0.07125</td>\n",
       "      <td id=\"T_60ef1_row15_col9\" class=\"data row15 col9\" >0.06880</td>\n",
       "      <td id=\"T_60ef1_row15_col10\" class=\"data row15 col10\" >0.06634</td>\n",
       "      <td id=\"T_60ef1_row15_col11\" class=\"data row15 col11\" >0.06634</td>\n",
       "      <td id=\"T_60ef1_row15_col12\" class=\"data row15 col12\" >0.06634</td>\n",
       "      <td id=\"T_60ef1_row15_col13\" class=\"data row15 col13\" >0.06634</td>\n",
       "      <td id=\"T_60ef1_row15_col14\" class=\"data row15 col14\" >0.06634</td>\n",
       "    </tr>\n",
       "    <tr>\n",
       "      <th id=\"T_60ef1_level0_row16\" class=\"row_heading level0 row16\" >0.800000</th>\n",
       "      <td id=\"T_60ef1_row16_col0\" class=\"data row16 col0\" >0.066339</td>\n",
       "      <td id=\"T_60ef1_row16_col1\" class=\"data row16 col1\" >0.05405</td>\n",
       "      <td id=\"T_60ef1_row16_col2\" class=\"data row16 col2\" >0.06880</td>\n",
       "      <td id=\"T_60ef1_row16_col3\" class=\"data row16 col3\" >0.07125</td>\n",
       "      <td id=\"T_60ef1_row16_col4\" class=\"data row16 col4\" >0.06634</td>\n",
       "      <td id=\"T_60ef1_row16_col5\" class=\"data row16 col5\" >0.06880</td>\n",
       "      <td id=\"T_60ef1_row16_col6\" class=\"data row16 col6\" >0.06880</td>\n",
       "      <td id=\"T_60ef1_row16_col7\" class=\"data row16 col7\" >0.06880</td>\n",
       "      <td id=\"T_60ef1_row16_col8\" class=\"data row16 col8\" >0.06880</td>\n",
       "      <td id=\"T_60ef1_row16_col9\" class=\"data row16 col9\" >0.07125</td>\n",
       "      <td id=\"T_60ef1_row16_col10\" class=\"data row16 col10\" >0.06634</td>\n",
       "      <td id=\"T_60ef1_row16_col11\" class=\"data row16 col11\" >0.06634</td>\n",
       "      <td id=\"T_60ef1_row16_col12\" class=\"data row16 col12\" >0.06634</td>\n",
       "      <td id=\"T_60ef1_row16_col13\" class=\"data row16 col13\" >0.06634</td>\n",
       "      <td id=\"T_60ef1_row16_col14\" class=\"data row16 col14\" >0.06634</td>\n",
       "    </tr>\n",
       "    <tr>\n",
       "      <th id=\"T_60ef1_level0_row17\" class=\"row_heading level0 row17\" >0.850000</th>\n",
       "      <td id=\"T_60ef1_row17_col0\" class=\"data row17 col0\" >0.066339</td>\n",
       "      <td id=\"T_60ef1_row17_col1\" class=\"data row17 col1\" >0.05651</td>\n",
       "      <td id=\"T_60ef1_row17_col2\" class=\"data row17 col2\" >0.07371</td>\n",
       "      <td id=\"T_60ef1_row17_col3\" class=\"data row17 col3\" >0.07371</td>\n",
       "      <td id=\"T_60ef1_row17_col4\" class=\"data row17 col4\" >0.07125</td>\n",
       "      <td id=\"T_60ef1_row17_col5\" class=\"data row17 col5\" >0.06880</td>\n",
       "      <td id=\"T_60ef1_row17_col6\" class=\"data row17 col6\" >0.06880</td>\n",
       "      <td id=\"T_60ef1_row17_col7\" class=\"data row17 col7\" >0.07125</td>\n",
       "      <td id=\"T_60ef1_row17_col8\" class=\"data row17 col8\" >0.07371</td>\n",
       "      <td id=\"T_60ef1_row17_col9\" class=\"data row17 col9\" >0.07371</td>\n",
       "      <td id=\"T_60ef1_row17_col10\" class=\"data row17 col10\" >0.06880</td>\n",
       "      <td id=\"T_60ef1_row17_col11\" class=\"data row17 col11\" >0.06634</td>\n",
       "      <td id=\"T_60ef1_row17_col12\" class=\"data row17 col12\" >0.06634</td>\n",
       "      <td id=\"T_60ef1_row17_col13\" class=\"data row17 col13\" >0.06634</td>\n",
       "      <td id=\"T_60ef1_row17_col14\" class=\"data row17 col14\" >0.06634</td>\n",
       "    </tr>\n",
       "    <tr>\n",
       "      <th id=\"T_60ef1_level0_row18\" class=\"row_heading level0 row18\" >0.900000</th>\n",
       "      <td id=\"T_60ef1_row18_col0\" class=\"data row18 col0\" >0.068796</td>\n",
       "      <td id=\"T_60ef1_row18_col1\" class=\"data row18 col1\" >0.05897</td>\n",
       "      <td id=\"T_60ef1_row18_col2\" class=\"data row18 col2\" >0.07125</td>\n",
       "      <td id=\"T_60ef1_row18_col3\" class=\"data row18 col3\" >0.07371</td>\n",
       "      <td id=\"T_60ef1_row18_col4\" class=\"data row18 col4\" >0.06880</td>\n",
       "      <td id=\"T_60ef1_row18_col5\" class=\"data row18 col5\" >0.07371</td>\n",
       "      <td id=\"T_60ef1_row18_col6\" class=\"data row18 col6\" >0.06880</td>\n",
       "      <td id=\"T_60ef1_row18_col7\" class=\"data row18 col7\" >0.07125</td>\n",
       "      <td id=\"T_60ef1_row18_col8\" class=\"data row18 col8\" >0.07371</td>\n",
       "      <td id=\"T_60ef1_row18_col9\" class=\"data row18 col9\" >0.07617</td>\n",
       "      <td id=\"T_60ef1_row18_col10\" class=\"data row18 col10\" >0.06880</td>\n",
       "      <td id=\"T_60ef1_row18_col11\" class=\"data row18 col11\" >0.06880</td>\n",
       "      <td id=\"T_60ef1_row18_col12\" class=\"data row18 col12\" >0.06880</td>\n",
       "      <td id=\"T_60ef1_row18_col13\" class=\"data row18 col13\" >0.06880</td>\n",
       "      <td id=\"T_60ef1_row18_col14\" class=\"data row18 col14\" >0.06880</td>\n",
       "    </tr>\n",
       "    <tr>\n",
       "      <th id=\"T_60ef1_level0_row19\" class=\"row_heading level0 row19\" >0.950000</th>\n",
       "      <td id=\"T_60ef1_row19_col0\" class=\"data row19 col0\" >0.068796</td>\n",
       "      <td id=\"T_60ef1_row19_col1\" class=\"data row19 col1\" >0.05651</td>\n",
       "      <td id=\"T_60ef1_row19_col2\" class=\"data row19 col2\" >0.06880</td>\n",
       "      <td id=\"T_60ef1_row19_col3\" class=\"data row19 col3\" >0.07617</td>\n",
       "      <td id=\"T_60ef1_row19_col4\" class=\"data row19 col4\" >0.07125</td>\n",
       "      <td id=\"T_60ef1_row19_col5\" class=\"data row19 col5\" >0.07371</td>\n",
       "      <td id=\"T_60ef1_row19_col6\" class=\"data row19 col6\" >0.07371</td>\n",
       "      <td id=\"T_60ef1_row19_col7\" class=\"data row19 col7\" >0.07371</td>\n",
       "      <td id=\"T_60ef1_row19_col8\" class=\"data row19 col8\" >0.07371</td>\n",
       "      <td id=\"T_60ef1_row19_col9\" class=\"data row19 col9\" >0.07125</td>\n",
       "      <td id=\"T_60ef1_row19_col10\" class=\"data row19 col10\" >0.07125</td>\n",
       "      <td id=\"T_60ef1_row19_col11\" class=\"data row19 col11\" >0.06880</td>\n",
       "      <td id=\"T_60ef1_row19_col12\" class=\"data row19 col12\" >0.06880</td>\n",
       "      <td id=\"T_60ef1_row19_col13\" class=\"data row19 col13\" >0.06880</td>\n",
       "      <td id=\"T_60ef1_row19_col14\" class=\"data row19 col14\" >0.06880</td>\n",
       "    </tr>\n",
       "    <tr>\n",
       "      <th id=\"T_60ef1_level0_row20\" class=\"row_heading level0 row20\" >1.000000</th>\n",
       "      <td id=\"T_60ef1_row20_col0\" class=\"data row20 col0\" >0.068796</td>\n",
       "      <td id=\"T_60ef1_row20_col1\" class=\"data row20 col1\" >0.05405</td>\n",
       "      <td id=\"T_60ef1_row20_col2\" class=\"data row20 col2\" >0.07371</td>\n",
       "      <td id=\"T_60ef1_row20_col3\" class=\"data row20 col3\" >0.07617</td>\n",
       "      <td id=\"T_60ef1_row20_col4\" class=\"data row20 col4\" >0.07371</td>\n",
       "      <td id=\"T_60ef1_row20_col5\" class=\"data row20 col5\" >0.07371</td>\n",
       "      <td id=\"T_60ef1_row20_col6\" class=\"data row20 col6\" >0.07371</td>\n",
       "      <td id=\"T_60ef1_row20_col7\" class=\"data row20 col7\" >0.07371</td>\n",
       "      <td id=\"T_60ef1_row20_col8\" class=\"data row20 col8\" >0.07617</td>\n",
       "      <td id=\"T_60ef1_row20_col9\" class=\"data row20 col9\" >0.07371</td>\n",
       "      <td id=\"T_60ef1_row20_col10\" class=\"data row20 col10\" >0.07371</td>\n",
       "      <td id=\"T_60ef1_row20_col11\" class=\"data row20 col11\" >0.06880</td>\n",
       "      <td id=\"T_60ef1_row20_col12\" class=\"data row20 col12\" >0.06880</td>\n",
       "      <td id=\"T_60ef1_row20_col13\" class=\"data row20 col13\" >0.06880</td>\n",
       "      <td id=\"T_60ef1_row20_col14\" class=\"data row20 col14\" >0.06880</td>\n",
       "    </tr>\n",
       "  </tbody>\n",
       "</table>\n"
      ],
      "text/plain": [
       "<pandas.io.formats.style.Styler at 0x173565531c0>"
      ]
     },
     "execution_count": 42,
     "metadata": {},
     "output_type": "execute_result"
    }
   ],
   "source": [
    "seq_knn_results.pivot(index=\"power\", columns=\"k\", values=\"metric\").style.format(\"{:.5f}\").background_gradient(high=0.3, axis = None)\n"
   ]
  },
  {
   "cell_type": "code",
   "execution_count": 43,
   "id": "f4e0f65b",
   "metadata": {},
   "outputs": [
    {
     "data": {
      "image/svg+xml": "<?xml version=\"1.0\" encoding=\"utf-8\" standalone=\"no\"?>\n<!DOCTYPE svg PUBLIC \"-//W3C//DTD SVG 1.1//EN\"\n  \"http://www.w3.org/Graphics/SVG/1.1/DTD/svg11.dtd\">\n<svg xmlns:xlink=\"http://www.w3.org/1999/xlink\" width=\"608.028125pt\" height=\"392.514375pt\" viewBox=\"0 0 608.028125 392.514375\" xmlns=\"http://www.w3.org/2000/svg\" version=\"1.1\">\n <metadata>\n  <rdf:RDF xmlns:dc=\"http://purl.org/dc/elements/1.1/\" xmlns:cc=\"http://creativecommons.org/ns#\" xmlns:rdf=\"http://www.w3.org/1999/02/22-rdf-syntax-ns#\">\n   <cc:Work>\n    <dc:type rdf:resource=\"http://purl.org/dc/dcmitype/StillImage\"/>\n    <dc:date>2023-03-25T12:42:22.514256</dc:date>\n    <dc:format>image/svg+xml</dc:format>\n    <dc:creator>\n     <cc:Agent>\n      <dc:title>Matplotlib v3.7.0, https://matplotlib.org/</dc:title>\n     </cc:Agent>\n    </dc:creator>\n   </cc:Work>\n  </rdf:RDF>\n </metadata>\n <defs>\n  <style type=\"text/css\">*{stroke-linejoin: round; stroke-linecap: butt}</style>\n </defs>\n <g id=\"figure_1\">\n  <g id=\"patch_1\">\n   <path d=\"M 0 392.514375 \nL 608.028125 392.514375 \nL 608.028125 0 \nL 0 0 \nz\n\" style=\"fill: #ffffff\"/>\n  </g>\n  <g id=\"axes_1\">\n   <g id=\"patch_2\">\n    <path d=\"M 42.828125 354.958125 \nL 600.828125 354.958125 \nL 600.828125 22.318125 \nL 42.828125 22.318125 \nz\n\" style=\"fill: #ffffff\"/>\n   </g>\n   <g id=\"matplotlib.axis_1\">\n    <g id=\"xtick_1\">\n     <g id=\"line2d_1\">\n      <defs>\n       <path id=\"me23119fe4f\" d=\"M 0 0 \nL 0 3.5 \n\" style=\"stroke: #000000; stroke-width: 0.8\"/>\n      </defs>\n      <g>\n       <use xlink:href=\"#me23119fe4f\" x=\"66.920401\" y=\"354.958125\" style=\"stroke: #000000; stroke-width: 0.8\"/>\n      </g>\n     </g>\n     <g id=\"text_1\">\n      <!-- 0 -->\n      <g transform=\"translate(63.739151 369.556562) scale(0.1 -0.1)\">\n       <defs>\n        <path id=\"DejaVuSans-30\" d=\"M 2034 4250 \nQ 1547 4250 1301 3770 \nQ 1056 3291 1056 2328 \nQ 1056 1369 1301 889 \nQ 1547 409 2034 409 \nQ 2525 409 2770 889 \nQ 3016 1369 3016 2328 \nQ 3016 3291 2770 3770 \nQ 2525 4250 2034 4250 \nz\nM 2034 4750 \nQ 2819 4750 3233 4129 \nQ 3647 3509 3647 2328 \nQ 3647 1150 3233 529 \nQ 2819 -91 2034 -91 \nQ 1250 -91 836 529 \nQ 422 1150 422 2328 \nQ 422 3509 836 4129 \nQ 1250 4750 2034 4750 \nz\n\" transform=\"scale(0.015625)\"/>\n       </defs>\n       <use xlink:href=\"#DejaVuSans-30\"/>\n      </g>\n     </g>\n    </g>\n    <g id=\"xtick_2\">\n     <g id=\"line2d_2\">\n      <g>\n       <use xlink:href=\"#me23119fe4f\" x=\"130.488412\" y=\"354.958125\" style=\"stroke: #000000; stroke-width: 0.8\"/>\n      </g>\n     </g>\n     <g id=\"text_2\">\n      <!-- 500 -->\n      <g transform=\"translate(120.944662 369.556562) scale(0.1 -0.1)\">\n       <defs>\n        <path id=\"DejaVuSans-35\" d=\"M 691 4666 \nL 3169 4666 \nL 3169 4134 \nL 1269 4134 \nL 1269 2991 \nQ 1406 3038 1543 3061 \nQ 1681 3084 1819 3084 \nQ 2600 3084 3056 2656 \nQ 3513 2228 3513 1497 \nQ 3513 744 3044 326 \nQ 2575 -91 1722 -91 \nQ 1428 -91 1123 -41 \nQ 819 9 494 109 \nL 494 744 \nQ 775 591 1075 516 \nQ 1375 441 1709 441 \nQ 2250 441 2565 725 \nQ 2881 1009 2881 1497 \nQ 2881 1984 2565 2268 \nQ 2250 2553 1709 2553 \nQ 1456 2553 1204 2497 \nQ 953 2441 691 2322 \nL 691 4666 \nz\n\" transform=\"scale(0.015625)\"/>\n       </defs>\n       <use xlink:href=\"#DejaVuSans-35\"/>\n       <use xlink:href=\"#DejaVuSans-30\" x=\"63.623047\"/>\n       <use xlink:href=\"#DejaVuSans-30\" x=\"127.246094\"/>\n      </g>\n     </g>\n    </g>\n    <g id=\"xtick_3\">\n     <g id=\"line2d_3\">\n      <g>\n       <use xlink:href=\"#me23119fe4f\" x=\"194.056423\" y=\"354.958125\" style=\"stroke: #000000; stroke-width: 0.8\"/>\n      </g>\n     </g>\n     <g id=\"text_3\">\n      <!-- 1000 -->\n      <g transform=\"translate(181.331423 369.556562) scale(0.1 -0.1)\">\n       <defs>\n        <path id=\"DejaVuSans-31\" d=\"M 794 531 \nL 1825 531 \nL 1825 4091 \nL 703 3866 \nL 703 4441 \nL 1819 4666 \nL 2450 4666 \nL 2450 531 \nL 3481 531 \nL 3481 0 \nL 794 0 \nL 794 531 \nz\n\" transform=\"scale(0.015625)\"/>\n       </defs>\n       <use xlink:href=\"#DejaVuSans-31\"/>\n       <use xlink:href=\"#DejaVuSans-30\" x=\"63.623047\"/>\n       <use xlink:href=\"#DejaVuSans-30\" x=\"127.246094\"/>\n       <use xlink:href=\"#DejaVuSans-30\" x=\"190.869141\"/>\n      </g>\n     </g>\n    </g>\n    <g id=\"xtick_4\">\n     <g id=\"line2d_4\">\n      <g>\n       <use xlink:href=\"#me23119fe4f\" x=\"257.624434\" y=\"354.958125\" style=\"stroke: #000000; stroke-width: 0.8\"/>\n      </g>\n     </g>\n     <g id=\"text_4\">\n      <!-- 1500 -->\n      <g transform=\"translate(244.899434 369.556562) scale(0.1 -0.1)\">\n       <use xlink:href=\"#DejaVuSans-31\"/>\n       <use xlink:href=\"#DejaVuSans-35\" x=\"63.623047\"/>\n       <use xlink:href=\"#DejaVuSans-30\" x=\"127.246094\"/>\n       <use xlink:href=\"#DejaVuSans-30\" x=\"190.869141\"/>\n      </g>\n     </g>\n    </g>\n    <g id=\"xtick_5\">\n     <g id=\"line2d_5\">\n      <g>\n       <use xlink:href=\"#me23119fe4f\" x=\"321.192445\" y=\"354.958125\" style=\"stroke: #000000; stroke-width: 0.8\"/>\n      </g>\n     </g>\n     <g id=\"text_5\">\n      <!-- 2000 -->\n      <g transform=\"translate(308.467445 369.556562) scale(0.1 -0.1)\">\n       <defs>\n        <path id=\"DejaVuSans-32\" d=\"M 1228 531 \nL 3431 531 \nL 3431 0 \nL 469 0 \nL 469 531 \nQ 828 903 1448 1529 \nQ 2069 2156 2228 2338 \nQ 2531 2678 2651 2914 \nQ 2772 3150 2772 3378 \nQ 2772 3750 2511 3984 \nQ 2250 4219 1831 4219 \nQ 1534 4219 1204 4116 \nQ 875 4013 500 3803 \nL 500 4441 \nQ 881 4594 1212 4672 \nQ 1544 4750 1819 4750 \nQ 2544 4750 2975 4387 \nQ 3406 4025 3406 3419 \nQ 3406 3131 3298 2873 \nQ 3191 2616 2906 2266 \nQ 2828 2175 2409 1742 \nQ 1991 1309 1228 531 \nz\n\" transform=\"scale(0.015625)\"/>\n       </defs>\n       <use xlink:href=\"#DejaVuSans-32\"/>\n       <use xlink:href=\"#DejaVuSans-30\" x=\"63.623047\"/>\n       <use xlink:href=\"#DejaVuSans-30\" x=\"127.246094\"/>\n       <use xlink:href=\"#DejaVuSans-30\" x=\"190.869141\"/>\n      </g>\n     </g>\n    </g>\n    <g id=\"xtick_6\">\n     <g id=\"line2d_6\">\n      <g>\n       <use xlink:href=\"#me23119fe4f\" x=\"384.760456\" y=\"354.958125\" style=\"stroke: #000000; stroke-width: 0.8\"/>\n      </g>\n     </g>\n     <g id=\"text_6\">\n      <!-- 2500 -->\n      <g transform=\"translate(372.035456 369.556562) scale(0.1 -0.1)\">\n       <use xlink:href=\"#DejaVuSans-32\"/>\n       <use xlink:href=\"#DejaVuSans-35\" x=\"63.623047\"/>\n       <use xlink:href=\"#DejaVuSans-30\" x=\"127.246094\"/>\n       <use xlink:href=\"#DejaVuSans-30\" x=\"190.869141\"/>\n      </g>\n     </g>\n    </g>\n    <g id=\"xtick_7\">\n     <g id=\"line2d_7\">\n      <g>\n       <use xlink:href=\"#me23119fe4f\" x=\"448.328467\" y=\"354.958125\" style=\"stroke: #000000; stroke-width: 0.8\"/>\n      </g>\n     </g>\n     <g id=\"text_7\">\n      <!-- 3000 -->\n      <g transform=\"translate(435.603467 369.556562) scale(0.1 -0.1)\">\n       <defs>\n        <path id=\"DejaVuSans-33\" d=\"M 2597 2516 \nQ 3050 2419 3304 2112 \nQ 3559 1806 3559 1356 \nQ 3559 666 3084 287 \nQ 2609 -91 1734 -91 \nQ 1441 -91 1130 -33 \nQ 819 25 488 141 \nL 488 750 \nQ 750 597 1062 519 \nQ 1375 441 1716 441 \nQ 2309 441 2620 675 \nQ 2931 909 2931 1356 \nQ 2931 1769 2642 2001 \nQ 2353 2234 1838 2234 \nL 1294 2234 \nL 1294 2753 \nL 1863 2753 \nQ 2328 2753 2575 2939 \nQ 2822 3125 2822 3475 \nQ 2822 3834 2567 4026 \nQ 2313 4219 1838 4219 \nQ 1578 4219 1281 4162 \nQ 984 4106 628 3988 \nL 628 4550 \nQ 988 4650 1302 4700 \nQ 1616 4750 1894 4750 \nQ 2613 4750 3031 4423 \nQ 3450 4097 3450 3541 \nQ 3450 3153 3228 2886 \nQ 3006 2619 2597 2516 \nz\n\" transform=\"scale(0.015625)\"/>\n       </defs>\n       <use xlink:href=\"#DejaVuSans-33\"/>\n       <use xlink:href=\"#DejaVuSans-30\" x=\"63.623047\"/>\n       <use xlink:href=\"#DejaVuSans-30\" x=\"127.246094\"/>\n       <use xlink:href=\"#DejaVuSans-30\" x=\"190.869141\"/>\n      </g>\n     </g>\n    </g>\n    <g id=\"xtick_8\">\n     <g id=\"line2d_8\">\n      <g>\n       <use xlink:href=\"#me23119fe4f\" x=\"511.896478\" y=\"354.958125\" style=\"stroke: #000000; stroke-width: 0.8\"/>\n      </g>\n     </g>\n     <g id=\"text_8\">\n      <!-- 3500 -->\n      <g transform=\"translate(499.171478 369.556562) scale(0.1 -0.1)\">\n       <use xlink:href=\"#DejaVuSans-33\"/>\n       <use xlink:href=\"#DejaVuSans-35\" x=\"63.623047\"/>\n       <use xlink:href=\"#DejaVuSans-30\" x=\"127.246094\"/>\n       <use xlink:href=\"#DejaVuSans-30\" x=\"190.869141\"/>\n      </g>\n     </g>\n    </g>\n    <g id=\"xtick_9\">\n     <g id=\"line2d_9\">\n      <g>\n       <use xlink:href=\"#me23119fe4f\" x=\"575.464489\" y=\"354.958125\" style=\"stroke: #000000; stroke-width: 0.8\"/>\n      </g>\n     </g>\n     <g id=\"text_9\">\n      <!-- 4000 -->\n      <g transform=\"translate(562.739489 369.556562) scale(0.1 -0.1)\">\n       <defs>\n        <path id=\"DejaVuSans-34\" d=\"M 2419 4116 \nL 825 1625 \nL 2419 1625 \nL 2419 4116 \nz\nM 2253 4666 \nL 3047 4666 \nL 3047 1625 \nL 3713 1625 \nL 3713 1100 \nL 3047 1100 \nL 3047 0 \nL 2419 0 \nL 2419 1100 \nL 313 1100 \nL 313 1709 \nL 2253 4666 \nz\n\" transform=\"scale(0.015625)\"/>\n       </defs>\n       <use xlink:href=\"#DejaVuSans-34\"/>\n       <use xlink:href=\"#DejaVuSans-30\" x=\"63.623047\"/>\n       <use xlink:href=\"#DejaVuSans-30\" x=\"127.246094\"/>\n       <use xlink:href=\"#DejaVuSans-30\" x=\"190.869141\"/>\n      </g>\n     </g>\n    </g>\n    <g id=\"text_10\">\n     <!-- K -->\n     <g transform=\"translate(318.549219 383.234687) scale(0.1 -0.1)\">\n      <defs>\n       <path id=\"DejaVuSans-4b\" d=\"M 628 4666 \nL 1259 4666 \nL 1259 2694 \nL 3353 4666 \nL 4166 4666 \nL 1850 2491 \nL 4331 0 \nL 3500 0 \nL 1259 2247 \nL 1259 0 \nL 628 0 \nL 628 4666 \nz\n\" transform=\"scale(0.015625)\"/>\n      </defs>\n      <use xlink:href=\"#DejaVuSans-4b\"/>\n     </g>\n    </g>\n   </g>\n   <g id=\"matplotlib.axis_2\">\n    <g id=\"ytick_1\">\n     <g id=\"line2d_10\">\n      <defs>\n       <path id=\"m89f367d578\" d=\"M 0 0 \nL -3.5 0 \n\" style=\"stroke: #000000; stroke-width: 0.8\"/>\n      </defs>\n      <g>\n       <use xlink:href=\"#m89f367d578\" x=\"42.828125\" y=\"305.818125\" style=\"stroke: #000000; stroke-width: 0.8\"/>\n      </g>\n     </g>\n     <g id=\"text_11\">\n      <!-- 0.050 -->\n      <g transform=\"translate(7.2 309.617344) scale(0.1 -0.1)\">\n       <defs>\n        <path id=\"DejaVuSans-2e\" d=\"M 684 794 \nL 1344 794 \nL 1344 0 \nL 684 0 \nL 684 794 \nz\n\" transform=\"scale(0.015625)\"/>\n       </defs>\n       <use xlink:href=\"#DejaVuSans-30\"/>\n       <use xlink:href=\"#DejaVuSans-2e\" x=\"63.623047\"/>\n       <use xlink:href=\"#DejaVuSans-30\" x=\"95.410156\"/>\n       <use xlink:href=\"#DejaVuSans-35\" x=\"159.033203\"/>\n       <use xlink:href=\"#DejaVuSans-30\" x=\"222.65625\"/>\n      </g>\n     </g>\n    </g>\n    <g id=\"ytick_2\">\n     <g id=\"line2d_11\">\n      <g>\n       <use xlink:href=\"#m89f367d578\" x=\"42.828125\" y=\"254.536125\" style=\"stroke: #000000; stroke-width: 0.8\"/>\n      </g>\n     </g>\n     <g id=\"text_12\">\n      <!-- 0.055 -->\n      <g transform=\"translate(7.2 258.335344) scale(0.1 -0.1)\">\n       <use xlink:href=\"#DejaVuSans-30\"/>\n       <use xlink:href=\"#DejaVuSans-2e\" x=\"63.623047\"/>\n       <use xlink:href=\"#DejaVuSans-30\" x=\"95.410156\"/>\n       <use xlink:href=\"#DejaVuSans-35\" x=\"159.033203\"/>\n       <use xlink:href=\"#DejaVuSans-35\" x=\"222.65625\"/>\n      </g>\n     </g>\n    </g>\n    <g id=\"ytick_3\">\n     <g id=\"line2d_12\">\n      <g>\n       <use xlink:href=\"#m89f367d578\" x=\"42.828125\" y=\"203.254125\" style=\"stroke: #000000; stroke-width: 0.8\"/>\n      </g>\n     </g>\n     <g id=\"text_13\">\n      <!-- 0.060 -->\n      <g transform=\"translate(7.2 207.053344) scale(0.1 -0.1)\">\n       <defs>\n        <path id=\"DejaVuSans-36\" d=\"M 2113 2584 \nQ 1688 2584 1439 2293 \nQ 1191 2003 1191 1497 \nQ 1191 994 1439 701 \nQ 1688 409 2113 409 \nQ 2538 409 2786 701 \nQ 3034 994 3034 1497 \nQ 3034 2003 2786 2293 \nQ 2538 2584 2113 2584 \nz\nM 3366 4563 \nL 3366 3988 \nQ 3128 4100 2886 4159 \nQ 2644 4219 2406 4219 \nQ 1781 4219 1451 3797 \nQ 1122 3375 1075 2522 \nQ 1259 2794 1537 2939 \nQ 1816 3084 2150 3084 \nQ 2853 3084 3261 2657 \nQ 3669 2231 3669 1497 \nQ 3669 778 3244 343 \nQ 2819 -91 2113 -91 \nQ 1303 -91 875 529 \nQ 447 1150 447 2328 \nQ 447 3434 972 4092 \nQ 1497 4750 2381 4750 \nQ 2619 4750 2861 4703 \nQ 3103 4656 3366 4563 \nz\n\" transform=\"scale(0.015625)\"/>\n       </defs>\n       <use xlink:href=\"#DejaVuSans-30\"/>\n       <use xlink:href=\"#DejaVuSans-2e\" x=\"63.623047\"/>\n       <use xlink:href=\"#DejaVuSans-30\" x=\"95.410156\"/>\n       <use xlink:href=\"#DejaVuSans-36\" x=\"159.033203\"/>\n       <use xlink:href=\"#DejaVuSans-30\" x=\"222.65625\"/>\n      </g>\n     </g>\n    </g>\n    <g id=\"ytick_4\">\n     <g id=\"line2d_13\">\n      <g>\n       <use xlink:href=\"#m89f367d578\" x=\"42.828125\" y=\"151.972125\" style=\"stroke: #000000; stroke-width: 0.8\"/>\n      </g>\n     </g>\n     <g id=\"text_14\">\n      <!-- 0.065 -->\n      <g transform=\"translate(7.2 155.771344) scale(0.1 -0.1)\">\n       <use xlink:href=\"#DejaVuSans-30\"/>\n       <use xlink:href=\"#DejaVuSans-2e\" x=\"63.623047\"/>\n       <use xlink:href=\"#DejaVuSans-30\" x=\"95.410156\"/>\n       <use xlink:href=\"#DejaVuSans-36\" x=\"159.033203\"/>\n       <use xlink:href=\"#DejaVuSans-35\" x=\"222.65625\"/>\n      </g>\n     </g>\n    </g>\n    <g id=\"ytick_5\">\n     <g id=\"line2d_14\">\n      <g>\n       <use xlink:href=\"#m89f367d578\" x=\"42.828125\" y=\"100.690125\" style=\"stroke: #000000; stroke-width: 0.8\"/>\n      </g>\n     </g>\n     <g id=\"text_15\">\n      <!-- 0.070 -->\n      <g transform=\"translate(7.2 104.489344) scale(0.1 -0.1)\">\n       <defs>\n        <path id=\"DejaVuSans-37\" d=\"M 525 4666 \nL 3525 4666 \nL 3525 4397 \nL 1831 0 \nL 1172 0 \nL 2766 4134 \nL 525 4134 \nL 525 4666 \nz\n\" transform=\"scale(0.015625)\"/>\n       </defs>\n       <use xlink:href=\"#DejaVuSans-30\"/>\n       <use xlink:href=\"#DejaVuSans-2e\" x=\"63.623047\"/>\n       <use xlink:href=\"#DejaVuSans-30\" x=\"95.410156\"/>\n       <use xlink:href=\"#DejaVuSans-37\" x=\"159.033203\"/>\n       <use xlink:href=\"#DejaVuSans-30\" x=\"222.65625\"/>\n      </g>\n     </g>\n    </g>\n    <g id=\"ytick_6\">\n     <g id=\"line2d_15\">\n      <g>\n       <use xlink:href=\"#m89f367d578\" x=\"42.828125\" y=\"49.408125\" style=\"stroke: #000000; stroke-width: 0.8\"/>\n      </g>\n     </g>\n     <g id=\"text_16\">\n      <!-- 0.075 -->\n      <g transform=\"translate(7.2 53.207344) scale(0.1 -0.1)\">\n       <use xlink:href=\"#DejaVuSans-30\"/>\n       <use xlink:href=\"#DejaVuSans-2e\" x=\"63.623047\"/>\n       <use xlink:href=\"#DejaVuSans-30\" x=\"95.410156\"/>\n       <use xlink:href=\"#DejaVuSans-37\" x=\"159.033203\"/>\n       <use xlink:href=\"#DejaVuSans-35\" x=\"222.65625\"/>\n      </g>\n     </g>\n    </g>\n   </g>\n   <g id=\"line2d_16\">\n    <path d=\"M 68.191761 213.838125 \nL 70.098802 87.838125 \nL 73.277202 62.638125 \nL 79.634003 113.038125 \nL 92.347606 62.638125 \nL 98.704407 113.038125 \nL 130.488412 87.838125 \nL 194.056423 62.638125 \nL 257.624434 37.438125 \nL 321.192445 113.038125 \nL 384.760456 113.038125 \nL 448.328467 113.038125 \nL 511.896478 113.038125 \nL 575.464489 113.038125 \n\" clip-path=\"url(#p2b14302acb)\" style=\"fill: none; stroke: #1f77b4; stroke-width: 1.5; stroke-linecap: square\"/>\n   </g>\n   <g id=\"line2d_17\">\n    <path d=\"M 68.191761 339.838125 \nL 70.098802 213.838125 \nL 73.277202 264.238125 \nL 79.634003 213.838125 \nL 92.347606 289.438125 \nL 98.704407 213.838125 \nL 130.488412 188.638125 \nL 194.056423 138.238125 \nL 257.624434 138.238125 \nL 321.192445 188.638125 \nL 384.760456 213.838125 \nL 448.328467 188.638125 \nL 511.896478 213.838125 \nL 575.464489 213.838125 \n\" clip-path=\"url(#p2b14302acb)\" style=\"fill: none; stroke: #ff7f0e; stroke-width: 1.5; stroke-linecap: square\"/>\n   </g>\n   <g id=\"patch_3\">\n    <path d=\"M 42.828125 354.958125 \nL 42.828125 22.318125 \n\" style=\"fill: none; stroke: #000000; stroke-width: 0.8; stroke-linejoin: miter; stroke-linecap: square\"/>\n   </g>\n   <g id=\"patch_4\">\n    <path d=\"M 600.828125 354.958125 \nL 600.828125 22.318125 \n\" style=\"fill: none; stroke: #000000; stroke-width: 0.8; stroke-linejoin: miter; stroke-linecap: square\"/>\n   </g>\n   <g id=\"patch_5\">\n    <path d=\"M 42.828125 354.958125 \nL 600.828125 354.958125 \n\" style=\"fill: none; stroke: #000000; stroke-width: 0.8; stroke-linejoin: miter; stroke-linecap: square\"/>\n   </g>\n   <g id=\"patch_6\">\n    <path d=\"M 42.828125 22.318125 \nL 600.828125 22.318125 \n\" style=\"fill: none; stroke: #000000; stroke-width: 0.8; stroke-linejoin: miter; stroke-linecap: square\"/>\n   </g>\n   <g id=\"text_17\">\n    <!-- HitRate -->\n    <g transform=\"translate(299.541875 16.318125) scale(0.12 -0.12)\">\n     <defs>\n      <path id=\"DejaVuSans-48\" d=\"M 628 4666 \nL 1259 4666 \nL 1259 2753 \nL 3553 2753 \nL 3553 4666 \nL 4184 4666 \nL 4184 0 \nL 3553 0 \nL 3553 2222 \nL 1259 2222 \nL 1259 0 \nL 628 0 \nL 628 4666 \nz\n\" transform=\"scale(0.015625)\"/>\n      <path id=\"DejaVuSans-69\" d=\"M 603 3500 \nL 1178 3500 \nL 1178 0 \nL 603 0 \nL 603 3500 \nz\nM 603 4863 \nL 1178 4863 \nL 1178 4134 \nL 603 4134 \nL 603 4863 \nz\n\" transform=\"scale(0.015625)\"/>\n      <path id=\"DejaVuSans-74\" d=\"M 1172 4494 \nL 1172 3500 \nL 2356 3500 \nL 2356 3053 \nL 1172 3053 \nL 1172 1153 \nQ 1172 725 1289 603 \nQ 1406 481 1766 481 \nL 2356 481 \nL 2356 0 \nL 1766 0 \nQ 1100 0 847 248 \nQ 594 497 594 1153 \nL 594 3053 \nL 172 3053 \nL 172 3500 \nL 594 3500 \nL 594 4494 \nL 1172 4494 \nz\n\" transform=\"scale(0.015625)\"/>\n      <path id=\"DejaVuSans-52\" d=\"M 2841 2188 \nQ 3044 2119 3236 1894 \nQ 3428 1669 3622 1275 \nL 4263 0 \nL 3584 0 \nL 2988 1197 \nQ 2756 1666 2539 1819 \nQ 2322 1972 1947 1972 \nL 1259 1972 \nL 1259 0 \nL 628 0 \nL 628 4666 \nL 2053 4666 \nQ 2853 4666 3247 4331 \nQ 3641 3997 3641 3322 \nQ 3641 2881 3436 2590 \nQ 3231 2300 2841 2188 \nz\nM 1259 4147 \nL 1259 2491 \nL 2053 2491 \nQ 2509 2491 2742 2702 \nQ 2975 2913 2975 3322 \nQ 2975 3731 2742 3939 \nQ 2509 4147 2053 4147 \nL 1259 4147 \nz\n\" transform=\"scale(0.015625)\"/>\n      <path id=\"DejaVuSans-61\" d=\"M 2194 1759 \nQ 1497 1759 1228 1600 \nQ 959 1441 959 1056 \nQ 959 750 1161 570 \nQ 1363 391 1709 391 \nQ 2188 391 2477 730 \nQ 2766 1069 2766 1631 \nL 2766 1759 \nL 2194 1759 \nz\nM 3341 1997 \nL 3341 0 \nL 2766 0 \nL 2766 531 \nQ 2569 213 2275 61 \nQ 1981 -91 1556 -91 \nQ 1019 -91 701 211 \nQ 384 513 384 1019 \nQ 384 1609 779 1909 \nQ 1175 2209 1959 2209 \nL 2766 2209 \nL 2766 2266 \nQ 2766 2663 2505 2880 \nQ 2244 3097 1772 3097 \nQ 1472 3097 1187 3025 \nQ 903 2953 641 2809 \nL 641 3341 \nQ 956 3463 1253 3523 \nQ 1550 3584 1831 3584 \nQ 2591 3584 2966 3190 \nQ 3341 2797 3341 1997 \nz\n\" transform=\"scale(0.015625)\"/>\n      <path id=\"DejaVuSans-65\" d=\"M 3597 1894 \nL 3597 1613 \nL 953 1613 \nQ 991 1019 1311 708 \nQ 1631 397 2203 397 \nQ 2534 397 2845 478 \nQ 3156 559 3463 722 \nL 3463 178 \nQ 3153 47 2828 -22 \nQ 2503 -91 2169 -91 \nQ 1331 -91 842 396 \nQ 353 884 353 1716 \nQ 353 2575 817 3079 \nQ 1281 3584 2069 3584 \nQ 2775 3584 3186 3129 \nQ 3597 2675 3597 1894 \nz\nM 3022 2063 \nQ 3016 2534 2758 2815 \nQ 2500 3097 2075 3097 \nQ 1594 3097 1305 2825 \nQ 1016 2553 972 2059 \nL 3022 2063 \nz\n\" transform=\"scale(0.015625)\"/>\n     </defs>\n     <use xlink:href=\"#DejaVuSans-48\"/>\n     <use xlink:href=\"#DejaVuSans-69\" x=\"75.195312\"/>\n     <use xlink:href=\"#DejaVuSans-74\" x=\"102.978516\"/>\n     <use xlink:href=\"#DejaVuSans-52\" x=\"142.1875\"/>\n     <use xlink:href=\"#DejaVuSans-61\" x=\"209.419922\"/>\n     <use xlink:href=\"#DejaVuSans-74\" x=\"270.699219\"/>\n     <use xlink:href=\"#DejaVuSans-65\" x=\"309.908203\"/>\n    </g>\n   </g>\n   <g id=\"legend_1\">\n    <g id=\"patch_7\">\n     <path d=\"M 498.665625 59.674375 \nL 593.828125 59.674375 \nQ 595.828125 59.674375 595.828125 57.674375 \nL 595.828125 29.318125 \nQ 595.828125 27.318125 593.828125 27.318125 \nL 498.665625 27.318125 \nQ 496.665625 27.318125 496.665625 29.318125 \nL 496.665625 57.674375 \nQ 496.665625 59.674375 498.665625 59.674375 \nz\n\" style=\"fill: #ffffff; opacity: 0.8; stroke: #cccccc; stroke-linejoin: miter\"/>\n    </g>\n    <g id=\"line2d_18\">\n     <path d=\"M 500.665625 35.416562 \nL 510.665625 35.416562 \nL 520.665625 35.416562 \n\" style=\"fill: none; stroke: #1f77b4; stroke-width: 1.5; stroke-linecap: square\"/>\n    </g>\n    <g id=\"text_18\">\n     <!-- SeqUserKNN -->\n     <g transform=\"translate(528.665625 38.916562) scale(0.1 -0.1)\">\n      <defs>\n       <path id=\"DejaVuSans-53\" d=\"M 3425 4513 \nL 3425 3897 \nQ 3066 4069 2747 4153 \nQ 2428 4238 2131 4238 \nQ 1616 4238 1336 4038 \nQ 1056 3838 1056 3469 \nQ 1056 3159 1242 3001 \nQ 1428 2844 1947 2747 \nL 2328 2669 \nQ 3034 2534 3370 2195 \nQ 3706 1856 3706 1288 \nQ 3706 609 3251 259 \nQ 2797 -91 1919 -91 \nQ 1588 -91 1214 -16 \nQ 841 59 441 206 \nL 441 856 \nQ 825 641 1194 531 \nQ 1563 422 1919 422 \nQ 2459 422 2753 634 \nQ 3047 847 3047 1241 \nQ 3047 1584 2836 1778 \nQ 2625 1972 2144 2069 \nL 1759 2144 \nQ 1053 2284 737 2584 \nQ 422 2884 422 3419 \nQ 422 4038 858 4394 \nQ 1294 4750 2059 4750 \nQ 2388 4750 2728 4690 \nQ 3069 4631 3425 4513 \nz\n\" transform=\"scale(0.015625)\"/>\n       <path id=\"DejaVuSans-71\" d=\"M 947 1747 \nQ 947 1113 1208 752 \nQ 1469 391 1925 391 \nQ 2381 391 2643 752 \nQ 2906 1113 2906 1747 \nQ 2906 2381 2643 2742 \nQ 2381 3103 1925 3103 \nQ 1469 3103 1208 2742 \nQ 947 2381 947 1747 \nz\nM 2906 525 \nQ 2725 213 2448 61 \nQ 2172 -91 1784 -91 \nQ 1150 -91 751 415 \nQ 353 922 353 1747 \nQ 353 2572 751 3078 \nQ 1150 3584 1784 3584 \nQ 2172 3584 2448 3432 \nQ 2725 3281 2906 2969 \nL 2906 3500 \nL 3481 3500 \nL 3481 -1331 \nL 2906 -1331 \nL 2906 525 \nz\n\" transform=\"scale(0.015625)\"/>\n       <path id=\"DejaVuSans-55\" d=\"M 556 4666 \nL 1191 4666 \nL 1191 1831 \nQ 1191 1081 1462 751 \nQ 1734 422 2344 422 \nQ 2950 422 3222 751 \nQ 3494 1081 3494 1831 \nL 3494 4666 \nL 4128 4666 \nL 4128 1753 \nQ 4128 841 3676 375 \nQ 3225 -91 2344 -91 \nQ 1459 -91 1007 375 \nQ 556 841 556 1753 \nL 556 4666 \nz\n\" transform=\"scale(0.015625)\"/>\n       <path id=\"DejaVuSans-73\" d=\"M 2834 3397 \nL 2834 2853 \nQ 2591 2978 2328 3040 \nQ 2066 3103 1784 3103 \nQ 1356 3103 1142 2972 \nQ 928 2841 928 2578 \nQ 928 2378 1081 2264 \nQ 1234 2150 1697 2047 \nL 1894 2003 \nQ 2506 1872 2764 1633 \nQ 3022 1394 3022 966 \nQ 3022 478 2636 193 \nQ 2250 -91 1575 -91 \nQ 1294 -91 989 -36 \nQ 684 19 347 128 \nL 347 722 \nQ 666 556 975 473 \nQ 1284 391 1588 391 \nQ 1994 391 2212 530 \nQ 2431 669 2431 922 \nQ 2431 1156 2273 1281 \nQ 2116 1406 1581 1522 \nL 1381 1569 \nQ 847 1681 609 1914 \nQ 372 2147 372 2553 \nQ 372 3047 722 3315 \nQ 1072 3584 1716 3584 \nQ 2034 3584 2315 3537 \nQ 2597 3491 2834 3397 \nz\n\" transform=\"scale(0.015625)\"/>\n       <path id=\"DejaVuSans-72\" d=\"M 2631 2963 \nQ 2534 3019 2420 3045 \nQ 2306 3072 2169 3072 \nQ 1681 3072 1420 2755 \nQ 1159 2438 1159 1844 \nL 1159 0 \nL 581 0 \nL 581 3500 \nL 1159 3500 \nL 1159 2956 \nQ 1341 3275 1631 3429 \nQ 1922 3584 2338 3584 \nQ 2397 3584 2469 3576 \nQ 2541 3569 2628 3553 \nL 2631 2963 \nz\n\" transform=\"scale(0.015625)\"/>\n       <path id=\"DejaVuSans-4e\" d=\"M 628 4666 \nL 1478 4666 \nL 3547 763 \nL 3547 4666 \nL 4159 4666 \nL 4159 0 \nL 3309 0 \nL 1241 3903 \nL 1241 0 \nL 628 0 \nL 628 4666 \nz\n\" transform=\"scale(0.015625)\"/>\n      </defs>\n      <use xlink:href=\"#DejaVuSans-53\"/>\n      <use xlink:href=\"#DejaVuSans-65\" x=\"63.476562\"/>\n      <use xlink:href=\"#DejaVuSans-71\" x=\"125\"/>\n      <use xlink:href=\"#DejaVuSans-55\" x=\"188.476562\"/>\n      <use xlink:href=\"#DejaVuSans-73\" x=\"261.669922\"/>\n      <use xlink:href=\"#DejaVuSans-65\" x=\"313.769531\"/>\n      <use xlink:href=\"#DejaVuSans-72\" x=\"375.292969\"/>\n      <use xlink:href=\"#DejaVuSans-4b\" x=\"416.40625\"/>\n      <use xlink:href=\"#DejaVuSans-4e\" x=\"481.982422\"/>\n      <use xlink:href=\"#DejaVuSans-4e\" x=\"556.787109\"/>\n     </g>\n    </g>\n    <g id=\"line2d_19\">\n     <path d=\"M 500.665625 50.094687 \nL 510.665625 50.094687 \nL 520.665625 50.094687 \n\" style=\"fill: none; stroke: #ff7f0e; stroke-width: 1.5; stroke-linecap: square\"/>\n    </g>\n    <g id=\"text_19\">\n     <!-- UserKNN -->\n     <g transform=\"translate(528.665625 53.594687) scale(0.1 -0.1)\">\n      <use xlink:href=\"#DejaVuSans-55\"/>\n      <use xlink:href=\"#DejaVuSans-73\" x=\"73.193359\"/>\n      <use xlink:href=\"#DejaVuSans-65\" x=\"125.292969\"/>\n      <use xlink:href=\"#DejaVuSans-72\" x=\"186.816406\"/>\n      <use xlink:href=\"#DejaVuSans-4b\" x=\"227.929688\"/>\n      <use xlink:href=\"#DejaVuSans-4e\" x=\"293.505859\"/>\n      <use xlink:href=\"#DejaVuSans-4e\" x=\"368.310547\"/>\n     </g>\n    </g>\n   </g>\n  </g>\n </g>\n <defs>\n  <clipPath id=\"p2b14302acb\">\n   <rect x=\"42.828125\" y=\"22.318125\" width=\"558\" height=\"332.64\"/>\n  </clipPath>\n </defs>\n</svg>\n",
      "text/plain": [
       "<Figure size 1000x600 with 1 Axes>"
      ]
     },
     "metadata": {},
     "output_type": "display_data"
    }
   ],
   "source": [
    "plt.plot(k_vals, seq_knn_results[lambda x: np.isclose(x[\"power\"], 0.9)][\"metric\"], label=\"SeqUserKNN\")\n",
    "plt.plot(k_vals, knn_results[\"metric\"], label=\"UserKNN\")\n",
    "plt.tick_params(which=\"minor\", size=0)\n",
    "plt.title(\"HitRate\")\n",
    "plt.xlabel(\"K\")\n",
    "plt.legend()\n",
    "\n",
    "plt.show()"
   ]
  },
  {
   "cell_type": "markdown",
   "id": "b9ae9945-f6ee-462c-b025-ab70d4b4d8c8",
   "metadata": {},
   "source": [
    "## Jaccard"
   ]
  },
  {
   "cell_type": "code",
   "execution_count": 71,
   "id": "2d211e8a-8726-48cf-a35f-80d930def14f",
   "metadata": {},
   "outputs": [
    {
     "ename": "ModuleNotFoundError",
     "evalue": "No module named 'jaccard_svd'",
     "output_type": "error",
     "traceback": [
      "\u001b[1;31m---------------------------------------------------------------------------\u001b[0m",
      "\u001b[1;31mModuleNotFoundError\u001b[0m                       Traceback (most recent call last)",
      "Cell \u001b[1;32mIn[71], line 1\u001b[0m\n\u001b[1;32m----> 1\u001b[0m \u001b[39mfrom\u001b[39;00m \u001b[39mjaccard_svd\u001b[39;00m \u001b[39mimport\u001b[39;00m build_jaccard_svd_model\n",
      "\u001b[1;31mModuleNotFoundError\u001b[0m: No module named 'jaccard_svd'"
     ]
    }
   ],
   "source": [
    "from jaccard_svd import build_jaccard_svd_model"
   ]
  },
  {
   "cell_type": "code",
   "execution_count": 47,
   "id": "56bf1082-057a-4864-87af-b22f5d250a9b",
   "metadata": {},
   "outputs": [
    {
     "name": "stderr",
     "output_type": "stream",
     "text": [
      "d:\\Skoltech\\Intro to Recommender Systems\\sequence-aware-similarity-for-recommendations\\jaccard_svd.py:18: RuntimeWarning: invalid value encountered in divide\n",
      "  similarity[:, u] = (repeated_row_matrix.minimum(matrix_B).sum(axis=1) / repeated_row_matrix.maximum(matrix_B).sum(axis=1))\n"
     ]
    },
    {
     "ename": "KeyboardInterrupt",
     "evalue": "",
     "output_type": "error",
     "traceback": [
      "\u001b[1;31m---------------------------------------------------------------------------\u001b[0m",
      "\u001b[1;31mKeyboardInterrupt\u001b[0m                         Traceback (most recent call last)",
      "File \u001b[1;32m<timed exec>:8\u001b[0m\n",
      "File \u001b[1;32md:\\Skoltech\\Intro to Recommender Systems\\sequence-aware-similarity-for-recommendations\\jaccard_svd.py:35\u001b[0m, in \u001b[0;36mbuild_jaccard_svd_model\u001b[1;34m(config, training, data_description)\u001b[0m\n\u001b[0;32m     31\u001b[0m S \u001b[39m=\u001b[39m jaccard_similarity(jaccard_interactions)\n\u001b[0;32m     32\u001b[0m \u001b[39m#print(\"Similarity matrix shape:\", S.shape)\u001b[39;00m\n\u001b[0;32m     33\u001b[0m \u001b[39m#print(\"S density:\", S.getnnz() / np.prod(S.shape))\u001b[39;00m\n\u001b[1;32m---> 35\u001b[0m L \u001b[39m=\u001b[39m ilupp\u001b[39m.\u001b[39micholt(S, add_fill_in\u001b[39m=\u001b[39mS\u001b[39m.\u001b[39mshape[\u001b[39m0\u001b[39m], threshold\u001b[39m=\u001b[39m\u001b[39m0.05\u001b[39m)\n\u001b[0;32m     37\u001b[0m L \u001b[39m=\u001b[39m config[\u001b[39m\"\u001b[39m\u001b[39mjaccard_coef\u001b[39m\u001b[39m\"\u001b[39m] \u001b[39m*\u001b[39m L \u001b[39m+\u001b[39m (\u001b[39m1\u001b[39m \u001b[39m-\u001b[39m config[\u001b[39m\"\u001b[39m\u001b[39mjaccard_coef\u001b[39m\u001b[39m\"\u001b[39m]) \u001b[39m*\u001b[39m speye(S\u001b[39m.\u001b[39mshape[\u001b[39m0\u001b[39m])\n\u001b[0;32m     38\u001b[0m \u001b[39m#print(\"L matrix shape:\", L.shape)\u001b[39;00m\n\u001b[0;32m     39\u001b[0m \u001b[39m#print(\"L density:\", L.getnnz() / np.prod(L.shape))\u001b[39;00m\n",
      "\u001b[1;31mKeyboardInterrupt\u001b[0m: "
     ]
    }
   ],
   "source": [
    "%%time\n",
    "# csc_matrix\n",
    "\n",
    "config = dict(\n",
    "    rank=64,\n",
    "    jaccard_coef=0.5\n",
    ")\n",
    "\n",
    "model = build_jaccard_svd_model(config, trainval, data_description)"
   ]
  },
  {
   "cell_type": "code",
   "execution_count": 34,
   "id": "fec55a8d-82e9-4a71-9a51-f71dea4f1b6e",
   "metadata": {},
   "outputs": [
    {
     "name": "stdout",
     "output_type": "stream",
     "text": [
      "CPU times: user 1min 33s, sys: 1.36 s, total: 1min 35s\n",
      "Wall time: 1min 34s\n"
     ]
    }
   ],
   "source": [
    "%%time\n",
    "# csr_matrix + csc_matrix\n",
    "\n",
    "config = dict(\n",
    "    rank=64,\n",
    "    jaccard_coef=0.5\n",
    ")\n",
    "\n",
    "model = build_jaccard_svd_model(config, trainval, data_description)"
   ]
  },
  {
   "cell_type": "code",
   "execution_count": 35,
   "id": "d73afe7c-f878-418d-85cc-8c39623b93b4",
   "metadata": {},
   "outputs": [
    {
     "name": "stdout",
     "output_type": "stream",
     "text": [
      "CPU times: user 1min 31s, sys: 1.19 s, total: 1min 32s\n",
      "Wall time: 1min 31s\n"
     ]
    }
   ],
   "source": [
    "%%time\n",
    "# csr_matrix + _\n",
    "\n",
    "config = dict(\n",
    "    rank=64,\n",
    "    jaccard_coef=0.5\n",
    ")\n",
    "\n",
    "model = build_jaccard_svd_model(config, trainval, data_description)"
   ]
  },
  {
   "cell_type": "code",
   "execution_count": 36,
   "id": "24309914-17ff-4f76-a016-145261bef3aa",
   "metadata": {},
   "outputs": [
    {
     "data": {
      "text/plain": [
       "[2, 3, 4, 6, 8, 12, 16, 24, 32, 48, 64, 96, 128, 192]"
      ]
     },
     "execution_count": 36,
     "metadata": {},
     "output_type": "execute_result"
    }
   ],
   "source": [
    "from jaccard_svd import jaccard_svd_gridsearch\n",
    "\n",
    "ranks = [b * 2 ** p for p in range(0, 7) for b in [2, 3]]\n",
    "ranks"
   ]
  },
  {
   "cell_type": "code",
   "execution_count": 37,
   "id": "c08a8d38-bcc9-4843-a0e6-a0200dd0f662",
   "metadata": {},
   "outputs": [
    {
     "data": {
      "text/plain": [
       "array([0.1, 0.3, 0.5, 0.7, 0.9])"
      ]
     },
     "execution_count": 37,
     "metadata": {},
     "output_type": "execute_result"
    }
   ],
   "source": [
    "coefs = np.arange(1, 10, 2) / 10\n",
    "coefs"
   ]
  },
  {
   "cell_type": "code",
   "execution_count": 39,
   "id": "bff03b5a-d59d-4140-ba67-42395c646e18",
   "metadata": {},
   "outputs": [
    {
     "name": "stdout",
     "output_type": "stream",
     "text": [
      "0.1\n",
      "0.3\n",
      "0.5\n",
      "0.7\n",
      "0.9\n"
     ]
    }
   ],
   "source": [
    "jaccard_results = jaccard_svd_gridsearch(ranks, coefs, trainval, testval, holdoutval, data_description, topn)"
   ]
  },
  {
   "cell_type": "code",
   "execution_count": 40,
   "id": "16fde1a3-bbef-46cb-8600-0106e2bfdd20",
   "metadata": {},
   "outputs": [
    {
     "data": {
      "text/html": [
       "<div>\n",
       "<style scoped>\n",
       "    .dataframe tbody tr th:only-of-type {\n",
       "        vertical-align: middle;\n",
       "    }\n",
       "\n",
       "    .dataframe tbody tr th {\n",
       "        vertical-align: top;\n",
       "    }\n",
       "\n",
       "    .dataframe thead th {\n",
       "        text-align: right;\n",
       "    }\n",
       "</style>\n",
       "<table border=\"1\" class=\"dataframe\">\n",
       "  <thead>\n",
       "    <tr style=\"text-align: right;\">\n",
       "      <th></th>\n",
       "      <th>rank</th>\n",
       "      <th>metric</th>\n",
       "      <th>jaccard_coef</th>\n",
       "    </tr>\n",
       "  </thead>\n",
       "  <tbody>\n",
       "    <tr>\n",
       "      <th>45</th>\n",
       "      <td>6</td>\n",
       "      <td>0.157248</td>\n",
       "      <td>0.7</td>\n",
       "    </tr>\n",
       "    <tr>\n",
       "      <th>2</th>\n",
       "      <td>4</td>\n",
       "      <td>0.147420</td>\n",
       "      <td>0.1</td>\n",
       "    </tr>\n",
       "    <tr>\n",
       "      <th>31</th>\n",
       "      <td>6</td>\n",
       "      <td>0.147420</td>\n",
       "      <td>0.5</td>\n",
       "    </tr>\n",
       "    <tr>\n",
       "      <th>17</th>\n",
       "      <td>6</td>\n",
       "      <td>0.147420</td>\n",
       "      <td>0.3</td>\n",
       "    </tr>\n",
       "    <tr>\n",
       "      <th>60</th>\n",
       "      <td>8</td>\n",
       "      <td>0.147420</td>\n",
       "      <td>0.9</td>\n",
       "    </tr>\n",
       "    <tr>\n",
       "      <th>...</th>\n",
       "      <td>...</td>\n",
       "      <td>...</td>\n",
       "      <td>...</td>\n",
       "    </tr>\n",
       "    <tr>\n",
       "      <th>28</th>\n",
       "      <td>2</td>\n",
       "      <td>0.078624</td>\n",
       "      <td>0.5</td>\n",
       "    </tr>\n",
       "    <tr>\n",
       "      <th>43</th>\n",
       "      <td>3</td>\n",
       "      <td>0.054054</td>\n",
       "      <td>0.7</td>\n",
       "    </tr>\n",
       "    <tr>\n",
       "      <th>57</th>\n",
       "      <td>3</td>\n",
       "      <td>0.041769</td>\n",
       "      <td>0.9</td>\n",
       "    </tr>\n",
       "    <tr>\n",
       "      <th>42</th>\n",
       "      <td>2</td>\n",
       "      <td>0.039312</td>\n",
       "      <td>0.7</td>\n",
       "    </tr>\n",
       "    <tr>\n",
       "      <th>56</th>\n",
       "      <td>2</td>\n",
       "      <td>0.036855</td>\n",
       "      <td>0.9</td>\n",
       "    </tr>\n",
       "  </tbody>\n",
       "</table>\n",
       "<p>70 rows × 3 columns</p>\n",
       "</div>"
      ],
      "text/plain": [
       "    rank    metric  jaccard_coef\n",
       "45     6  0.157248           0.7\n",
       "2      4  0.147420           0.1\n",
       "31     6  0.147420           0.5\n",
       "17     6  0.147420           0.3\n",
       "60     8  0.147420           0.9\n",
       "..   ...       ...           ...\n",
       "28     2  0.078624           0.5\n",
       "43     3  0.054054           0.7\n",
       "57     3  0.041769           0.9\n",
       "42     2  0.039312           0.7\n",
       "56     2  0.036855           0.9\n",
       "\n",
       "[70 rows x 3 columns]"
      ]
     },
     "execution_count": 40,
     "metadata": {},
     "output_type": "execute_result"
    }
   ],
   "source": [
    "jaccard_results = pd.DataFrame(jaccard_results)\n",
    "\n",
    "jaccard_results = jaccard_results.sort_values(\"metric\", ascending=False)\n",
    "\n",
    "jaccard_results"
   ]
  },
  {
   "cell_type": "code",
   "execution_count": 54,
   "id": "f66407f9-90ee-447b-97be-9fcd8a8de5db",
   "metadata": {},
   "outputs": [
    {
     "data": {
      "text/html": [
       "<div>\n",
       "<style scoped>\n",
       "    .dataframe tbody tr th:only-of-type {\n",
       "        vertical-align: middle;\n",
       "    }\n",
       "\n",
       "    .dataframe tbody tr th {\n",
       "        vertical-align: top;\n",
       "    }\n",
       "\n",
       "    .dataframe thead th {\n",
       "        text-align: right;\n",
       "    }\n",
       "</style>\n",
       "<table border=\"1\" class=\"dataframe\">\n",
       "  <thead>\n",
       "    <tr style=\"text-align: right;\">\n",
       "      <th></th>\n",
       "      <th>rank</th>\n",
       "      <th>metric</th>\n",
       "      <th>jaccard_coef</th>\n",
       "    </tr>\n",
       "  </thead>\n",
       "  <tbody>\n",
       "    <tr>\n",
       "      <th>45</th>\n",
       "      <td>6</td>\n",
       "      <td>0.157248</td>\n",
       "      <td>0.7</td>\n",
       "    </tr>\n",
       "    <tr>\n",
       "      <th>2</th>\n",
       "      <td>4</td>\n",
       "      <td>0.147420</td>\n",
       "      <td>0.1</td>\n",
       "    </tr>\n",
       "    <tr>\n",
       "      <th>31</th>\n",
       "      <td>6</td>\n",
       "      <td>0.147420</td>\n",
       "      <td>0.5</td>\n",
       "    </tr>\n",
       "    <tr>\n",
       "      <th>17</th>\n",
       "      <td>6</td>\n",
       "      <td>0.147420</td>\n",
       "      <td>0.3</td>\n",
       "    </tr>\n",
       "    <tr>\n",
       "      <th>60</th>\n",
       "      <td>8</td>\n",
       "      <td>0.147420</td>\n",
       "      <td>0.9</td>\n",
       "    </tr>\n",
       "  </tbody>\n",
       "</table>\n",
       "</div>"
      ],
      "text/plain": [
       "    rank    metric  jaccard_coef\n",
       "45     6  0.157248           0.7\n",
       "2      4  0.147420           0.1\n",
       "31     6  0.147420           0.5\n",
       "17     6  0.147420           0.3\n",
       "60     8  0.147420           0.9"
      ]
     },
     "execution_count": 54,
     "metadata": {},
     "output_type": "execute_result"
    }
   ],
   "source": [
    "jaccard_results.head()"
   ]
  },
  {
   "cell_type": "markdown",
   "id": "4102aa38-730b-4271-9ffe-52fd90f61429",
   "metadata": {},
   "source": [
    "## Final Eval"
   ]
  },
  {
   "cell_type": "code",
   "execution_count": 22,
   "id": "ac9167bc-0adc-481d-b40e-883d9f22a285",
   "metadata": {},
   "outputs": [],
   "source": [
    "train, test, holdout, data_index = reindex_all(_train, _test, _holdout)"
   ]
  },
  {
   "cell_type": "code",
   "execution_count": 23,
   "id": "51d398c8-0574-4402-b0c0-f0915bd49cf1",
   "metadata": {},
   "outputs": [],
   "source": [
    "data_description = {\n",
    "    \"n_users\": train.userid.nunique(),\n",
    "    \"n_items\": train.itemid.nunique(),\n",
    "    \"feedback\": \"rating\",\n",
    "    \"weights\": \"weights\",\n",
    "    \"items\": \"itemid\",\n",
    "    \"users\": \"userid\",\n",
    "}\n",
    "\n",
    "train = generate_ranks(train, data_description)\n",
    "test = generate_ranks(test, data_description)"
   ]
  },
  {
   "cell_type": "code",
   "execution_count": 24,
   "id": "b6794125-b0a6-42c0-9753-861822da0861",
   "metadata": {},
   "outputs": [],
   "source": [
    "grand_total = []"
   ]
  },
  {
   "cell_type": "code",
   "execution_count": 25,
   "id": "1042dca9-ea7b-4f87-932b-423d553d59b0",
   "metadata": {},
   "outputs": [],
   "source": [
    "def damped_mean(ratings):\n",
    "    return sum(ratings) / (len(ratings) + 256)\n",
    "\n",
    "item2rating = train.groupby('itemid')[\"rating\"].apply(damped_mean)\n",
    "best_items = item2rating.nlargest(topn).index.values\n",
    "popular_recs = np.ones((len(holdout), topn)) * best_items\n",
    "metric = model_evaluate(popular_recs, holdout, data_description, topn)    \n",
    "\n",
    "grand_total.append(\n",
    "    {\"method\": \"popularity\", \"metric\": metric}\n",
    ")"
   ]
  },
  {
   "cell_type": "code",
   "execution_count": 26,
   "id": "ed1b60f1-ccf3-4c6b-9719-e18ed9ed622d",
   "metadata": {},
   "outputs": [
    {
     "name": "stdout",
     "output_type": "stream",
     "text": [
      "Best rank: 6\n",
      "Interaction matrix shape: (5227, 3652)\n",
      "Matrix density: 0.03799936340314036\n"
     ]
    }
   ],
   "source": [
    "best_rank = 6\n",
    "print(\"Best rank:\", best_rank)\n",
    "\n",
    "model = build_svd_model({\"rank\": best_rank}, train, data_description)\n",
    "scores = svd_scoring(model, test, data_description)\n",
    "svd_recs = topn_recommendations(scores, topn)\n",
    "\n",
    "metric = model_evaluate(svd_recs, holdout, data_description, topn)\n",
    "\n",
    "grand_total.append(\n",
    "    {\"method\": \"PureSVD\", \"metric\": metric}\n",
    ")"
   ]
  },
  {
   "cell_type": "code",
   "execution_count": 27,
   "id": "3f5d271b-1f82-4e30-bc3b-888876e95f2c",
   "metadata": {},
   "outputs": [
    {
     "name": "stdout",
     "output_type": "stream",
     "text": [
      "{'rank': 4, 'scaling': 0.7}\n"
     ]
    }
   ],
   "source": [
    "best_config = {\n",
    "    \"rank\": 4, \"scaling\": 0.7,\n",
    "}\n",
    "print(best_config)\n",
    "\n",
    "model = build_scaled_svd_model(best_config, train, data_description)\n",
    "scores = svd_scoring(model, test, data_description)\n",
    "svd_recs = topn_recommendations(scores, topn)\n",
    "\n",
    "metric = model_evaluate(svd_recs, holdout, data_description, topn)\n",
    "\n",
    "grand_total.append(\n",
    "    {\"method\": \"ScaledSVD\", \"metric\": metric}\n",
    ")"
   ]
  },
  {
   "cell_type": "code",
   "execution_count": 78,
   "id": "2f2cb2b9-f2ad-4982-b94e-5e89d598e803",
   "metadata": {},
   "outputs": [
    {
     "name": "stdout",
     "output_type": "stream",
     "text": [
      "{'rank': 6, 'jaccard_coef': 0.7}\n"
     ]
    },
    {
     "ename": "NameError",
     "evalue": "name 'build_jaccard_svd_model' is not defined",
     "output_type": "error",
     "traceback": [
      "\u001b[1;31m---------------------------------------------------------------------------\u001b[0m",
      "\u001b[1;31mNameError\u001b[0m                                 Traceback (most recent call last)",
      "Cell \u001b[1;32mIn[78], line 6\u001b[0m\n\u001b[0;32m      1\u001b[0m best_config \u001b[39m=\u001b[39m {\n\u001b[0;32m      2\u001b[0m     \u001b[39m\"\u001b[39m\u001b[39mrank\u001b[39m\u001b[39m\"\u001b[39m: \u001b[39m6\u001b[39m, \u001b[39m\"\u001b[39m\u001b[39mjaccard_coef\u001b[39m\u001b[39m\"\u001b[39m: \u001b[39m0.7\u001b[39m,\n\u001b[0;32m      3\u001b[0m }\n\u001b[0;32m      4\u001b[0m \u001b[39mprint\u001b[39m(best_config)\n\u001b[1;32m----> 6\u001b[0m model \u001b[39m=\u001b[39m build_jaccard_svd_model(best_config, train, data_description)\n\u001b[0;32m      7\u001b[0m scores \u001b[39m=\u001b[39m svd_scoring(model, test, data_description)\n\u001b[0;32m      8\u001b[0m svd_recs \u001b[39m=\u001b[39m topn_recommendations(scores, topn)\n",
      "\u001b[1;31mNameError\u001b[0m: name 'build_jaccard_svd_model' is not defined"
     ]
    }
   ],
   "source": [
    "best_config = {\n",
    "    \"rank\": 6, \"jaccard_coef\": 0.7,\n",
    "}\n",
    "print(best_config)\n",
    "\n",
    "model = build_jaccard_svd_model(best_config, train, data_description)\n",
    "scores = svd_scoring(model, test, data_description)\n",
    "svd_recs = topn_recommendations(scores, topn)\n",
    "\n",
    "metric = model_evaluate(svd_recs, holdout, data_description, topn)\n",
    "\n",
    "grand_total.append(\n",
    "    {\"method\": \"JaccardSVD\", \"metric\": metric}\n",
    ")"
   ]
  },
  {
   "cell_type": "code",
   "execution_count": 28,
   "id": "133c2183",
   "metadata": {},
   "outputs": [],
   "source": [
    "best_config = {\n",
    "    \"power\": 0,\n",
    "    \"k\": 1000,\n",
    "    \"similarity_A\": \"cosine\",\n",
    "    \"similarity_T\": None\n",
    "}\n",
    "\n",
    "model = build_uknn_model(best_config, train, data_description)\n",
    "scores = uknn_scoring(model, test, data_description)\n",
    "uknn_recs = topn_recommendations(scores, topn)\n",
    "\n",
    "metric = model_evaluate(uknn_recs, holdout, data_description, topn)\n",
    "\n",
    "grand_total.append(\n",
    "    {\"method\": \"UserKNN\", \"metric\": metric}\n",
    ")"
   ]
  },
  {
   "cell_type": "code",
   "execution_count": 29,
   "id": "d8129483",
   "metadata": {},
   "outputs": [],
   "source": [
    "best_config = {\n",
    "    \"power\": 0.9,\n",
    "    \"k\": 1500,\n",
    "    \"similarity_A\": \"cosine\",\n",
    "    \"similarity_T\": \"cosine\"\n",
    "}\n",
    "\n",
    "model = build_uknn_model(best_config, train, data_description)\n",
    "scores = uknn_scoring(model, test, data_description)\n",
    "seq_uknn_recs = topn_recommendations(scores, topn)\n",
    "\n",
    "metric = model_evaluate(seq_uknn_recs, holdout, data_description, topn)\n",
    "\n",
    "grand_total.append(\n",
    "    {\"method\": \"SeqUserKNN\", \"metric\": metric}\n",
    ")"
   ]
  },
  {
   "cell_type": "code",
   "execution_count": 31,
   "id": "d5a89dfb-0706-4aae-bb82-9b6f61546401",
   "metadata": {},
   "outputs": [
    {
     "data": {
      "text/html": [
       "<div>\n",
       "<style scoped>\n",
       "    .dataframe tbody tr th:only-of-type {\n",
       "        vertical-align: middle;\n",
       "    }\n",
       "\n",
       "    .dataframe tbody tr th {\n",
       "        vertical-align: top;\n",
       "    }\n",
       "\n",
       "    .dataframe thead th {\n",
       "        text-align: right;\n",
       "    }\n",
       "</style>\n",
       "<table border=\"1\" class=\"dataframe\">\n",
       "  <thead>\n",
       "    <tr style=\"text-align: right;\">\n",
       "      <th></th>\n",
       "      <th>method</th>\n",
       "      <th>metric</th>\n",
       "    </tr>\n",
       "  </thead>\n",
       "  <tbody>\n",
       "    <tr>\n",
       "      <th>4</th>\n",
       "      <td>SeqUserKNN</td>\n",
       "      <td>0.118454</td>\n",
       "    </tr>\n",
       "    <tr>\n",
       "      <th>3</th>\n",
       "      <td>UserKNN</td>\n",
       "      <td>0.114713</td>\n",
       "    </tr>\n",
       "    <tr>\n",
       "      <th>2</th>\n",
       "      <td>ScaledSVD</td>\n",
       "      <td>0.099751</td>\n",
       "    </tr>\n",
       "    <tr>\n",
       "      <th>1</th>\n",
       "      <td>PureSVD</td>\n",
       "      <td>0.094763</td>\n",
       "    </tr>\n",
       "    <tr>\n",
       "      <th>0</th>\n",
       "      <td>popularity</td>\n",
       "      <td>0.056110</td>\n",
       "    </tr>\n",
       "  </tbody>\n",
       "</table>\n",
       "</div>"
      ],
      "text/plain": [
       "       method    metric\n",
       "4  SeqUserKNN  0.118454\n",
       "3     UserKNN  0.114713\n",
       "2   ScaledSVD  0.099751\n",
       "1     PureSVD  0.094763\n",
       "0  popularity  0.056110"
      ]
     },
     "execution_count": 31,
     "metadata": {},
     "output_type": "execute_result"
    }
   ],
   "source": [
    "pd.DataFrame(grand_total).sort_values(\"metric\", ascending=False)"
   ]
  }
 ],
 "metadata": {
  "kernelspec": {
   "display_name": "Python 3",
   "language": "python",
   "name": "python3"
  },
  "language_info": {
   "codemirror_mode": {
    "name": "ipython",
    "version": 3
   },
   "file_extension": ".py",
   "mimetype": "text/x-python",
   "name": "python",
   "nbconvert_exporter": "python",
   "pygments_lexer": "ipython3",
   "version": "3.9.13"
  },
  "vscode": {
   "interpreter": {
    "hash": "cf92aa13fedf815d5c8dd192b8d835913fde3e8bc926b2a0ad6cc74ef2ba3ca2"
   }
  }
 },
 "nbformat": 4,
 "nbformat_minor": 5
}
