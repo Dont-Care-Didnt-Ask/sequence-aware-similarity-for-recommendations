{
  "cells": [
    {
      "cell_type": "code",
      "execution_count": 1,
      "metadata": {
        "colab": {
          "base_uri": "https://localhost:8080/"
        },
        "id": "S87AWRDq0X2Y",
        "outputId": "58050dab-0829-46ec-fb75-f58ce95927b0"
      },
      "outputs": [
        {
          "name": "stdout",
          "output_type": "stream",
          "text": [
            "Looking in indexes: https://pypi.org/simple, https://us-python.pkg.dev/colab-wheels/public/simple/\n",
            "Collecting ipypb\n",
            "  Downloading ipypb-0.5.2-py3-none-any.whl (8.6 kB)\n",
            "Installing collected packages: ipypb\n",
            "Successfully installed ipypb-0.5.2\n",
            "Looking in indexes: https://pypi.org/simple, https://us-python.pkg.dev/colab-wheels/public/simple/\n",
            "Collecting polara\n",
            "  Cloning https://github.com/evfro/polara.git (to revision develop) to /tmp/pip-install-hs4f3c4e/polara_efa2e6c6cd51445c8384f54277b480e1\n",
            "  Running command git clone --filter=blob:none --quiet https://github.com/evfro/polara.git /tmp/pip-install-hs4f3c4e/polara_efa2e6c6cd51445c8384f54277b480e1\n",
            "  Running command git checkout -b develop --track origin/develop\n",
            "  Switched to a new branch 'develop'\n",
            "  Branch 'develop' set up to track remote branch 'develop' from 'origin'.\n",
            "  Resolved https://github.com/evfro/polara.git to commit 8e48cfd88e616ca53f8bbda1702a3e2c8abaf38e\n",
            "  Preparing metadata (setup.py) ... \u001b[?25l\u001b[?25hdone\n",
            "Building wheels for collected packages: polara\n",
            "  Building wheel for polara (setup.py) ... \u001b[?25l\u001b[?25hdone\n",
            "  Created wheel for polara: filename=polara-0.7.2.dev0-py3-none-any.whl size=89455 sha256=93f62ede42eacefa546ca5b0744dd40d6ef09032144121d97831921ea71c8c31\n",
            "  Stored in directory: /tmp/pip-ephem-wheel-cache-9ik_u0jf/wheels/d2/cf/bf/e1a3e49c4a733261d717fa4732eadf0303dabcc48ba694ad7a\n",
            "Successfully built polara\n",
            "Installing collected packages: polara\n",
            "Successfully installed polara-0.7.2.dev0\n"
          ]
        }
      ],
      "source": [
        "!pip install ipypb\n",
        "!pip install --upgrade git+https://github.com/evfro/polara.git@develop#egg=polara"
      ]
    },
    {
      "cell_type": "code",
      "execution_count": 1,
      "metadata": {
        "id": "yPzvtgYd0JPP"
      },
      "outputs": [
        {
          "name": "stderr",
          "output_type": "stream",
          "text": [
            "/home/matvey/.pyenv/versions/3.9.16/envs/mts/lib/python3.9/site-packages/tqdm/auto.py:22: TqdmWarning: IProgress not found. Please update jupyter and ipywidgets. See https://ipywidgets.readthedocs.io/en/stable/user_install.html\n",
            "  from .autonotebook import tqdm as notebook_tqdm\n"
          ]
        }
      ],
      "source": [
        "import pandas as pd\n",
        "import numpy as np\n",
        "from tqdm.auto import tqdm\n",
        "\n",
        "import torch\n",
        "import torch.nn as nn\n",
        "\n",
        "from polara import get_movielens_data\n",
        "from polara.preprocessing.dataframes import reindex, leave_one_out"
      ]
    },
    {
      "cell_type": "code",
      "execution_count": 2,
      "metadata": {
        "id": "2Yc0yYNw0JPR"
      },
      "outputs": [],
      "source": [
        "def fix_torch_seed(seed):\n",
        "    torch.manual_seed(seed)\n",
        "    torch.cuda.manual_seed_all(seed)"
      ]
    },
    {
      "cell_type": "code",
      "execution_count": 3,
      "metadata": {
        "id": "1Xj_YoJV0y4d"
      },
      "outputs": [],
      "source": [
        "import numpy as np\n",
        "import pandas as pd\n",
        "\n",
        "\n",
        "def downvote_seen_items(scores, data, data_description):\n",
        "    assert isinstance(scores, np.ndarray), 'Scores must be a dense numpy array!'\n",
        "    itemid = data_description['items']\n",
        "    userid = data_description['users']\n",
        "    # get indices of observed data, corresponding to scores array\n",
        "    # we need to provide correct mapping of rows in scores array into\n",
        "    # the corresponding user index (which is assumed to be sorted)\n",
        "    row_idx, test_users = pd.factorize(data[userid], sort=True)\n",
        "    assert len(test_users) == scores.shape[0]\n",
        "    col_idx = data[itemid].values\n",
        "    # downvote scores at the corresponding positions\n",
        "    scores[row_idx, col_idx] = scores.min() - 1\n",
        "\n",
        "\n",
        "def topn_recommendations(scores, topn=20):\n",
        "    recommendations = np.apply_along_axis(topidx, 1, scores, topn)\n",
        "    return recommendations\n",
        "\n",
        "\n",
        "def topidx(a, topn):\n",
        "    parted = np.argpartition(a, -topn)[-topn:]\n",
        "    return parted[np.argsort(-a[parted])]\n",
        "\n",
        "\n",
        "def model_evaluate(recommended_items, holdout, holdout_description, topn=20):\n",
        "    itemid = holdout_description['items']\n",
        "    holdout_items = holdout[itemid].values\n",
        "    assert recommended_items.shape[0] == len(holdout_items)\n",
        "    hits_mask = recommended_items[:, :topn] == holdout_items.reshape(-1, 1)\n",
        "    # HR calculation\n",
        "    hr = np.mean(hits_mask.any(axis=1))\n",
        "    # MRR calculation\n",
        "    n_test_users = recommended_items.shape[0]\n",
        "    hit_rank = np.where(hits_mask)[1] + 1.0\n",
        "    mrr = np.sum(1 / hit_rank) / n_test_users\n",
        "    # coverage calculation\n",
        "    n_items = holdout_description['n_items']\n",
        "    cov = np.unique(recommended_items).size / n_items\n",
        "    return hr, mrr, cov\n",
        "\n",
        "\n",
        "def calculate_rmse(scores, holdout, holdout_description):\n",
        "    user_idx = np.arange(holdout.shape[0])\n",
        "    item_idx = holdout[holdout_description['items']].values\n",
        "    feedback = holdout[holdout_description['feedback']].values\n",
        "    predicted_rating = scores[user_idx, item_idx]\n",
        "    return np.mean(np.abs(predicted_rating-feedback)**2)"
      ]
    },
    {
      "cell_type": "code",
      "execution_count": 4,
      "metadata": {
        "id": "nNRbmUUP01bc"
      },
      "outputs": [],
      "source": [
        "from scipy.sparse import csr_matrix\n",
        "import pandas as pd\n",
        "\n",
        "\n",
        "def leave_last_out(data, userid='userid', timeid='timestamp'):\n",
        "    data_sorted = data.sort_values('timestamp')\n",
        "    holdout = data_sorted.drop_duplicates(\n",
        "        subset=['userid'], keep='last'\n",
        "    ) # split the last item from each user's history\n",
        "    remaining = data.drop(holdout.index) # store the remaining data - will be our training\n",
        "    return remaining, holdout\n",
        "\n",
        "\n",
        "def transform_indices(data, users, items):\n",
        "    '''\n",
        "    Reindex columns that correspond to users and items.\n",
        "    New index is contiguous starting from 0.\n",
        "\n",
        "    Parameters\n",
        "    ----------\n",
        "    data : pandas.DataFrame\n",
        "        The input data to be reindexed.\n",
        "    users : str\n",
        "        The name of the column in `data` that contains user IDs.\n",
        "    items : str\n",
        "        The name of the column in `data` that contains item IDs.\n",
        "\n",
        "    Returns\n",
        "    -------\n",
        "    pandas.DataFrame, dict\n",
        "        The reindexed data and a dictionary with mapping between original IDs and the new numeric IDs.\n",
        "        The keys of the dictionary are 'users' and 'items'.\n",
        "        The values of the dictionary are pandas Index objects.\n",
        "\n",
        "    Examples\n",
        "    --------\n",
        "    >>> data = pd.DataFrame({'customers': ['A', 'B', 'C'], 'products': ['X', 'Y', 'Z'], 'rating': [1, 2, 3]})\n",
        "    >>> data_reindexed, data_index = transform_indices(data, 'customers', 'products')\n",
        "    >>> data_reindexed\n",
        "       users  items  rating\n",
        "    0      0      0       1\n",
        "    1      1      1       2\n",
        "    2      2      2       3\n",
        "    >>> data_index\n",
        "    {\n",
        "        'users': Index(['A', 'B', 'C'], dtype='object', name='customers'),\n",
        "        'items': Index(['X', 'Y', 'Z'], dtype='object', name='products')\n",
        "    }\n",
        "    '''\n",
        "    data_index = {}\n",
        "    for entity, field in zip(['users', 'items'], [users, items]):\n",
        "        new_index, data_index[entity] = to_numeric_id(data, field)\n",
        "        data = data.assign(**{f'{field}': new_index}) # makes a copy of dataset!\n",
        "    return data, data_index\n",
        "\n",
        "\n",
        "def to_numeric_id(data, field):\n",
        "    \"\"\"\n",
        "    This function takes in two arguments, data and field. It converts the data field\n",
        "    into categorical values and creates a new contiguous index. It then creates an\n",
        "    idx_map which is a renamed version of the field argument. Finally, it returns the\n",
        "    idx and idx_map variables. \n",
        "    \"\"\"\n",
        "    idx_data = data[field].astype(\"category\")\n",
        "    idx = idx_data.cat.codes\n",
        "    idx_map = idx_data.cat.categories.rename(field)\n",
        "    return idx, idx_map\n",
        "\n",
        "\n",
        "def reindex_data(data, data_index, fields=None):\n",
        "    '''\n",
        "    Reindex provided data with the specified index mapping.\n",
        "    By default, will take the name of the fields to reindex from `data_index`.\n",
        "    It is also possible to specify which field to reindex by providing `fields`.\n",
        "    '''\n",
        "    if fields is None:\n",
        "        fields = data_index.keys()\n",
        "    if isinstance(fields, str): # handle single field provided as a string\n",
        "        fields = [fields]\n",
        "    for field in fields:\n",
        "        entity_name = data_index[field].name\n",
        "        new_index = data_index[field].get_indexer(data[entity_name])\n",
        "        data = data.assign(**{f'{entity_name}': new_index}) # makes a copy of dataset!\n",
        "    return data\n",
        "\n",
        "\n",
        "def generate_interactions_matrix(data, data_description, rebase_users=False):\n",
        "    '''\n",
        "    Converts a pandas dataframe with user-item interactions into a sparse matrix representation.\n",
        "    Allows reindexing user ids, which help ensure data consistency at the scoring stage\n",
        "    (assumes user ids are sorted in the scoring array).\n",
        "    \n",
        "    Args:\n",
        "        data (pandas.DataFrame): The input dataframe containing the user-item interactions.\n",
        "        data_description (dict): A dictionary containing the data description with the following keys:\n",
        "            - 'n_users' (int): The total number of unique users in the data.\n",
        "            - 'n_items' (int): The total number of unique items in the data.\n",
        "            - 'users' (str): The name of the column in the dataframe containing the user ids.\n",
        "            - 'items' (str): The name of the column in the dataframe containing the item ids.\n",
        "            - 'feedback' (str): The name of the column in the dataframe containing the user-item interaction feedback.\n",
        "        rebase_users (bool, optional): Whether to reindex the user ids to make contiguous index starting from 0. Defaults to False.\n",
        "\n",
        "    Returns:\n",
        "        scipy.sparse.csr_matrix: A sparse matrix of shape (n_users, n_items) containing the user-item interactions.\n",
        "    '''\n",
        "        \n",
        "    n_users = data_description['n_users']\n",
        "    n_items = data_description['n_items']\n",
        "    # get indices of observed data\n",
        "    user_idx = data[data_description['users']].values\n",
        "    if rebase_users: # handle non-contiguous index of test users\n",
        "        # This ensures that all user ids are contiguous and start from 0,\n",
        "        # which helps ensure data consistency at the scoring stage.\n",
        "        user_idx, user_index = pd.factorize(user_idx, sort=True)\n",
        "        n_users = len(user_index)\n",
        "    item_idx = data[data_description['items']].values\n",
        "    feedback = data[data_description['feedback']].values\n",
        "    # construct rating matrix\n",
        "    return csr_matrix((feedback, (user_idx, item_idx)), shape=(n_users, n_items))\n",
        "\n",
        "\n",
        "def verify_time_split(before, after, target_field='userid', timeid='timestamp'):\n",
        "    '''\n",
        "    Check that items from `after` dataframe have later timestamps than\n",
        "    any corresponding item from the `before` dataframe. Compare w.r.t target_field.\n",
        "    Usage example: assert that for any user, the holdout items are the most recent ones.\n",
        "    '''\n",
        "    before_ts = before.groupby(target_field)[timeid].max()\n",
        "    after_ts = after.groupby(target_field)[timeid].min()\n",
        "    assert (\n",
        "        before_ts\n",
        "        .reindex(after_ts.index)\n",
        "        .combine(after_ts, lambda x, y: True if x!=x else x <= y)\n",
        "    ).all()\n",
        "\n",
        "\n",
        "\n",
        "def timepoint_split(data, time_split_q=0.95):\n",
        "    \"\"\"\n",
        "    Split data into training, testset, and holdout datasets based on a timepoint split\n",
        "    and according to the `warm-start` evaluation strategy.\n",
        "\n",
        "    Parameters\n",
        "    ----------\n",
        "    data : pd.DataFrame\n",
        "        The input dataset containing columns `userid`, `movieid`, and `timestamp`.\n",
        "    time_split_q : float, optional\n",
        "        The quantile value used to split the dataset based on the `timestamp` column.\n",
        "        Default is 0.95.\n",
        "\n",
        "    Returns\n",
        "    -------\n",
        "    Tuple[pd.DataFrame, pd.DataFrame, pd.DataFrame]\n",
        "        A tuple of three pandas DataFrames: training, testset, and holdout.\n",
        "        `training` is a subset of `data` used for training the recommender system.\n",
        "        `testset` is a subset of `data` used for generating recommendations for the test users.\n",
        "        `holdout` is a subset excluded from `testset` containing only the most recent interactions for each test user.\n",
        "\n",
        "    Notes\n",
        "    -----\n",
        "    The function splits the input `data` into three subsets: `training`, `testset`, and `holdout`.\n",
        "    The split is performed based on the `timestamp` column of `data`, using `time_split_q` as the quantile value.\n",
        "    The `holdout` dataset contains only the immediate interactions following the fixed timepoint for each test user from the `testset`.\n",
        "    The set of users in `training` is disjoint with the set of users in the `testset`, which implements the `warm-start` scenario.\n",
        "    \"\"\"    \n",
        "    timepoint = data.timestamp.quantile(q=time_split_q, interpolation='nearest')\n",
        "    test_ = data.query('timestamp >= @timepoint')\n",
        "    rest_ = data.drop(test_.index)\n",
        "    holdout_ = (\n",
        "        test_\n",
        "        .sort_values('timestamp')\n",
        "        .drop_duplicates(subset=['userid'], keep='first')\n",
        "    )\n",
        "    # the holdout dataframe contains interactions closest to certain timepoint from the right,\n",
        "    # i.e., the corresponding items are the first in each test user profile after this timepoint\n",
        "    training = rest_.query('userid not in @holdout_.userid')\n",
        "    train_items = training.itemid.unique()\n",
        "    testset_ = rest_.query('userid in @holdout_.userid and itemid in @train_items')\n",
        "    test_users = testset_.userid.unique()\n",
        "    holdout = holdout_.query(\n",
        "        # if user is not in `test_users` then no evluation is possible,\n",
        "        # if item is not in `train_items` it's cold start -> must be excluded\n",
        "        'userid in @test_users and itemid in @train_items'\n",
        "    ).sort_values('userid')\n",
        "    testset = testset_.query(\n",
        "        # make sure testset and holdout contain the same set of users\n",
        "        'userid in @holdout.userid'\n",
        "    ).sort_values('userid')\n",
        "    return training, testset, holdout"
      ]
    },
    {
      "cell_type": "markdown",
      "metadata": {
        "id": "4u7Jjway0JPS"
      },
      "source": [
        "# Preparing data"
      ]
    },
    {
      "cell_type": "code",
      "execution_count": 6,
      "metadata": {
        "colab": {
          "base_uri": "https://localhost:8080/"
        },
        "id": "NVBhQIng1ENo",
        "outputId": "d50be272-31f6-42b7-ab32-7c5dddce48d5"
      },
      "outputs": [
        {
          "name": "stdout",
          "output_type": "stream",
          "text": [
            "--2023-03-29 16:12:22--  https://jmcauley.ucsd.edu/data/amazon_v2/categoryFilesSmall/Grocery_and_Gourmet_Food.csv\n",
            "Resolving jmcauley.ucsd.edu (jmcauley.ucsd.edu)... 137.110.160.73\n",
            "Connecting to jmcauley.ucsd.edu (jmcauley.ucsd.edu)|137.110.160.73|:443... connected.\n",
            "WARNING: cannot verify jmcauley.ucsd.edu's certificate, issued by ‘CN=InCommon RSA Server CA,OU=InCommon,O=Internet2,L=Ann Arbor,ST=MI,C=US’:\n",
            "  Unable to locally verify the issuer's authority.\n",
            "HTTP request sent, awaiting response... 200 OK\n",
            "Length: 211781981 (202M) [text/csv]\n",
            "Saving to: ‘Grocery_and_Gourmet_Food.csv’\n",
            "\n",
            "Grocery_and_Gourmet 100%[===================>] 201.97M  85.9MB/s    in 2.4s    \n",
            "\n",
            "2023-03-29 16:12:24 (85.9 MB/s) - ‘Grocery_and_Gourmet_Food.csv’ saved [211781981/211781981]\n",
            "\n"
          ]
        }
      ],
      "source": [
        "!mkdir -p data/amazon_reviews\n",
        "!wget https://jmcauley.ucsd.edu/data/amazon_v2/categoryFilesSmall/Grocery_and_Gourmet_Food.csv --no-check-certificate\n",
        "!mv Grocery_and_Gourmet_Food.csv data/amazon_reviews"
      ]
    },
    {
      "cell_type": "code",
      "execution_count": 5,
      "metadata": {
        "id": "c4sC4Cy01JFr"
      },
      "outputs": [],
      "source": [
        "reviews = pd.read_csv(\"data/amazon_reviews/Grocery_and_Gourmet_Food.csv\", names=[\"userid\", \"itemid\", \"rating\", \"timestamp\"])"
      ]
    },
    {
      "cell_type": "code",
      "execution_count": 6,
      "metadata": {
        "id": "lSB3PVEJ1cfB"
      },
      "outputs": [],
      "source": [
        "k_filter = 20\n",
        "\n",
        "n_interactions = reviews.groupby(\"userid\").size()\n",
        "enough = n_interactions[n_interactions > k_filter].index\n",
        "reviews = reviews[reviews.userid.isin(enough)]\n",
        "\n",
        "n_interactions = reviews.groupby(\"itemid\").size()\n",
        "enough = n_interactions[n_interactions > k_filter].index\n",
        "reviews = reviews[reviews.itemid.isin(enough)]"
      ]
    },
    {
      "cell_type": "code",
      "execution_count": 7,
      "metadata": {
        "colab": {
          "base_uri": "https://localhost:8080/"
        },
        "id": "XBxwq23Z1Lzg",
        "outputId": "3c18b8f2-d1b5-4609-cba6-495b756a4a6b"
      },
      "outputs": [
        {
          "data": {
            "text/plain": [
              "(107153, 74000, 4421)"
            ]
          },
          "execution_count": 7,
          "metadata": {},
          "output_type": "execute_result"
        }
      ],
      "source": [
        "_train, _test, _holdout = timepoint_split(reviews, time_split_q=0.95)\n",
        "\n",
        "len(_train), len(_test), len(_holdout)"
      ]
    },
    {
      "cell_type": "code",
      "execution_count": 8,
      "metadata": {
        "id": "HmVPl6-g13Zm"
      },
      "outputs": [],
      "source": [
        "def reindex_all(train, test, holdout=None, userid='userid', itemid='itemid'):\n",
        "    train_new, data_index = transform_indices(train, userid, itemid)\n",
        "    test_new = reindex_data(test, data_index, fields='items')\n",
        "    \n",
        "    if holdout is None:\n",
        "        return train_new, test_new, data_index\n",
        "    \n",
        "    holdout_new = reindex_data(holdout, data_index, fields='items')\n",
        "    return train_new, test_new, holdout_new, data_index"
      ]
    },
    {
      "cell_type": "code",
      "execution_count": 9,
      "metadata": {
        "id": "PfgWKXEa1pia"
      },
      "outputs": [],
      "source": [
        "train, test, holdout, data_index = reindex_all(_train, _test, _holdout)"
      ]
    },
    {
      "cell_type": "markdown",
      "metadata": {
        "id": "I6KBcNgZ0JPV"
      },
      "source": [
        "We sample the last item for each test user.  \n",
        "As all these users are excluded from the training, and training is additionally filtered by timestamp,\n",
        "there will be no \"recommendation from future\" issue - our model is unaware of future correlations.\n"
      ]
    },
    {
      "cell_type": "code",
      "execution_count": 10,
      "metadata": {
        "id": "w22udb8l0JPW"
      },
      "outputs": [],
      "source": [
        "testset_, holdout_ = leave_one_out(\n",
        "    test, target='timestamp', sample_top=True, random_state=0\n",
        ")\n",
        "testset_valid_, holdout_valid_ = leave_one_out(\n",
        "    testset_, target='timestamp', sample_top=True, random_state=0\n",
        ")"
      ]
    },
    {
      "cell_type": "markdown",
      "metadata": {
        "id": "Z8gDnLdT0JPW"
      },
      "source": [
        "Let's focus on validation part."
      ]
    },
    {
      "cell_type": "code",
      "execution_count": 11,
      "metadata": {
        "id": "lXr5oY230JPW"
      },
      "outputs": [],
      "source": [
        "userid = data_index['users'].name\n",
        "test_users = pd.Index(\n",
        "    # ensure test users are the same across testing data\n",
        "    np.intersect1d(\n",
        "        testset_valid_[userid].unique(),\n",
        "        holdout_valid_[userid].unique()\n",
        "    )\n",
        ")\n",
        "testset_valid = (\n",
        "    testset_valid_\n",
        "    # reindex warm-start users for convenience\n",
        "    .assign(**{userid: lambda x: test_users.get_indexer(x[userid])})\n",
        "    .query(f'{userid} >= 0')\n",
        "    .sort_values('userid')\n",
        ")\n",
        "holdout_valid = (\n",
        "    holdout_valid_\n",
        "    # reindex warm-start users for convenience\n",
        "    .assign(**{userid: lambda x: test_users.get_indexer(x[userid])})\n",
        "    .query(f'{userid} >= 0')\n",
        "    .sort_values('userid')\n",
        ")"
      ]
    },
    {
      "cell_type": "code",
      "execution_count": 12,
      "metadata": {
        "colab": {
          "base_uri": "https://localhost:8080/"
        },
        "id": "Msn0q-6p0JPW",
        "outputId": "75633b97-d04b-498d-b007-6693d0b08144"
      },
      "outputs": [
        {
          "data": {
            "text/plain": [
              "userid       3267\n",
              "itemid       5569\n",
              "rating          5\n",
              "timestamp    3399\n",
              "dtype: int64"
            ]
          },
          "execution_count": 12,
          "metadata": {},
          "output_type": "execute_result"
        }
      ],
      "source": [
        "testset_valid.nunique()"
      ]
    },
    {
      "cell_type": "code",
      "execution_count": 13,
      "metadata": {
        "colab": {
          "base_uri": "https://localhost:8080/"
        },
        "id": "Cbx44QUZ0JPW",
        "outputId": "5baf3e6f-3744-4b20-dd81-14dedc15df43"
      },
      "outputs": [
        {
          "data": {
            "text/plain": [
              "(3267, 4)"
            ]
          },
          "execution_count": 13,
          "metadata": {},
          "output_type": "execute_result"
        }
      ],
      "source": [
        "holdout_valid.shape"
      ]
    },
    {
      "cell_type": "code",
      "execution_count": 14,
      "metadata": {
        "id": "kweQ8Lm00JPf"
      },
      "outputs": [],
      "source": [
        "assert holdout_valid.set_index('userid')['timestamp'].ge(\n",
        "    testset_valid\n",
        "    .groupby('userid')\n",
        "    ['timestamp'].max()\n",
        ").all()"
      ]
    },
    {
      "cell_type": "code",
      "execution_count": 15,
      "metadata": {
        "colab": {
          "base_uri": "https://localhost:8080/"
        },
        "id": "2HwVrt4w0JPg",
        "outputId": "b43cf1ae-8a6a-4ee2-bf50-bdcdb1933006"
      },
      "outputs": [
        {
          "data": {
            "text/plain": [
              "{'users': 'userid',\n",
              " 'items': 'itemid',\n",
              " 'order': 'timestamp',\n",
              " 'feedback': 'rating',\n",
              " 'n_users': 22920,\n",
              " 'n_items': 5604}"
            ]
          },
          "execution_count": 15,
          "metadata": {},
          "output_type": "execute_result"
        }
      ],
      "source": [
        "data_description = dict(\n",
        "    users = data_index['users'].name,\n",
        "    items = data_index['items'].name,\n",
        "    order = 'timestamp',\n",
        "    feedback = 'rating',\n",
        "    n_users = len(data_index['users']),\n",
        "    n_items = len(data_index['items']),\n",
        ")\n",
        "data_description"
      ]
    },
    {
      "cell_type": "markdown",
      "metadata": {
        "id": "Sc8xl4Uk0JPg"
      },
      "source": [
        "# Batch Sampler"
      ]
    },
    {
      "cell_type": "code",
      "execution_count": 16,
      "metadata": {
        "id": "ULX_vonn0JPg"
      },
      "outputs": [],
      "source": [
        "def sequential_batch_sampler(user_train, usernum, itemnum, batch_size, maxlen, seed, pad_token=None):\n",
        "    if pad_token is None:\n",
        "        pad_token = itemnum\n",
        "    \n",
        "    def sample(random_state):\n",
        "        user = random_state.randint(usernum)\n",
        "        while len(user_train.get(user, [])) <= 1:\n",
        "            user = random_state.randint(usernum)\n",
        "        user_items = user_train[user]\n",
        "        seq = np.full(maxlen, pad_token, dtype=np.int32)\n",
        "        pos = np.full(maxlen, pad_token, dtype=np.int32)\n",
        "        neg = np.full(maxlen, pad_token, dtype=np.int32)\n",
        "        nxt = user_items[-1]\n",
        "        idx = maxlen - 1\n",
        "        ts = set(user_items)\n",
        "        for i in reversed(user_items[:-1]):\n",
        "            seq[idx] = i\n",
        "            pos[idx] = nxt\n",
        "            neg[idx] = random_neq(0, itemnum, ts, random_state)\n",
        "            nxt = i\n",
        "            idx -= 1\n",
        "            if idx == -1:\n",
        "                break\n",
        "        return (user, seq, pos, neg)\n",
        "    \n",
        "    random_state = np.random.RandomState(seed)\n",
        "    while True:\n",
        "        yield zip(*(sample(random_state) for _ in range(batch_size)))\n",
        "\n",
        "\n",
        "def random_neq(l, r, s, random_state):\n",
        "    t = random_state.randint(l, r)\n",
        "    while t in s:\n",
        "        t = random_state.randint(l, r)\n",
        "    return t"
      ]
    },
    {
      "cell_type": "markdown",
      "metadata": {
        "id": "hql836il0JPh"
      },
      "source": [
        "# SASRec model"
      ]
    },
    {
      "cell_type": "markdown",
      "metadata": {
        "id": "GwC6h09o0JPh"
      },
      "source": [
        "The code is adapted from https://github.com/pmixer/SASRec.pytorch"
      ]
    },
    {
      "cell_type": "code",
      "execution_count": 17,
      "metadata": {
        "id": "lRNmj9Rn0JPj"
      },
      "outputs": [],
      "source": [
        "class PointWiseFeedForward(nn.Module):\n",
        "    def __init__(self, hidden_units, dropout_rate):\n",
        "        super(PointWiseFeedForward, self).__init__()\n",
        "        self.conv1 = nn.Conv1d(hidden_units, hidden_units, kernel_size=1)\n",
        "        self.dropout1 = nn.Dropout(p=dropout_rate)\n",
        "        self.relu = nn.ReLU()\n",
        "        self.conv2 = nn.Conv1d(hidden_units, hidden_units, kernel_size=1)\n",
        "        self.dropout2 = nn.Dropout(p=dropout_rate)\n",
        "\n",
        "    def forward(self, inputs):\n",
        "        outputs = self.dropout2(self.conv2(self.relu(self.dropout1(self.conv1(inputs.transpose(-1, -2))))))\n",
        "        outputs = outputs.transpose(-1, -2) # as Conv1D requires (N, C, Length)\n",
        "        outputs += inputs\n",
        "        return outputs\n",
        "\n",
        "\n",
        "class SASRec(nn.Module):\n",
        "    def __init__(self, item_num, config):\n",
        "        super(SASRec, self).__init__()\n",
        "        self.item_num = item_num\n",
        "        self.pad_token = item_num\n",
        "\n",
        "        self.item_emb = nn.Embedding(self.item_num+1, config['hidden_units'], padding_idx=self.pad_token)\n",
        "        self.pos_emb = nn.Embedding(config['maxlen'], config['hidden_units'])\n",
        "        self.emb_dropout = nn.Dropout(p=config['dropout_rate'])\n",
        "\n",
        "        self.attention_layernorms = nn.ModuleList() # to be Q for self-attention\n",
        "        self.attention_layers = nn.ModuleList()\n",
        "        self.forward_layernorms = nn.ModuleList()\n",
        "        self.forward_layers = nn.ModuleList()\n",
        "        self.last_layernorm = nn.LayerNorm(config['hidden_units'], eps=1e-8)\n",
        "\n",
        "        for _ in range(config['num_blocks']):\n",
        "            new_attn_layernorm = nn.LayerNorm(config['hidden_units'], eps=1e-8)\n",
        "            self.attention_layernorms.append(new_attn_layernorm)\n",
        "            new_attn_layer =  nn.MultiheadAttention(\n",
        "                config['hidden_units'],config['num_heads'],config['dropout_rate']\n",
        "            )\n",
        "            self.attention_layers.append(new_attn_layer)\n",
        "\n",
        "            new_fwd_layernorm = nn.LayerNorm(config['hidden_units'], eps=1e-8)\n",
        "            self.forward_layernorms.append(new_fwd_layernorm)\n",
        "\n",
        "            new_fwd_layer = PointWiseFeedForward(config['hidden_units'], config['dropout_rate'])\n",
        "            self.forward_layers.append(new_fwd_layer)\n",
        "        \n",
        "        fix_torch_seed(config['manual_seed'])\n",
        "        self.initialize()\n",
        "\n",
        "\n",
        "    def initialize(self):\n",
        "        for name, param in self.named_parameters():\n",
        "            try:\n",
        "                torch.nn.init.xavier_uniform_(param.data)\n",
        "            except:\n",
        "                pass # just ignore those failed init layers\n",
        "\n",
        "\n",
        "    def log2feats(self, log_seqs):\n",
        "        device = log_seqs.device\n",
        "        seqs = self.item_emb(log_seqs)\n",
        "        seqs *= self.item_emb.embedding_dim ** 0.5\n",
        "        positions = np.tile(np.arange(log_seqs.shape[1]), [log_seqs.shape[0], 1])\n",
        "        seqs += self.pos_emb(torch.LongTensor(positions).to(device))\n",
        "        seqs = self.emb_dropout(seqs)\n",
        "\n",
        "        timeline_mask = log_seqs == self.pad_token\n",
        "        seqs *= ~timeline_mask.unsqueeze(-1) # broadcast in last dim\n",
        "\n",
        "        tl = seqs.shape[1] # time dim len for enforce causality\n",
        "        attention_mask = ~torch.tril(torch.full((tl, tl), True, device=device))\n",
        "\n",
        "        for i in range(len(self.attention_layers)):\n",
        "            seqs = torch.transpose(seqs, 0, 1)\n",
        "            Q = self.attention_layernorms[i](seqs)\n",
        "            mha_outputs, _ = self.attention_layers[i](\n",
        "                Q, seqs, seqs, attn_mask=attention_mask\n",
        "            )\n",
        "        \n",
        "            seqs = Q + mha_outputs\n",
        "            seqs = torch.transpose(seqs, 0, 1)\n",
        "\n",
        "            seqs = self.forward_layernorms[i](seqs)\n",
        "            seqs = self.forward_layers[i](seqs)\n",
        "            seqs *=  ~timeline_mask.unsqueeze(-1)\n",
        "\n",
        "        log_feats = self.last_layernorm(seqs) # (U, T, C) -> (U, -1, C)\n",
        "\n",
        "        return log_feats\n",
        "\n",
        "    def forward(self, log_seqs, pos_seqs, neg_seqs):\n",
        "        log_feats = self.log2feats(log_seqs)\n",
        "        pos_embs = self.item_emb(pos_seqs)\n",
        "        neg_embs = self.item_emb(neg_seqs)\n",
        "\n",
        "        pos_logits = (log_feats * pos_embs).sum(dim=-1)\n",
        "        neg_logits = (log_feats * neg_embs).sum(dim=-1)\n",
        "\n",
        "        return pos_logits, neg_logits\n",
        "\n",
        "\n",
        "    def score(self, seq):\n",
        "        '''\n",
        "        Takes 1d sequence as input and returns prediction scores.\n",
        "        '''\n",
        "        maxlen = self.pos_emb.num_embeddings\n",
        "        log_seqs = torch.full([maxlen], self.pad_token, dtype=torch.int64, device=seq.device)\n",
        "        log_seqs[-len(seq):] = seq[-maxlen:]\n",
        "        log_feats = self.log2feats(log_seqs.unsqueeze(0))\n",
        "        final_feat = log_feats[:, -1, :] # only use last QKV classifier\n",
        "\n",
        "        item_embs = self.item_emb.weight\n",
        "        logits = item_embs.matmul(final_feat.unsqueeze(-1)).squeeze(-1)\n",
        "        return logits"
      ]
    },
    {
      "cell_type": "markdown",
      "metadata": {
        "id": "5j2wvige0JPp"
      },
      "source": [
        "## Training "
      ]
    },
    {
      "cell_type": "code",
      "execution_count": 18,
      "metadata": {
        "id": "U50P5aEt0JPq"
      },
      "outputs": [],
      "source": [
        "def data_to_sequences(data, data_description):\n",
        "    userid = data_description['users']\n",
        "    itemid = data_description['items']\n",
        "    sequences = (\n",
        "        data.sort_values([userid, data_description['order']])\n",
        "        .groupby(userid, sort=False)[itemid].apply(list)\n",
        "    )\n",
        "    return sequences"
      ]
    },
    {
      "cell_type": "code",
      "execution_count": 19,
      "metadata": {
        "id": "ibN8tsmb0JPs"
      },
      "outputs": [],
      "source": [
        "def prepare_sasrec_model(config, data, data_description):\n",
        "    n_users = data_description['n_users']    \n",
        "    n_items = data_description['n_items']    \n",
        "    model = SASRec(n_items, config)\n",
        "    criterion = torch.nn.BCEWithLogitsLoss()\n",
        "    if torch.cuda.is_available():\n",
        "        model = model.cuda()\n",
        "        criterion = criterion.cuda()\n",
        "\n",
        "    train_sequences = data_to_sequences(data, data_description)\n",
        "    sampler = sequential_batch_sampler(\n",
        "        train_sequences, n_users, n_items,\n",
        "        batch_size = config['batch_size'],\n",
        "        maxlen = config['maxlen'],\n",
        "        seed = config['sampler_seed'],\n",
        "        pad_token = model.pad_token\n",
        "    )\n",
        "    n_batches = len(train_sequences) // config['batch_size']\n",
        "    optimizer = torch.optim.Adam(\n",
        "        model.parameters(),\n",
        "        lr = config['learning_rate'],\n",
        "        betas = (0.9, 0.98)\n",
        "    )\n",
        "    return model, sampler, n_batches, criterion, optimizer"
      ]
    },
    {
      "cell_type": "code",
      "execution_count": 20,
      "metadata": {
        "id": "DueyEyeA0JPu"
      },
      "outputs": [],
      "source": [
        "def train_sasrec_epoch(model, num_batch, l2_emb, sampler, optimizer, criterion, device):\n",
        "    model.train()\n",
        "    pad_token = model.pad_token\n",
        "    losses = []\n",
        "    for _ in range(num_batch):\n",
        "        _, *seq_data = next(sampler)\n",
        "        # convert batch data into torch tensors\n",
        "        seq, pos, neg = (torch.LongTensor(np.array(x)).to(device) for x in seq_data)\n",
        "        pos_logits, neg_logits = model(seq, pos, neg)\n",
        "        pos_labels = torch.ones(pos_logits.shape, device=device)\n",
        "        neg_labels = torch.zeros(neg_logits.shape, device=device)\n",
        "        optimizer.zero_grad()\n",
        "        indices = torch.where(pos != pad_token)\n",
        "        loss = criterion(pos_logits[indices], pos_labels[indices])\n",
        "        loss += criterion(neg_logits[indices], neg_labels[indices])\n",
        "        if l2_emb != 0:\n",
        "            for param in model.item_emb.parameters():\n",
        "                loss += l2_emb * torch.norm(param)**2\n",
        "        loss.backward()\n",
        "        optimizer.step()\n",
        "        losses.append(loss.item())\n",
        "    return losses"
      ]
    },
    {
      "cell_type": "code",
      "execution_count": 21,
      "metadata": {
        "id": "c6MbltG50JPw"
      },
      "outputs": [],
      "source": [
        "def build_sasrec_model(config, data, data_description):\n",
        "    '''Simple MF training routine without early stopping'''\n",
        "    model, sampler, n_batches, criterion, optimizer = prepare_sasrec_model(config, data, data_description)\n",
        "    device = 'cpu'\n",
        "    if torch.cuda.is_available():\n",
        "        device = torch.device(f'cuda:{torch.cuda.current_device()}') \n",
        "    losses = {}\n",
        "    for epoch in tqdm(range(config['num_epochs'])):\n",
        "        losses[epoch] = train_sasrec_epoch(\n",
        "            model, n_batches, config['l2_emb'], sampler, optimizer, criterion, device\n",
        "        )\n",
        "    return model, losses"
      ]
    },
    {
      "cell_type": "code",
      "execution_count": 56,
      "metadata": {
        "id": "1B07Kdj10JPx"
      },
      "outputs": [],
      "source": [
        "config = dict(\n",
        "    num_epochs = 100,\n",
        "    maxlen = 200,\n",
        "    hidden_units = 128,\n",
        "    dropout_rate = 0.2,\n",
        "    num_blocks = 3,\n",
        "    num_heads = 1,\n",
        "    batch_size = 64,\n",
        "    sampler_seed = 99,\n",
        "    manual_seed = 111,\n",
        "    learning_rate = 1e-3,\n",
        "    l2_emb = 0,\n",
        ")"
      ]
    },
    {
      "cell_type": "code",
      "execution_count": 57,
      "metadata": {
        "colab": {
          "base_uri": "https://localhost:8080/",
          "height": 49,
          "referenced_widgets": [
            "73ecd96dda2e4fbe874e3158862647ab",
            "7a5f9e1ca1ba47399c05b953264a1f82",
            "f13356ac076a4baba7334707776d9103",
            "b7b8072192ae44d5ad4c4fe49ad82af3",
            "c3b865f06b7e488b9902a7914d3c7835",
            "b8165fc4609c4e929d1abccca4c1d397",
            "c68dcd45731c4363997ef124ac68467a",
            "29df7547e5b848a79d740ace16ef5c0d",
            "2b98f663b3c645dfa791afa1e1321eac",
            "6ddca754312e4949a13b0ebc1d0d13b8",
            "c20ab7702a274be5bed781c88338da7a"
          ]
        },
        "id": "exGnvvWC0JPx",
        "outputId": "96a2d91e-6609-4eb1-e35c-0175304af026"
      },
      "outputs": [
        {
          "name": "stderr",
          "output_type": "stream",
          "text": [
            "100%|██████████| 200/200 [34:37<00:00, 10.39s/it]\n"
          ]
        }
      ],
      "source": [
        "model, losses = build_sasrec_model(config, train, data_description)"
      ]
    },
    {
      "cell_type": "code",
      "execution_count": 58,
      "metadata": {
        "colab": {
          "base_uri": "https://localhost:8080/",
          "height": 295
        },
        "id": "NuYkmA3h0JPy",
        "outputId": "710143ee-95ba-4976-a3fe-47db593ad1b2"
      },
      "outputs": [
        {
          "data": {
            "image/png": "[encoded data removed]",
            "text/plain": [
              "<Figure size 640x480 with 1 Axes>"
            ]
          },
          "metadata": {},
          "output_type": "display_data"
        }
      ],
      "source": [
        "pd.Series(losses).apply(np.mean).plot(title='Evolution of SASRec loss', xlabel='Epoch', ylabel='Loss');"
      ]
    },
    {
      "cell_type": "code",
      "execution_count": 59,
      "metadata": {
        "colab": {
          "base_uri": "https://localhost:8080/",
          "height": 351
        },
        "id": "BIhHMvv10JPy",
        "outputId": "89cbbec0-1239-4284-e5fd-acedce92745c"
      },
      "outputs": [
        {
          "data": {
            "image/png": "[encoded data removed]",
            "text/plain": [
              "<Figure size 640x480 with 1 Axes>"
            ]
          },
          "metadata": {},
          "output_type": "display_data"
        }
      ],
      "source": [
        "epoch = 0\n",
        "epoch_loss_series = pd.Series(losses[epoch], name='Loss').rename_axis('batch')\n",
        "ax = epoch_loss_series.reset_index().plot.scatter(\n",
        "    x='batch', y='Loss', title=f'Batch loss at epoch {epoch} '\n",
        ")"
      ]
    },
    {
      "cell_type": "markdown",
      "metadata": {
        "id": "4Mlp7faD0JPz"
      },
      "source": [
        "# Evaluation"
      ]
    },
    {
      "cell_type": "code",
      "execution_count": 60,
      "metadata": {
        "id": "rh4wpsri0JPz"
      },
      "outputs": [],
      "source": [
        "def sasrec_model_scoring(params, data, data_description):\n",
        "    model = params\n",
        "    model.eval()\n",
        "    tensor = torch.cuda.LongTensor if torch.cuda.is_available() else torch.LongTensor\n",
        "    test_sequences = data_to_sequences(data, data_description)\n",
        "    # perform scoring on a user-batch level\n",
        "    scores = []\n",
        "    for _, seq in test_sequences.items():\n",
        "        with torch.no_grad():\n",
        "            predictions = model.score(tensor(seq))\n",
        "        scores.append(predictions.detach().cpu().numpy())\n",
        "    return np.concatenate(scores, axis=0)"
      ]
    },
    {
      "cell_type": "code",
      "execution_count": 61,
      "metadata": {
        "id": "BBzErZuQ0JPz"
      },
      "outputs": [],
      "source": [
        "sasrec_scores = sasrec_model_scoring(model, test, data_description)"
      ]
    },
    {
      "cell_type": "code",
      "execution_count": 62,
      "metadata": {
        "id": "pFrqs2MI0JPz"
      },
      "outputs": [],
      "source": [
        "downvote_seen_items(sasrec_scores, test, data_description)"
      ]
    },
    {
      "cell_type": "code",
      "execution_count": 47,
      "metadata": {},
      "outputs": [
        {
          "data": {
            "text/plain": [
              "(0.02126215788283194, 0.004688964052319567, 0.8611705924339758)"
            ]
          },
          "execution_count": 47,
          "metadata": {},
          "output_type": "execute_result"
        }
      ],
      "source": [
        "sasrec_recs = topn_recommendations(sasrec_scores, topn=20)\n",
        "model_evaluate(sasrec_recs, holdout, data_description)"
      ]
    }
  ],
  "metadata": {
    "colab": {
      "provenance": []
    },
    "gpuClass": "standard",
    "interpreter": {
      "hash": "e587e8b75394de48c2e2a47def3a5e72a23054844b7abdff48af37dc7e76636d"
    },
    "kernelspec": {
      "display_name": "Python 3.9.10 ('torch')",
      "language": "python",
      "name": "python3"
    },
    "language_info": {
      "codemirror_mode": {
        "name": "ipython",
        "version": 3
      },
      "file_extension": ".py",
      "mimetype": "text/x-python",
      "name": "python",
      "nbconvert_exporter": "python",
      "pygments_lexer": "ipython3",
      "version": "3.9.16"
    },
    "orig_nbformat": 4,
    "widgets": {
      "application/vnd.jupyter.widget-state+json": {
        "29df7547e5b848a79d740ace16ef5c0d": {
          "model_module": "@jupyter-widgets/base",
          "model_module_version": "1.2.0",
          "model_name": "LayoutModel",
          "state": {
            "_model_module": "@jupyter-widgets/base",
            "_model_module_version": "1.2.0",
            "_model_name": "LayoutModel",
            "_view_count": null,
            "_view_module": "@jupyter-widgets/base",
            "_view_module_version": "1.2.0",
            "_view_name": "LayoutView",
            "align_content": null,
            "align_items": null,
            "align_self": null,
            "border": null,
            "bottom": null,
            "display": null,
            "flex": null,
            "flex_flow": null,
            "grid_area": null,
            "grid_auto_columns": null,
            "grid_auto_flow": null,
            "grid_auto_rows": null,
            "grid_column": null,
            "grid_gap": null,
            "grid_row": null,
            "grid_template_areas": null,
            "grid_template_columns": null,
            "grid_template_rows": null,
            "height": null,
            "justify_content": null,
            "justify_items": null,
            "left": null,
            "margin": null,
            "max_height": null,
            "max_width": null,
            "min_height": null,
            "min_width": null,
            "object_fit": null,
            "object_position": null,
            "order": null,
            "overflow": null,
            "overflow_x": null,
            "overflow_y": null,
            "padding": null,
            "right": null,
            "top": null,
            "visibility": null,
            "width": null
          }
        },
        "2b98f663b3c645dfa791afa1e1321eac": {
          "model_module": "@jupyter-widgets/controls",
          "model_module_version": "1.5.0",
          "model_name": "ProgressStyleModel",
          "state": {
            "_model_module": "@jupyter-widgets/controls",
            "_model_module_version": "1.5.0",
            "_model_name": "ProgressStyleModel",
            "_view_count": null,
            "_view_module": "@jupyter-widgets/base",
            "_view_module_version": "1.2.0",
            "_view_name": "StyleView",
            "bar_color": null,
            "description_width": ""
          }
        },
        "6ddca754312e4949a13b0ebc1d0d13b8": {
          "model_module": "@jupyter-widgets/base",
          "model_module_version": "1.2.0",
          "model_name": "LayoutModel",
          "state": {
            "_model_module": "@jupyter-widgets/base",
            "_model_module_version": "1.2.0",
            "_model_name": "LayoutModel",
            "_view_count": null,
            "_view_module": "@jupyter-widgets/base",
            "_view_module_version": "1.2.0",
            "_view_name": "LayoutView",
            "align_content": null,
            "align_items": null,
            "align_self": null,
            "border": null,
            "bottom": null,
            "display": null,
            "flex": null,
            "flex_flow": null,
            "grid_area": null,
            "grid_auto_columns": null,
            "grid_auto_flow": null,
            "grid_auto_rows": null,
            "grid_column": null,
            "grid_gap": null,
            "grid_row": null,
            "grid_template_areas": null,
            "grid_template_columns": null,
            "grid_template_rows": null,
            "height": null,
            "justify_content": null,
            "justify_items": null,
            "left": null,
            "margin": null,
            "max_height": null,
            "max_width": null,
            "min_height": null,
            "min_width": null,
            "object_fit": null,
            "object_position": null,
            "order": null,
            "overflow": null,
            "overflow_x": null,
            "overflow_y": null,
            "padding": null,
            "right": null,
            "top": null,
            "visibility": null,
            "width": null
          }
        },
        "73ecd96dda2e4fbe874e3158862647ab": {
          "model_module": "@jupyter-widgets/controls",
          "model_module_version": "1.5.0",
          "model_name": "HBoxModel",
          "state": {
            "_dom_classes": [],
            "_model_module": "@jupyter-widgets/controls",
            "_model_module_version": "1.5.0",
            "_model_name": "HBoxModel",
            "_view_count": null,
            "_view_module": "@jupyter-widgets/controls",
            "_view_module_version": "1.5.0",
            "_view_name": "HBoxView",
            "box_style": "",
            "children": [
              "IPY_MODEL_7a5f9e1ca1ba47399c05b953264a1f82",
              "IPY_MODEL_f13356ac076a4baba7334707776d9103",
              "IPY_MODEL_b7b8072192ae44d5ad4c4fe49ad82af3"
            ],
            "layout": "IPY_MODEL_c3b865f06b7e488b9902a7914d3c7835"
          }
        },
        "7a5f9e1ca1ba47399c05b953264a1f82": {
          "model_module": "@jupyter-widgets/controls",
          "model_module_version": "1.5.0",
          "model_name": "HTMLModel",
          "state": {
            "_dom_classes": [],
            "_model_module": "@jupyter-widgets/controls",
            "_model_module_version": "1.5.0",
            "_model_name": "HTMLModel",
            "_view_count": null,
            "_view_module": "@jupyter-widgets/controls",
            "_view_module_version": "1.5.0",
            "_view_name": "HTMLView",
            "description": "",
            "description_tooltip": null,
            "layout": "IPY_MODEL_b8165fc4609c4e929d1abccca4c1d397",
            "placeholder": "​",
            "style": "IPY_MODEL_c68dcd45731c4363997ef124ac68467a",
            "value": "100%"
          }
        },
        "b7b8072192ae44d5ad4c4fe49ad82af3": {
          "model_module": "@jupyter-widgets/controls",
          "model_module_version": "1.5.0",
          "model_name": "HTMLModel",
          "state": {
            "_dom_classes": [],
            "_model_module": "@jupyter-widgets/controls",
            "_model_module_version": "1.5.0",
            "_model_name": "HTMLModel",
            "_view_count": null,
            "_view_module": "@jupyter-widgets/controls",
            "_view_module_version": "1.5.0",
            "_view_name": "HTMLView",
            "description": "",
            "description_tooltip": null,
            "layout": "IPY_MODEL_6ddca754312e4949a13b0ebc1d0d13b8",
            "placeholder": "​",
            "style": "IPY_MODEL_c20ab7702a274be5bed781c88338da7a",
            "value": " 20/20 [01:29&lt;00:00,  4.46s/it]"
          }
        },
        "b8165fc4609c4e929d1abccca4c1d397": {
          "model_module": "@jupyter-widgets/base",
          "model_module_version": "1.2.0",
          "model_name": "LayoutModel",
          "state": {
            "_model_module": "@jupyter-widgets/base",
            "_model_module_version": "1.2.0",
            "_model_name": "LayoutModel",
            "_view_count": null,
            "_view_module": "@jupyter-widgets/base",
            "_view_module_version": "1.2.0",
            "_view_name": "LayoutView",
            "align_content": null,
            "align_items": null,
            "align_self": null,
            "border": null,
            "bottom": null,
            "display": null,
            "flex": null,
            "flex_flow": null,
            "grid_area": null,
            "grid_auto_columns": null,
            "grid_auto_flow": null,
            "grid_auto_rows": null,
            "grid_column": null,
            "grid_gap": null,
            "grid_row": null,
            "grid_template_areas": null,
            "grid_template_columns": null,
            "grid_template_rows": null,
            "height": null,
            "justify_content": null,
            "justify_items": null,
            "left": null,
            "margin": null,
            "max_height": null,
            "max_width": null,
            "min_height": null,
            "min_width": null,
            "object_fit": null,
            "object_position": null,
            "order": null,
            "overflow": null,
            "overflow_x": null,
            "overflow_y": null,
            "padding": null,
            "right": null,
            "top": null,
            "visibility": null,
            "width": null
          }
        },
        "c20ab7702a274be5bed781c88338da7a": {
          "model_module": "@jupyter-widgets/controls",
          "model_module_version": "1.5.0",
          "model_name": "DescriptionStyleModel",
          "state": {
            "_model_module": "@jupyter-widgets/controls",
            "_model_module_version": "1.5.0",
            "_model_name": "DescriptionStyleModel",
            "_view_count": null,
            "_view_module": "@jupyter-widgets/base",
            "_view_module_version": "1.2.0",
            "_view_name": "StyleView",
            "description_width": ""
          }
        },
        "c3b865f06b7e488b9902a7914d3c7835": {
          "model_module": "@jupyter-widgets/base",
          "model_module_version": "1.2.0",
          "model_name": "LayoutModel",
          "state": {
            "_model_module": "@jupyter-widgets/base",
            "_model_module_version": "1.2.0",
            "_model_name": "LayoutModel",
            "_view_count": null,
            "_view_module": "@jupyter-widgets/base",
            "_view_module_version": "1.2.0",
            "_view_name": "LayoutView",
            "align_content": null,
            "align_items": null,
            "align_self": null,
            "border": null,
            "bottom": null,
            "display": null,
            "flex": null,
            "flex_flow": null,
            "grid_area": null,
            "grid_auto_columns": null,
            "grid_auto_flow": null,
            "grid_auto_rows": null,
            "grid_column": null,
            "grid_gap": null,
            "grid_row": null,
            "grid_template_areas": null,
            "grid_template_columns": null,
            "grid_template_rows": null,
            "height": null,
            "justify_content": null,
            "justify_items": null,
            "left": null,
            "margin": null,
            "max_height": null,
            "max_width": null,
            "min_height": null,
            "min_width": null,
            "object_fit": null,
            "object_position": null,
            "order": null,
            "overflow": null,
            "overflow_x": null,
            "overflow_y": null,
            "padding": null,
            "right": null,
            "top": null,
            "visibility": null,
            "width": null
          }
        },
        "c68dcd45731c4363997ef124ac68467a": {
          "model_module": "@jupyter-widgets/controls",
          "model_module_version": "1.5.0",
          "model_name": "DescriptionStyleModel",
          "state": {
            "_model_module": "@jupyter-widgets/controls",
            "_model_module_version": "1.5.0",
            "_model_name": "DescriptionStyleModel",
            "_view_count": null,
            "_view_module": "@jupyter-widgets/base",
            "_view_module_version": "1.2.0",
            "_view_name": "StyleView",
            "description_width": ""
          }
        },
        "f13356ac076a4baba7334707776d9103": {
          "model_module": "@jupyter-widgets/controls",
          "model_module_version": "1.5.0",
          "model_name": "FloatProgressModel",
          "state": {
            "_dom_classes": [],
            "_model_module": "@jupyter-widgets/controls",
            "_model_module_version": "1.5.0",
            "_model_name": "FloatProgressModel",
            "_view_count": null,
            "_view_module": "@jupyter-widgets/controls",
            "_view_module_version": "1.5.0",
            "_view_name": "ProgressView",
            "bar_style": "success",
            "description": "",
            "description_tooltip": null,
            "layout": "IPY_MODEL_29df7547e5b848a79d740ace16ef5c0d",
            "max": 20,
            "min": 0,
            "orientation": "horizontal",
            "style": "IPY_MODEL_2b98f663b3c645dfa791afa1e1321eac",
            "value": 20
          }
        }
      }
    }
  },
  "nbformat": 4,
  "nbformat_minor": 0
}
